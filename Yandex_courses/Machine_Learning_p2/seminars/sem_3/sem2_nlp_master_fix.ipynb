{
 "cells": [
  {
   "cell_type": "markdown",
   "metadata": {
    "cellId": "cr0woira8zqikxcyder5jd"
   },
   "source": [
    "# **Seminar 2 - Natural Language Processing**\n",
    "*Naumov Anton (Any0019)*\n",
    "\n",
    "*To contact me in telegram: @any0019*"
   ]
  },
  {
   "cell_type": "markdown",
   "metadata": {
    "cellId": "65hugpsi2onakx0nvflwhc"
   },
   "source": [
    "## 1. Понимание рекуррентных архитектур"
   ]
  },
  {
   "cell_type": "markdown",
   "metadata": {
    "cellId": "7t345mjknsp0w0xpj2priek"
   },
   "source": [
    "### 1.1 Recurrent Neural Network (RNN)"
   ]
  },
  {
   "cell_type": "markdown",
   "metadata": {
    "cellId": "mc97wqb4r4952t2ouk2oh",
    "execution_id": "bbdf12af-e759-4986-a1df-04a58716832c"
   },
   "source": [
    "<img src=https://research.aimultiple.com/wp-content/uploads/2021/08/rnn-text.gif alt=\"RNN\" width=\"50%\"/>"
   ]
  },
  {
   "cell_type": "markdown",
   "metadata": {
    "cellId": "yi200i1i69svpz4wf5g6w8"
   },
   "source": [
    "$$ H^{(t)} = \\tanh \\Big( W^{h x} \\cdot X^{(t)} + W^{h h} \\cdot H^{(t-1)} + b_{h} \\Big) $$\n",
    "$$ Y^{(t)} = W^{y h} \\cdot H^{(t)} + b_{y} $$"
   ]
  },
  {
   "cell_type": "markdown",
   "metadata": {
    "cellId": "2cygqkk0l0gib5ijfe7sy"
   },
   "source": [
    "### 1.2 Long-Short Term Memory (LSTM)"
   ]
  },
  {
   "cell_type": "markdown",
   "metadata": {
    "cellId": "qwruk4difyc34ay7mfi0z"
   },
   "source": [
    "<img src=https://cdn-images-1.medium.com/max/950/1*76Mikf2yo1Q3U76hp17v9Q.gif alt=\"LSTM\" width=\"70%\"/>"
   ]
  },
  {
   "cell_type": "markdown",
   "metadata": {
    "cellId": "tn8178x5a5pkn6iyh6hlp",
    "execution_id": "b3b273cc-ba85-448a-ab0a-d731c9bbd67a"
   },
   "source": [
    "$$ \\text{input:} \\quad i^{(t)} = \\sigma \\Big( W^{i x} \\cdot X^{(t)} + W^{i h} \\cdot H^{(t-1)} + b_{i} \\Big) $$\n",
    "$$ \\text{output:} \\quad o^{(t)} = \\sigma \\Big( W^{h x} \\cdot X^{(t)} + W^{o h} \\cdot H^{(t-1)} + b_{o} \\Big) $$\n",
    "$$ \\text{forget:} \\quad f^{(t)} = \\sigma \\Big( W^{h x} \\cdot X^{(t)} + W^{f h} \\cdot H^{(t-1)} + b_{f} \\Big) $$\n",
    "$$ \\tilde{H}^{(t)} = \\tanh \\Big( W^{g x} \\cdot X^{(t)} + W^{g h} \\cdot H^{(t-1)} + b_{g} \\Big) $$\n",
    "$$ C^{(t)} = \\tilde{H}^{(t)} \\odot i^{(t)} + C^{(t-1)} \\odot f^{(t)} $$\n",
    "$$ H^{(t)} = \\tanh \\Big( C^{(t)} \\Big) \\odot o^{(t)} $$\n",
    "$$ Y^{(t)} = W^{y h} \\cdot H^{(t)} + b_{y} $$"
   ]
  },
  {
   "cell_type": "markdown",
   "metadata": {
    "cellId": "zzxe396nbjj4yl0dethzir"
   },
   "source": [
    "### 1.3 Gated Recurrent Unit (GRU)"
   ]
  },
  {
   "cell_type": "markdown",
   "metadata": {
    "cellId": "590l1cccxiycqshg7ofbd8"
   },
   "source": [
    "<img src=https://vbystricky.github.io/images/2021-05/gru.svg alt=\"LSTM\" width=\"55%\"/>"
   ]
  },
  {
   "cell_type": "markdown",
   "metadata": {
    "cellId": "ckagbb97wmlv55bgwm5tqh"
   },
   "source": [
    "$$ \\text{update:} \\quad z^{(t)} = \\sigma \\Big( W^{z x} \\cdot X^{(t)} + W^{z h} \\cdot H^{(t-1)} + b_{i} \\Big) $$\n",
    "$$ \\text{reset:} \\quad r^{(t)} = \\sigma \\Big( W^{r x} \\cdot X^{(t)} + W^{r h} \\cdot H^{(t-1)} + b_{r} \\Big) $$\n",
    "$$ \\tilde{H}^{(t)} = \\tanh \\Big(  W^{\\tilde{h} x} \\cdot X^{(t)} + W^{\\tilde{h} h} \\cdot \\big( r^{(t)} \\odot H^{(t-1)} \\big) + b_{\\tilde{h}} \\Big) $$\n",
    "$$ H^{(t)} = (1 - z^{(t)}) \\odot H^{(t - 1)} + z^{(t)} \\odot \\tilde{H}^{(t)} $$\n",
    "$$ Y^{(t)} = W^{y h} \\cdot H^{(t)} + b_{y} $$"
   ]
  },
  {
   "cell_type": "markdown",
   "metadata": {
    "cellId": "0edm63z22i4j25sxc8um5v"
   },
   "source": [
    "### 1.4 Как получить предсказание? Какие бывают задачи?"
   ]
  },
  {
   "cell_type": "markdown",
   "metadata": {
    "cellId": "d4rrrn06sfvjct2qr36h5",
    "execution_id": "dc5ccbcd-4a5f-4ce8-b1b2-b50fe8601870"
   },
   "source": [
    "**Sequence to sequence (seq2seq):**\n",
    "\n",
    "<img src=https://vbystricky.github.io/images/2021-05/rnn_seq_to_seq.svg alt=\"tags\" width=\"55%\"/>\n",
    "\n",
    "К примеру, определение частей речи в предложении\n",
    "\n",
    "<img src=https://vbystricky.github.io/images/2021-05/rnn_seq_to_seq_v2.svg alt=\"seq2seq\" width=\"55%\"/>\n",
    "\n",
    "К примеру, автоматический перевод\n",
    "\n",
    "**Sequence to one:**\n",
    "\n",
    "<img src=https://vbystricky.github.io/images/2021-05/rnn_seq_to_one.svg alt=\"one class\" width=\"55%\"/>\n",
    "\n",
    "К примеру, предсказание оценки, соответствующей данному ревью фильма\n",
    "\n",
    "**One to sequence:**\n",
    "\n",
    "<img src=https://vbystricky.github.io/images/2021-05/rnn_one_to_seq.svg alt=\"sequence\" width=\"55%\"/>\n",
    "\n",
    "К примеру, составление текстового описания по чему-нибудь"
   ]
  },
  {
   "cell_type": "markdown",
   "metadata": {
    "cellId": "222exff2ukv7sl17hrvg4m"
   },
   "source": [
    "## 2. Задача классификации текста"
   ]
  },
  {
   "cell_type": "markdown",
   "metadata": {
    "cellId": "1m8s7sgnz786dkdqlnd5yr"
   },
   "source": [
    "### 2.1 Скачиваем данные"
   ]
  },
  {
   "cell_type": "code",
   "execution_count": 1,
   "metadata": {
    "cellId": "dwzeov49g8d3d16tbgce1p"
   },
   "outputs": [
    {
     "name": "stdout",
     "output_type": "stream",
     "text": [
      "Defaulting to user installation because normal site-packages is not writeable\n",
      "Requirement already satisfied: torchtext in /home/jupyter/.local/lib/python3.7/site-packages (0.10.0)\n",
      "Requirement already satisfied: tqdm in /usr/local/lib/python3.7/dist-packages (from torchtext) (4.50.0)\n",
      "Requirement already satisfied: numpy in /kernel/lib/python3.7/site-packages (from torchtext) (1.19.4)\n",
      "Requirement already satisfied: requests in /kernel/lib/python3.7/site-packages (from torchtext) (2.25.1)\n",
      "Requirement already satisfied: torch==1.9.0 in /home/jupyter/.local/lib/python3.7/site-packages (from torchtext) (1.9.0)\n",
      "Requirement already satisfied: typing-extensions in /kernel/lib/python3.7/site-packages (from torch==1.9.0->torchtext) (3.10.0.0)\n",
      "Requirement already satisfied: urllib3<1.27,>=1.21.1 in /kernel/lib/python3.7/site-packages (from requests->torchtext) (1.26.6)\n",
      "Requirement already satisfied: chardet<5,>=3.0.2 in /kernel/lib/python3.7/site-packages (from requests->torchtext) (4.0.0)\n",
      "Requirement already satisfied: idna<3,>=2.5 in /kernel/lib/python3.7/site-packages (from requests->torchtext) (2.10)\n",
      "Requirement already satisfied: certifi>=2017.4.17 in /kernel/lib/python3.7/site-packages (from requests->torchtext) (2021.5.30)\n",
      "\u001b[33mWARNING: You are using pip version 21.0.1; however, version 21.2.4 is available.\n",
      "You should consider upgrading via the '/usr/local/bin/python3 -m pip install --upgrade pip' command.\u001b[0m\n"
     ]
    }
   ],
   "source": [
    "#!g1.1\n",
    "# For datasphere\n",
    "%pip install torchtext torchdata\n",
    "\n",
    "# For google collab\n",
    "# !pip install torchtext torchdata"
   ]
  },
  {
   "cell_type": "code",
   "execution_count": 182,
   "metadata": {
    "cellId": "lsiknzjighrv5hqkfb6uja"
   },
   "outputs": [],
   "source": [
    "#!g1.1\n",
    "# # Apparently there is a problem with this code in DataSphere...\n",
    "\n",
    "# from torchtext import datasets\n",
    "# from IPython.display import clear_output\n",
    "# import os\n",
    "# import time\n",
    "# from datetime import timedelta\n",
    "\n",
    "# download_dir = './datasets'\n",
    "\n",
    "# all_datasets = [\n",
    "#     'AG_NEWS',\n",
    "#     'DBpedia',\n",
    "#     'YelpReviewPolarity',\n",
    "#     'YelpReviewFull',\n",
    "#     'YahooAnswers',\n",
    "#     'AmazonReviewPolarity',\n",
    "#     'AmazonReviewFull'\n",
    "# ]\n",
    "\n",
    "# data = {'train': {}, 'test': {}}\n",
    "# download_time = dict()\n",
    "# for i, dataset_name in enumerate(all_datasets):\n",
    "#     clear_output(True)\n",
    "    \n",
    "#     start_time = time.monotonic()\n",
    "    \n",
    "#     print(f'{i+1}/{len(all_datasets)}: Downloading dataset {dataset_name}')\n",
    "    \n",
    "#     download_exec = f'data[\\'train\\'][dataset_name] = datasets.{dataset_name}(root=\\'{os.path.join(download_dir, dataset_name)}\\', split=\\'train\\')'\n",
    "#     download_val_exec = f'data[\\'test\\'][dataset_name] = datasets.{dataset_name}(root=\\'{os.path.join(download_dir, dataset_name)}\\', split=\\'test\\')'\n",
    "    \n",
    "#     # NEVER REPEAT THIS AT HOME\n",
    "#     exec(download_exec)\n",
    "#     exec(download_val_exec)\n",
    "#     download_time[dataset_name] = timedelta(seconds=time.monotonic() - start_time)\n",
    "    \n",
    "#     for split in ['train', 'test']:\n",
    "#         data[split][dataset_name] = [(l, t) for (l, t) in data[split][dataset_name]]\n",
    "    \n",
    "\n",
    "# clear_output(True)\n",
    "# print('Download time:')\n",
    "# for k, v in download_time.items():\n",
    "#     print('{: <20} ~ {}'.format(k, v))"
   ]
  },
  {
   "cell_type": "code",
   "execution_count": 189,
   "metadata": {
    "cellId": "fey0qj9y9agi8utv97w04l"
   },
   "outputs": [],
   "source": [
    "#!g1.1\n",
    "# If in DataSphere use this then\n",
    "from IPython.display import clear_output\n",
    "import os\n",
    "import time\n",
    "from datetime import timedelta\n",
    "\n",
    "import pandas as pd\n",
    "\n",
    "df_folder = \"./datasets/AG_NEWS/AG_NEWS\"\n",
    "\n",
    "df_train = pd.read_csv(os.path.join(df_folder, \"train.csv\"), header=None)\n",
    "df_test = pd.read_csv(os.path.join(df_folder, \"test.csv\"), header=None)\n",
    "\n",
    "all_datasets = [\"AG_NEWS\"]\n",
    "\n",
    "data = {\n",
    "    \"train\": {\"AG_NEWS\": list(map(lambda el: (el[0], el[1] + \" \" + el[2]), df_train.values.tolist()))},\n",
    "    \"test\": {\"AG_NEWS\": list(map(lambda el: (el[0], el[1] + \" \" + el[2]), df_test.values.tolist()))},\n",
    "}\n",
    "\n",
    "del df_train, df_test"
   ]
  },
  {
   "cell_type": "code",
   "execution_count": 184,
   "metadata": {
    "cellId": "du77oaij53g8w0vgpsmxai"
   },
   "outputs": [
    {
     "data": {
      "text/plain": [
       "(3,\n",
       " \"Fears for T N pension after talks Unions representing workers at Turner   Newall say they are 'disappointed' after talks with stricken parent firm Federal Mogul.\")"
      ]
     },
     "execution_count": 184,
     "metadata": {},
     "output_type": "execute_result"
    }
   ],
   "source": [
    "#!g1.1\n",
    "data[\"test\"][\"AG_NEWS\"][0]"
   ]
  },
  {
   "cell_type": "markdown",
   "metadata": {
    "cellId": "dmp0onxd5pux7x75vinbyh"
   },
   "source": [
    "### 2.2 Посмотрим на данные"
   ]
  },
  {
   "cell_type": "code",
   "execution_count": 185,
   "metadata": {
    "cellId": "qk893ngoogox7ztiwctsd"
   },
   "outputs": [
    {
     "name": "stdout",
     "output_type": "stream",
     "text": [
      "Defaulting to user installation because normal site-packages is not writeable\n",
      "Requirement already satisfied: termcolor in /usr/local/lib/python3.7/dist-packages (1.1.0)\n",
      "\u001b[33mWARNING: You are using pip version 21.0.1; however, version 23.0.1 is available.\n",
      "You should consider upgrading via the '/usr/local/bin/python3 -m pip install --upgrade pip' command.\u001b[0m\n"
     ]
    }
   ],
   "source": [
    "#!g1.1\n",
    "# For datasphere\n",
    "%pip install termcolor\n",
    "\n",
    "# For google collab\n",
    "# !pip install termcolor"
   ]
  },
  {
   "cell_type": "code",
   "execution_count": 157,
   "metadata": {
    "cellId": "cxrc4pwi6w4fijqz4ucgrt",
    "scrolled": true
   },
   "outputs": [
    {
     "name": "stdout",
     "output_type": "stream",
     "text": [
      "\u001b[4m\u001b[1m\u001b[31mAG_NEWS ~ 120000 train examples and 7600 test examples with 4 classes:\n",
      "\u001b[0m\n",
      "  \u001b[4m\u001b[1mind\u001b[0m ~ 0:\n",
      "  \u001b[4m\u001b[1mlabel\u001b[0m ~ 3\n",
      "  \u001b[4m\u001b[1mtext\u001b[0m ~ Wall St. Bears Claw Back Into the Black (Reuters) Reuters - Short-sellers, Wall Street's dwindling\\band of ultra-cynics, are seeing green again.\n",
      "\n",
      "  \u001b[4m\u001b[1mind\u001b[0m ~ 24000:\n",
      "  \u001b[4m\u001b[1mlabel\u001b[0m ~ 3\n",
      "  \u001b[4m\u001b[1mtext\u001b[0m ~ Spectrum-FDA OKs Generic Version of Cipro (Reuters) Reuters - Spectrum Pharmaceuticals  said\\on Friday U.S. regulators have approved its generic version of\\Bayer's   Cipro antibiotic, triggering a  #36;750,000\\equity investment by one of its partners.\n",
      "\n",
      "  \u001b[4m\u001b[1mind\u001b[0m ~ 48000:\n",
      "  \u001b[4m\u001b[1mlabel\u001b[0m ~ 4\n",
      "  \u001b[4m\u001b[1mtext\u001b[0m ~ Rolling towards history One of the ironies of Wednesdays flight of SpaceShipOne is that those who had the worst view of the flightand the drama that unfolded during the ascentwere the members of the media who came to report on the event.\n",
      "\n",
      "  \u001b[4m\u001b[1mind\u001b[0m ~ 72000:\n",
      "  \u001b[4m\u001b[1mlabel\u001b[0m ~ 1\n",
      "  \u001b[4m\u001b[1mtext\u001b[0m ~ Iran Hints at Agreeing to Enrichment Freeze (Reuters) Reuters - Iran's top security official suggested\\on Monday Tehran may agree to extend its freeze on uranium\\enrichment but warned it could not be forced to scrap its\\nuclear technology for good.\n",
      "\n",
      "  \u001b[4m\u001b[1mind\u001b[0m ~ 96000:\n",
      "  \u001b[4m\u001b[1mlabel\u001b[0m ~ 4\n",
      "  \u001b[4m\u001b[1mtext\u001b[0m ~ Running Extra Mile Sets Humans Apart in Primates' World The ability of early human ancestors to run long distances may have influenced the transition to today's body form, researchers report.\n",
      "\n",
      "\n",
      "============\n",
      "\n",
      "\u001b[4m\u001b[1m\u001b[31mDBpedia ~ 560000 train examples and 70000 test examples with 14 classes:\n",
      "\u001b[0m\n",
      "  \u001b[4m\u001b[1mind\u001b[0m ~ 0:\n",
      "  \u001b[4m\u001b[1mlabel\u001b[0m ~ 1\n",
      "  \u001b[4m\u001b[1mtext\u001b[0m ~ E. D. Abbott Ltd  Abbott of Farnham E D Abbott Limited was a British coachbuilding business based in Farnham Surrey trading under that name from 1929. A major part of their output was under sub-contract to motor vehicle manufacturers. Their business closed in 1972.\n",
      "\n",
      "  \u001b[4m\u001b[1mind\u001b[0m ~ 112000:\n",
      "  \u001b[4m\u001b[1mlabel\u001b[0m ~ 3\n",
      "  \u001b[4m\u001b[1mtext\u001b[0m ~ Liang Wern Fook  Dr Liang Wern Fook (Chinese: 梁文福; pinyin: Liáng Wénfú; born 1964 in Singapore) is a Singaporean writer musician and researcher in Chinese literature and pedagogy. He was one of the pioneer figures in the xinyao (Singaporean Chinese folk songs) movement in the 1980s and 1990s.\n",
      "\n",
      "  \u001b[4m\u001b[1mind\u001b[0m ~ 224000:\n",
      "  \u001b[4m\u001b[1mlabel\u001b[0m ~ 6\n",
      "  \u001b[4m\u001b[1mtext\u001b[0m ~ Take Off Merlin  The Take Off Merlin is a German ultralight trike designed and produced by Take Off GmbH of Hamm. The aircraft is supplied as a complete ready-to-fly-aircraft.\n",
      "\n",
      "  \u001b[4m\u001b[1mind\u001b[0m ~ 336000:\n",
      "  \u001b[4m\u001b[1mlabel\u001b[0m ~ 9\n",
      "  \u001b[4m\u001b[1mtext\u001b[0m ~ Komorowo Żuławskie  Komorowo Żuławskie [kɔmɔˈrɔvɔ ʐuˈwafskʲɛ] (German: Kämmersdorf) is a village in the administrative district of Gmina Elbląg within Elbląg County Warmian-Masurian Voivodeship in northern Poland. It lies approximately 8 kilometres (5 mi) east of Elbląg and 75 km (47 mi) north-west of the regional capital Olsztyn.Before 1945 the area was part of Germany (East Prussia).The village has a population of 170.\n",
      "\n",
      "  \u001b[4m\u001b[1mind\u001b[0m ~ 448000:\n",
      "  \u001b[4m\u001b[1mlabel\u001b[0m ~ 12\n",
      "  \u001b[4m\u001b[1mtext\u001b[0m ~ Worship Music (album)  Worship Music is the tenth studio album by American thrash metal band Anthrax released on September 12 2011 internationally and on September 13 in the US. It is their first album of original material since 2003's We've Come for You All and the first album since 1990's Persistence of Time to feature vocalist Joey Belladonna.The album's creation went through a lengthy process with work beginning as early as November 2008.\n",
      "\n",
      "\n",
      "============\n",
      "\n",
      "\u001b[4m\u001b[1m\u001b[31mYelpReviewPolarity ~ 560000 train examples and 38000 test examples with 2 classes:\n",
      "\u001b[0m\n",
      "  \u001b[4m\u001b[1mind\u001b[0m ~ 0:\n",
      "  \u001b[4m\u001b[1mlabel\u001b[0m ~ 1\n",
      "  \u001b[4m\u001b[1mtext\u001b[0m ~ Unfortunately, the frustration of being Dr. Goldberg's patient is a repeat of the experience I've had with so many other doctors in NYC -- good doctor, terrible staff.  It seems that his staff simply never answers the phone.  It usually takes 2 hours of repeated calling to get an answer.  Who has time for that or wants to deal with it?  I have run into this problem with many other doctors and I just don't get it.  You have office workers, you have patients with medical needs, why isn't anyone answering the phone?  It's incomprehensible and not work the aggravation.  It's with regret that I feel that I have to give Dr. Goldberg 2 stars.\n",
      "\n",
      "  \u001b[4m\u001b[1mind\u001b[0m ~ 112000:\n",
      "  \u001b[4m\u001b[1mlabel\u001b[0m ~ 1\n",
      "  \u001b[4m\u001b[1mtext\u001b[0m ~ The rice and beans are delicious.  I ordered the Taquiza taco plate (my choices: suadero, carnitas, pollo con mole, lengua) and besides the mole, none of the meats were distinguishable, they all looked more or less the same and even had a similar consistency and grill flavor.  If i come back I won't order tacos, as they were mostly flavorless.  I am not a huge mole fan, but it was tasty.  The salsas they serve alongside the food sucked:  one verde, one chipotle.  They both tasted unsalted and watered down.  Ive had better, more flavorful salsa from a can (Herdez brand).  The man at the register cared more about the movie on the TV than the customers.\\nTaco y Taco is so much better?\n",
      "\n",
      "  \u001b[4m\u001b[1mind\u001b[0m ~ 224000:\n",
      "  \u001b[4m\u001b[1mlabel\u001b[0m ~ 1\n",
      "  \u001b[4m\u001b[1mtext\u001b[0m ~ They are very rude here. I have never been treated worse at a nail salon. They no nothing about customer service IMO. Nice to be sitting there when tell them before service how you want your nails and they talk about you the whole time in their language. Treated me really bad and had the nerve to say next time, like I would be back to a place that was so rude. I dont know how they can stay in business treating their customers this poorly, in front of everyone. I dont see manicurists license in view and their tools are not sanitary. They cut my finger with their tool and said it was brand new. They never cleaned the tool and i was their 40 minutes after the cut happened.\n",
      "\n",
      "  \u001b[4m\u001b[1mind\u001b[0m ~ 336000:\n",
      "  \u001b[4m\u001b[1mlabel\u001b[0m ~ 1\n",
      "  \u001b[4m\u001b[1mtext\u001b[0m ~ I ordered the Bun Dac Biet-Combo TO-GO and I was quite disappointed with the wait time plus they did not give me the fish sauce when I asked for it. The guy gave me hot sauce instead stating that the sauce was on my food already. I thought it was weird. Other than that, the meat was cooked great, the egg rolls were tasty... I'm not sure if I'll be returning.. I was there almost 45 minutes for my food... :(\n",
      "\n",
      "  \u001b[4m\u001b[1mind\u001b[0m ~ 448000:\n",
      "  \u001b[4m\u001b[1mlabel\u001b[0m ~ 2\n",
      "  \u001b[4m\u001b[1mtext\u001b[0m ~ Just got married here! Great place! Great price!\n",
      "\n",
      "\n",
      "============\n",
      "\n",
      "\u001b[4m\u001b[1m\u001b[31mYelpReviewFull ~ 650000 train examples and 50000 test examples with 5 classes:\n",
      "\u001b[0m\n",
      "  \u001b[4m\u001b[1mind\u001b[0m ~ 0:\n",
      "  \u001b[4m\u001b[1mlabel\u001b[0m ~ 5\n",
      "  \u001b[4m\u001b[1mtext\u001b[0m ~ dr. goldberg offers everything i look for in a general practitioner.  he's nice and easy to talk to without being patronizing; he's always on time in seeing his patients; he's affiliated with a top-notch hospital (nyu) which my parents have explained to me is very important in case something happens and you need surgery; and you can get referrals to see specialists without having to see him first.  really, what more do you need?  i'm sitting here trying to think of any complaints i have about him, but i'm really drawing a blank.\n",
      "\n",
      "  \u001b[4m\u001b[1mind\u001b[0m ~ 130000:\n",
      "  \u001b[4m\u001b[1mlabel\u001b[0m ~ 1\n",
      "  \u001b[4m\u001b[1mtext\u001b[0m ~ Waited in line for almost an HOUR to check in at 3pm.  We get our keys and then find out we have to EXIT the casino and CROSS the street to get to our room.  Open the door to find a very outdated looking hotel room with sub-standard amenities.  The coffee table wobbled so much I thought it was going to unscrew and come flying off.  Needless to say, I didn't use that coffee table.  The beds are so springy you wake up with a sore back the next day.  \\n\\nWhats worse than the crappy room is their crappy restaurants.  Since I didn't have a car, I thought I would give their cafe a shot.  Nothing is fresh and everything could be made with a microwave.  \\n\\nI would not recommend this hotel to anyone.\n",
      "\n",
      "  \u001b[4m\u001b[1mind\u001b[0m ~ 260000:\n",
      "  \u001b[4m\u001b[1mlabel\u001b[0m ~ 2\n",
      "  \u001b[4m\u001b[1mtext\u001b[0m ~ With tip, my 50 minute aromatherapy massage was $200, and that was a 15% tip.  The staff was OK, either really young and wanted to get back to chatting or did not speak much english, and hey, this is one place I'd like people to be able to communicate with me well.\\n\\nAnyway, it was a decent massage, but seemed shorter than 50 minutes since I was already changing 50 minutes after they started and there was a lot of chit chat before the massage.  Not saying it's a terrible place, but I have had far better massages for just over half that price in high end places in Chicago.\\n\\nThe one redeeming quality is that after my OK massage I could hang out as long as I wanted in the facilities, and the sauna, aromatherapy room and igloo room were very nice ways to finish relaxing.\n",
      "\n",
      "  \u001b[4m\u001b[1mind\u001b[0m ~ 390000:\n",
      "  \u001b[4m\u001b[1mlabel\u001b[0m ~ 4\n",
      "  \u001b[4m\u001b[1mtext\u001b[0m ~ Restaurant is best kept secret in Madison. We go for the Friday night fish fry. You get 3 pieces of cod choice of potatoe cole slaw baked bean and rye bread for under 11$. It's usually not busy so there's no wait. The food is always good and service is also good.\n",
      "\n",
      "  \u001b[4m\u001b[1mind\u001b[0m ~ 520000:\n",
      "  \u001b[4m\u001b[1mlabel\u001b[0m ~ 4\n",
      "  \u001b[4m\u001b[1mtext\u001b[0m ~ The bibimbap here is good, better than Ganadara. Good portion, the beef wasn't ground as usual, but still good, and I liked the sauce. Only negative was the rice was too wet. It was crowded and most people ordered Korean bbq ($21.99 all you can eat) so we'll definitely be back for that.\n",
      "\n",
      "\n",
      "============\n",
      "\n",
      "\u001b[4m\u001b[1m\u001b[31mYahooAnswers ~ 1400000 train examples and 60000 test examples with 10 classes:\n",
      "\u001b[0m\n",
      "  \u001b[4m\u001b[1mind\u001b[0m ~ 0:\n",
      "  \u001b[4m\u001b[1mlabel\u001b[0m ~ 5\n",
      "  \u001b[4m\u001b[1mtext\u001b[0m ~ why doesn't an optical mouse work on a glass table? or even on some surfaces? Optical mice use an LED and a camera to rapidly capture images of the surface beneath the mouse.  The infomation from the camera is analyzed by a DSP (Digital Signal Processor) and used to detect imperfections in the underlying surface and determine motion. Some materials, such as glass, mirrors or other very shiny, uniform surfaces interfere with the ability of the DSP to accurately analyze the surface beneath the mouse.  \\nSince glass is transparent and very uniform, the mouse is unable to pick up enough imperfections in the underlying surface to determine motion.  Mirrored surfaces are also a problem, since they constantly reflect back the same image, causing the DSP not to recognize motion properly. When the system is unable to see surface changes associated with movement, the mouse will not work properly.\n",
      "\n",
      "  \u001b[4m\u001b[1mind\u001b[0m ~ 280000:\n",
      "  \u001b[4m\u001b[1mlabel\u001b[0m ~ 3\n",
      "  \u001b[4m\u001b[1mtext\u001b[0m ~ Peppermint tea????? I'm 3 days shy of 40 weeks. Has anyone tryed to drink peppermint tea to induce labor? If so does it work and hows it taste. I have not heard of that one... But a doctor once told me to go for long walks... and it seems to work for me.\n",
      "\n",
      "  \u001b[4m\u001b[1mind\u001b[0m ~ 560000:\n",
      "  \u001b[4m\u001b[1mlabel\u001b[0m ~ 8\n",
      "  \u001b[4m\u001b[1mtext\u001b[0m ~ A band playing music, is the sound in stereo or because its one band is the sound in mono?  depends on the amp, if the amplification has 2 outs it's stereo if there's no amplification whatsoever then is LIVE, but to some sound engineers purists there's not a category like live so they call it mono.\n",
      "\n",
      "  \u001b[4m\u001b[1mind\u001b[0m ~ 840000:\n",
      "  \u001b[4m\u001b[1mlabel\u001b[0m ~ 6\n",
      "  \u001b[4m\u001b[1mtext\u001b[0m ~ Who won last night on TNA WRESTLING? CAGE OR RHYNO? LAST NIGHT WHO WON rhyno gored christian out of the cage so christian won\n",
      "\n",
      "  \u001b[4m\u001b[1mind\u001b[0m ~ 1120000:\n",
      "  \u001b[4m\u001b[1mlabel\u001b[0m ~ 3\n",
      "  \u001b[4m\u001b[1mtext\u001b[0m ~ how do you cope with hyperhydrosis?  Go & see a registered homoeopath. I've treated a number of cases of this with great success. Homoeopathy is a natural answer to your problem. Go to the Society of Homeopaths webpage to find a local practitioner.\n",
      "\n",
      "\n",
      "============\n",
      "\n",
      "\u001b[4m\u001b[1m\u001b[31mAmazonReviewPolarity ~ 3600000 train examples and 400000 test examples with 2 classes:\n",
      "\u001b[0m\n",
      "  \u001b[4m\u001b[1mind\u001b[0m ~ 0:\n",
      "  \u001b[4m\u001b[1mlabel\u001b[0m ~ 2\n",
      "  \u001b[4m\u001b[1mtext\u001b[0m ~ Stuning even for the non-gamer This sound track was beautiful! It paints the senery in your mind so well I would recomend it even to people who hate vid. game music! I have played the game Chrono Cross but out of all of the games I have ever played it has the best music! It backs away from crude keyboarding and takes a fresher step with grate guitars and soulful orchestras. It would impress anyone who cares to listen! ^_^\n",
      "\n",
      "  \u001b[4m\u001b[1mind\u001b[0m ~ 720000:\n",
      "  \u001b[4m\u001b[1mlabel\u001b[0m ~ 2\n",
      "  \u001b[4m\u001b[1mtext\u001b[0m ~ Can't use it on my motorcycle Warm they are. Looks pretty durable but the sleeve is too tight for wearing gloves and they don't give any room for clutch or brake bars on motorcycles. Needless to say I was trying to put these on something they were not designed for so stick with the ATV market with these but for the price it was a small gamble.\n",
      "\n",
      "  \u001b[4m\u001b[1mind\u001b[0m ~ 1440000:\n",
      "  \u001b[4m\u001b[1mlabel\u001b[0m ~ 2\n",
      "  \u001b[4m\u001b[1mtext\u001b[0m ~ A New Orleans Classic Obviously the past two reviewers who have given Murder at the Butt a one rating have not taken the time to examen the brilliance of the work. Not only does the author place you directly into the culture and feel of New Orleans, but he has an unusually intricate plot and a very unusually developed concept of murder mystery writing. This is a good one, a page turner and a must read!\n",
      "\n",
      "  \u001b[4m\u001b[1mind\u001b[0m ~ 2160000:\n",
      "  \u001b[4m\u001b[1mlabel\u001b[0m ~ 2\n",
      "  \u001b[4m\u001b[1mtext\u001b[0m ~ Feisty This soundtrack is one of the best I've ever heard, i just wish they'd put Fantastic by Fiesty on it. I can't seem to find that band anywhere, does someone know where I could get a copy of their song Fantastic or their website? if someone could help I would be greatly appreciated.\n",
      "\n",
      "  \u001b[4m\u001b[1mind\u001b[0m ~ 2880000:\n",
      "  \u001b[4m\u001b[1mlabel\u001b[0m ~ 2\n",
      "  \u001b[4m\u001b[1mtext\u001b[0m ~ great buy addicted to this series..im glad they sold them all together...not bad of a price...only thing is, the box shown in the pic, isnt included...its 3 separate dvds...they dont have a slip box that holds the series together\n",
      "\n",
      "\n",
      "============\n",
      "\n",
      "\u001b[4m\u001b[1m\u001b[31mAmazonReviewFull ~ 3000000 train examples and 650000 test examples with 5 classes:\n",
      "\u001b[0m\n",
      "  \u001b[4m\u001b[1mind\u001b[0m ~ 0:\n",
      "  \u001b[4m\u001b[1mlabel\u001b[0m ~ 3\n",
      "  \u001b[4m\u001b[1mtext\u001b[0m ~ more like funchuck Gave this to my dad for a gag gift after directing \"Nunsense,\" he got a reall kick out of it!\n",
      "\n",
      "  \u001b[4m\u001b[1mind\u001b[0m ~ 600000:\n",
      "  \u001b[4m\u001b[1mlabel\u001b[0m ~ 3\n",
      "  \u001b[4m\u001b[1mtext\u001b[0m ~ good but not what I expected Cypress Hill has always given their fans all that and then some; maybe that is why I am left wondering where disc 2 is in this package. This \"greatest hits\" compilation has only 9 songs from a group that has been putting out top-shelf albums for about 15 years. How can that possibly add up? Don't get me wrong, there isn't a bad song on this cd, but there is so much missing. What would've really worked well for the fans would have been a 2-disc package with the first having songs from cypress hill, black sunday, and temples of boom. The second could pick from IV, skull and bones, stoned raiders, and till death do us part. Also throw some live joints on there (\"aint going out like that\", \"can't get the best of me\") from the Fillmore show, and that would be more on the level with showing what the Hill is all about.\n",
      "\n",
      "  \u001b[4m\u001b[1mind\u001b[0m ~ 1200000:\n",
      "  \u001b[4m\u001b[1mlabel\u001b[0m ~ 4\n",
      "  \u001b[4m\u001b[1mtext\u001b[0m ~ Polished, not raw, performances. An exciting rediscovery. I bought the original vinyl recording in the 1960s and loved it. Bernabe de Moron is a more polished guitarist than, say, Manitas de Plata, and as technically precise and clear as Juan Serrano, but with more emotion and flair. All three were leading exponents of the flamenco form during that era, but of the three I actually enjoyed Bernabe de Moron's music the most.I was devastated when my original LP recording was damaged and I tried for years to find a replacement, without success. Decades passed, then yesterday I happened to pass a Spanish restaurant featuring live flamenco players and I made a mental note to check online. I am elated to find this digitally-remastered edition of what had become, for me, a lost masterpiece.\n",
      "\n",
      "  \u001b[4m\u001b[1mind\u001b[0m ~ 1800000:\n",
      "  \u001b[4m\u001b[1mlabel\u001b[0m ~ 2\n",
      "  \u001b[4m\u001b[1mtext\u001b[0m ~ Mild and laid-back movie about Barcelona couples A laid-back, very relaxed, subdued movie, never jolting or over-dramatic. Maybe TOO relaxed. Not the worst choice of a movie for a rainy day, though best accompanied by a bottle of wine or, if you prefer, some other central nervous system depressant. Unfortunately, I consumed coffee. Instead of the MPAA rating, movies should just tell you what to eat and drink before watching.Not much of moment really happens other than the indiscretions of several couples. I lost interest after an hour, but the thing just kept going on and on. A friend found it mildly interesting, so I listened off and on in the background, but nothing drew me back in. A yawner. No sexual/erotic/romantic fireworks.\n",
      "\n",
      "  \u001b[4m\u001b[1mind\u001b[0m ~ 2400000:\n",
      "  \u001b[4m\u001b[1mlabel\u001b[0m ~ 3\n",
      "  \u001b[4m\u001b[1mtext\u001b[0m ~ Worth it for Gnossiennes The interpretation of Gnossiennes is worth the price of this CD. The slow, soulful rendition of that piece is the best anywhere. However, I agree with a previous reviewer that the downtempo approach does not work for other Satie favorites. The slow motion, low energy rendition of other pieces can be maddening.\n",
      "\n",
      "\n",
      "============\n",
      "\n"
     ]
    }
   ],
   "source": [
    "#!g1.1\n",
    "from termcolor import colored\n",
    "\n",
    "show_each = 5\n",
    "num_classes = {}\n",
    "\n",
    "for dataset_name in data['train']:\n",
    "    num_classes[dataset_name] = len(set([label for (label, _) in data['train'][dataset_name]]))\n",
    "    \n",
    "    train_size = len(data['train'][dataset_name])\n",
    "    test_size = len(data['test'][dataset_name])\n",
    "    print(colored(dataset_name + f' ~ {train_size} train examples' +\n",
    "                  f' and {test_size} test examples' +\n",
    "                  f' with {num_classes[dataset_name]} classes:\\n',\n",
    "                  'red', attrs=['bold', 'underline']))\n",
    "    \n",
    "    for i in range(0, train_size, train_size//show_each):\n",
    "        label, text = data['train'][dataset_name][i]\n",
    "        print(f'  ' + colored(f'ind', attrs=['bold', 'underline']) +\n",
    "              f' ~ {i}:\\n  ' + colored(f'label', attrs=['bold', 'underline']) +\n",
    "              f' ~ {label}\\n  ' + colored(f'text', attrs=['bold', 'underline']) +\n",
    "              f' ~ {text}\\n')\n",
    "    print('\\n============\\n')"
   ]
  },
  {
   "cell_type": "markdown",
   "metadata": {
    "cellId": "0zpwjvqnao6p1fhpmq6hbgr"
   },
   "source": [
    "### 2.3 Готовим данные"
   ]
  },
  {
   "cell_type": "markdown",
   "metadata": {
    "cellId": "ftp5g4mtr725q2dixgmwo",
    "execution_id": "4eb4c36a-3373-420d-be98-6376d8c8d348"
   },
   "source": [
    "Очень много разных подходов:\n",
    "\n",
    "- стоп-слова\n",
    "- токенизация\n",
    "- лемматизация\n",
    "- стемминг\n",
    "- обучаемые эмбеддинги\n",
    "- лингвистические модели\n",
    "- ..."
   ]
  },
  {
   "cell_type": "code",
   "execution_count": 187,
   "metadata": {
    "cellId": "1t5yxtgtl74zq79kejcso"
   },
   "outputs": [
    {
     "name": "stdout",
     "output_type": "stream",
     "text": [
      "['some', 'random', 'text', ',', 'another', 'random', 'text', '.']\n"
     ]
    }
   ],
   "source": [
    "#!g1.1\n",
    "from tqdm.notebook import tqdm\n",
    "from torch.utils.data import DataLoader\n",
    "from torchtext.data.utils import get_tokenizer\n",
    "from torchtext.vocab import build_vocab_from_iterator\n",
    "        \n",
    "splits = ['train', 'test']\n",
    "\n",
    "# Creating tokenizer for english text\n",
    "tokenizer = get_tokenizer('basic_english')\n",
    "\n",
    "print(tokenizer(\"Some random text, another random text.\"))"
   ]
  },
  {
   "cell_type": "code",
   "execution_count": 190,
   "metadata": {
    "cellId": "m7fbtvytzqk4ka3lgvl1e"
   },
   "outputs": [
    {
     "data": {
      "application/vnd.jupyter.widget-view+json": {
       "model_id": "eb68e0f8bfd140bfacffb29e0e53d70d",
       "version_major": 2,
       "version_minor": 0
      },
      "text/plain": [
       "HBox(children=(HTML(value=''), FloatProgress(value=0.0, max=2.0), HTML(value='')))"
      ]
     },
     "metadata": {},
     "output_type": "display_data"
    },
    {
     "name": "stdout",
     "output_type": "stream",
     "text": [
      "Building vocabs:\n",
      "\n"
     ]
    }
   ],
   "source": [
    "#!g1.1\n",
    "max_size = [0] * (len(all_datasets) * len(splits))\n",
    "\n",
    "# Building vocabs\n",
    "def yield_tokens(it_list):\n",
    "    global max_size\n",
    "    for i, it in enumerate(tqdm(it_list)):\n",
    "        for _, text in it:\n",
    "            tokens = tokenizer(text)\n",
    "            max_size[i] = max(max_size[i], len(tokens))\n",
    "            yield tokens\n",
    "\n",
    "\n",
    "def flat_list(list_):\n",
    "    res = []\n",
    "    for el in list_:\n",
    "        res.extend(el)\n",
    "    return res\n",
    "\n",
    "\n",
    "vocab = {}\n",
    "print('Building vocabs:')\n",
    "vocab = build_vocab_from_iterator(\n",
    "    yield_tokens(\n",
    "        flat_list(\n",
    "            [\n",
    "                [data[split][dataset_name] for dataset_name in all_datasets]\n",
    "                for split\n",
    "                in splits\n",
    "            ]\n",
    "        )\n",
    "    ),\n",
    "    specials=[\"<unk>\", \"<pad>\"]\n",
    ")\n",
    "vocab.set_default_index(vocab[\"<unk>\"])"
   ]
  },
  {
   "cell_type": "code",
   "execution_count": 232,
   "metadata": {
    "cellId": "8su0kxz8ypk7a3ppbh3ou5"
   },
   "outputs": [
    {
     "data": {
      "text/plain": [
       "(False, True)"
      ]
     },
     "execution_count": 232,
     "metadata": {},
     "output_type": "execute_result"
    }
   ],
   "source": [
    "#!g1.1\n",
    "\"w@rd\" in vocab, \"text\" in vocab"
   ]
  },
  {
   "cell_type": "code",
   "execution_count": 233,
   "metadata": {
    "cellId": "6n3he7qdru73uqb551l40x"
   },
   "outputs": [
    {
     "data": {
      "text/plain": [
       "98636"
      ]
     },
     "execution_count": 233,
     "metadata": {},
     "output_type": "execute_result"
    }
   ],
   "source": [
    "#!g1.1\n",
    "len(vocab)"
   ]
  },
  {
   "cell_type": "code",
   "execution_count": 238,
   "metadata": {
    "cellId": "np9zi0lq3ib7g0kgl26piv"
   },
   "outputs": [
    {
     "data": {
      "text/plain": [
       "['<unk>', '<pad>', '.', 'the', ',', 'to', 'a', 'of', 'in', 'and']"
      ]
     },
     "execution_count": 238,
     "metadata": {},
     "output_type": "execute_result"
    }
   ],
   "source": [
    "#!g1.1\n",
    "vocab.get_itos()[:10]"
   ]
  },
  {
   "cell_type": "code",
   "execution_count": 191,
   "metadata": {
    "cellId": "80izyc1svru2f4mgc2obvn"
   },
   "outputs": [
    {
     "name": "stdout",
     "output_type": "stream",
     "text": [
      "<unk> ~ 0\n",
      "<pad> ~ 1\n"
     ]
    }
   ],
   "source": [
    "#!g1.1\n",
    "unk_id = vocab['<unk>']\n",
    "pad_id = vocab['<pad>']\n",
    "print(f'<unk> ~ {unk_id}\\n<pad> ~ {pad_id}')"
   ]
  },
  {
   "cell_type": "code",
   "execution_count": 192,
   "metadata": {
    "cellId": "ggv282gad12rmy9suivkt"
   },
   "outputs": [
    {
     "name": "stdout",
     "output_type": "stream",
     "text": [
      "tokenized:\n",
      "---- ['some', 'random', 'text', ',', 'that', 'i', 'want', 'to', 'tokenize', '<pad>', '<pad>', '<pad>', 'and', 'one', 'unrecognizable', 'w@rd']\n",
      "\n",
      "indexes from vocab:\n",
      "---- [123, 10223, 4004, 4, 18, 282, 915, 5, 0, 1, 1, 1, 9, 62, 95829, 0]\n"
     ]
    }
   ],
   "source": [
    "#!g1.1\n",
    "text = 'Some random text, that I want to tokenize <pad> <pad> <pad> and one unrecognizable w@rd'\n",
    "print(f'tokenized:\\n---- {tokenizer(text)}\\n')\n",
    "print(f'indexes from vocab:\\n---- {vocab(tokenizer(text))}')"
   ]
  },
  {
   "cell_type": "code",
   "execution_count": 100,
   "metadata": {
    "cellId": "0yiohx3s835oqfv0vjn85"
   },
   "outputs": [
    {
     "name": "stdout",
     "output_type": "stream",
     "text": [
      "AG_NEWS ~ max_size: [207 161]\n",
      "DBpedia ~ max_size: [1498  602]\n",
      "YelpReviewPolarity ~ max_size: [1261 1259]\n",
      "YelpReviewFull ~ max_size: [1261 1180]\n",
      "YahooAnswers ~ max_size: [4014 4017]\n",
      "AmazonReviewPolarity ~ max_size: [597 660]\n",
      "AmazonReviewFull ~ max_size: [597 344]\n"
     ]
    }
   ],
   "source": [
    "#!g1.1\n",
    "import numpy as np\n",
    "\n",
    "max_size = np.array(max_size).reshape(2, -1)\n",
    "for i, dataset_name in enumerate(all_datasets):\n",
    "    print(f'{dataset_name} ~ max_size: {max_size[:,i]}')"
   ]
  },
  {
   "cell_type": "code",
   "execution_count": 195,
   "metadata": {
    "cellId": "enhie486q8mkog7dhn86wh"
   },
   "outputs": [
    {
     "name": "stdout",
     "output_type": "stream",
     "text": [
      "maximal text length ~ 207\n"
     ]
    }
   ],
   "source": [
    "#!g1.1\n",
    "# !!!!!!!!!!!!!!!!!!!!!!!!!!!!!!!!!!!!!!\n",
    "chosen_dataset = 'AG_NEWS'\n",
    "# !!!!!!!!!!!!!!!!!!!!!!!!!!!!!!!!!!!!!!\n",
    "\n",
    "for i, dataset_name in enumerate(all_datasets):\n",
    "    if dataset_name == chosen_dataset:\n",
    "        max_ = max(max_size[:,i])\n",
    "print(f'maximal text length ~ {max_}')"
   ]
  },
  {
   "cell_type": "code",
   "execution_count": 197,
   "metadata": {
    "cellId": "1ucnzsh1bwhi7761p2xjxi7"
   },
   "outputs": [],
   "source": [
    "#!g1.1\n",
    "import torch\n",
    "\n",
    "# Text and label preprocessing\n",
    "text_pipeline = lambda x: vocab(tokenizer(x))\n",
    "label_pipeline = lambda x: int(x) - 1\n",
    "\n",
    "\n",
    "# Applying preprocessings with offsets to batch\n",
    "def collate_batch_offsets(batch):\n",
    "    \"\"\"\n",
    "    input: batch --> Iteratable (label, text)\n",
    "    output:\n",
    "        - label_list --> tensor<int> ~ len=bs, all labels from batch\n",
    "        - text_list --> tensor<int>, all texts tokenized and merged in one list\n",
    "        - offsets --> tensor<int> ~ len=bs+1, where does each individual text starts\n",
    "    \n",
    "    hint - tensor.cumsum(dim=?) --> cumulative sum across dim\n",
    "    \"\"\"\n",
    "    label_list, text_list, offsets = [], [], [0]\n",
    "    for (label, text) in batch:\n",
    "        label_list.append(label_pipeline(label))\n",
    "        processed_text = torch.tensor(text_pipeline(text),\n",
    "                                      dtype=torch.int64)\n",
    "        text_list.append(processed_text)\n",
    "        offsets.append(processed_text.size(0))\n",
    "    label_list = torch.tensor(label_list, dtype=torch.int64)\n",
    "    text_list = torch.cat(text_list)\n",
    "    offsets = torch.tensor(offsets[:-1]).cumsum(dim=0)\n",
    "    return label_list, text_list, offsets\n",
    "\n",
    "\n",
    "# Applying preprocessings with padding to batch\n",
    "def collate_batch_padding(batch):\n",
    "    \"\"\"\n",
    "    input: batch --> Iteratable (label, text)\n",
    "    output:\n",
    "        - label_list --> tensor<int> ~ len=bs, all labels from batch\n",
    "        - text_list --> tensor<int> ~ len=(bs x seq_len), all texts tokenized and merged in matrix with paddings\n",
    "    \n",
    "    hint - use `max_` value (or may be calculate local max_seq_len)\n",
    "    \"\"\"\n",
    "    label_list, text_list = [], []\n",
    "    for (label, text) in batch:\n",
    "        label_list.append(label_pipeline(label))\n",
    "        text_list.append(text_pipeline(text))\n",
    "    local_max_seq_len = max(map(len, text_list))\n",
    "    text_list = [\n",
    "        text + [pad_id] * (local_max_seq_len - len(text))\n",
    "        for text\n",
    "        in text_list\n",
    "    ]\n",
    "    label_list = torch.tensor(label_list, dtype=torch.int64)\n",
    "    text_list = torch.tensor(text_list, dtype=torch.int64)\n",
    "    return label_list, text_list"
   ]
  },
  {
   "cell_type": "code",
   "execution_count": 198,
   "metadata": {
    "cellId": "yisv5ehe2ncngpj1gduzu"
   },
   "outputs": [
    {
     "name": "stdout",
     "output_type": "stream",
     "text": [
      "Making dataloaders...\n"
     ]
    }
   ],
   "source": [
    "#!g1.1\n",
    "# Making dataloaders\n",
    "dataloaders_off = {split: {} for split in splits}\n",
    "dataloaders_pad = {split: {} for split in splits}\n",
    "\n",
    "print('Making dataloaders...')\n",
    "\n",
    "\n",
    "# # For all downloaded datasets\n",
    "# for split in splits:\n",
    "#     print(f'---- for {split}')\n",
    "#     for dataset_name in tqdm(all_datasets):\n",
    "#         dataloaders_off[split][dataset_name] = DataLoader(\n",
    "#             data[split][dataset_name],\n",
    "#             batch_size=16,\n",
    "#             shuffle=(split=='train'),\n",
    "#             drop_last=(split=='train'),\n",
    "#             collate_fn=collate_batch_offsets\n",
    "#         )\n",
    "#         dataloaders_pad[split][dataset_name] = DataLoader(\n",
    "#             data[split][dataset_name],\n",
    "#             batch_size=16,\n",
    "#             shuffle=(split=='train'),\n",
    "#             drop_last=(split=='train'),\n",
    "#             collate_fn=collate_batch_padding\n",
    "#         )\n",
    "\n",
    "\n",
    "# Quicker, but only for your chosen dataset\n",
    "for split in splits:\n",
    "    dataloaders_off[split][chosen_dataset] = DataLoader(\n",
    "        data[split][chosen_dataset],\n",
    "        batch_size=16,\n",
    "        shuffle=(split=='train'),\n",
    "        drop_last=(split=='train'),\n",
    "        collate_fn=collate_batch_offsets,\n",
    "    )\n",
    "    dataloaders_pad[split][chosen_dataset] = DataLoader(\n",
    "        data[split][chosen_dataset],\n",
    "        batch_size=16,\n",
    "        shuffle=(split=='train'),\n",
    "        drop_last=(split=='train'),\n",
    "        collate_fn=collate_batch_padding,\n",
    "    )\n",
    "\n",
    "\n",
    "print(\"Done!\")\n",
    "    \n",
    "# Freeing space for efficiency\n",
    "del data"
   ]
  },
  {
   "cell_type": "code",
   "execution_count": 202,
   "metadata": {
    "cellId": "zak4l5ba7w8codgxjau6w",
    "scrolled": true
   },
   "outputs": [
    {
     "name": "stdout",
     "output_type": "stream",
     "text": [
      "labels ~ torch.Size([16])\n",
      "tensor([1, 3, 2, 0, 2, 1, 2, 3, 1, 0, 1, 0, 3, 3, 0, 3])\n",
      "\n",
      "texts ~ torch.Size([639])\n",
      "tensor([ 7436,  1244,    17,    84, 10947,  2771,  4635,   322,     3, 77103,\n",
      "         4657,     4,   131,     7,     3,   628,    17,    10,   138,     2,\n",
      "         2337,     2,  1855,     2,  4367,  1399,   224,  2454,    62, 13025,\n",
      "         6987,   165,   328,    81,   966,  2816,   310,   102,    31,  5840,\n",
      "          966,  6062,   266,  1689,     5,   214,   310,   102,  4777, 11210,\n",
      "           48,  2015,     5, 15410,     2,   221,     7, 10427,  1972,  1786,\n",
      "          954,   148,     4,  5595,  5576,   325,  1470,   152,     4,  5109,\n",
      "            2,     4,  1159,     2,   573,    54, 30982,   221,  5600,  7405,\n",
      "           88,     2,    11,    56,  1866,  1786,    23,   954,   148,    12,\n",
      "            3,   126,   100,     4,     6,   281,    18,  6803,   187,   449,\n",
      "           25,    48,    73,  4006,   107,    11,  2076,    69,     3,    55,\n",
      "           17,    10,  2715, 15230,     2,  1208,    11,  5056,     7,  2741,\n",
      "          384,   384,   424,    79,  2305,    70,   116,     5,   151,  9936,\n",
      "          174,    19,  1208,     4,  1105,     6,  1575,   643,     5, 43748,\n",
      "          162,  1798,   440,   222,     5,  1199,     3,   168,   276,     2,\n",
      "           61,    93,   342,    12,   126,   133,     8,     6,  1254,  1012,\n",
      "           14,    28,    15,    16,    61,    93,   326,    12,     3,   126,\n",
      "          133,     8,     6,  1254,    11,    60,    19,    31,  2612,   901,\n",
      "          719,     5,   232,     3,    89,   160,   111,    86,   663, 16156,\n",
      "           44,   489,    12,  1885,  5556,     2,    80,     2,   740,  4015,\n",
      "         1713,   112,   464, 35892,    14,    32,    15,    32,    16, 30826,\n",
      "         5176,   588,  1242,   351,     4,   442,  3395,  1134,   903,     9,\n",
      "           80,     2,   740,  4015, 20117,     6,   479,   679,     5,   375,\n",
      "          464, 35892,   115,     2,  4750, 23598,  2181,     5, 56411,    64,\n",
      "          142,  2875,  2888,     9,   289,     9,  1671,    33,   146,     5,\n",
      "         4679,    64,  6716,  6048,     2, 86514,     2, 75141, 12386,    13,\n",
      "           10,  8250,  5535,   453,   903,     4,   141,    54,     3, 12183,\n",
      "          340,    75,  2244,  1132,     9, 14644,    33,  2051,    35,     6,\n",
      "         3494,  7094,    21,     6, 12183,  1043,    70,   223,    36,  2001,\n",
      "        39602,     5,     3,  2259,    50,    36,     8,    91, 10302,  3908,\n",
      "          285,     4,   154,  2035,  3716,     2,    13,  6700,    13,  3458,\n",
      "          609,    59,   722,   649,    19,  4719,  1681,     3, 10930,  1162,\n",
      "           22,   973,    45,  1671,  6987,     2, 40725,    45,     9,   563,\n",
      "            5,    38,     6,  6987,   527,    12,     3,   993, 21317,  2136,\n",
      "          287,     4,  4593,    25,    45, 41104,     2,   142,   616,  7201,\n",
      "        11029,     8,  1906,  1485,   491,   627,    16,   609,     3,  1749,\n",
      "            8,    33,   597,   522,     4,  2154,     7,  4196,   912,   446,\n",
      "        12919,  7201,  2128,  1882,    18,    50,  6699,  7624,   249,     7,\n",
      "           33,   205,  9824,     2,  1605,   366,  1120,  3469,    30,   705,\n",
      "           14,    32,    15,    32,    16,  1605,  3469,     7,     3,  2273,\n",
      "          366,  1120,    75,    79,    30,   705,     2,  9543,  1183,   161,\n",
      "        26465,   851,    89,    13,    10,   847,    36,   304,  1108,    21,\n",
      "         5002,    11,   115,    18,  2275,  2120,  2889,    96,   503,  1477,\n",
      "            6,    90,    64, 11697,  9163,   158,    50,    36,  5485,     6,\n",
      "          113, 22202,    11, 14584,     2,  3709,  5322,  1385,   713,     3,\n",
      "           89,   407,     9,   496,    40,  2314,  1442, 10318,     7,   286,\n",
      "          969,     9,   398,  4924,   463,   296,     7,   620,     9, 10928,\n",
      "            8,  1385,   713,     4,     6,   286,  1172,    27,     2,   966,\n",
      "         4671,  1640, 36254,    17,  1646, 12275,    14,    28,    15,    28,\n",
      "           16,   966,  4671,   259, 74340,  1561,     7,     3,    51,   392,\n",
      "        33632,  6145, 94929, 36254,  3238, 13395,     4,  1983,    19,  5224,\n",
      "          521,    12, 93238,  1846,  3473,     4,     6,   148,   344,    11,\n",
      "           57,    27,     2,   533,  3294,    44,  2712,   684,    12,  4244,\n",
      "            3,    55,  4948,  2712, 19367,   173,    30, 30515,  2712,    12,\n",
      "           23,  2151,  2716,  1766,     2,   249,   143,     8,   701,  1114,\n",
      "          901,   249,   103,  2238,    35,    31,  1213,   626,     6,   373,\n",
      "          456,    25,   244,   969,     8, 23827,   642,     4,     3,   286,\n",
      "           85,     2,    77,   648,   179,     5,  2427,    19,   203,    77,\n",
      "          648,   179,     5,  2427,    19, 47249,    22,  2217,     6, 14972,\n",
      "            7,     6,   469,   748,    26,   653,     5,   128,   424,    14,\n",
      "         1437,  6427,     4,   666,   748,  3338,    15,   583,     3,   229,\n",
      "          181,    11, 19133,    19,  4282,   333,   169,    26,    22,   604,\n",
      "            2,   185,     4,    68,    40,  1281,    77,     5,   724,    67,\n",
      "            3,   648,  3487,   128,  9470,    73,     2,     2,     2])\n",
      "\n",
      "offsets ~ torch.Size([16])\n",
      "tensor([  0,  34,  55, 115, 150, 196, 255, 306, 347, 384, 407, 445, 479, 523,\n",
      "        545, 572])\n"
     ]
    }
   ],
   "source": [
    "#!g1.1\n",
    "l_, t_, o_ = next(iter(dataloaders_off['train'][chosen_dataset]))\n",
    "print(f'labels ~ {l_.shape}\\n{l_}\\n')\n",
    "print(f'texts ~ {t_.shape}\\n{t_}\\n')\n",
    "print(f'offsets ~ {o_.shape}\\n{o_}')"
   ]
  },
  {
   "cell_type": "code",
   "execution_count": 203,
   "metadata": {
    "cellId": "mqowayxmspvtzuk79wyp"
   },
   "outputs": [
    {
     "name": "stdout",
     "output_type": "stream",
     "text": [
      "labels ~ torch.Size([16])\n",
      "tensor([3, 3, 0, 3, 2, 2, 2, 2, 1, 2, 1, 2, 0, 3, 2, 2])\n",
      "\n",
      "texts ~ torch.Size([16, 72])\n",
      "tensor([[17697,  5311,  3306,  ...,     1,     1,     1],\n",
      "        [39677,    13,    10,  ...,     1,     1,     1],\n",
      "        [19259,  6472,  5260,  ...,     1,     1,     1],\n",
      "        ...,\n",
      "        [  598,  1098,  1689,  ...,     1,     1,     1],\n",
      "        [   61,     4,   715,  ...,  3731,   125,     2],\n",
      "        [  353,    29,  2861,  ...,     1,     1,     1]])\n",
      "\n"
     ]
    }
   ],
   "source": [
    "#!g1.1\n",
    "l_, t_ = next(iter(dataloaders_pad['train'][chosen_dataset]))\n",
    "print(f'labels ~ {l_.shape}\\n{l_}\\n')\n",
    "print(f'texts ~ {t_.shape}\\n{t_}\\n')"
   ]
  },
  {
   "cell_type": "markdown",
   "metadata": {
    "cellId": "4i04m65qdkumrgugy0r2mb",
    "execution_id": "644698c5-6557-486b-b7ae-63d4053b75b1"
   },
   "source": [
    "### 2.4. GloVe эмбеддинги"
   ]
  },
  {
   "cell_type": "markdown",
   "metadata": {
    "cellId": "fjvzh67wzxv6gx3aoqv6ww",
    "execution_id": "8edcf1e4-7ec6-429f-acd3-ac0efaf6e1f6"
   },
   "source": [
    "Давайте скачаем предобученные glove вектора и инициализируем nn.Embedding ими, там где мы их знаем"
   ]
  },
  {
   "cell_type": "code",
   "execution_count": 214,
   "metadata": {
    "cellId": "f9n3xsicy5c9wf4z58pft7",
    "collapsed": true,
    "jupyter": {
     "outputs_hidden": true
    }
   },
   "outputs": [
    {
     "name": "stdout",
     "output_type": "stream",
     "text": [
      "^C\n"
     ]
    },
    {
     "ename": "TypeError",
     "evalue": "cannot unpack non-iterable NoneType object",
     "output_type": "error",
     "traceback": [
      "\u001b[0;31m---------------------------------------------------------------------------\u001b[0m",
      "\u001b[0;31mTypeError\u001b[0m                                 Traceback (most recent call last)",
      "\u001b[0;32m<ipython-input-38-018bd8a43790>\u001b[0m in \u001b[0;36m<module>\u001b[0;34m\u001b[0m\n\u001b[0;32m----> 1\u001b[0;31m \u001b[0mexecute_script\u001b[0m\u001b[0;34m(\u001b[0m\u001b[0;34m'bash'\u001b[0m\u001b[0;34m,\u001b[0m \u001b[0;34m'\\nwget -O glove.zip https://huggingface.co/stanfordnlp/glove/resolve/main/glove.840B.300d.zip\\n\\n# mirror https://nlp.stanford.edu/data/wordvecs/glove.840B.300d.zip\\n#'\u001b[0m\u001b[0;34m)\u001b[0m\u001b[0;34m\u001b[0m\u001b[0;34m\u001b[0m\u001b[0m\n\u001b[0m",
      "\u001b[0;32m/kernel/lib/python3.7/site-packages/ml_kernel/script_executor.py\u001b[0m in \u001b[0;36mexecute\u001b[0;34m(self, lang, code)\u001b[0m\n\u001b[1;32m     39\u001b[0m             \u001b[0mcode\u001b[0m \u001b[0;34m+=\u001b[0m \u001b[0;34m'\\n'\u001b[0m\u001b[0;34m\u001b[0m\u001b[0;34m\u001b[0m\u001b[0m\n\u001b[1;32m     40\u001b[0m \u001b[0;34m\u001b[0m\u001b[0m\n\u001b[0;32m---> 41\u001b[0;31m         \u001b[0mreturn_code\u001b[0m \u001b[0;34m=\u001b[0m \u001b[0mself\u001b[0m\u001b[0;34m.\u001b[0m\u001b[0mdo_execute\u001b[0m\u001b[0;34m(\u001b[0m\u001b[0mcode\u001b[0m\u001b[0;34m)\u001b[0m\u001b[0;34m\u001b[0m\u001b[0;34m\u001b[0m\u001b[0m\n\u001b[0m\u001b[1;32m     42\u001b[0m         \u001b[0;32mif\u001b[0m \u001b[0mreturn_code\u001b[0m \u001b[0;34m!=\u001b[0m \u001b[0;36m0\u001b[0m\u001b[0;34m:\u001b[0m\u001b[0;34m\u001b[0m\u001b[0;34m\u001b[0m\u001b[0m\n\u001b[1;32m     43\u001b[0m             \u001b[0;32mraise\u001b[0m \u001b[0mException\u001b[0m\u001b[0;34m(\u001b[0m\u001b[0;34m'Process exited with code %d'\u001b[0m \u001b[0;34m%\u001b[0m \u001b[0mreturn_code\u001b[0m\u001b[0;34m)\u001b[0m\u001b[0;34m\u001b[0m\u001b[0;34m\u001b[0m\u001b[0m\n",
      "\u001b[0;32m/kernel/lib/python3.7/site-packages/ml_kernel/script_executor.py\u001b[0m in \u001b[0;36mdo_execute\u001b[0;34m(self, cmd)\u001b[0m\n\u001b[1;32m     13\u001b[0m     \u001b[0;32mdef\u001b[0m \u001b[0mdo_execute\u001b[0m\u001b[0;34m(\u001b[0m\u001b[0mself\u001b[0m\u001b[0;34m,\u001b[0m \u001b[0mcmd\u001b[0m\u001b[0;34m)\u001b[0m\u001b[0;34m:\u001b[0m\u001b[0;34m\u001b[0m\u001b[0;34m\u001b[0m\u001b[0m\n\u001b[1;32m     14\u001b[0m         \u001b[0;31m# push captured streams to intended destination\u001b[0m\u001b[0;34m\u001b[0m\u001b[0;34m\u001b[0m\u001b[0;34m\u001b[0m\u001b[0m\n\u001b[0;32m---> 15\u001b[0;31m         \u001b[0mout\u001b[0m\u001b[0;34m,\u001b[0m \u001b[0merr\u001b[0m\u001b[0;34m,\u001b[0m \u001b[0mp\u001b[0m \u001b[0;34m=\u001b[0m \u001b[0mself\u001b[0m\u001b[0;34m.\u001b[0m\u001b[0m_system\u001b[0m\u001b[0;34m(\u001b[0m\u001b[0mcmd\u001b[0m\u001b[0;34m)\u001b[0m\u001b[0;34m\u001b[0m\u001b[0;34m\u001b[0m\u001b[0m\n\u001b[0m\u001b[1;32m     16\u001b[0m         \u001b[0mprint\u001b[0m\u001b[0;34m(\u001b[0m\u001b[0mout\u001b[0m\u001b[0;34m,\u001b[0m \u001b[0mend\u001b[0m\u001b[0;34m=\u001b[0m\u001b[0;34m\"\"\u001b[0m\u001b[0;34m,\u001b[0m \u001b[0mfile\u001b[0m\u001b[0;34m=\u001b[0m\u001b[0msys\u001b[0m\u001b[0;34m.\u001b[0m\u001b[0mstdout\u001b[0m\u001b[0;34m)\u001b[0m\u001b[0;34m\u001b[0m\u001b[0;34m\u001b[0m\u001b[0m\n\u001b[1;32m     17\u001b[0m         \u001b[0mprint\u001b[0m\u001b[0;34m(\u001b[0m\u001b[0merr\u001b[0m\u001b[0;34m,\u001b[0m \u001b[0mend\u001b[0m\u001b[0;34m=\u001b[0m\u001b[0;34m\"\"\u001b[0m\u001b[0;34m,\u001b[0m \u001b[0mfile\u001b[0m\u001b[0;34m=\u001b[0m\u001b[0msys\u001b[0m\u001b[0;34m.\u001b[0m\u001b[0mstderr\u001b[0m\u001b[0;34m)\u001b[0m\u001b[0;34m\u001b[0m\u001b[0;34m\u001b[0m\u001b[0m\n",
      "\u001b[0;32m/kernel/lib/python3.7/site-packages/IPython/utils/_process_common.py\u001b[0m in \u001b[0;36mget_output_error_code\u001b[0;34m(cmd)\u001b[0m\n\u001b[1;32m    169\u001b[0m     \"\"\"\n\u001b[1;32m    170\u001b[0m \u001b[0;34m\u001b[0m\u001b[0m\n\u001b[0;32m--> 171\u001b[0;31m     \u001b[0mout_err\u001b[0m\u001b[0;34m,\u001b[0m \u001b[0mp\u001b[0m \u001b[0;34m=\u001b[0m \u001b[0mprocess_handler\u001b[0m\u001b[0;34m(\u001b[0m\u001b[0mcmd\u001b[0m\u001b[0;34m,\u001b[0m \u001b[0;32mlambda\u001b[0m \u001b[0mp\u001b[0m\u001b[0;34m:\u001b[0m \u001b[0;34m(\u001b[0m\u001b[0mp\u001b[0m\u001b[0;34m.\u001b[0m\u001b[0mcommunicate\u001b[0m\u001b[0;34m(\u001b[0m\u001b[0;34m)\u001b[0m\u001b[0;34m,\u001b[0m \u001b[0mp\u001b[0m\u001b[0;34m)\u001b[0m\u001b[0;34m)\u001b[0m\u001b[0;34m\u001b[0m\u001b[0;34m\u001b[0m\u001b[0m\n\u001b[0m\u001b[1;32m    172\u001b[0m     \u001b[0;32mif\u001b[0m \u001b[0mout_err\u001b[0m \u001b[0;32mis\u001b[0m \u001b[0;32mNone\u001b[0m\u001b[0;34m:\u001b[0m\u001b[0;34m\u001b[0m\u001b[0;34m\u001b[0m\u001b[0m\n\u001b[1;32m    173\u001b[0m         \u001b[0;32mreturn\u001b[0m \u001b[0;34m''\u001b[0m\u001b[0;34m,\u001b[0m \u001b[0;34m''\u001b[0m\u001b[0;34m,\u001b[0m \u001b[0mp\u001b[0m\u001b[0;34m.\u001b[0m\u001b[0mreturncode\u001b[0m\u001b[0;34m\u001b[0m\u001b[0;34m\u001b[0m\u001b[0m\n",
      "\u001b[0;31mTypeError\u001b[0m: cannot unpack non-iterable NoneType object"
     ]
    }
   ],
   "source": [
    "#!g1.1:bash\n",
    "wget -O glove.zip https://huggingface.co/stanfordnlp/glove/resolve/main/glove.840B.300d.zip\n",
    "\n",
    "# mirror https://nlp.stanford.edu/data/wordvecs/glove.840B.300d.zip"
   ]
  },
  {
   "cell_type": "code",
   "execution_count": 247,
   "metadata": {
    "cellId": "kc4yh5ixd1c7hq1zghf6de"
   },
   "outputs": [
    {
     "name": "stdout",
     "output_type": "stream",
     "text": [
      "total 2.1G\n",
      "   0 datasets\n",
      "2.1G glove.zip\n",
      "128K sem2_nlp_master.ipynb\n",
      "140K sem2_nlp_master_fix.ipynb\n",
      " 44K sem2_nlp_student.ipynb\n"
     ]
    }
   ],
   "source": [
    "#!g1.1:bash\n",
    "ls -sh"
   ]
  },
  {
   "cell_type": "code",
   "execution_count": 248,
   "metadata": {
    "cellId": "3dy67s8kyrlyebrt769e2"
   },
   "outputs": [
    {
     "name": "stdout",
     "output_type": "stream",
     "text": [
      "Archive:  glove.zip\n",
      "  inflating: glove.840B.300d.txt     \n"
     ]
    }
   ],
   "source": [
    "#!g1.1:bash\n",
    "unzip glove.zip"
   ]
  },
  {
   "cell_type": "code",
   "execution_count": 251,
   "metadata": {
    "cellId": "y8j6gcr6v2q1jb7cr7wlh"
   },
   "outputs": [
    {
     "name": "stderr",
     "output_type": "stream",
     "text": [
      "100%|██████████| 2196018/2196018 [03:01<00:00, 12125.30it/s]\n"
     ]
    },
    {
     "name": "stdout",
     "output_type": "stream",
     "text": [
      "Loading Glove Weights\n",
      "64291 words from vocab of size 98636 loaded!\n"
     ]
    }
   ],
   "source": [
    "#!g1.1\n",
    "from tqdm import tqdm as tqdm_\n",
    "\n",
    "np.random.seed(19)\n",
    "\n",
    "# Открываем glove\n",
    "def load_glove_weights(file_path, vocab):\n",
    "    print(\"Loading Glove Weights\")\n",
    "    # Инициализируем веса для всех слов стандартным нормальным распределением\n",
    "    glove_weights = np.random.uniform(0, 1, (len(vocab), 300))\n",
    "    mask_found = np.zeros(len(vocab), dtype=bool)\n",
    "    \n",
    "    with open(file_path, 'r') as f:\n",
    "        for line in tqdm_(f, total=2196018):\n",
    "            line = line.split()\n",
    "            token = ' '.join(line[:-300])\n",
    "            embed = line[-300:]\n",
    "\n",
    "            if token in vocab:\n",
    "                ind = vocab[token]\n",
    "                mask_found[ind] = True\n",
    "                glove_weights[ind, :] = np.array(list(map(float, embed)), dtype=np.float)\n",
    "\n",
    "    print(f\"{mask_found.sum()} words from vocab of size {len(vocab)} loaded!\")\n",
    "\n",
    "    glove_weights[vocab['<pad>']] = np.zeros(300, dtype=np.float)\n",
    "    return glove_weights, mask_found\n",
    "\n",
    "\n",
    "glove_weights, mask_found = load_glove_weights('glove.840B.300d.txt', vocab)"
   ]
  },
  {
   "cell_type": "markdown",
   "metadata": {
    "cellId": "m0t7op29hfbqd4sc598wn"
   },
   "source": [
    "## 3. Составляем модель и пайплайн обучения"
   ]
  },
  {
   "cell_type": "markdown",
   "metadata": {
    "cellId": "smer2qcl8il2srxtxw1d8"
   },
   "source": [
    "### 3.1 Рекуррентная модель"
   ]
  },
  {
   "cell_type": "code",
   "execution_count": 272,
   "metadata": {
    "cellId": "1vcoi3jejz1tqerm6532v"
   },
   "outputs": [],
   "source": [
    "#!g1.1\n",
    "from torch import nn\n",
    "from typing import Any\n",
    "\n",
    "class RecurrentModel(nn.Module):\n",
    "    \"\"\"\n",
    "        Network with recurrent block\n",
    "    \"\"\"\n",
    "    def __init__(\n",
    "        self,\n",
    "        vocab_size: int,\n",
    "        input_size: int,\n",
    "        hidden_size: int,\n",
    "        output_size: int,\n",
    "        rnn_type: Any,\n",
    "        num_layers: int,\n",
    "        bidirectional: bool,\n",
    "        dropout_p: float,\n",
    "        use_glove: bool,\n",
    "        freeze_glove: bool,\n",
    "        reduce: str = 'last',\n",
    "    ):\n",
    "        super(RecurrentModel, self).__init__()\n",
    "        self.rnn_type = rnn_type\n",
    "        D = 2 if bidirectional else 1\n",
    "        self.reduce = reduce\n",
    "        \n",
    "        rnn_types = [nn.RNN, nn.LSTM, nn.GRU]\n",
    "        if rnn_type not in rnn_types:\n",
    "            raise ValueError(f'rnn_cell should be one of {rnn_types}')\n",
    "        \n",
    "        reduce_ways = ['last', 'max', 'mean', 'sum']\n",
    "        assert reduce in reduce_ways, print(f'reduce must be one of {reduce_ways}')\n",
    "        \n",
    "        self.embed = nn.Embedding(num_embeddings=vocab_size, embedding_dim=input_size)\n",
    "        if use_glove is True:\n",
    "            assert input_size == 300, (\n",
    "                \"loaded GloVe embeddings have size 300, change input_size to 300 or do not use GloVe\"\n",
    "            )\n",
    "            self.embed.weight = nn.Parameter(\n",
    "                torch.from_numpy(glove_weights),\n",
    "                requires_grad = (not freeze_glove),\n",
    "            )\n",
    "        \n",
    "        self.rnn_layers = rnn_type(\n",
    "            input_size=input_size,\n",
    "            hidden_size=hidden_size,\n",
    "            num_layers=num_layers,\n",
    "            bidirectional=bidirectional,\n",
    "            dropout=dropout_p,\n",
    "            batch_first=True,\n",
    "        )\n",
    "        \n",
    "        self.to_class = nn.Linear(hidden_size * D, output_size)\n",
    "        self.logsoftmax = nn.LogSoftmax(dim=1)\n",
    "        \n",
    "        \n",
    "    def forward(self, texts):\n",
    "        texts = self.embed(texts)\n",
    "        \n",
    "        if self.rnn_type == nn.LSTM:\n",
    "            output, (hn, cn) = self.rnn_layers(texts)\n",
    "        else:\n",
    "            output, hn = self.rnn_layers(texts)\n",
    "        \n",
    "        if self.reduce == 'last':\n",
    "            output = output[:, -1, :]\n",
    "        elif self.reduce == 'mean':\n",
    "            output = output.mean(1)\n",
    "        elif self.reduce == 'max':\n",
    "            output = output.max(1)\n",
    "        elif self.reduce == 'sum':\n",
    "            output = output.sum(1)\n",
    "        \n",
    "        return self.logsoftmax(self.to_class(output))"
   ]
  },
  {
   "cell_type": "code",
   "execution_count": 280,
   "metadata": {
    "cellId": "zoiba60mdrsbuoqzr3os2"
   },
   "outputs": [
    {
     "name": "stdout",
     "output_type": "stream",
     "text": [
      "Model:\n",
      "RecurrentModel(\n",
      "  (embed): Embedding(98636, 300)\n",
      "  (rnn_layers): RNN(300, 100, num_layers=3, batch_first=True, dropout=0.3, bidirectional=True)\n",
      "  (to_class): Linear(in_features=200, out_features=4, bias=True)\n",
      "  (logsoftmax): LogSoftmax(dim=1)\n",
      ")\n",
      "\n",
      "Input shape: torch.Size([16, 59])\n",
      "Output shape: torch.Size([16, 4])\n",
      "\n",
      "Checking that returned probabilities (all sums must be close to 1)\n",
      "[1.         1.0000001  0.9999999  0.9999999  0.99999994 1.\n",
      " 1.         1.         0.99999994 1.         1.0000001  1.\n",
      " 1.         1.         1.         1.0000001 ]\n"
     ]
    }
   ],
   "source": [
    "#!g1.1\n",
    "hashing_trick_size = None\n",
    "\n",
    "if hashing_trick_size == None:\n",
    "    hashing_trick_size = len(vocab)\n",
    "\n",
    "model_rnn = RecurrentModel(\n",
    "    vocab_size = hashing_trick_size,\n",
    "    input_size = 300,\n",
    "    hidden_size = 100,\n",
    "    output_size = num_classes[chosen_dataset],\n",
    "    rnn_type = nn.RNN,\n",
    "    num_layers = 3,\n",
    "    bidirectional = True,\n",
    "    dropout_p = 0.3,\n",
    "    reduce = 'mean',\n",
    "    use_glove = True,\n",
    "    freeze_glove = True,\n",
    ").float()\n",
    "\n",
    "print('Model:', model_rnn, sep='\\n')\n",
    "\n",
    "labels_batch, texts_batch = next(iter(dataloaders_pad['train'][chosen_dataset]))\n",
    "\n",
    "print(f'\\nInput shape: {texts_batch.shape}')\n",
    "out = model_rnn(texts_batch % hashing_trick_size)\n",
    "print(f'Output shape: {out.shape}')\n",
    "\n",
    "print(f'\\nChecking that returned probabilities (all sums must be close to 1)',\n",
    "      out.exp().sum(-1).detach().numpy(), sep='\\n')"
   ]
  },
  {
   "cell_type": "code",
   "execution_count": 281,
   "metadata": {
    "cellId": "q4eukdc1c2moaazvxqo8i"
   },
   "outputs": [
    {
     "name": "stdout",
     "output_type": "stream",
     "text": [
      "embed.weight                    ~  29590800 params ~ grad: False\n",
      "rnn_layers.weight_ih_l0         ~  30000    params ~ grad: True\n",
      "rnn_layers.weight_hh_l0         ~  10000    params ~ grad: True\n",
      "rnn_layers.bias_ih_l0           ~  100      params ~ grad: True\n",
      "rnn_layers.bias_hh_l0           ~  100      params ~ grad: True\n",
      "rnn_layers.weight_ih_l0_reverse ~  30000    params ~ grad: True\n",
      "rnn_layers.weight_hh_l0_reverse ~  10000    params ~ grad: True\n",
      "rnn_layers.bias_ih_l0_reverse   ~  100      params ~ grad: True\n",
      "rnn_layers.bias_hh_l0_reverse   ~  100      params ~ grad: True\n",
      "rnn_layers.weight_ih_l1         ~  20000    params ~ grad: True\n",
      "rnn_layers.weight_hh_l1         ~  10000    params ~ grad: True\n",
      "rnn_layers.bias_ih_l1           ~  100      params ~ grad: True\n",
      "rnn_layers.bias_hh_l1           ~  100      params ~ grad: True\n",
      "rnn_layers.weight_ih_l1_reverse ~  20000    params ~ grad: True\n",
      "rnn_layers.weight_hh_l1_reverse ~  10000    params ~ grad: True\n",
      "rnn_layers.bias_ih_l1_reverse   ~  100      params ~ grad: True\n",
      "rnn_layers.bias_hh_l1_reverse   ~  100      params ~ grad: True\n",
      "rnn_layers.weight_ih_l2         ~  20000    params ~ grad: True\n",
      "rnn_layers.weight_hh_l2         ~  10000    params ~ grad: True\n",
      "rnn_layers.bias_ih_l2           ~  100      params ~ grad: True\n",
      "rnn_layers.bias_hh_l2           ~  100      params ~ grad: True\n",
      "rnn_layers.weight_ih_l2_reverse ~  20000    params ~ grad: True\n",
      "rnn_layers.weight_hh_l2_reverse ~  10000    params ~ grad: True\n",
      "rnn_layers.bias_ih_l2_reverse   ~  100      params ~ grad: True\n",
      "rnn_layers.bias_hh_l2_reverse   ~  100      params ~ grad: True\n",
      "to_class.weight                 ~  800      params ~ grad: True\n",
      "to_class.bias                   ~  4        params ~ grad: True\n",
      "\n",
      "In total:\n",
      "  - 29792804 params\n",
      "  - 202004 learnable params\n"
     ]
    }
   ],
   "source": [
    "#!g1.1\n",
    "# Counting how many parameters does our model have\n",
    "def model_num_params(model):\n",
    "    sum_params = 0\n",
    "    sum_learnable_params = 0\n",
    "    for param in model.named_parameters():\n",
    "        num_params = np.prod(param[1].shape)\n",
    "        print(\n",
    "            '{: <31} ~  {: <8} params ~ grad: {}'.format(\n",
    "                param[0],\n",
    "                num_params,\n",
    "                param[1].requires_grad,\n",
    "            )\n",
    "        )\n",
    "        sum_params += num_params\n",
    "        if param[1].requires_grad:\n",
    "            sum_learnable_params += num_params\n",
    "    print(\n",
    "        f'\\nIn total:\\n  - {sum_params} params\\n  - {sum_learnable_params} learnable params'\n",
    "    )\n",
    "    return sum_params\n",
    "\n",
    "sum_params = model_num_params(model_rnn)"
   ]
  },
  {
   "cell_type": "code",
   "execution_count": 282,
   "metadata": {
    "cellId": "0qex2fh8v1gtq1ps267wcm"
   },
   "outputs": [],
   "source": [
    "#!g1.1\n",
    "del model_rnn"
   ]
  },
  {
   "cell_type": "code",
   "execution_count": 283,
   "metadata": {
    "cellId": "y9bhvr8zgbicteobk7kf"
   },
   "outputs": [
    {
     "name": "stdout",
     "output_type": "stream",
     "text": [
      "Model:\n",
      "RecurrentModel(\n",
      "  (embed): Embedding(98636, 300)\n",
      "  (rnn_layers): LSTM(300, 100, num_layers=3, batch_first=True, dropout=0.3)\n",
      "  (to_class): Linear(in_features=100, out_features=4, bias=True)\n",
      "  (logsoftmax): LogSoftmax(dim=1)\n",
      ")\n",
      "\n",
      "Input shape: torch.Size([16, 56])\n",
      "Output shape: torch.Size([16, 4])\n",
      "\n",
      "Checking that returned probabilities (all sums must be close to 1)\n",
      "[0.99999994 0.9999999  1.0000001  1.0000001  1.         1.\n",
      " 0.99999994 1.         1.         0.99999994 1.0000001  1.\n",
      " 1.         1.0000001  1.         1.        ]\n"
     ]
    }
   ],
   "source": [
    "#!g1.1\n",
    "model_lstm = RecurrentModel(\n",
    "    vocab_size = hashing_trick_size,\n",
    "    input_size = 300,\n",
    "    hidden_size = 100,\n",
    "    output_size = num_classes[chosen_dataset],\n",
    "    rnn_type = nn.LSTM,\n",
    "    num_layers = 3,\n",
    "    bidirectional = False,\n",
    "    dropout_p = 0.3,\n",
    "    reduce = 'last',\n",
    "    use_glove = True,\n",
    "    freeze_glove = True,\n",
    ").float()\n",
    "\n",
    "print('Model:', model_lstm, sep='\\n')\n",
    "\n",
    "labels_batch, texts_batch = next(iter(dataloaders_pad['train'][chosen_dataset]))\n",
    "\n",
    "print(f'\\nInput shape: {texts_batch.shape}')\n",
    "out = model_lstm(texts_batch % hashing_trick_size)\n",
    "print(f'Output shape: {out.shape}')\n",
    "\n",
    "print(f'\\nChecking that returned probabilities (all sums must be close to 1)',\n",
    "      out.exp().sum(-1).detach().numpy(), sep='\\n')"
   ]
  },
  {
   "cell_type": "code",
   "execution_count": 284,
   "metadata": {
    "cellId": "rn4upr4x64k459kjwo7dhn"
   },
   "outputs": [
    {
     "name": "stdout",
     "output_type": "stream",
     "text": [
      "embed.weight                    ~  29590800 params ~ grad: False\n",
      "rnn_layers.weight_ih_l0         ~  120000   params ~ grad: True\n",
      "rnn_layers.weight_hh_l0         ~  40000    params ~ grad: True\n",
      "rnn_layers.bias_ih_l0           ~  400      params ~ grad: True\n",
      "rnn_layers.bias_hh_l0           ~  400      params ~ grad: True\n",
      "rnn_layers.weight_ih_l1         ~  40000    params ~ grad: True\n",
      "rnn_layers.weight_hh_l1         ~  40000    params ~ grad: True\n",
      "rnn_layers.bias_ih_l1           ~  400      params ~ grad: True\n",
      "rnn_layers.bias_hh_l1           ~  400      params ~ grad: True\n",
      "rnn_layers.weight_ih_l2         ~  40000    params ~ grad: True\n",
      "rnn_layers.weight_hh_l2         ~  40000    params ~ grad: True\n",
      "rnn_layers.bias_ih_l2           ~  400      params ~ grad: True\n",
      "rnn_layers.bias_hh_l2           ~  400      params ~ grad: True\n",
      "to_class.weight                 ~  400      params ~ grad: True\n",
      "to_class.bias                   ~  4        params ~ grad: True\n",
      "\n",
      "In total:\n",
      "  - 29913604 params\n",
      "  - 322804 learnable params\n"
     ]
    }
   ],
   "source": [
    "#!g1.1\n",
    "sum_params = model_num_params(model_lstm)"
   ]
  },
  {
   "cell_type": "code",
   "execution_count": 285,
   "metadata": {
    "cellId": "zrxiy1r6qju8yi96xzqhl"
   },
   "outputs": [],
   "source": [
    "#!g1.1\n",
    "del model_lstm"
   ]
  },
  {
   "cell_type": "markdown",
   "metadata": {
    "cellId": "e3tnv1hmdauc97z93yr4pa"
   },
   "source": [
    "### 3.2 Оптимизатор"
   ]
  },
  {
   "cell_type": "code",
   "execution_count": 286,
   "metadata": {
    "cellId": "2wo852vblq6kt52w2fyti"
   },
   "outputs": [],
   "source": [
    "#!g1.1\n",
    "device = torch.device('cuda:0') if torch.cuda.is_available() else torch.device('cpu')\n",
    "\n",
    "def create_model_and_optimizer(model_class, model_params, lr=1e-3, beta1=0.9, beta2=0.999, device=device):\n",
    "    model = model_class(**model_params).float()\n",
    "    model = model.to(device)\n",
    "    \n",
    "    optimizer = torch.optim.Adam(model.parameters(), lr, [beta1, beta2])\n",
    "    return model, optimizer"
   ]
  },
  {
   "cell_type": "code",
   "execution_count": 287,
   "metadata": {
    "cellId": "b8og48h2fe9kin5xu4n7li"
   },
   "outputs": [],
   "source": [
    "#!g1.1\n",
    "hashing_trick_size = None\n",
    "\n",
    "model_params = {\n",
    "    'vocab_size': hashing_trick_size if hashing_trick_size is not None else len(vocab),\n",
    "    'input_size': 300,\n",
    "    'hidden_size': 100,\n",
    "    'output_size': num_classes[chosen_dataset],\n",
    "    'rnn_type': nn.RNN,\n",
    "    'num_layers': 3,\n",
    "    'bidirectional': True,\n",
    "    'dropout_p': 0.3,\n",
    "    'reduce': 'mean',\n",
    "    'use_glove': True,\n",
    "    'freeze_glove': True,\n",
    "}\n",
    "\n",
    "model, optimizer = create_model_and_optimizer(\n",
    "    model_class = RecurrentModel, \n",
    "    model_params = model_params,\n",
    "    lr = 1e-3,\n",
    ")"
   ]
  },
  {
   "cell_type": "markdown",
   "metadata": {
    "cellId": "vxowvzafngmhcn2sxy2ea",
    "execution_id": "3da4765d-7188-4f0f-bc69-b0947aa4592c"
   },
   "source": [
    "### 3.3 Обучение/валидация одной эпохи"
   ]
  },
  {
   "cell_type": "code",
   "execution_count": 293,
   "metadata": {
    "cellId": "hniud7z2vh5k4aqozue3xh"
   },
   "outputs": [],
   "source": [
    "#!g1.1\n",
    "import torch.nn.functional as F\n",
    "from tqdm.notebook import tqdm\n",
    "\n",
    "criterion = nn.NLLLoss()\n",
    "\n",
    "def train(model, optimizer, loader, criterion, ht=None):\n",
    "    model.train()\n",
    "    losses_tr = []\n",
    "    for labels, texts in tqdm(loader):\n",
    "        labels = labels.to(device)\n",
    "        texts = texts.to(device)\n",
    "        \n",
    "        optimizer.zero_grad()\n",
    "        out = model(texts % ht if ht is not None else texts)\n",
    "        loss = criterion(out, labels)\n",
    "        \n",
    "        loss.backward()\n",
    "        optimizer.step()\n",
    "        losses_tr.append(loss.item()) \n",
    "    \n",
    "    return model, optimizer, np.mean(losses_tr)\n",
    "\n",
    "def val(model, loader, criterion, ht=None):\n",
    "    model.eval()\n",
    "    losses_val = []\n",
    "    with torch.no_grad():\n",
    "        for labels, texts in tqdm(loader):\n",
    "            labels = labels.to(device)\n",
    "            texts = texts.to(device)\n",
    "            out = model(texts % ht if ht is not None else texts)\n",
    "            loss = criterion(out, labels)\n",
    "\n",
    "            losses_val.append(loss.item())\n",
    "    \n",
    "    return np.mean(losses_val)"
   ]
  },
  {
   "cell_type": "markdown",
   "metadata": {
    "cellId": "dx4pvmfciqgbbw0wb2dffq",
    "execution_id": "fd5c2919-66ce-44c8-b12c-dc59a81202c5"
   },
   "source": [
    "### 3.4 Цикл обучения"
   ]
  },
  {
   "cell_type": "code",
   "execution_count": 294,
   "metadata": {
    "cellId": "ub1juqtda9s0v9m86pfa84l"
   },
   "outputs": [],
   "source": [
    "#!g1.1\n",
    "from IPython.display import clear_output\n",
    "from tqdm.notebook import trange\n",
    "import matplotlib.pyplot as plt\n",
    "%matplotlib inline\n",
    "\n",
    "\n",
    "def get_lr(optimizer):\n",
    "    for param_group in optimizer.param_groups:\n",
    "        return param_group['lr']\n",
    "    \n",
    "\n",
    "def learning_loop(\n",
    "    model,\n",
    "    optimizer,\n",
    "    train_loader,\n",
    "    val_loader,\n",
    "    criterion,\n",
    "    scheduler=None,\n",
    "    min_lr=None,\n",
    "    epochs=10,\n",
    "    val_every=1,\n",
    "    draw_every=1,\n",
    "    separate_show=False,\n",
    "    hashing_trick_size=None,\n",
    "):\n",
    "    losses = {'train': [], 'val': []}\n",
    "\n",
    "    for epoch in range(1, epochs+1):\n",
    "        print(f'#{epoch}/{epochs}:')\n",
    "        model, optimizer, loss = train(\n",
    "            model,\n",
    "            optimizer,\n",
    "            train_loader,\n",
    "            criterion,\n",
    "            hashing_trick_size,\n",
    "        )\n",
    "        losses['train'].append(loss)\n",
    "\n",
    "        if not (epoch % val_every):\n",
    "            loss = val(model, val_loader, criterion, hashing_trick_size)\n",
    "            losses['val'].append(loss)\n",
    "            if scheduler:\n",
    "                scheduler.step(loss)\n",
    "\n",
    "        if not (epoch % draw_every):\n",
    "            clear_output(True)\n",
    "            fig, ax = plt.subplots(1, 2 if separate_show else 1, figsize=(20, 10))\n",
    "            fig.suptitle(f'#{epoch}/{epochs}:')\n",
    "\n",
    "            if separate_show:\n",
    "                plt.subplot(121)\n",
    "                plt.title('loss on train')\n",
    "            plt.plot(losses['train'], 'r.-', label='train')\n",
    "            plt.legend()\n",
    "\n",
    "            if separate_show:\n",
    "                plt.subplot(122)\n",
    "                plt.title('loss on validation')\n",
    "            else:\n",
    "                plt.title('losses')\n",
    "            plt.plot(losses['val'], 'g.-', label='val')\n",
    "            plt.legend()\n",
    "            \n",
    "            plt.show()\n",
    "        \n",
    "        if min_lr and get_lr(optimizer) <= min_lr:\n",
    "            print(f'Learning process ended with early stop after epoch {epoch}')\n",
    "            break\n",
    "    \n",
    "    return model, optimizer, losses"
   ]
  },
  {
   "cell_type": "markdown",
   "metadata": {
    "cellId": "5famw0ztk3jt3kxck585s9",
    "execution_id": "8a9947c8-c57b-4ee1-b2f9-61506837bc4b"
   },
   "source": [
    "### 3.5 Обучаем модели"
   ]
  },
  {
   "cell_type": "code",
   "execution_count": 295,
   "metadata": {
    "cellId": "xg7g7g8aqjq8v8taotsozj"
   },
   "outputs": [],
   "source": [
    "#!g1.1\n",
    "model_params = dict()\n",
    "model = dict()\n",
    "optimizer = dict()\n",
    "scheduler = dict()\n",
    "criterion = dict()\n",
    "losses = dict()"
   ]
  },
  {
   "cell_type": "code",
   "execution_count": 296,
   "metadata": {
    "cellId": "2axk8c12vcbm6po8c61n2"
   },
   "outputs": [
    {
     "data": {
      "image/png": "[encoded data removed]",
      "text/plain": [
       "<Figure size 1440x720 with 1 Axes>"
      ]
     },
     "metadata": {
      "needs_background": "light"
     },
     "output_type": "display_data"
    },
    {
     "name": "stdout",
     "output_type": "stream",
     "text": [
      "Learning process ended with early stop after epoch 29\n",
      "CPU times: user 57min 6s, sys: 2min 55s, total: 1h 2s\n",
      "Wall time: 58min 30s\n"
     ]
    }
   ],
   "source": [
    "#!g1.1\n",
    "%%time\n",
    "\n",
    "model_type = 'bi-rnn'\n",
    "\n",
    "device = torch.device('cuda:0') if torch.cuda.is_available() else torch.device('cpu')\n",
    "\n",
    "hashing_trick_size = None\n",
    "\n",
    "model_params[model_type] = {\n",
    "    'vocab_size': hashing_trick_size if hashing_trick_size is not None else len(vocab),\n",
    "    'input_size': 300,\n",
    "    'hidden_size': 20,\n",
    "    'output_size': num_classes[chosen_dataset],\n",
    "    'rnn_type': nn.RNN,\n",
    "    'num_layers': 2,\n",
    "    'bidirectional': True,\n",
    "    'dropout_p': 0.3,\n",
    "    'reduce': 'mean',\n",
    "    'use_glove': True,\n",
    "    'freeze_glove': True,\n",
    "}\n",
    "\n",
    "model[model_type], optimizer[model_type] = create_model_and_optimizer(\n",
    "    model_class = RecurrentModel, \n",
    "    model_params = model_params[model_type],\n",
    "    lr = 5e-4,\n",
    "    device = device,\n",
    ")\n",
    "\n",
    "scheduler[model_type] = torch.optim.lr_scheduler.ReduceLROnPlateau(\n",
    "    optimizer[model_type],\n",
    "    mode='min',\n",
    "    factor=0.25,\n",
    "    patience=4,\n",
    "    threshold=0.001,\n",
    "    verbose=True\n",
    ")\n",
    "\n",
    "criterion[model_type] = nn.NLLLoss()\n",
    "\n",
    "model[model_type], optimizer[model_type], losses[model_type] = learning_loop(\n",
    "    model = model[model_type],\n",
    "    optimizer = optimizer[model_type],\n",
    "    train_loader = dataloaders_pad['train'][chosen_dataset],\n",
    "    val_loader = dataloaders_pad['test'][chosen_dataset],\n",
    "    criterion = criterion[model_type],\n",
    "    scheduler = scheduler[model_type],\n",
    "    epochs = 200,\n",
    "    min_lr = 2e-6,\n",
    "    hashing_trick_size = hashing_trick_size,\n",
    ")\n",
    "\n",
    "# if device != 'cpu':\n",
    "#     model[model_type] = model[model_type].to('cpu')"
   ]
  },
  {
   "cell_type": "code",
   "execution_count": 167,
   "metadata": {
    "cellId": "azugm9jitkg8sd5ianivo"
   },
   "outputs": [],
   "source": [
    "#!g1.1\n",
    "# %whos"
   ]
  },
  {
   "cell_type": "markdown",
   "metadata": {
    "cellId": "n9lqyb7z63k3swod3aydt8",
    "execution_id": "b7674e51-56e6-43f2-ae53-b8c3fc448d08"
   },
   "source": [
    "### 3.6 Протестируем что получилось"
   ]
  },
  {
   "cell_type": "code",
   "execution_count": 308,
   "metadata": {
    "cellId": "mswtxmuuscqpdd4t3356e"
   },
   "outputs": [],
   "source": [
    "#!g1.1\n",
    "model_type = 'bi-rnn'\n",
    "\n",
    "# for AG_NEWS for example ~ search for others labels if needed\n",
    "true_labels = ['World', 'Sports', 'Business', 'Sci/Tech']\n",
    "\n",
    "def predict(text):\n",
    "    processed_text = text_pipeline(text)\n",
    "    processed_text = [processed_text + [pad_id] * (max_ - len(processed_text))]\n",
    "    text_tensor = torch.tensor(processed_text, dtype=torch.int64)\n",
    "    if hashing_trick_size is not None:\n",
    "        text_tensor = text_tensor % hashing_trick_size\n",
    "\n",
    "    with torch.no_grad():\n",
    "        probs = model[model_type](text_tensor.to(device)).exp().detach().cpu().numpy()[0]\n",
    "        print(f\"Text:\\n    '{text}'\\n\")\n",
    "        for p, l in zip(probs, true_labels):\n",
    "            print(f\"{l} ~ {p}\")\n",
    "        \n",
    "    return [(p, l) for p, l in zip(probs, true_labels)]"
   ]
  },
  {
   "cell_type": "code",
   "execution_count": 309,
   "metadata": {
    "cellId": "2cw2erhcbu7t2li12b43eo"
   },
   "outputs": [
    {
     "name": "stdout",
     "output_type": "stream",
     "text": [
      "Text:\n",
      "    'Apple will release it's new Iphone this weekend! What a great news!'\n",
      "\n",
      "World ~ 0.17128883302211761\n",
      "Sports ~ 0.10878156870603561\n",
      "Business ~ 0.25684645771980286\n",
      "Sci/Tech ~ 0.4630831182003021\n"
     ]
    }
   ],
   "source": [
    "#!g1.1\n",
    "import warnings\n",
    "warnings.filterwarnings('ignore')\n",
    "\n",
    "text = \"\"\"Apple will release it's new Iphone this weekend! What a great news!\"\"\"\n",
    "\n",
    "_ = predict(text)"
   ]
  },
  {
   "cell_type": "code",
   "execution_count": 310,
   "metadata": {
    "cellId": "44mjynk0q7gwpfiyq03kad"
   },
   "outputs": [
    {
     "name": "stdout",
     "output_type": "stream",
     "text": [
      "Text:\n",
      "    'Today, at grand arena, lions ones again claimed victory over tigers and gained the title of the world champions!'\n",
      "\n",
      "World ~ 0.11289855092763901\n",
      "Sports ~ 0.7539350986480713\n",
      "Business ~ 0.06165214255452156\n",
      "Sci/Tech ~ 0.07151422649621964\n"
     ]
    }
   ],
   "source": [
    "#!g1.1\n",
    "text = \"\"\"Today, at grand arena, lions ones again claimed victory over tigers and gained the title of the world champions!\"\"\"\n",
    "\n",
    "_ = predict(text)"
   ]
  },
  {
   "cell_type": "code",
   "execution_count": 335,
   "metadata": {
    "cellId": "y77gpythujauriblpf0aaa"
   },
   "outputs": [],
   "source": [
    "#!g1.1\n",
    "def real_confusion_matrix(model, val_loader, class_labels, use_probs=False, normalize=True):\n",
    "    with torch.no_grad():\n",
    "        n_classes = len(class_labels)\n",
    "        conf_matrix = np.zeros((n_classes, n_classes))\n",
    "        for i, (labels, texts) in enumerate(tqdm(val_loader)):\n",
    "            probs = model(texts.to(device)).exp()\n",
    "            if use_probs:\n",
    "                for j in range(texts.shape[0]):\n",
    "                    for c in range(n_classes):\n",
    "                        conf_matrix[labels[j].item(), c] += probs[j,c]\n",
    "            else:\n",
    "                _, pred_classes = torch.max(probs, 1)\n",
    "                for j in range(texts.shape[0]):\n",
    "                    conf_matrix[labels[j].item(), pred_classes[j].item()] += 1.\n",
    "        \n",
    "        if normalize:\n",
    "            conf_matrix /= conf_matrix.sum(1)\n",
    "        \n",
    "        fig = plt.figure(figsize=(18, 10))\n",
    "        fig.suptitle(f'Confusion matrix (norm={normalize}, use_probs={use_probs})')\n",
    "        ax = fig.add_subplot(111)\n",
    "        cax = ax.matshow(conf_matrix)\n",
    "        fig.colorbar(cax)\n",
    "        \n",
    "        @plt.FuncFormatter\n",
    "        def fake_labels(x, pos):\n",
    "            return class_labels[(int(x))] if x < len(class_labels) else \"@\"\n",
    "        \n",
    "        ax.xaxis.set_major_formatter(fake_labels)\n",
    "        ax.set_xlabel('predicted class')\n",
    "#         ax.xaxis.set_major_formatter(\"\")\n",
    "#         secax = ax.secondary_xaxis('top')\n",
    "#         secax.xaxis.set_ticks(list(range(len(class_labels))))\n",
    "#         secax.xaxis.set_ticklabels(class_labels)\n",
    "#         secax.set_xlabel('predicted class')\n",
    "        \n",
    "        ax.yaxis.set_ticks(list(range(len(class_labels))))\n",
    "        ax.yaxis.set_ticklabels(class_labels)\n",
    "        ax.set_ylabel('true class')\n",
    "        \n",
    "        \n",
    "        for x in range(conf_matrix.shape[0]):\n",
    "            for y in range(conf_matrix.shape[1]):\n",
    "                ax.text(x, y, round(conf_matrix[x,y], 4), va='center', ha='center')\n",
    "        \n",
    "        \n",
    "        plt.show()\n",
    "        \n",
    "        return conf_matrix"
   ]
  },
  {
   "cell_type": "code",
   "execution_count": 336,
   "metadata": {
    "cellId": "pjae2lxfa5vjj1jolfevp"
   },
   "outputs": [
    {
     "data": {
      "application/vnd.jupyter.widget-view+json": {
       "model_id": "a148a23d6db6436a9af4d6a8b9708afc",
       "version_major": 2,
       "version_minor": 0
      },
      "text/plain": [
       "HBox(children=(HTML(value=''), FloatProgress(value=0.0, max=475.0), HTML(value='')))"
      ]
     },
     "metadata": {},
     "output_type": "display_data"
    },
    {
     "name": "stdout",
     "output_type": "stream",
     "text": [
      "\n"
     ]
    },
    {
     "data": {
      "image/png": "[encoded data removed]",
      "text/plain": [
       "<Figure size 1296x720 with 2 Axes>"
      ]
     },
     "metadata": {
      "needs_background": "light"
     },
     "output_type": "display_data"
    }
   ],
   "source": [
    "#!g1.1\n",
    "pcm = real_confusion_matrix(\n",
    "    model[model_type],\n",
    "    dataloaders_pad[\"test\"][chosen_dataset],\n",
    "    true_labels,\n",
    "    use_probs=True,\n",
    "    normalize=True,\n",
    ")"
   ]
  },
  {
   "cell_type": "code",
   "execution_count": 337,
   "metadata": {
    "cellId": "xgz2oqa688fsd2ct0ovc8f"
   },
   "outputs": [
    {
     "data": {
      "application/vnd.jupyter.widget-view+json": {
       "model_id": "9e0f023270804d24a2867e75312d9824",
       "version_major": 2,
       "version_minor": 0
      },
      "text/plain": [
       "HBox(children=(HTML(value=''), FloatProgress(value=0.0, max=475.0), HTML(value='')))"
      ]
     },
     "metadata": {},
     "output_type": "display_data"
    },
    {
     "name": "stdout",
     "output_type": "stream",
     "text": [
      "\n"
     ]
    },
    {
     "data": {
      "image/png": "[encoded data removed]",
      "text/plain": [
       "<Figure size 1296x720 with 2 Axes>"
      ]
     },
     "metadata": {
      "needs_background": "light"
     },
     "output_type": "display_data"
    }
   ],
   "source": [
    "#!g1.1\n",
    "pcm = real_confusion_matrix(\n",
    "    model[model_type],\n",
    "    dataloaders_pad[\"test\"][chosen_dataset],\n",
    "    true_labels,\n",
    "    use_probs=False,\n",
    "    normalize=True,\n",
    ")"
   ]
  },
  {
   "cell_type": "markdown",
   "metadata": {
    "cellId": "v540o4tsnoe4b5amxrejbc",
    "execution_id": "8a6fac40-6947-4ba8-aaaf-a30a220d6b65"
   },
   "source": [
    "## 4. Эмбеддинги"
   ]
  },
  {
   "cell_type": "markdown",
   "metadata": {
    "cellId": "njj8olbmsh2zip8t2698n"
   },
   "source": [
    "### 4.1 Word2Vec"
   ]
  },
  {
   "cell_type": "markdown",
   "metadata": {
    "cellId": "d80ux4ieczaq65gjry9gpn",
    "execution_id": "79f3897d-a3c5-4188-a48a-be8006f5096e"
   },
   "source": [
    "Идея алгоритма простая: обучим не рекуррентную нейросеть на нахождение связи между словом и контекстом, в котором оно встречается в корпусе.\n",
    "\n",
    "Все тексты токенезируются, затем берётся окно фиксированного размера и для кажджого текста проводят обучение на каждой из возможных позиций центра и окна. Далее, внутреннее представление модели для данного слова в центре - и есть его эмбеддинг.\n",
    "\n",
    "Есть два алгоритма, относящиеся к Word2Vec:\n",
    "\n",
    "1. **CBow** (Continuous Bag of Words) - предсказания слова по контексту\n",
    "\n",
    "<img src=\"https://amitness.com/images/nlp-ssl-center-word-prediction.gif\" alt=\"CBow\" width=\"90%\"/>\n",
    "\n",
    "\n",
    "2. **Skip-gram** - предсказание контекста по слову\n",
    "\n",
    "<img src=\"https://amitness.com/images/nlp-ssl-neighbor-word-prediction.gif\" alt=\"Skip-gram\" width=\"90%\"/>"
   ]
  },
  {
   "cell_type": "markdown",
   "metadata": {
    "cellId": "9ynozkfzcvj5g6042pzp96",
    "execution_id": "142bd094-3a90-4d02-9247-78686289369d"
   },
   "source": [
    "<img src=\"https://img-blog.csdnimg.cn/20190903155003926.png?x-oss-process=image/watermark,type_ZmFuZ3poZW5naGVpdGk,shadow_10,text_aHR0cHM6Ly9ibG9nLmNzZG4ubmV0L2NoZW54aW52aGFpODk=,size_16,color_FFFFFF,t_70\" alt=\"word2vec\" width=\"95%\"/>"
   ]
  },
  {
   "cell_type": "markdown",
   "metadata": {
    "cellId": "3s9n1527g583uft4junx2"
   },
   "source": [
    "**Плюсы:**\n",
    "- Похожие по контексту слова оказываются похожди в пространстве эмбеддингов\n",
    "- Смысловые зависимости между словами сохраняются при математических операциях\n",
    "<img src=\"https://habrastorage.org/r/w1560/getpro/habr/post_images/d61/30b/d45/d6130bd4502710631a8c812923230f47.png\" alt=\"word2vec\" width=\"80%\"/>\n",
    "<img src=\"https://amitness.com/images/word2vec-analogy.gif\" alt=\"word2vec\" width=\"80%\"/>\n",
    "<img src=\"https://habrastorage.org/r/w1560/getpro/habr/post_images/a19/84b/fea/a1984bfeab5a597c6fb6300f7d694901.png\" alt=\"word2vec\" width=\"80%\"/>\n",
    "\n",
    "**Минусы:**\n",
    "- Плохо справляется со словами вне словаря. К примеру, если в текстах корпуса встречались достаточно часто слова 'tensor' и 'flow', но не встречался 'tensorflow', то модель пометит последний как просто '\\<unk\\>'\n",
    "- Никак не переиспользует параметры для слов с общими корнями (к пр. 'eat', 'eats', 'eaten', 'eater', 'eating') - для модели это просто разные слова и каждое из них учится отдельно из контекста, тогда как слова сильно завязаны по смыслу."
   ]
  },
  {
   "cell_type": "markdown",
   "metadata": {
    "cellId": "7xlg5p2zke3fsfsi5hoa1"
   },
   "source": [
    "### 4.2 GloVe"
   ]
  },
  {
   "cell_type": "markdown",
   "metadata": {
    "cellId": "4qj21hh4tj4w9v8tjlc9z"
   },
   "source": [
    "**GloVe** (Global vectors) - нечто среднее между word2vec и SVD разложением.\n",
    "\n",
    "Модель GloVe пытается решить проблему эффективного использования статистики совпадений. GloVe минимизирует разницу между произведением векторов слов и логарифмом вероятности их совместного появления с помощью SGD."
   ]
  },
  {
   "cell_type": "markdown",
   "metadata": {
    "cellId": "i4ey8juw828v3svmxvy0p"
   },
   "source": [
    "### 4.3 FastText"
   ]
  },
  {
   "cell_type": "markdown",
   "metadata": {
    "cellId": "z1ilza0p3p3auhvgm3apn"
   },
   "source": [
    "Идея алгоритма следующая: будем обучать word2vec, но не над словами, а над буквенными n-gram-ами\n",
    "\n",
    "Берём каждое слово, добавляем к нему <...>, чтобы обозначать границы слова.\n",
    "\n",
    "Дальше бьём каждое слово на n-gram-мы фиксированного размера."
   ]
  },
  {
   "cell_type": "markdown",
   "metadata": {
    "cellId": "yo0qg3ra2excxmejg87x"
   },
   "source": [
    "<table>\n",
    "<thead>\n",
    "<tr><th>Слово</th><th>n-gram</th><th>Разбиение</th></tr>\n",
    "</thead>\n",
    "<tbody>\n",
    "<tr><td>eating</td><td>3</td><td>&lt;ea, eat, ati, tin, ing, ng&gt;</td></tr>\n",
    "<tr><td>eating</td><td>4</td><td>&lt;eat, eati, atin, ting, ing&gt;</td></tr>\n",
    "<tr><td>eating</td><td>5</td><td>&lt;eati, eatin, ating, ting&gt;</td></tr>\n",
    "<tr><td>eating</td><td>6</td><td>&lt;eatin, eating, ating&gt;</td></tr>\n",
    "</tbody>\n",
    "<\\table>"
   ]
  },
  {
   "cell_type": "markdown",
   "metadata": {
    "cellId": "vy21gqa43ancz6t8aca1"
   },
   "source": [
    "Токенизируем (так же используем hashing trick, чтобы ограничить размер словаря).\n",
    "\n",
    "<img src=\"https://amitness.com/images/fasttext-hashing-ngrams.png\" alt=\"hashing_trick\" width=\"80%\"/>\n",
    "\n",
    "Используем суммы всех эмбедингов токенов и слова целиком, чтобы получить эмбеддинг слова.\n",
    "\n",
    "<img src=\"https://amitness.com/images/fasttext-center-word-embedding.png\" alt=\"word embeddings\" width=\"80%\"/>\n",
    "\n",
    "Обучаем на положительных и негативных примерах - негативные сэмплим случайно с вероятностью пропорциональной корню из вероятности слова. Для каждого положительного сэмплим 5 негативных.\n",
    "\n",
    "<img src=\"https://amitness.com/images/fasttext-negative-sampling-goal.png\" alt=\"negative sampling\" width=\"80%\"/>\n",
    "\n",
    "Обучаем при помощи SGD"
   ]
  },
  {
   "cell_type": "markdown",
   "metadata": {
    "cellId": "jindhk5q7skr1lmcm94ac"
   },
   "source": [
    "### 4.4 ELMo"
   ]
  },
  {
   "cell_type": "markdown",
   "metadata": {
    "cellId": "llk4cwxofne45r4r5idcxi"
   },
   "source": [
    "**ELMo** (Embeddings from Language Model)\n",
    "\n",
    "Вместо того, чтобы использовать фиксированные эмбеддинги слов, ELMo смотрит на целое предложение, прежде чем присвоить каждому слову его эмбеддинг. Она использует двунаправленную модель долгой краткосрочной памяти (bi-directional LSTM), обученную специально под задачу создания таких эмбеддингов."
   ]
  },
  {
   "cell_type": "markdown",
   "metadata": {
    "cellId": "sut0kxu59gt806ajlxt2a"
   },
   "source": [
    "### 4.5 And then you'll need attention"
   ]
  },
  {
   "cell_type": "markdown",
   "metadata": {
    "cellId": "pi2ojfxkofo4kxu5ik3m"
   },
   "source": [
    "ELMo - первый подход к лингивтическому моделированию\n",
    "\n",
    "Далее появляются архитектуры с механизмом внимания, но это уже совсем другая история...\n",
    "\n",
    "(to be continued на курсе NLP)"
   ]
  }
 ],
 "metadata": {
  "language_info": {
   "codemirror_mode": {
    "name": "ipython",
    "version": 3
   },
   "file_extension": ".py",
   "mimetype": "text/x-python",
   "name": "python",
   "nbconvert_exporter": "python",
   "pygments_lexer": "ipython3",
   "version": "3.7.7"
  },
  "notebookId": "9839624e-ae83-47a8-826e-df59062f5d66",
  "notebookPath": "Sem2 - NLP/sem2_nlp_master_fix.ipynb"
 },
 "nbformat": 4,
 "nbformat_minor": 4
}
