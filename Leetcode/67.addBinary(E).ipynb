{
 "cells": [
  {
   "attachments": {},
   "cell_type": "markdown",
   "metadata": {},
   "source": [
    "[67. Add Binary](https://leetcode.com/problems/add-binary/)\n",
    "\n",
    "Given two binary strings a and b, return their sum as a binary string."
   ]
  },
  {
   "cell_type": "code",
   "execution_count": null,
   "metadata": {},
   "outputs": [],
   "source": [
    "class Solution:\n",
    "    def addBinary(self, a: str, b: str) -> str:\n",
    "        res = \"\"\n",
    "        i, j, carry = len(a) - 1, len(b) - 1, 0\n",
    "        while i >= 0 or j >= 0:\n",
    "            sum = carry;\n",
    "            if i >= 0 : sum += ord(a[i]) - ord('0') # ord is use to get value of ASCII character\n",
    "            if j >= 0 : sum += ord(b[j]) - ord('0')\n",
    "            i, j = i - 1, j - 1\n",
    "            carry = 1 if sum > 1 else 0;\n",
    "            res += str(sum % 2)\n",
    "\n",
    "        if carry != 0 : res += str(carry);\n",
    "        return res[::-1]"
   ]
  },
  {
   "cell_type": "code",
   "execution_count": 1,
   "metadata": {},
   "outputs": [
    {
     "name": "stdout",
     "output_type": "stream",
     "text": [
      "100\n",
      "10101\n"
     ]
    }
   ],
   "source": [
    "def add_binary(a, b):\n",
    "    c = int(a,2) + int(b,2)\n",
    "    return bin(c)[2:]\n",
    "print(add_binary('11', '1'))\n",
    "print(add_binary('1010', '1011'))"
   ]
  }
 ],
 "metadata": {
  "kernelspec": {
   "display_name": "Python 3",
   "language": "python",
   "name": "python3"
  },
  "language_info": {
   "codemirror_mode": {
    "name": "ipython",
    "version": 3
   },
   "file_extension": ".py",
   "mimetype": "text/x-python",
   "name": "python",
   "nbconvert_exporter": "python",
   "pygments_lexer": "ipython3",
   "version": "3.9.6"
  },
  "orig_nbformat": 4,
  "vscode": {
   "interpreter": {
    "hash": "31f2aee4e71d21fbe5cf8b01ff0e069b9275f58929596ceb00d14d90e3e16cd6"
   }
  }
 },
 "nbformat": 4,
 "nbformat_minor": 2
}
