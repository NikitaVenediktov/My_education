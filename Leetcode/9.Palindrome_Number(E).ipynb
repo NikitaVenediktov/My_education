{
 "cells": [
  {
   "attachments": {},
   "cell_type": "markdown",
   "metadata": {},
   "source": [
    "Given an integer x, return true if x is a palindrome, and `false` otherwise.\n",
    "https://leetcode.com/problems/palindrome-number/\n",
    "\n",
    "Example 1:\n",
    "\n",
    "Input: x = 121\n",
    "Output: true\n",
    "Explanation: 121 reads as 121 from left to right and from right to left.\n",
    "Example 2:\n",
    "\n",
    "Input: x = -121\n",
    "Output: false\n",
    "Explanation: From left to right, it reads -121. From right to left, it becomes 121-. Therefore it is not a palindrome.\n",
    "Example 3:\n",
    "\n",
    "Input: x = 10\n",
    "Output: false\n",
    "Explanation: Reads 01 from right to left. Therefore it is not a palindrome."
   ]
  },
  {
   "attachments": {},
   "cell_type": "markdown",
   "metadata": {},
   "source": [
    "## мое решение, но не отрабатывает true"
   ]
  },
  {
   "cell_type": "code",
   "execution_count": null,
   "metadata": {},
   "outputs": [],
   "source": [
    "class Solution:\n",
    "    def isPalindrome(self, x: int) -> bool:\n",
    "        step = 0\n",
    "        string_x = str(x)\n",
    "        while step <= 1:\n",
    "            if string_x[step] == string_x[-step - 1]:\n",
    "                step += 1\n",
    "            else:\n",
    "                print(\"false\")\n",
    "                break     \n",
    "        return print(\"true\")"
   ]
  },
  {
   "attachments": {},
   "cell_type": "markdown",
   "metadata": {},
   "source": [
    "подсказали"
   ]
  },
  {
   "cell_type": "code",
   "execution_count": null,
   "metadata": {},
   "outputs": [],
   "source": [
    "class Solution:\n",
    "    def isPalindrome(self, x: int) -> bool:\n",
    "        string_x = str(x)\n",
    "        left = 0\n",
    "        right = len(string_x) - 1\n",
    "        while left < right:\n",
    "            if string_x[left] != string_x[right]:\n",
    "                return False\n",
    "            left += 1\n",
    "            right -= 1\n",
    "        return True"
   ]
  },
  {
   "cell_type": "code",
   "execution_count": null,
   "metadata": {},
   "outputs": [],
   "source": [
    "class Solution(object):\n",
    "    def isPalindrome(self, x):\n",
    "        if x < 0 or (x != 0 and x % 10 == 0):\n",
    "            return False\n",
    "\n",
    "        half = 0\n",
    "        while x > half:\n",
    "            half = (half * 10) + (x % 10)\n",
    "            x = x // 10\n",
    "\n",
    "        return x == half or x == half // 10"
   ]
  },
  {
   "cell_type": "code",
   "execution_count": null,
   "metadata": {},
   "outputs": [],
   "source": [
    "class Solution(object):\n",
    "    def isPalindrome(self, x):\n",
    "        x = str(x)\n",
    "        return x == x[::-1]"
   ]
  }
 ],
 "metadata": {
  "language_info": {
   "name": "python"
  },
  "orig_nbformat": 4
 },
 "nbformat": 4,
 "nbformat_minor": 2
}
