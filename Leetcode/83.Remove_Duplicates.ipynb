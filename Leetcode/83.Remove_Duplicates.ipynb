{
 "cells": [
  {
   "attachments": {},
   "cell_type": "markdown",
   "metadata": {},
   "source": [
    "Given the head of a sorted linked list, delete all duplicates such that each element appears only once. Return the linked list sorted as well.\n",
    "\n",
    "Example 1:\n",
    "Input: head = [1,1,2]\n",
    "Output: [1,2]\n",
    "\n",
    "Example 2:\n",
    "Input: head = [1,1,2,3,3]\n",
    "Output: [1,2,3]"
   ]
  },
  {
   "cell_type": "code",
   "execution_count": 15,
   "metadata": {},
   "outputs": [
    {
     "ename": "TypeError",
     "evalue": "Solution() takes no arguments",
     "output_type": "error",
     "traceback": [
      "\u001b[0;31m---------------------------------------------------------------------------\u001b[0m",
      "\u001b[0;31mTypeError\u001b[0m                                 Traceback (most recent call last)",
      "Cell \u001b[0;32mIn[15], line 7\u001b[0m\n\u001b[1;32m      1\u001b[0m \u001b[39m# Definition for singly-linked list.\u001b[39;00m\n\u001b[1;32m      2\u001b[0m \u001b[39m# class ListNode:\u001b[39;00m\n\u001b[1;32m      3\u001b[0m \u001b[39m#     def __init__(self, val=0, next=None):\u001b[39;00m\n\u001b[1;32m      4\u001b[0m \u001b[39m#         self.val = val\u001b[39;00m\n\u001b[1;32m      5\u001b[0m \u001b[39m#         self.next = next\u001b[39;00m\n\u001b[1;32m      6\u001b[0m head \u001b[39m=\u001b[39m [\u001b[39m1\u001b[39m,\u001b[39m1\u001b[39m,\u001b[39m2\u001b[39m,\u001b[39m3\u001b[39m,\u001b[39m3\u001b[39m]\n\u001b[0;32m----> 7\u001b[0m head1 \u001b[39m=\u001b[39m Solution(head)\n\u001b[1;32m      8\u001b[0m \u001b[39mclass\u001b[39;00m \u001b[39mSolution\u001b[39;00m:\n\u001b[1;32m      9\u001b[0m     \u001b[39mdef\u001b[39;00m \u001b[39mdeleteDuplicates\u001b[39m(\u001b[39mself\u001b[39m, head):\n",
      "\u001b[0;31mTypeError\u001b[0m: Solution() takes no arguments"
     ]
    }
   ],
   "source": [
    "# Definition for singly-linked list.\n",
    "# class ListNode:\n",
    "#     def __init__(self, val=0, next=None):\n",
    "#         self.val = val\n",
    "#         self.next = next\n",
    "head = [1,1,2,3,3]\n",
    "head1 = Solution(head)\n",
    "class Solution:\n",
    "    def deleteDuplicates(self, head):\n",
    "        print(set(head))\n",
    "\n",
    "Solution.deleteDuplicates(head)"
   ]
  },
  {
   "cell_type": "code",
   "execution_count": null,
   "metadata": {},
   "outputs": [],
   "source": [
    "class Solution:\n",
    "    def deleteDuplicates(self, head: Optional[ListNode]) -> Optional[ListNode]:\n",
    "        if not head:\n",
    "            return None\n",
    "\n",
    "        curr = head\n",
    "\n",
    "        while curr.next:\n",
    "            if curr.val == curr.next.val:\n",
    "                curr.next = curr.next.next\n",
    "            else:\n",
    "                curr = curr.next\n",
    "\n",
    "        return head"
   ]
  },
  {
   "cell_type": "code",
   "execution_count": null,
   "metadata": {},
   "outputs": [],
   "source": [
    "# Вот это я выбрал, тк наиболее подходит к моему взгляду\n",
    "# Definition for singly-linked list.\n",
    "# class ListNode:\n",
    "#     def __init__(self, val=0, next=None):\n",
    "#         self.val = val\n",
    "#         self.next = next\n",
    "class Solution(object):\n",
    "    def deleteDuplicates(self, head):\n",
    "        \"\"\"\n",
    "        :type head: ListNode\n",
    "        :rtype: ListNode\n",
    "        \"\"\"\n",
    "        current = head\n",
    "        while current and current.next: \n",
    "            if current.val == current.next.val:\n",
    "                current.next = current.next.next # то перескакивает и выбирает следующее\n",
    "            else:\n",
    "                current = current.next\n",
    "        return head"
   ]
  },
  {
   "cell_type": "code",
   "execution_count": null,
   "metadata": {},
   "outputs": [],
   "source": [
    "class Solution:\n",
    "    def deleteDuplicates(self, head: Optional[ListNode]) -> Optional[ListNode]:\n",
    "        # Handle special case that the list is empty\n",
    "        if head == None:\n",
    "            return head\n",
    "        # Initialize curr with the address of head node...\n",
    "        curr = head\n",
    "        # Travel the list until the second last node\n",
    "        while curr.next != None:\n",
    "            # If the value of curr is equal to the value of prev...\n",
    "            # It means the value is present in the linked list...\n",
    "            if curr.val == curr.next.val:\n",
    "                # Hence we do not need to include curr again in the linked list...\n",
    "                # So we increment the value of curr...\n",
    "                tmp = curr.next\n",
    "                curr.next = curr.next.next\n",
    "                del tmp\n",
    "            # Otherwise, we increment the curr pointer...\n",
    "            else:\n",
    "                curr = curr.next\n",
    "        return head         # Return the sorted linked list without any duplicate element..."
   ]
  },
  {
   "cell_type": "code",
   "execution_count": null,
   "metadata": {},
   "outputs": [],
   "source": [
    "# мое решение неверное, тк у класса есть ограничения \n",
    "class Solution:\n",
    "    def deleteDuplicates(self, head: Optional[ListNode]) -> Optional[ListNode]:\n",
    "        if head.val != head.next.val:\n",
    "                head.next == head.val\n",
    "        if head.val == head.next.val:       \n",
    "                head.remove[head.val]\n",
    "                head.next.val == head.val  \n",
    "        return head"
   ]
  }
 ],
 "metadata": {
  "language_info": {
   "name": "python"
  },
  "orig_nbformat": 4
 },
 "nbformat": 4,
 "nbformat_minor": 2
}
