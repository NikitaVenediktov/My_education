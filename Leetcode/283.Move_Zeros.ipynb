{
 "cells": [
  {
   "attachments": {},
   "cell_type": "markdown",
   "metadata": {},
   "source": [
    "# [283. Move Zeroes](https://leetcode.com/problems/move-zeroes/)\n",
    "\n",
    "Given an integer array nums, move all 0's to the end of it while maintaining the relative order of the non-zero elements.\n",
    "\n",
    "Note that you must do this in-place without making a copy of the array."
   ]
  },
  {
   "cell_type": "code",
   "execution_count": 16,
   "metadata": {},
   "outputs": [
    {
     "ename": "TypeError",
     "evalue": "object of type 'types.GenericAlias' has no len()",
     "output_type": "error",
     "traceback": [
      "\u001b[1;31m---------------------------------------------------------------------------\u001b[0m",
      "\u001b[1;31mTypeError\u001b[0m                                 Traceback (most recent call last)",
      "\u001b[1;32mc:\\Users\\TurboFen\\Desktop\\Online_Edu\\My_education\\Leetcode\\283.Move_Zeros.ipynb Cell 2\u001b[0m in \u001b[0;36m1\n\u001b[0;32m     <a href='vscode-notebook-cell:/c%3A/Users/TurboFen/Desktop/Online_Edu/My_education/Leetcode/283.Move_Zeros.ipynb#W0sZmlsZQ%3D%3D?line=13'>14</a>\u001b[0m             null\u001b[39m.\u001b[39mappend(nums[i])\n\u001b[0;32m     <a href='vscode-notebook-cell:/c%3A/Users/TurboFen/Desktop/Online_Edu/My_education/Leetcode/283.Move_Zeros.ipynb#W0sZmlsZQ%3D%3D?line=14'>15</a>\u001b[0m     \u001b[39mreturn\u001b[39;00m non_null \u001b[39m+\u001b[39m null\n\u001b[1;32m---> <a href='vscode-notebook-cell:/c%3A/Users/TurboFen/Desktop/Online_Edu/My_education/Leetcode/283.Move_Zeros.ipynb#W0sZmlsZQ%3D%3D?line=16'>17</a>\u001b[0m moveZeroes(nums)\n",
      "\u001b[1;32mc:\\Users\\TurboFen\\Desktop\\Online_Edu\\My_education\\Leetcode\\283.Move_Zeros.ipynb Cell 2\u001b[0m in \u001b[0;36m1\n\u001b[0;32m      <a href='vscode-notebook-cell:/c%3A/Users/TurboFen/Desktop/Online_Edu/My_education/Leetcode/283.Move_Zeros.ipynb#W0sZmlsZQ%3D%3D?line=7'>8</a>\u001b[0m non_null \u001b[39m=\u001b[39m []\n\u001b[0;32m      <a href='vscode-notebook-cell:/c%3A/Users/TurboFen/Desktop/Online_Edu/My_education/Leetcode/283.Move_Zeros.ipynb#W0sZmlsZQ%3D%3D?line=8'>9</a>\u001b[0m null \u001b[39m=\u001b[39m []\n\u001b[1;32m---> <a href='vscode-notebook-cell:/c%3A/Users/TurboFen/Desktop/Online_Edu/My_education/Leetcode/283.Move_Zeros.ipynb#W0sZmlsZQ%3D%3D?line=9'>10</a>\u001b[0m \u001b[39mfor\u001b[39;00m i \u001b[39min\u001b[39;00m \u001b[39mrange\u001b[39m(\u001b[39mlen\u001b[39;49m(nums)):\n\u001b[0;32m     <a href='vscode-notebook-cell:/c%3A/Users/TurboFen/Desktop/Online_Edu/My_education/Leetcode/283.Move_Zeros.ipynb#W0sZmlsZQ%3D%3D?line=10'>11</a>\u001b[0m     \u001b[39mif\u001b[39;00m nums[i] \u001b[39m!=\u001b[39m \u001b[39m0\u001b[39m:\n\u001b[0;32m     <a href='vscode-notebook-cell:/c%3A/Users/TurboFen/Desktop/Online_Edu/My_education/Leetcode/283.Move_Zeros.ipynb#W0sZmlsZQ%3D%3D?line=11'>12</a>\u001b[0m        non_null\u001b[39m.\u001b[39mappend(nums[i])\n",
      "\u001b[1;31mTypeError\u001b[0m: object of type 'types.GenericAlias' has no len()"
     ]
    }
   ],
   "source": [
    "nums = list[0,1,0,3,12]\n",
    "\n",
    "\n",
    "def moveZeroes(nums):\n",
    "    \"\"\"\n",
    "    Do not return anything, modify nums in-place instead.\n",
    "    \"\"\"\n",
    "    non_null = []\n",
    "    null = []\n",
    "    for i in range(len(nums)):\n",
    "        if nums[i] != 0:\n",
    "           non_null.append(nums[i])\n",
    "        else:\n",
    "            null.append(nums[i])\n",
    "    return non_null + null\n",
    "\n",
    "moveZeroes(nums)\n",
    "\n"
   ]
  },
  {
   "cell_type": "code",
   "execution_count": null,
   "metadata": {},
   "outputs": [],
   "source": [
    "class Solution:\n",
    "    def moveZeroes(self, nums: List[int]) -> None:\n",
    "        \"\"\"\n",
    "        Do not return anything, modify nums in-place instead.\n",
    "        \"\"\"\n",
    "        base = len(nums)\n",
    "        i = 0\n",
    "        while i < base:\n",
    "            if nums[i] == 0:\n",
    "                nums.append(nums[i])\n",
    "                nums.pop(nums[i])\n",
    "                i += 1\n",
    "            i += 1\n"
   ]
  },
  {
   "cell_type": "code",
   "execution_count": null,
   "metadata": {},
   "outputs": [],
   "source": [
    "class Solution:\n",
    "    def moveZeroes(self, nums: List[int]) -> None:\n",
    "        \"\"\"\n",
    "        Do not return anything, modify nums in-place instead.\n",
    "        \"\"\"\n",
    "        l=0\n",
    "        for r in range(len(nums)):\n",
    "            if nums[r] != 0:\n",
    "                nums[r],nums[l]=nums[l],nums[r]\n",
    "                l+=1 "
   ]
  },
  {
   "cell_type": "code",
   "execution_count": 22,
   "metadata": {},
   "outputs": [
    {
     "ename": "AttributeError",
     "evalue": "'set' object has no attribute 'hash'",
     "output_type": "error",
     "traceback": [
      "\u001b[1;31m---------------------------------------------------------------------------\u001b[0m",
      "\u001b[1;31mAttributeError\u001b[0m                            Traceback (most recent call last)",
      "\u001b[1;32mc:\\Users\\TurboFen\\Desktop\\Online_Edu\\My_education\\Leetcode\\283.Move_Zeros.ipynb Cell 3\u001b[0m in \u001b[0;36m2\n\u001b[0;32m      <a href='vscode-notebook-cell:/c%3A/Users/TurboFen/Desktop/Online_Edu/My_education/Leetcode/283.Move_Zeros.ipynb#W2sZmlsZQ%3D%3D?line=0'>1</a>\u001b[0m nums \u001b[39m=\u001b[39m {\u001b[39m0\u001b[39m,\u001b[39m1\u001b[39m,\u001b[39m0\u001b[39m,\u001b[39m3\u001b[39m,\u001b[39m12\u001b[39m}\n\u001b[1;32m----> <a href='vscode-notebook-cell:/c%3A/Users/TurboFen/Desktop/Online_Edu/My_education/Leetcode/283.Move_Zeros.ipynb#W2sZmlsZQ%3D%3D?line=1'>2</a>\u001b[0m \u001b[39mprint\u001b[39m(nums\u001b[39m.\u001b[39;49mhash())\n\u001b[0;32m      <a href='vscode-notebook-cell:/c%3A/Users/TurboFen/Desktop/Online_Edu/My_education/Leetcode/283.Move_Zeros.ipynb#W2sZmlsZQ%3D%3D?line=2'>3</a>\u001b[0m a \u001b[39m=\u001b[39m [\u001b[39m1\u001b[39m, \u001b[39m2\u001b[39m, \u001b[39m3\u001b[39m]\n\u001b[0;32m      <a href='vscode-notebook-cell:/c%3A/Users/TurboFen/Desktop/Online_Edu/My_education/Leetcode/283.Move_Zeros.ipynb#W2sZmlsZQ%3D%3D?line=3'>4</a>\u001b[0m b \u001b[39m=\u001b[39m [\u001b[39m4\u001b[39m, \u001b[39m5\u001b[39m]\n",
      "\u001b[1;31mAttributeError\u001b[0m: 'set' object has no attribute 'hash'"
     ]
    }
   ],
   "source": [
    "nums = {0,1,0,3,12}\n",
    "print(nums.hash())\n",
    "a = [1, 2, 3]\n",
    "b = [4, 5]\n",
    "c = a + b\n",
    "c"
   ]
  }
 ],
 "metadata": {
  "kernelspec": {
   "display_name": "Python 3",
   "language": "python",
   "name": "python3"
  },
  "language_info": {
   "codemirror_mode": {
    "name": "ipython",
    "version": 3
   },
   "file_extension": ".py",
   "mimetype": "text/x-python",
   "name": "python",
   "nbconvert_exporter": "python",
   "pygments_lexer": "ipython3",
   "version": "3.11.0"
  },
  "orig_nbformat": 4,
  "vscode": {
   "interpreter": {
    "hash": "cbe6dbca8f5fdafc901b00fd6d1fafcdaa3e87607db442d8ce9bc696bc6c060c"
   }
  }
 },
 "nbformat": 4,
 "nbformat_minor": 2
}
