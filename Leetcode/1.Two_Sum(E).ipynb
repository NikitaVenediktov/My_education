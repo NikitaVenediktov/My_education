{
 "cells": [
  {
   "attachments": {},
   "cell_type": "markdown",
   "metadata": {},
   "source": [
    "Given an array of integers nums and an integer target, return indices of the two numbers such that they add up to target.\n",
    "You may assume that each input would have exactly one solution, and you may not use the same element twice.\n",
    "You can return the answer in any order.\n",
    "\n",
    "Example 1:\n",
    "\n",
    "Input: nums = [2,7,11,15], target = 9\n",
    "Output: [0,1]\n",
    "Explanation: Because nums[0] + nums[1] == 9, we return [0, 1].\n",
    "Example 2:\n",
    "\n",
    "Input: nums = [3,2,4], target = 6\n",
    "Output: [1,2]\n",
    "Example 3:\n",
    "\n",
    "Input: nums = [3,3], target = 6\n",
    "Output: [0,1]"
   ]
  },
  {
   "cell_type": "code",
   "execution_count": null,
   "metadata": {},
   "outputs": [],
   "source": [
    "# my try\n",
    "\n",
    "class Solution:\n",
    "    def twoSum(self, nums: List[int], target: int) -> List[int]:\n",
    "        for i in range(len(nums)):\n",
    "            for j in range(i + 1, len(nums)):\n",
    "                if nums[j] == target - nums[i]:\n",
    "                    return [i, j]"
   ]
  },
  {
   "attachments": {},
   "cell_type": "markdown",
   "metadata": {},
   "source": [
    "https://leetcode.com/problems/two-sum/solutions/3061014/step-by-step-visualization-of-o-n-solution/\n",
    "\n",
    "Explanation\n",
    "We use a loop to iterate over all elements in the array\n",
    "For each element 'nums[i]', we check if 'target-nums[i]' exists in the hashtable.\n",
    "If it exists, we have found the two elements that add up to the target, and we return their indices.\n",
    "If it doesn't exist, we add 'nums[i]' to the hash table along with its index.\n",
    "The time complexity of this solution is O(n) because we need to visit each element in the array only once, so the number of operations grows linearly with the size of the array."
   ]
  },
  {
   "cell_type": "code",
   "execution_count": null,
   "metadata": {},
   "outputs": [],
   "source": [
    "class Solution(object):\n",
    "    def twoSum(self, nums, target):\n",
    "        seen = {}\n",
    "        for i in range(len(nums)):\n",
    "            diff = target - nums[i]\n",
    "            if diff in seen:\n",
    "                return [seen[diff], i]\n",
    "            else:\n",
    "                seen[nums[i]] = i"
   ]
  },
  {
   "attachments": {},
   "cell_type": "markdown",
   "metadata": {},
   "source": [
    "https://leetcode.com/problems/two-sum/solutions/3153433/python-ez-solution-brute-force-hash-table-two-pointers-explained/\n",
    "\n",
    "Explanation:\n",
    "We create a list 'nums_with_index' that stores each element of the input array along with its index.\n",
    "We sort 'nums_with_index' based on the elements in ascending order.\n",
    "we use two pointers, 'left' and 'right', that point to the first and last elements of the sorted array, respectively.\n",
    "In each iteration of the while loop, we check if the sum of the elements pointed to by 'left' and 'right' is equal to the target.\n",
    "IF it is, we have found the two elements that add up to the target, and we return their indices.\n",
    "If it is less than the target, we move the ' left' pointer one step to the right because we need a larger sum.\n",
    "If it is greater than the target, we move the 'right ' pointer one step to the left because we need a smaller sum.\n",
    "If the while loop ends without finding the two elements, we return an empty list.\n",
    "The time complexity of this solution is O(n log n ) because we need to sort the array, which takes O(nlogn) time, and then we need to visit each element in the array only once, which takes O(n) time."
   ]
  },
  {
   "cell_type": "code",
   "execution_count": null,
   "metadata": {},
   "outputs": [],
   "source": [
    "class Solution(object):\n",
    "    def twoSum(self, nums, target): \n",
    "        nums_with_index = [(num,i) for i,num in enumerate(nums)]\n",
    "        nums_with_index.sort()\n",
    "        left,right = 0,len(nums)-1\n",
    "        while left < right:\n",
    "            if nums_with_index[left][0] + nums_with_index[right][0] == target:\n",
    "                return [nums_with_index[left][1],nums_with_index[right][1]]\n",
    "            elif nums_with_index[left][0] + nums_with_index[right][0] < target:\n",
    "                left +=1\n",
    "            else:\n",
    "                right -=1\n",
    "        return []"
   ]
  }
 ],
 "metadata": {
  "kernelspec": {
   "display_name": "Python 3",
   "language": "python",
   "name": "python3"
  },
  "language_info": {
   "name": "python",
   "version": "3.11.0"
  },
  "orig_nbformat": 4,
  "vscode": {
   "interpreter": {
    "hash": "cbe6dbca8f5fdafc901b00fd6d1fafcdaa3e87607db442d8ce9bc696bc6c060c"
   }
  }
 },
 "nbformat": 4,
 "nbformat_minor": 2
}
