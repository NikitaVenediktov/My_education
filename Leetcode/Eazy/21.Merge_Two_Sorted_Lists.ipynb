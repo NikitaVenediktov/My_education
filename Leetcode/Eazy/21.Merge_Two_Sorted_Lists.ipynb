{
 "cells": [
  {
   "attachments": {},
   "cell_type": "markdown",
   "metadata": {},
   "source": [
    "21. [Merge Two Sorted Lists](https://leetcode.com/problems/merge-two-sorted-lists/)\n",
    "\n",
    " You are given the heads of two sorted linked lists list1 and list2.\n",
    "\n",
    "Merge the two lists in a one sorted list. The list should be made by splicing together the nodes of the first two lists.\n",
    "\n",
    "Return the head of the merged linked list.\n"
   ]
  },
  {
   "cell_type": "code",
   "execution_count": null,
   "metadata": {},
   "outputs": [],
   "source": [
    "class Solution:\n",
    "    def mergeTwoLists(self, l1: ListNode, l2: ListNode) -> ListNode:   \n",
    "        dummy = temp = ListNode(0)\n",
    "        while l1 != None and l2 != None: #1\n",
    "\n",
    "            if l1.val < l2.val: #2\n",
    "                temp.next = l1 #3\n",
    "                l1 = l1.next #4\n",
    "            else: \n",
    "                temp.next = l2\n",
    "                l2 = l2.next\n",
    "            temp = temp.next\n",
    "        temp.next = l1 or l2  #5\n",
    "        return dummy.next #6\n",
    "    \n",
    "\n",
    "class Solution:\n",
    "    def mergeTwoLists(self, l1: ListNode, l2: ListNode) -> ListNode:   \n",
    "        if not l1 or not l2:\n",
    "            return l1 or l2\n",
    "        \n",
    "        if l1.val <= l2.val: #1\n",
    "            l1.next = self.mergeTwoLists(l1.next, l2)\n",
    "            return l1\n",
    "        else: #2\n",
    "            l2.next = self.mergeTwoLists(l1, l2.next)\n",
    "            return l2"
   ]
  },
  {
   "cell_type": "code",
   "execution_count": null,
   "metadata": {},
   "outputs": [],
   "source": [
    "# Definition for singly-linked list.\n",
    "# class ListNode:\n",
    "#     def __init__(self, val=0, next=None):\n",
    "#         self.val = val\n",
    "#         self.next = next\n",
    "class Solution:\n",
    "    def mergeTwoLists(self, list1: Optional[ListNode], list2: Optional[ListNode]) -> Optional[ListNode]:\n",
    "        cur = dummy = ListNode()\n",
    "        while list1 and list2:               \n",
    "            if list1.val < list2.val:\n",
    "                cur.next = list1\n",
    "                list1, cur = list1.next, list1\n",
    "            else:\n",
    "                cur.next = list2\n",
    "                list2, cur = list2.next, list2\n",
    "                \n",
    "        if list1 or list2:\n",
    "            cur.next = list1 if list1 else list2\n",
    "            \n",
    "        return dummy.next"
   ]
  },
  {
   "cell_type": "code",
   "execution_count": null,
   "metadata": {},
   "outputs": [],
   "source": [
    "class Solution(object):\n",
    "    def mergeTwoLists(self, list1, list2):\n",
    "        head = ListNode()\n",
    "        current = head\n",
    "        while list1 and list2:\n",
    "            if list1.val < list2.val:\n",
    "                current.next = list1\n",
    "                list1 = list1.next\n",
    "            else:\n",
    "                current.next = list2\n",
    "                list2 = list2.next\n",
    "            current = current.next\n",
    "\n",
    "        current.next = list1 or list2\n",
    "        return head.next"
   ]
  }
 ],
 "metadata": {
  "language_info": {
   "name": "python"
  },
  "orig_nbformat": 4
 },
 "nbformat": 4,
 "nbformat_minor": 2
}
