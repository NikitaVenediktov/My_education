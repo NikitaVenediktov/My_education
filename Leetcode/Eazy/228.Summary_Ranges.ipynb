{
 "cells": [
  {
   "cell_type": "markdown",
   "metadata": {},
   "source": [
    "228. Summary Ranges\n",
    "Easy\n",
    "\n",
    "You are given a sorted unique integer array nums.\n",
    "\n",
    "A range [a,b] is the set of all integers from a to b (inclusive).\n",
    "\n",
    "Return the smallest sorted list of ranges that cover all the numbers in the array exactly. That is, each element of nums is covered by exactly one of the ranges, and there is no integer x such that x is in one of the ranges but not in nums.\n",
    "\n",
    "Each range [a,b] in the list should be output as:\n",
    "\n",
    "\"a->b\" if a != b\n",
    "\"a\" if a == b\n",
    " \n",
    "```\n",
    "Example 1:\n",
    "\n",
    "Input: nums = [0,1,2,4,5,7]\n",
    "Output: [\"0->2\",\"4->5\",\"7\"]\n",
    "Explanation: The ranges are:\n",
    "[0,2] --> \"0->2\"\n",
    "[4,5] --> \"4->5\"\n",
    "[7,7] --> \"7\"\n",
    "Example 2:\n",
    "\n",
    "Input: nums = [0,2,3,4,6,8,9]\n",
    "Output: [\"0\",\"2->4\",\"6\",\"8->9\"]\n",
    "Explanation: The ranges are:\n",
    "[0,0] --> \"0\"\n",
    "[2,4] --> \"2->4\"\n",
    "[6,6] --> \"6\"\n",
    "[8,9] --> \"8->9\"\n",
    " ```\n",
    "\n",
    "Constraints:\n",
    "\n",
    "```0 <= nums.length <= 20\n",
    "-231 <= nums[i] <= 231 - 1\n",
    "All the values of nums are unique.\n",
    "nums is sorted in ascending order.```"
   ]
  },
  {
   "cell_type": "code",
   "execution_count": 25,
   "metadata": {},
   "outputs": [
    {
     "ename": "TypeError",
     "evalue": "'int' object is not iterable",
     "output_type": "error",
     "traceback": [
      "\u001b[0;31m---------------------------------------------------------------------------\u001b[0m",
      "\u001b[0;31mTypeError\u001b[0m                                 Traceback (most recent call last)",
      "Cell \u001b[0;32mIn[25], line 19\u001b[0m\n\u001b[1;32m     13\u001b[0m     \u001b[39mreturn\u001b[39;00m final_str\n\u001b[1;32m     18\u001b[0m nums \u001b[39m=\u001b[39m [\u001b[39m0\u001b[39m,\u001b[39m1\u001b[39m,\u001b[39m2\u001b[39m,\u001b[39m4\u001b[39m,\u001b[39m5\u001b[39m,\u001b[39m7\u001b[39m]\n\u001b[0;32m---> 19\u001b[0m \u001b[39mprint\u001b[39m(summaryRanges(nums))\n",
      "Cell \u001b[0;32mIn[25], line 10\u001b[0m, in \u001b[0;36msummaryRanges\u001b[0;34m(nums)\u001b[0m\n\u001b[1;32m      8\u001b[0m \u001b[39mif\u001b[39;00m \u001b[39mnext\u001b[39m \u001b[39m-\u001b[39m current \u001b[39m==\u001b[39m \u001b[39m1\u001b[39m:\n\u001b[1;32m      9\u001b[0m     first \u001b[39m=\u001b[39m current\n\u001b[0;32m---> 10\u001b[0m     last \u001b[39m+\u001b[39m\u001b[39m=\u001b[39m \u001b[39m1\u001b[39m\n\u001b[1;32m     11\u001b[0m \u001b[39melif\u001b[39;00m \u001b[39mnext\u001b[39m \u001b[39m-\u001b[39m current \u001b[39m!=\u001b[39m \u001b[39m1\u001b[39m:\n\u001b[1;32m     12\u001b[0m         final_str\u001b[39m.\u001b[39mappend(\u001b[39mstr\u001b[39m(first,\u001b[39m'\u001b[39m\u001b[39m->\u001b[39m\u001b[39m'\u001b[39m,last))\n",
      "\u001b[0;31mTypeError\u001b[0m: 'int' object is not iterable"
     ]
    }
   ],
   "source": [
    "def summaryRanges(nums: list[int]) -> list[str]:\n",
    "    final_str = []\n",
    "    first = []\n",
    "    last = []\n",
    "    for i in range(1, len(nums)):\n",
    "        next = nums[i]\n",
    "        current =  nums[i-1]\n",
    "        if next - current == 1:\n",
    "            first = current\n",
    "            last += 1\n",
    "        elif next - current != 1:\n",
    "                final_str.append(str(first,'->',last))\n",
    "    return final_str\n",
    "        \n",
    "\n",
    "\n",
    "\n",
    "nums = [0,1,2,4,5,7]\n",
    "print(summaryRanges(nums))"
   ]
  },
  {
   "cell_type": "code",
   "execution_count": 32,
   "metadata": {},
   "outputs": [
    {
     "name": "stdout",
     "output_type": "stream",
     "text": [
      "1\n"
     ]
    }
   ],
   "source": [
    "nums = ['0','1']\n",
    "# print([nums[i] for i in range(1, len(nums))])\n",
    "# print([nums[i-1] for i in range(1, len(nums))])\n",
    "print(nums[1][-1])"
   ]
  },
  {
   "cell_type": "code",
   "execution_count": null,
   "metadata": {},
   "outputs": [],
   "source": [
    "def summaryRanges(nums: list[int]) -> list[str]:\n",
    "    ans = []\n",
    "    if not len(nums):\n",
    "        return ans\n",
    "    num = nums[0]\n",
    "    temp = nums[0]\n",
    "    \n",
    "\n",
    "    for i in range(1,len(nums)):\n",
    "        if nums[i] == temp+1:\n",
    "            temp = nums[i]\n",
    "        else:\n",
    "            if (temp - num) >= 1:\n",
    "                    ans.append(f\"{num}->{temp}\")\n",
    "            else:\n",
    "                ans.append(str(num))\n",
    "            num = nums[i]\n",
    "            temp = nums[i]\n",
    "\n",
    "    # to add the last elements in the list.\n",
    "    if (temp - num) >= 1:   \n",
    "        ans.append(f\"{num}->{temp}\")\n",
    "    else:\n",
    "        ans.append(str(num))\n",
    "\n",
    "    return ans"
   ]
  },
  {
   "cell_type": "code",
   "execution_count": 20,
   "metadata": {},
   "outputs": [
    {
     "ename": "NameError",
     "evalue": "name 'List' is not defined",
     "output_type": "error",
     "traceback": [
      "\u001b[0;31m---------------------------------------------------------------------------\u001b[0m",
      "\u001b[0;31mNameError\u001b[0m                                 Traceback (most recent call last)",
      "Cell \u001b[0;32mIn[20], line 1\u001b[0m\n\u001b[0;32m----> 1\u001b[0m \u001b[39mdef\u001b[39;00m \u001b[39msummaryRanges\u001b[39m(\u001b[39mself\u001b[39m, nums: List[\u001b[39mint\u001b[39m]) \u001b[39m-\u001b[39m\u001b[39m>\u001b[39m List[\u001b[39mstr\u001b[39m]:\n\u001b[1;32m      2\u001b[0m         \u001b[39mif\u001b[39;00m \u001b[39mnot\u001b[39;00m nums: \u001b[39mreturn\u001b[39;00m []\n\u001b[1;32m      3\u001b[0m         ranges \u001b[39m=\u001b[39m []\n",
      "\u001b[0;31mNameError\u001b[0m: name 'List' is not defined"
     ]
    }
   ],
   "source": [
    "def summaryRanges(self, nums: list[int]) -> list[str]:\n",
    "        if not nums: return []\n",
    "        ranges = []\n",
    "        start = end = nums[0]\n",
    "\n",
    "        for i in range(1, len(nums)):\n",
    "            if nums[i] == end + 1: end = nums[i]\n",
    "            else:\n",
    "                if start != end: ranges.append(f\"{start}->{end}\") \n",
    "                else:   ranges.append(str(start))\n",
    "            \n",
    "                start = end = nums[i]\n",
    "\n",
    "        if start != end: ranges.append(f\"{start}->{end}\")\n",
    "        else: ranges.append(str(start))\n",
    "\n",
    "        return ranges"
   ]
  },
  {
   "cell_type": "code",
   "execution_count": null,
   "metadata": {},
   "outputs": [],
   "source": [
    "def summaryRanges(self, nums: list[int]) -> list[str]:\n",
    "    ranges = [] # [start, end] or [x, y]\n",
    "    for i, n in enumerate(nums):\n",
    "        if ranges and ranges[-1][1] == n-1:\n",
    "            ranges[-1][1] = n\n",
    "        else:\n",
    "            ranges.append([n, n])\n",
    "\n",
    "    return [f'{x}->{y}' if x != y else f'{x}' for x, y in ranges]"
   ]
  }
 ],
 "metadata": {
  "kernelspec": {
   "display_name": "Python 3",
   "language": "python",
   "name": "python3"
  },
  "language_info": {
   "codemirror_mode": {
    "name": "ipython",
    "version": 3
   },
   "file_extension": ".py",
   "mimetype": "text/x-python",
   "name": "python",
   "nbconvert_exporter": "python",
   "pygments_lexer": "ipython3",
   "version": "3.9.16"
  },
  "orig_nbformat": 4
 },
 "nbformat": 4,
 "nbformat_minor": 2
}
