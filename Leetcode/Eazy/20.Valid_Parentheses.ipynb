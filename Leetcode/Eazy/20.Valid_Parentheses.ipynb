{
 "cells": [
  {
   "attachments": {},
   "cell_type": "markdown",
   "metadata": {},
   "source": [
    "## 20. Valid Parentheses\n",
    "\n",
    "Given a string s containing just the characters '(', ')', '{', '}', '[' and ']', determine if the input string is valid.\n",
    "\n",
    "An input string is valid if:\n",
    "\n",
    "Open brackets must be closed by the same type of brackets.\n",
    "Open brackets must be closed in the correct order.\n",
    "Every close bracket has a corresponding open bracket of the same type.\n",
    " \n",
    "\n",
    "Example 1:\n",
    "\n",
    "    Input: s = \"()\"\n",
    "    Output: true\n",
    "\n",
    "Example 2:\n",
    "\n",
    "    Input: s = \"()[]{}\"\n",
    "    Output: true\n",
    "\n",
    "Example 3:\n",
    "\n",
    "    Input: s = \"(]\"\n",
    "    Output: false"
   ]
  },
  {
   "cell_type": "code",
   "execution_count": null,
   "metadata": {},
   "outputs": [],
   "source": [
    "class Solution:\n",
    "    def isValid(self, s: str) -> bool:\n",
    "        for i in range(len(s)):\n",
    "            if s.count('(') != s.count(')') or s.count(']') != s.count('[') or s.count('{') != s.count('}'):\n",
    "                return False\n",
    "        \n",
    "        \n",
    "        return True"
   ]
  },
  {
   "cell_type": "code",
   "execution_count": null,
   "metadata": {},
   "outputs": [],
   "source": [
    "\n",
    "class Solution:\n",
    "    def isValid(self, s: str) -> bool:\n",
    "        for i in range(len(s)):\n",
    "            match s(i):\n",
    "                case \"{\":\n",
    "                    if s(i+1) != '}':\n",
    "                        return False\n",
    "                case \"(\":\n",
    "                    if s(i+1) != ')':\n",
    "                        return False\n",
    "                case \"[\":\n",
    "                    if s(i+1) != ']':\n",
    "                        return False\n",
    "                case _:\n",
    "                    return True"
   ]
  },
  {
   "cell_type": "code",
   "execution_count": null,
   "metadata": {},
   "outputs": [],
   "source": [
    "# решение не мое\n",
    "class Solution:\n",
    "    def isValid(self, s: str) -> bool:\n",
    "        stack = []\n",
    "        for char in s:\n",
    "            if char == '(' or char == '{' or char == '[':\n",
    "                stack.append(char)\n",
    "            else:\n",
    "                if not stack:\n",
    "                    return False\n",
    "                if char == ')' and stack[-1] == '(':\n",
    "                    stack.pop()\n",
    "                elif char == '}' and stack[-1] == '{':\n",
    "                    stack.pop()\n",
    "                elif char == ']' and stack[-1] == '[':\n",
    "                    stack.pop()\n",
    "                else:\n",
    "                    return False\n",
    "        return not stack"
   ]
  },
  {
   "cell_type": "code",
   "execution_count": null,
   "metadata": {},
   "outputs": [],
   "source": [
    "class Solution(object):\n",
    "    def isValid(self, s):\n",
    "        # Create a pair of opening and closing parrenthesis...\n",
    "        opcl = dict(('()', '[]', '{}'))\n",
    "        # Create stack data structure...\n",
    "        stack = []\n",
    "        # Traverse each charater in input string...\n",
    "        for idx in s:\n",
    "            # If open parentheses are present, append it to stack...\n",
    "            if idx in '([{':\n",
    "                stack.append(idx)\n",
    "            # If the character is closing parentheses, check that the same type opening parentheses is being pushed to the stack or not...\n",
    "            # If not, we need to return false...\n",
    "            elif len(stack) == 0 or idx != opcl[stack.pop()]:\n",
    "                return False\n",
    "        # At last, we check if the stack is empty or not...\n",
    "        # If the stack is empty it means every opened parenthesis is being closed and we can return true, otherwise we return false...\n",
    "        return len(stack) == 0"
   ]
  },
  {
   "cell_type": "code",
   "execution_count": null,
   "metadata": {},
   "outputs": [],
   "source": [
    "class Solution:\n",
    "    def isValid(self, s: str) -> bool:\n",
    "        arr=['2']\n",
    "        for i in s:\n",
    "            if i ==\"(\" or i=='[' or i=='{':\n",
    "          \n",
    "                arr.append(i)\n",
    "            elif (i ==\"]\" and arr[-1]==\"[\") or (i==')' and arr[-1]=='(') or (i=='}' and arr[-1]=='{'):\n",
    "                arr.pop()\n",
    "            else:\n",
    "                return False\n",
    "                break\n",
    "        if len(arr)==1:\n",
    "            return True\n",
    "        else:\n",
    "            return False"
   ]
  }
 ],
 "metadata": {
  "kernelspec": {
   "display_name": "base",
   "language": "python",
   "name": "python3"
  },
  "language_info": {
   "name": "python",
   "version": "3.10.10"
  },
  "orig_nbformat": 4
 },
 "nbformat": 4,
 "nbformat_minor": 2
}
