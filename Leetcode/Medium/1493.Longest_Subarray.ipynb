{
 "cells": [
  {
   "cell_type": "markdown",
   "metadata": {},
   "source": [
    "1493. Longest Subarray of 1's After Deleting One Element\n",
    "Medium\n",
    "\n",
    "Given a binary array nums, you should delete one element from it.\n",
    "\n",
    "Return the size of the longest non-empty subarray containing only 1's in the resulting array. Return 0 if there is no such subarray.\n",
    "\n",
    " \n",
    "```\n",
    "Example 1:\n",
    "\n",
    "Input: nums = [1,1,0,1]\n",
    "Output: 3\n",
    "Explanation: After deleting the number in position 2, [1,1,1] contains 3 numbers with value of 1's.\n",
    "Example 2:\n",
    "\n",
    "Input: nums = [0,1,1,1,0,1,1,0,1]\n",
    "Output: 5\n",
    "Explanation: After deleting the number in position 4, [0,1,1,1,1,1,0,1] longest subarray with value of 1's is [1,1,1,1,1].\n",
    "Example 3:\n",
    "\n",
    "Input: nums = [1,1,1]\n",
    "Output: 2\n",
    "Explanation: You must delete one element.\n",
    "```"
   ]
  },
  {
   "cell_type": "code",
   "execution_count": null,
   "metadata": {},
   "outputs": [],
   "source": [
    "def longestSubarray(self, nums: list[int]) -> int:\n",
    "    streaks_of_1s = accumulate(nums, lambda a, x: (a + 1) * (x != 0), initial=0)\n",
    "    streaks_at_0 = compress(streaks_of_1s, map(not_, chain(nums, (0,))))\n",
    "    return max(starmap(add, pairwise(streaks_at_0)), default=len(nums) - 1)\n"
   ]
  },
  {
   "cell_type": "code",
   "execution_count": null,
   "metadata": {},
   "outputs": [],
   "source": [
    "def longestSubarray(self, nums: List[int]) -> int:\n",
    "        prev=0\n",
    "        count=0\n",
    "        ls=[]\n",
    "        visit=False\n",
    "        for i in nums:\n",
    "            if i==0:\n",
    "                visit=True\n",
    "                ls.append(prev+count)\n",
    "                prev=count\n",
    "                count=0\n",
    "            if i==1:\n",
    "                count+=1\n",
    "        if not visit:\n",
    "            count-=1\n",
    "        ls.append(count+prev)\n",
    "        return max(ls)"
   ]
  },
  {
   "cell_type": "code",
   "execution_count": null,
   "metadata": {},
   "outputs": [],
   "source": [
    "class Solution:\n",
    "    def longestSubarray(self, nums: List[int]) -> int:\n",
    "        n = len(nums)\n",
    "\n",
    "        left = 0\n",
    "        zeros = 0\n",
    "        ans = 0\n",
    "\n",
    "        for right in range(n):\n",
    "            if nums[right] == 0:\n",
    "                zeros += 1\n",
    "\n",
    "            while zeros > 1:\n",
    "                if nums[left] == 0:\n",
    "                    zeros -= 1\n",
    "                left += 1\n",
    "\n",
    "            ans = max(ans, right - left + 1 - zeros)\n",
    "\n",
    "        return ans - 1 if ans == n else ans"
   ]
  }
 ],
 "metadata": {
  "language_info": {
   "name": "python"
  },
  "orig_nbformat": 4
 },
 "nbformat": 4,
 "nbformat_minor": 2
}
