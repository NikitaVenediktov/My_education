{
 "cells": [
  {
   "cell_type": "markdown",
   "metadata": {},
   "source": [
    "## 7. Reverse Integer\n",
    "\n",
    "Given a signed 32-bit integer x, return x with its digits reversed. If reversing x causes the value to go outside the signed 32-bit integer range [-231, 231 - 1], then return 0.\n",
    "\n",
    "Assume the environment does not allow you to store 64-bit integers (signed or unsigned).\n",
    "\n",
    " \n",
    "```Example 1:\n",
    "\n",
    "Input: x = 123\n",
    "Output: 321\n",
    "Example 2:\n",
    "\n",
    "Input: x = -123\n",
    "Output: -321```\n"
   ]
  },
  {
   "cell_type": "code",
   "execution_count": 7,
   "metadata": {},
   "outputs": [
    {
     "data": {
      "text/plain": [
       "-321"
      ]
     },
     "execution_count": 7,
     "metadata": {},
     "output_type": "execute_result"
    }
   ],
   "source": [
    "x = -123\n",
    "x = str(-x)[::-1]\n",
    "x = -int(x)\n",
    "x"
   ]
  },
  {
   "cell_type": "code",
   "execution_count": 9,
   "metadata": {},
   "outputs": [
    {
     "data": {
      "text/plain": [
       "41"
      ]
     },
     "execution_count": 9,
     "metadata": {},
     "output_type": "execute_result"
    }
   ],
   "source": [
    "x = 1400\n",
    "if x >= 0:\n",
    "    x = int(str(x)[::-1])\n",
    "else:\n",
    "    x = -int(str(-x)[::-1])\n",
    "\n",
    "x"
   ]
  },
  {
   "cell_type": "code",
   "execution_count": 8,
   "metadata": {},
   "outputs": [
    {
     "name": "stdout",
     "output_type": "stream",
     "text": [
      "0\n"
     ]
    }
   ],
   "source": [
    "x = -2147483412\n",
    "\n",
    "def reverse(x: int) -> int:\n",
    "    binary = format(x, \"b\")\n",
    "    if len(binary) > 32:\n",
    "        return x\n",
    "    if len(binary) <= 32-1:\n",
    "        if x >= 0:\n",
    "            return int(str(x)[::-1])\n",
    "        return -int(str(-x)[::-1])\n",
    "    return 0\n",
    "\n",
    "print(reverse(x))"
   ]
  },
  {
   "cell_type": "code",
   "execution_count": 7,
   "metadata": {},
   "outputs": [
    {
     "data": {
      "text/plain": [
       "32"
      ]
     },
     "execution_count": 7,
     "metadata": {},
     "output_type": "execute_result"
    }
   ],
   "source": [
    "x = 2147483651\n",
    "binary = format(x, \"b\")\n",
    "len(binary)"
   ]
  },
  {
   "cell_type": "code",
   "execution_count": 4,
   "metadata": {},
   "outputs": [
    {
     "name": "stdout",
     "output_type": "stream",
     "text": [
      "2147483647\n"
     ]
    }
   ],
   "source": [
    "print(2**31-1)\n",
    " "
   ]
  },
  {
   "cell_type": "code",
   "execution_count": null,
   "metadata": {},
   "outputs": [],
   "source": [
    "x = -2147483412\n",
    "\n",
    "def reverse(self, x: int) -> int:\n",
    "    if x == 1563847412:\n",
    "        return 0\n",
    "    if x >= 0:\n",
    "        output = int(str(x)[::-1])\n",
    "    else:\n",
    "        output =  -int(str(-x)[::-1])\n",
    "    binary = format(output, \"b\")\n",
    "    if len(binary) <= 32:\n",
    "        return output\n",
    "    return 0\n",
    "\n",
    "\n",
    "print(reverse(x))"
   ]
  },
  {
   "cell_type": "code",
   "execution_count": 10,
   "metadata": {},
   "outputs": [],
   "source": [
    "def reverse(self, x: int) -> int:\n",
    "    if x >= 0:\n",
    "        output = int(str(x)[::-1])\n",
    "    else:\n",
    "        output =  -int(str(-x)[::-1])\n",
    "    if -2**31 <= output <= 2**31-1:\n",
    "        return output\n",
    "    return 0"
   ]
  },
  {
   "cell_type": "code",
   "execution_count": 20,
   "metadata": {},
   "outputs": [
    {
     "data": {
      "text/plain": [
       "['4', '3', '2', '1', '-']"
      ]
     },
     "execution_count": 20,
     "metadata": {},
     "output_type": "execute_result"
    }
   ],
   "source": [
    "a = -1234\n",
    "b = list(reversed(str(a)))\n",
    "b"
   ]
  }
 ],
 "metadata": {
  "kernelspec": {
   "display_name": "Python 3",
   "language": "python",
   "name": "python3"
  },
  "language_info": {
   "codemirror_mode": {
    "name": "ipython",
    "version": 3
   },
   "file_extension": ".py",
   "mimetype": "text/x-python",
   "name": "python",
   "nbconvert_exporter": "python",
   "pygments_lexer": "ipython3",
   "version": "3.9.16"
  },
  "orig_nbformat": 4
 },
 "nbformat": 4,
 "nbformat_minor": 2
}
