{
 "cells": [
  {
   "cell_type": "markdown",
   "metadata": {},
   "source": [
    "# [356. Line Reflection](https://leetcode.com/problems/line-reflection)\n",
    "\n",
    "[中文文档](/solution/0300-0399/0356.Line%20Reflection/README.md)\n",
    "\n",
    "## Description\n",
    "\n",
    "<p>Given <code>n</code> points on a 2D plane, find if there is such a line parallel to the y-axis that reflects the given points symmetrically.</p>\n",
    "\n",
    "<p>In other words, answer whether or not if there exists a line that after reflecting all points over the given line, the original points&#39; set is the same as the reflected ones.</p>\n",
    "\n",
    "<p><strong>Note</strong> that there can be repeated points.</p>\n",
    "\n",
    "<p>&nbsp;</p>\n",
    "<p><strong class=\"example\">Example 1:</strong></p>\n",
    "<img alt=\"\" src=\"https://fastly.jsdelivr.net/gh/doocs/leetcode@main/solution/0300-0399/0356.Line%20Reflection/images/356_example_1.png\" style=\"width: 389px; height: 340px;\" />\n",
    "<pre>\n",
    "<strong>Input:</strong> points = [[1,1],[-1,1]]\n",
    "<strong>Output:</strong> true\n",
    "<strong>Explanation:</strong> We can choose the line x = 0.\n",
    "</pre>\n",
    "\n",
    "<p><strong class=\"example\">Example 2:</strong></p>\n",
    "<img alt=\"\" src=\"https://fastly.jsdelivr.net/gh/doocs/leetcode@main/solution/0300-0399/0356.Line%20Reflection/images/356_example_2.png\" style=\"width: 300px; height: 294px;\" />\n",
    "<pre>\n",
    "<strong>Input:</strong> points = [[1,1],[-1,-1]]\n",
    "<strong>Output:</strong> false\n",
    "<strong>Explanation:</strong> We can&#39;t choose a line.\n",
    "</pre>\n",
    "\n",
    "<p>&nbsp;</p>\n",
    "<p><strong>Constraints:</strong></p>\n",
    "\n",
    "<ul>\n",
    "\t<li><code>n == points.length</code></li>\n",
    "\t<li><code>1 &lt;= n &lt;= 10<sup>4</sup></code></li>\n",
    "\t<li><code>-10<sup>8</sup> &lt;= points[i][j] &lt;= 10<sup>8</sup></code></li>\n",
    "</ul>"
   ]
  },
  {
   "cell_type": "code",
   "execution_count": null,
   "metadata": {},
   "outputs": [],
   "source": [
    "class Solution:\n",
    "    def isReflected(self, points: List[List[int]]) -> bool:\n",
    "        min_x, max_x = inf, -inf\n",
    "        point_set = set()\n",
    "        for x, y in points:\n",
    "            min_x = min(min_x, x)\n",
    "            max_x = max(max_x, x)\n",
    "            point_set.add((x, y))\n",
    "        s = min_x + max_x\n",
    "        for x, y in points:\n",
    "            if (s - x, y) not in point_set:\n",
    "                return False\n",
    "        return True"
   ]
  }
 ],
 "metadata": {
  "language_info": {
   "name": "python"
  },
  "orig_nbformat": 4
 },
 "nbformat": 4,
 "nbformat_minor": 2
}
