{
 "cells": [
  {
   "cell_type": "markdown",
   "metadata": {},
   "source": [
    "## 560. Subarray Sum Equals K\n",
    "\n",
    "\n",
    "Companies\n",
    "Given an array of integers nums and an integer k, return the total number of subarrays whose sum equals to k.\n",
    "\n",
    "A subarray is a contiguous non-empty sequence of elements within an array.\n",
    "\n",
    " \n",
    "```\n",
    "Example 1:\n",
    "\n",
    "Input: nums = [1,1,1], k = 2\n",
    "Output: 2\n",
    "Example 2:\n",
    "\n",
    "Input: nums = [1,2,3], k = 3\n",
    "Output: 2```"
   ]
  },
  {
   "cell_type": "code",
   "execution_count": 1,
   "metadata": {},
   "outputs": [
    {
     "ename": "IndentationError",
     "evalue": "expected an indented block (2795325950.py, line 6)",
     "output_type": "error",
     "traceback": [
      "\u001b[0;36m  Cell \u001b[0;32mIn[1], line 6\u001b[0;36m\u001b[0m\n\u001b[0;31m    def subarraySum(self, nums: List[int], k: int) -> int:\u001b[0m\n\u001b[0m                                                          ^\u001b[0m\n\u001b[0;31mIndentationError\u001b[0m\u001b[0;31m:\u001b[0m expected an indented block\n"
     ]
    }
   ],
   "source": [
    "from typing import List\n",
    "nums = [1,1,1]\n",
    "k = 2\n",
    "sub = 0\n",
    "sum = 0\n",
    "for i in nums:\n",
    "    if i == k:\n",
    "        sub += 1\n",
    "    if i > k:\n",
    "        pass\n",
    "    if i < k: \n",
    "        \n",
    "    \n",
    "\n",
    "\n",
    "# def subarraySum(self, nums: List[int], k: int) -> int:\n",
    "\n",
    "    \n",
    "    \n",
    "    \n",
    "    \n",
    "#     return\n",
    "\n",
    "# def test_subarraySum(self, nums: List[int], k: int) -> int:\n",
    "#     assert subarraySum([1,1,1], 2) == 2\n",
    "\n",
    "# print(test_subarraySum())"
   ]
  }
 ],
 "metadata": {
  "kernelspec": {
   "display_name": "Python 3",
   "language": "python",
   "name": "python3"
  },
  "language_info": {
   "codemirror_mode": {
    "name": "ipython",
    "version": 3
   },
   "file_extension": ".py",
   "mimetype": "text/x-python",
   "name": "python",
   "nbconvert_exporter": "python",
   "pygments_lexer": "ipython3",
   "version": "3.9.16"
  },
  "orig_nbformat": 4
 },
 "nbformat": 4,
 "nbformat_minor": 2
}
