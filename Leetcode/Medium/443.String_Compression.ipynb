{
 "cells": [
  {
   "cell_type": "markdown",
   "metadata": {},
   "source": [
    "## 443. String Compression\n",
    "Medium\n",
    "\n",
    "Given an array of characters chars, compress it using the following algorithm:\n",
    "\n",
    "Begin with an empty string s. For each group of consecutive repeating characters in chars:\n",
    "\n",
    "If the group's length is 1, append the character to s.\n",
    "Otherwise, append the character followed by the group's length.\n",
    "The compressed string s should not be returned separately, but instead, be stored in the input character array chars. Note that group lengths that are 10 or longer will be split into multiple characters in chars.\n",
    "\n",
    "After you are done modifying the input array, return the new length of the array.\n",
    "\n",
    "You must write an algorithm that uses only constant extra space.\n",
    "\n",
    " \n",
    "```\n",
    "Example 1:\n",
    "\n",
    "Input: chars = [\"a\",\"a\",\"b\",\"b\",\"c\",\"c\",\"c\"]\n",
    "Output: Return 6, and the first 6 characters of the input array should be: [\"a\",\"2\",\"b\",\"2\",\"c\",\"3\"]\n",
    "Explanation: The groups are \"aa\", \"bb\", and \"ccc\". This compresses to \"a2b2c3\".\n",
    "Example 2:\n",
    "\n",
    "Input: chars = [\"a\"]\n",
    "Output: Return 1, and the first character of the input array should be: [\"a\"]\n",
    "Explanation: The only group is \"a\", which remains uncompressed since it's a single character.```"
   ]
  },
  {
   "cell_type": "code",
   "execution_count": 2,
   "metadata": {},
   "outputs": [
    {
     "name": "stdout",
     "output_type": "stream",
     "text": [
      "6\n"
     ]
    }
   ],
   "source": [
    "def compress(chars: list[str]) -> int:\n",
    "        l, r = 0, 0\n",
    "        s = len(chars)\n",
    "\n",
    "        while l < s:\n",
    "            n = 0\n",
    "            r = l\n",
    "            while r < s and chars[l] == chars[r]:\n",
    "                if chars[l] == chars[r]:\n",
    "                    n += 1\n",
    "                r += 1\n",
    "\n",
    "            if n > 1:\n",
    "                for k in range(l + 1, r):\n",
    "                    chars.pop(l + 1)\n",
    "                    s -= 1\n",
    "                for k in range(len(str(n))):\n",
    "                    l = l + 1\n",
    "                    chars.insert(l, str(n)[k])\n",
    "                    s += 1\n",
    "\n",
    "            l += 1\n",
    "            r = l\n",
    "\n",
    "        return len(chars)\n",
    "\n",
    "\n",
    "\n",
    "chars = [\"a\",\"a\",\"b\",\"b\",\"c\",\"c\",\"c\"]\n",
    "print(compress(chars))"
   ]
  },
  {
   "cell_type": "code",
   "execution_count": null,
   "metadata": {},
   "outputs": [],
   "source": [
    "class Solution:\n",
    "    def compress(self, chars: List[str]) -> int:\n",
    "        d=[]\n",
    "        c=1\n",
    "        for i in range(1,len(chars)):\n",
    "            if chars[i]==chars[i-1]:\n",
    "                c+=1\n",
    "            else:\n",
    "                d.append([chars[i-1],c])\n",
    "                c=1\n",
    "        d.append([chars[-1],c]) \n",
    "        i=0\n",
    "        for k,v in d:\n",
    "            chars[i]=k\n",
    "            i+=1\n",
    "            if v>1:\n",
    "                for item in str(v):\n",
    "                    chars[i]=str(item)\n",
    "                    i+=1\n",
    "        return i"
   ]
  }
 ],
 "metadata": {
  "kernelspec": {
   "display_name": "Python 3",
   "language": "python",
   "name": "python3"
  },
  "language_info": {
   "codemirror_mode": {
    "name": "ipython",
    "version": 3
   },
   "file_extension": ".py",
   "mimetype": "text/x-python",
   "name": "python",
   "nbconvert_exporter": "python",
   "pygments_lexer": "ipython3",
   "version": "3.9.16"
  },
  "orig_nbformat": 4
 },
 "nbformat": 4,
 "nbformat_minor": 2
}
