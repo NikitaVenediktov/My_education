{
 "cells": [
  {
   "attachments": {},
   "cell_type": "markdown",
   "metadata": {},
   "source": [
    "# 6.1. Модули math и numpy"
   ]
  },
  {
   "cell_type": "code",
   "execution_count": 3,
   "metadata": {},
   "outputs": [
    {
     "name": "stdout",
     "output_type": "stream",
     "text": [
      "33.11545195869231\n",
      "2.302585092994046\n",
      "3.3219280948873626\n",
      "1024.0\n",
      "261.1477575641718\n"
     ]
    }
   ],
   "source": [
    "import math\n",
    "# Степенные и логарифмические функции. Некоторые из функций:\n",
    "\n",
    "# math.exp(x) – возвращает значение экспоненциальной функции ex:\n",
    "\n",
    "print(math.exp(3.5))  # 33.11545195869231\n",
    "# math.log(x, base) – возвращает значение логарифма от x по основанию base. Если значение аргумента base не задано, то вычисляется натуральный логарифм. Вычисление производится по формуле log(x) / log(base):\n",
    "\n",
    "print(math.log(10))  # 2.302585092994046\n",
    "print(math.log(10, 2))  # 3.3219280948873626\n",
    "# math.pow(x, y) – возвращает значение x в степени y. В отличие от операции ** происходит преобразование обоих аргументов в вещественные числа:\n",
    "\n",
    "print(math.pow(2, 10))  # 1024.0\n",
    "print(math.pow(4.5, 3.7))  # 261.1477575641718"
   ]
  },
  {
   "cell_type": "code",
   "execution_count": 4,
   "metadata": {},
   "outputs": [
    {
     "name": "stdout",
     "output_type": "stream",
     "text": [
      "1.7320508075688772\n",
      "1.7320508075688772\n",
      "5.0\n",
      "0.5\n",
      "30.0\n",
      "2.0\n",
      "3.323350970447842\n",
      "6.0\n"
     ]
    }
   ],
   "source": [
    "# Тригонометрические функции. Доступны функции синус (sin(x)), косинус (cos(x)), тангенс (tan(x)),\n",
    "#  арксинус (asin(x)), арккосинус (acos(x)), арктангенс (atan(x)). Обратите внимание: угол задаётся\n",
    "#  и возвращается в радианах. Имеются особенные функции:\n",
    "\n",
    "# math.dist(p, q) – возвращает Евклидово расстояние между точками p и q, заданными как итерируемые объекты одной длины:\n",
    "\n",
    "print(math.dist((0, 0, 0), (1, 1, 1)))  # 1.7320508075688772\n",
    "# math.hypot(*coordinates) – возвращает длину многомерного вектора с координатами, \n",
    "# заданными в позиционных аргументах coordinates, и началом в центре системы координат. \n",
    "# Для двумерной системы координат функция возвращает длину гипотенузы прямоугольного треугольника по теореме Пифагора:\n",
    "\n",
    "print(math.hypot(1, 1, 1))  # 1.7320508075688772\n",
    "print(math.hypot(3, 4))  # 5.0\n",
    "\n",
    "# Функции преобразования угла. Доступны функции:\n",
    "\n",
    "# math.degrees(x) – преобразует угол из радиан в градусы:\n",
    "\n",
    "print(round(math.sin(math.radians(30)), 1))  # 0.5\n",
    "\n",
    "# math.radians(x) – преобразует угол из градусов в радианы.\n",
    "\n",
    "print(round(math.degrees(math.asin(0.5)), 1))  # 30.0\n",
    "# Гиперболические функции. Доступны функции acosh(x), asinh(x), atanh(x), cosh(x), sinh(x), tanh(x).\n",
    "\n",
    "# Специальные функции. Среди специальных функций интерес представляет Гамма-функция.\n",
    "#  Она описывает гладкую непрерывную функцию f(x) = (x - 1)!, график которой проходит через точки, \n",
    "# соответствующие значениям функции факториала для целых чисел. Другими словами, \n",
    "# Гамма-функция интерполирует значения факториала для вещественных чисел:\n",
    "\n",
    "print(math.gamma(3))  # 2.0\n",
    "print(math.gamma(3.5))  # 3.323350970447842\n",
    "print(math.gamma(4))  # 6.0\n",
    " \n",
    "# В библиотеке math можно воспользоваться значениями числа Пи (math.pi) и экспоненты (math.e).\n",
    "\n",
    "# Язык программирования Python удобен для быстрого создания программ с целью проверки какой-либо идеи. \n",
    "# Однако зачастую его используют и в решении научных задач, а также при анализе больших данных и машинном обучении. \n",
    "# Возникает вопрос: каким образом может быстро обрабатывать много данных интерпретируемая, \n",
    "# а не скомпилированная программа? Оказывается, что в решении некоторых математических \n",
    "# задач программы на Python могут быть такими же быстрыми, как и программы, созданные на компилируемых языках."
   ]
  },
  {
   "attachments": {},
   "cell_type": "markdown",
   "metadata": {},
   "source": [
    "## Библиотека numpy является нестандартной библиотекой."
   ]
  },
  {
   "cell_type": "code",
   "execution_count": 5,
   "metadata": {},
   "outputs": [
    {
     "name": "stdout",
     "output_type": "stream",
     "text": [
      "a[0] = 1\n",
      "b[0] = [1 2]\n"
     ]
    }
   ],
   "source": [
    "import numpy as np\n",
    "\n",
    "a = np.array([1, 2, 3, 4])\n",
    "b = np.array([[1, 2], [3, 4], [5, 6], [7, 8]])\n",
    "print(f\"a[0] = {a[0]}\")\n",
    "print(f\"b[0] = {b[0]}\")"
   ]
  },
  {
   "attachments": {},
   "cell_type": "markdown",
   "metadata": {},
   "source": [
    "В терминологии numpy `массив a имеет одну ось (термин \"axis\" из документации) длиной 4 элемента`, а массив `b имеет 2 оси`: первая имеет длину 4, а длина второй оси равна 2.\n",
    "\n",
    "Массивы numpy являются объектами класса ndarray. Наиболее важными атрибутами класса ndarray являются:\n",
    "\n",
    "ndarray.ndim – размерность (количество осей) массива;\n",
    "\n",
    "ndarray.shape – кортеж, значения которого содержат количество элементов по каждой из осей массива;\n",
    "\n",
    "ndarray.size – общее количество элементов массива;\n",
    "\n",
    "ndarray.dtype – объект, описывающий тип данных элементов массива;\n",
    "\n",
    "ndarray.itemsize – размер памяти в байтах, занимаемый одним элементом массива."
   ]
  },
  {
   "cell_type": "code",
   "execution_count": 6,
   "metadata": {},
   "outputs": [
    {
     "name": "stdout",
     "output_type": "stream",
     "text": [
      "a.ndim = 2, a.shape = (4, 2), a.size = 8, a.dtype = int64\n"
     ]
    }
   ],
   "source": [
    "import numpy as np\n",
    "\n",
    "a = np.array([[1, 2], [3, 4], [5, 6], [7, 8]])\n",
    "print(f\"a.ndim = {a.ndim}, a.shape = {a.shape}, a.size = {a.size}, a.dtype = {a.dtype}\")"
   ]
  },
  {
   "attachments": {},
   "cell_type": "markdown",
   "metadata": {},
   "source": [
    "Покажем на примере, что произойдёт, если попытаться записать значение не из диапазона для типа данных. Для этого создадим массив типа uint8 – целые числа без знака размером 8 бит. Диапазон значений для этого типа от 0 до 255. Тип данных можно указать через именованный аргумент dtype при создании массива:"
   ]
  },
  {
   "cell_type": "code",
   "execution_count": 7,
   "metadata": {},
   "outputs": [
    {
     "name": "stdout",
     "output_type": "stream",
     "text": [
      "[0 2 3]\n"
     ]
    },
    {
     "name": "stderr",
     "output_type": "stream",
     "text": [
      "/var/folders/77/k237slcs6gv41pmr9lvp716w0000gn/T/ipykernel_54772/1274961828.py:2: DeprecationWarning: NumPy will stop allowing conversion of out-of-bound Python integers to integer arrays.  The conversion of 256 to uint8 will fail in the future.\n",
      "For the old behavior, usually:\n",
      "    np.array(value).astype(dtype)`\n",
      "will give the desired result (the cast overflows).\n",
      "  a[0] = 256\n"
     ]
    }
   ],
   "source": [
    "a = np.array([1, 2, 3], dtype=\"uint8\")\n",
    "a[0] = 256\n",
    "print(a)"
   ]
  },
  {
   "attachments": {},
   "cell_type": "markdown",
   "metadata": {},
   "source": [
    "В примере для массива a был выбран тип данных float64, так как исходный список содержит вещественное число.` Для массива b был выбран тип данных <U32`, который может хранить строки в кодировке Unicode длиной 32 символа. Такой тип данных был выбран, поскольку в исходной коллекции есть элемент-строка."
   ]
  },
  {
   "cell_type": "code",
   "execution_count": 8,
   "metadata": {},
   "outputs": [
    {
     "name": "stdout",
     "output_type": "stream",
     "text": [
      "[1.  2.5 3. ]\n",
      "float64\n",
      "['text' '1' '2.5']\n",
      "<U32\n"
     ]
    }
   ],
   "source": [
    "a = np.array([1, 2.5, 3])\n",
    "print(a)\n",
    "print(a.dtype)\n",
    "b = np.array(['text', 1, 2.5])\n",
    "print(b)\n",
    "print(b.dtype)"
   ]
  },
  {
   "attachments": {},
   "cell_type": "markdown",
   "metadata": {},
   "source": [
    "Для создания массива из нулей используется функция np.zeros(), который принимает кортеж с количеством чисел, соответствующим количеству осей массива, а значения в кортеже – количество элементов по каждой из осей."
   ]
  },
  {
   "cell_type": "code",
   "execution_count": 10,
   "metadata": {},
   "outputs": [
    {
     "name": "stdout",
     "output_type": "stream",
     "text": [
      "[[0. 0. 0.]\n",
      " [0. 0. 0.]\n",
      " [0. 0. 0.]\n",
      " [0. 0. 0.]]\n",
      "\n",
      "[[0 0 0]\n",
      " [0 0 0]\n",
      " [0 0 0]\n",
      " [0 0 0]]\n",
      "[[1. 1. 1.]\n",
      " [1. 1. 1.]\n",
      " [1. 1. 1.]\n",
      " [1. 1. 1.]]\n"
     ]
    }
   ],
   "source": [
    "a = np.zeros((4, 3))\n",
    "print(a)\n",
    "print()\n",
    "a = np.zeros((4, 3), dtype=\"int32\")\n",
    "print(a)\n",
    "a = np.ones((4, 3))\n",
    "print(a)"
   ]
  },
  {
   "attachments": {},
   "cell_type": "markdown",
   "metadata": {},
   "source": [
    "Для создания массива, заполненного значениями из диапазона, используется функция `np.arange()`. Эта функция похожа на стандартную функцию range(), но возвращает массив и может создавать диапазон значений из вещественных чисел."
   ]
  },
  {
   "cell_type": "code",
   "execution_count": 11,
   "metadata": {},
   "outputs": [
    {
     "name": "stdout",
     "output_type": "stream",
     "text": [
      "[1 2 3 4 5 6 7 8 9]\n",
      "\n",
      "[1.  1.4 1.8 2.2 2.6 3.  3.4 3.8 4.2 4.6]\n"
     ]
    }
   ],
   "source": [
    "a = np.arange(1, 10)\n",
    "print(a)\n",
    "print()\n",
    "a = np.arange(1, 5, 0.4)\n",
    "print(a)"
   ]
  },
  {
   "cell_type": "code",
   "execution_count": 12,
   "metadata": {},
   "outputs": [
    {
     "name": "stdout",
     "output_type": "stream",
     "text": [
      "[1.         1.44444444 1.88888889 2.33333333 2.77777778 3.22222222\n",
      " 3.66666667 4.11111111 4.55555556 5.        ]\n"
     ]
    }
   ],
   "source": [
    "# Функция np.linspace() создаёт массив из заданного количества вещественных \n",
    "# равномерно-распределённых значений из указанного диапазона.\n",
    "a = np.linspace(1, 5, 10)  # задаётся начало, конец диапазона и количество значений\n",
    "print(a)\n"
   ]
  },
  {
   "cell_type": "code",
   "execution_count": 13,
   "metadata": {},
   "outputs": [
    {
     "name": "stdout",
     "output_type": "stream",
     "text": [
      "[[0 0 0]\n",
      " [0 0 0]\n",
      " [0 0 0]\n",
      " [0 0 0]]\n",
      "\n",
      "[[0 0 0 0 0 0]\n",
      " [0 0 0 0 0 0]]\n"
     ]
    }
   ],
   "source": [
    "a = np.zeros((4, 3), dtype=\"uint8\")\n",
    "print(a)\n",
    "print()\n",
    "a = a.reshape((2, 6))\n",
    "print(a)"
   ]
  },
  {
   "cell_type": "code",
   "execution_count": null,
   "metadata": {},
   "outputs": [],
   "source": [
    "# Если при изменении размерности в функции reshape() указать значение -1 по одной \n",
    "# или нескольким осям, то значения размерности рассчитаются автоматически:\n",
    "a = np.zeros((4, 3), dtype=\"uint8\")\n",
    "print(a)\n",
    "print()\n",
    "a = a.reshape((2, 3, -1))\n",
    "print(a)"
   ]
  },
  {
   "cell_type": "code",
   "execution_count": 14,
   "metadata": {},
   "outputs": [
    {
     "name": "stdout",
     "output_type": "stream",
     "text": [
      "[[0 0 0]\n",
      " [0 0 0]\n",
      " [0 0 0]\n",
      " [0 0 0]]\n",
      "\n",
      "[[[0 0 0]\n",
      "  [0 0 0]]\n",
      "\n",
      " [[0 0 0]\n",
      "  [0 0 0]]]\n"
     ]
    }
   ],
   "source": [
    "# Метод resize() меняет размерность исходного массива:\n",
    "\n",
    "a = np.zeros((4, 3), dtype=\"uint8\")\n",
    "print(a)\n",
    "print()\n",
    "a.resize((2, 2, 3))\n",
    "print(a)"
   ]
  },
  {
   "cell_type": "code",
   "execution_count": 15,
   "metadata": {},
   "outputs": [
    {
     "name": "stdout",
     "output_type": "stream",
     "text": [
      "[10 10 10]\n",
      "[8 6 4]\n",
      "[ 9 16 21]\n",
      "[9.         4.         2.33333333]\n"
     ]
    }
   ],
   "source": [
    "a = np.array([9, 8, 7])\n",
    "b = np.array([1, 2, 3])\n",
    "print(a + b)\n",
    "print(a - b)\n",
    "print(a * b)\n",
    "print(a / b)"
   ]
  },
  {
   "attachments": {},
   "cell_type": "markdown",
   "metadata": {},
   "source": [
    "## Для умножения матриц используется операция @ или функция dot:"
   ]
  },
  {
   "cell_type": "code",
   "execution_count": 16,
   "metadata": {},
   "outputs": [
    {
     "name": "stdout",
     "output_type": "stream",
     "text": [
      "[[3 2 1]\n",
      " [6 5 4]\n",
      " [9 8 7]]\n"
     ]
    }
   ],
   "source": [
    "a = np.array([[1, 2, 3],\n",
    "              [4, 5, 6],\n",
    "              [7, 8, 9]])\n",
    "b = np.array([[0, 0, 1],\n",
    "              [0, 1, 0],\n",
    "              [1, 0, 0]])\n",
    "print(a @ b)"
   ]
  },
  {
   "cell_type": "code",
   "execution_count": 17,
   "metadata": {},
   "outputs": [
    {
     "name": "stdout",
     "output_type": "stream",
     "text": [
      "[[ 1  2  3]\n",
      " [ 4  5  6]\n",
      " [ 7  8  9]\n",
      " [10 11 12]]\n",
      "Транспонирование\n",
      "[[ 1  4  7 10]\n",
      " [ 2  5  8 11]\n",
      " [ 3  6  9 12]]\n",
      "Поворот вправо\n",
      "[[ 3  6  9 12]\n",
      " [ 2  5  8 11]\n",
      " [ 1  4  7 10]]\n",
      "Поворот влево\n",
      "[[10  7  4  1]\n",
      " [11  8  5  2]\n",
      " [12  9  6  3]]\n"
     ]
    }
   ],
   "source": [
    "# Матрицы можно транспонировать функцией transpose() и поворачивать функцией rot90(). \n",
    "# При повороте можно указать направление поворота вторым аргументом:\n",
    "\n",
    "a = np.arange(1, 13).reshape(4, 3)\n",
    "print(a)\n",
    "print(\"Транспонирование\")\n",
    "print(a.transpose())\n",
    "print(\"Поворот вправо\")\n",
    "print(np.rot90(a))\n",
    "print(\"Поворот влево\")\n",
    "print(np.rot90(a, -1))"
   ]
  },
  {
   "cell_type": "code",
   "execution_count": 18,
   "metadata": {},
   "outputs": [
    {
     "name": "stdout",
     "output_type": "stream",
     "text": [
      "45\n",
      "1\n",
      "9\n"
     ]
    }
   ],
   "source": [
    "a = np.array([[1, 2, 3],\n",
    "             [4, 5, 6],\n",
    "             [7, 8, 9]])\n",
    "print(a.sum())\n",
    "print(a.min())\n",
    "print(a.max())"
   ]
  },
  {
   "cell_type": "code",
   "execution_count": 19,
   "metadata": {},
   "outputs": [
    {
     "name": "stdout",
     "output_type": "stream",
     "text": [
      "[12 15 18]\n",
      "[ 6 15 24]\n",
      "[1 2 3]\n",
      "[3 6 9]\n"
     ]
    }
   ],
   "source": [
    "# Дополнительно в указанных функциях можно указать номер оси (индексация с 0), на которой будет работать функция:\n",
    "\n",
    "a = np.array([[1, 2, 3],\n",
    "              [4, 5, 6],\n",
    "              [7, 8, 9]])\n",
    "print(a.sum(axis=0))  # сумма чисел в каждом столбце\n",
    "print(a.sum(axis=1))  # сумма чисел в каждой строке\n",
    "print(a.min(axis=0))  # минимум по столбцам\n",
    "print(a.max(axis=1))  # максимум по строкам"
   ]
  },
  {
   "attachments": {},
   "cell_type": "markdown",
   "metadata": {},
   "source": [
    "# срезы"
   ]
  },
  {
   "cell_type": "code",
   "execution_count": 20,
   "metadata": {},
   "outputs": [
    {
     "name": "stdout",
     "output_type": "stream",
     "text": [
      "[[ 1  2  3  4]\n",
      " [ 5  6  7  8]\n",
      " [ 9 10 11 12]]\n",
      "\n",
      "[[3 4]\n",
      " [7 8]]\n",
      "\n",
      "[[ 1  3]\n",
      " [ 5  7]\n",
      " [ 9 11]]\n"
     ]
    }
   ],
   "source": [
    "a = np.arange(1, 13).reshape(3, 4)\n",
    "print(a)\n",
    "print()\n",
    "print(a[:2, 2:])\n",
    "print()\n",
    "print(a[:, ::2])"
   ]
  },
  {
   "cell_type": "code",
   "execution_count": 22,
   "metadata": {},
   "outputs": [
    {
     "name": "stdout",
     "output_type": "stream",
     "text": [
      "[[ 1  2  3  4]\n",
      " [ 5  6  7  8]\n",
      " [ 9 10 11 12]]\n",
      "[1 2 3 4]\n",
      "[5 6 7 8]\n",
      "[ 9 10 11 12]\n"
     ]
    }
   ],
   "source": [
    "# цикл FOR для прохождения по массиву\n",
    "\n",
    "a = np.arange(1, 13).reshape(3, 4)\n",
    "print(a)\n",
    "for row in a:\n",
    "    print(row)"
   ]
  },
  {
   "attachments": {},
   "cell_type": "markdown",
   "metadata": {},
   "source": [
    "#### Для линеаризации многомерного массива можно использовать атрибут flat, который является итератором, возвращающим последовательно значения массива:"
   ]
  },
  {
   "cell_type": "code",
   "execution_count": 21,
   "metadata": {},
   "outputs": [
    {
     "name": "stdout",
     "output_type": "stream",
     "text": [
      "[[ 1  2  3  4]\n",
      " [ 5  6  7  8]\n",
      " [ 9 10 11 12]]\n",
      "\n",
      "1; 2; 3; 4; 5; 6; 7; 8; 9; 10; 11; 12\n"
     ]
    }
   ],
   "source": [
    "a = np.arange(1, 13).reshape(3, 4)\n",
    "print(a)\n",
    "print()\n",
    "print(\"; \".join(str(el) for el in a.flat))"
   ]
  },
  {
   "cell_type": "code",
   "execution_count": 23,
   "metadata": {},
   "outputs": [
    {
     "name": "stdout",
     "output_type": "stream",
     "text": [
      "Результат итератора: 21081849486.439312.\n",
      "1.0495250225067139 с.\n",
      "Результат numpy: 21081849486.442448.\n",
      "0.04241490364074707 с.\n"
     ]
    }
   ],
   "source": [
    "import numpy as np\n",
    "from time import time\n",
    "\n",
    "t = time()\n",
    "print(f\"Результат итератора: {sum(x ** 0.5 for x in range(10 ** 7))}.\")\n",
    "print(f\"{time() - t} с.\")\n",
    "t = time()\n",
    "print(f\"Результат numpy: {np.sqrt(np.arange(10 ** 7)).sum()}.\")\n",
    "print(f\"{time() - t} с.\")"
   ]
  },
  {
   "attachments": {},
   "cell_type": "markdown",
   "metadata": {},
   "source": [
    "# 6.2. Модуль pandas\n",
    "В библиотеке pandas определены два класса объектов для работы с данными:\n",
    "\n",
    "Series – одномерный массив, который может хранить значения любого типа данных.\n",
    "DataFrame – двумерный массив (таблица), в котором столбцами являются объекты класса Series.\n",
    "Создать объект класса Series можно следующим образом:\n",
    "\n",
    "s = pd.Series(data, index=index)\n",
    "\n",
    "В качестве data могут выступать: массив numpy, словарь, число. В аргумент index передаётся список меток осей. Метка может быть числом, но чаще используются метки-строки.\n",
    "\n",
    "Если data является массивом numpy, то index должен иметь такую же длину, как и data. Если аргумент index не передаётся, то по умолчанию для index автоматически назначается список [0, ..., len(data) - 1]:"
   ]
  },
  {
   "cell_type": "code",
   "execution_count": 6,
   "metadata": {},
   "outputs": [
    {
     "name": "stdout",
     "output_type": "stream",
     "text": [
      "a    0\n",
      "b    1\n",
      "c    2\n",
      "d    3\n",
      "e    4\n",
      "dtype: int64\n",
      "--*----*----*----*----*--\n",
      "0    0.00\n",
      "1    0.25\n",
      "2    0.50\n",
      "3    0.75\n",
      "4    1.00\n",
      "dtype: float64\n"
     ]
    }
   ],
   "source": [
    "import pandas as pd\n",
    "import numpy as np\n",
    "s = pd.Series(np.arange(5), index=[\"a\", \"b\", \"c\", \"d\", \"e\"])\n",
    "print(s)\n",
    "print(5*'--*--')\n",
    "s = pd.Series(np.linspace(0, 1, 5))\n",
    "print(s)"
   ]
  },
  {
   "attachments": {},
   "cell_type": "markdown",
   "metadata": {},
   "source": [
    "Если `data задаётся словарём`, `а index не передаётся`, `то в качестве индекса используются ключи словари`. Если index передаётся, то его длина может не совпадать с длиной словаря data. В таком случае, по индексам, для которых нет ключа с соответствующим значением в словаре, будут храниться значения NaN – стандартное обозначение отсутствия данных в библиотеке pandas."
   ]
  },
  {
   "cell_type": "code",
   "execution_count": 10,
   "metadata": {},
   "outputs": [
    {
     "name": "stdout",
     "output_type": "stream",
     "text": [
      "a    10\n",
      "b    20\n",
      "c    30\n",
      "g    40\n",
      "dtype: int64\n",
      "--*----*----*----*----*--\n",
      "a    10.0\n",
      "b    20.0\n",
      "c    30.0\n",
      "d     NaN\n",
      "dtype: float64\n",
      "--*----*----*----*----*--\n",
      "a    5\n",
      "b    5\n",
      "c    5\n",
      "dtype: int64\n"
     ]
    }
   ],
   "source": [
    "d = {\"a\": 10, \"b\": 20, \"c\": 30, \"g\": 40}\n",
    "print(pd.Series(d))\n",
    "print(5*'--*--')\n",
    "print(pd.Series(d, index=[\"a\", \"b\", \"c\", \"d\"]))\n",
    "print(5*'--*--')\n",
    "index = [\"a\", \"b\", \"c\"]\n",
    "print(pd.Series(5, index=index))"
   ]
  },
  {
   "cell_type": "code",
   "execution_count": 11,
   "metadata": {},
   "outputs": [
    {
     "name": "stdout",
     "output_type": "stream",
     "text": [
      "Выбор одного элемента\n",
      "0\n",
      "Выбор нескольких элементов\n",
      "a    0\n",
      "d    3\n",
      "dtype: int64\n",
      "Срез\n",
      "b    1\n",
      "c    2\n",
      "d    3\n",
      "e    4\n",
      "dtype: int64\n",
      "Поэлементное сложение\n",
      "a    0\n",
      "b    2\n",
      "c    4\n",
      "d    6\n",
      "e    8\n",
      "dtype: int64\n"
     ]
    }
   ],
   "source": [
    "s = pd.Series(np.arange(5), index=[\"a\", \"b\", \"c\", \"d\", \"e\"])\n",
    "print(\"Выбор одного элемента\")\n",
    "print(s[\"a\"])\n",
    "print(\"Выбор нескольких элементов\")\n",
    "print(s[[\"a\", \"d\"]])\n",
    "print(\"Срез\")\n",
    "print(s[1:])\n",
    "print(\"Поэлементное сложение\")\n",
    "print(s + s)"
   ]
  },
  {
   "cell_type": "code",
   "execution_count": 12,
   "metadata": {},
   "outputs": [
    {
     "name": "stdout",
     "output_type": "stream",
     "text": [
      "Фильтрация\n",
      "d    3\n",
      "e    4\n",
      "dtype: int64\n"
     ]
    }
   ],
   "source": [
    "s = pd.Series(np.arange(5), index=[\"a\", \"b\", \"c\", \"d\", \"e\"])\n",
    "print(\"Фильтрация\")\n",
    "print(s[s > 2])"
   ]
  },
  {
   "attachments": {},
   "cell_type": "markdown",
   "metadata": {},
   "source": [
    "Объекты Series имеют атрибут name со значением имени набора данных, а также атрибут index.name с именем для индексов:\n",
    "\n"
   ]
  },
  {
   "cell_type": "code",
   "execution_count": 13,
   "metadata": {},
   "outputs": [
    {
     "name": "stdout",
     "output_type": "stream",
     "text": [
      "Индекс\n",
      "a    0\n",
      "b    1\n",
      "c    2\n",
      "d    3\n",
      "e    4\n",
      "Name: Данные, dtype: int64\n"
     ]
    }
   ],
   "source": [
    "s = pd.Series(np.arange(5), index=[\"a\", \"b\", \"c\", \"d\", \"e\"])\n",
    "s.name = \"Данные\"\n",
    "s.index.name = \"Индекс\"\n",
    "print(s)"
   ]
  },
  {
   "attachments": {},
   "cell_type": "markdown",
   "metadata": {},
   "source": [
    "### Объект класса `DataFrame` работает с двумерными табличными данными. Создать DataFrame `проще всего из словаря Python `следующим образом:\n",
    "\n"
   ]
  },
  {
   "cell_type": "code",
   "execution_count": 14,
   "metadata": {},
   "outputs": [
    {
     "name": "stdout",
     "output_type": "stream",
     "text": [
      "     student  math  physics\n",
      "0  Студент_1     5        4\n",
      "1  Студент_2     3        5\n",
      "2  Студент_3     4        5\n"
     ]
    }
   ],
   "source": [
    "students_marks_dict = {\"student\": [\"Студент_1\", \"Студент_2\", \"Студент_3\"],\n",
    "                       \"math\": [5, 3, 4],\n",
    "                       \"physics\": [4, 5, 5]}\n",
    "students = pd.DataFrame(students_marks_dict)\n",
    "print(students)"
   ]
  },
  {
   "cell_type": "code",
   "execution_count": 15,
   "metadata": {},
   "outputs": [
    {
     "name": "stdout",
     "output_type": "stream",
     "text": [
      "RangeIndex(start=0, stop=3, step=1)\n",
      "Index(['student', 'math', 'physics'], dtype='object')\n"
     ]
    }
   ],
   "source": [
    "print(students.index)\n",
    "print(students.columns)"
   ]
  },
  {
   "cell_type": "code",
   "execution_count": 16,
   "metadata": {},
   "outputs": [
    {
     "name": "stdout",
     "output_type": "stream",
     "text": [
      "     student  math  physics\n",
      "A  Студент_1     5        4\n",
      "B  Студент_2     3        5\n",
      "C  Студент_3     4        5\n"
     ]
    }
   ],
   "source": [
    "students.index = [\"A\", \"B\", \"C\"]\n",
    "print(students)"
   ]
  },
  {
   "attachments": {},
   "cell_type": "markdown",
   "metadata": {},
   "source": [
    "Для доступа к записям таблицы по строковой метке используется атрибут `loc`. При использовании строковой метки доступна операция `среза`:"
   ]
  },
  {
   "cell_type": "code",
   "execution_count": 18,
   "metadata": {},
   "outputs": [
    {
     "name": "stdout",
     "output_type": "stream",
     "text": [
      "     student  math  physics\n",
      "B  Студент_2     3        5\n",
      "C  Студент_3     4        5\n",
      "<class 'pandas.core.series.Series'>\n"
     ]
    }
   ],
   "source": [
    "print(students.loc[\"B\":])\n",
    "print(type(students[\"student\"]))"
   ]
  },
  {
   "attachments": {},
   "cell_type": "markdown",
   "metadata": {},
   "source": [
    "# 6.3. Модуль requests\n",
    "\n",
    "Давайте подумаем о том, каким образом данные передаются от одного устройства другому в компьютерных сетях. Данные изначально представлены в виде последовательности байт. А между устройствами эти байты уже передаются в виде физического сигнала различной природы: электричество, радиоволна, свет и др. Всего выделяют 7 уровней, которые проходят данные, начиная с представления в виде байтов и заканчивая физическим сигналом.\n",
    "\n",
    "Эти уровни передачи определены в стандарте OSI (The Open Systems Interconnection model, модель взаимодействия открытых систем). На каждом уровне описаны протоколы, по которым происходит обмен данными. Протокол – это набор правил, который определяет процесс обмена данными между различными устройствами или программами."
   ]
  },
  {
   "attachments": {},
   "cell_type": "markdown",
   "metadata": {},
   "source": [
    "Давайте сделаем первый запрос к Static API. Для этого надо открыть документацию и понять каким должен быть запрос. Запрос к Static API имеет следующий формат: https://static-maps.yandex.ru/1.x/?{параметры URL}. Воспользуемся примерами использования и выполним в браузере следующий запрос:\n",
    "https://static-maps.yandex.ru/1.x/?ll=37.677751,55.757718&spn=0.016457,0.00619&l=map\n",
    "\n",
    "Параметр ll отвечает за координаты центра карты (через запятую указываются долгота и широта в градусах). Параметр spn определяет область показа (протяженность карты в градусах по долготе и широте). Параметр l определяет тип карты (в запросе используется тип map – схема). Все возможные параметры запроса можно посмотреть в документации.\n",
    "\n",
    "В ответе на запрос сервер пришлёт часть карты по запрошенным координатам.\n",
    "\n",
    "Чтобы воспользоваться API в программе, нужно из неё отправить такой же запрос, а затем получить ответ сервера. Для удобного формирования HTTP-запросов и получения ответов можно использовать библиотеку requests.\n",
    "\n",
    "Библиотека requests является нестандартной и устанавливается следующей командой:"
   ]
  },
  {
   "cell_type": "code",
   "execution_count": 19,
   "metadata": {},
   "outputs": [
    {
     "name": "stdout",
     "output_type": "stream",
     "text": [
      "Requirement already satisfied: requests in /Users/nikitav/Desktop/ITMO/my_courses/My_education/.conda/lib/python3.9/site-packages (2.28.2)\n",
      "Requirement already satisfied: idna<4,>=2.5 in /Users/nikitav/Desktop/ITMO/my_courses/My_education/.conda/lib/python3.9/site-packages (from requests) (3.4)\n",
      "Requirement already satisfied: charset-normalizer<4,>=2 in /Users/nikitav/Desktop/ITMO/my_courses/My_education/.conda/lib/python3.9/site-packages (from requests) (3.0.1)\n",
      "Requirement already satisfied: certifi>=2017.4.17 in /Users/nikitav/Desktop/ITMO/my_courses/My_education/.conda/lib/python3.9/site-packages (from requests) (2022.12.7)\n",
      "Requirement already satisfied: urllib3<1.27,>=1.21.1 in /Users/nikitav/Desktop/ITMO/my_courses/My_education/.conda/lib/python3.9/site-packages (from requests) (1.26.14)\n"
     ]
    }
   ],
   "source": [
    "!pip install requests"
   ]
  },
  {
   "cell_type": "code",
   "execution_count": 20,
   "metadata": {},
   "outputs": [
    {
     "name": "stdout",
     "output_type": "stream",
     "text": [
      "<Response [200]>\n"
     ]
    }
   ],
   "source": [
    "from requests import get\n",
    "\n",
    "response = get(\"https://static-maps.yandex.ru/1.x/?\"\n",
    "             \"ll=37.677751,55.757718&\"\n",
    "             \"spn=0.016457,0.00619&\"\n",
    "             \"l=map\")\n",
    "print(response)"
   ]
  },
  {
   "attachments": {},
   "cell_type": "markdown",
   "metadata": {},
   "source": [
    "Функция get() вернула ответ HTTP-сервера с кодом 200. Значит, запрос был обработан успешно. Для получения данных из ответа сервера воспользуемся атрибутом content. В этом атрибуте находятся данные в виде последовательности байтов. Из документации Static API известно, что ответом сервера на успешный запрос должен быть графический файл формата PNG. Запишем данные из ответа сервера в новый файл с расширением .png. Для этого откроем файл функцией open() на запись в бинарном режиме (wb), так как будем сохранять байты, а не текст. А затем воспользуемся методом write() созданного файлового объекта:"
   ]
  },
  {
   "cell_type": "code",
   "execution_count": 21,
   "metadata": {},
   "outputs": [],
   "source": [
    "with open(\"map.png\", \"wb\") as file:\n",
    "    file.write(response.content)"
   ]
  }
 ],
 "metadata": {
  "kernelspec": {
   "display_name": "Python 3",
   "language": "python",
   "name": "python3"
  },
  "language_info": {
   "codemirror_mode": {
    "name": "ipython",
    "version": 3
   },
   "file_extension": ".py",
   "mimetype": "text/x-python",
   "name": "python",
   "nbconvert_exporter": "python",
   "pygments_lexer": "ipython3",
   "version": "3.9.16"
  },
  "orig_nbformat": 4,
  "vscode": {
   "interpreter": {
    "hash": "e80bfe3c6697afa5886fed20a41aad3c2f3e04aa92f9236622e9d73caeff43b9"
   }
  }
 },
 "nbformat": 4,
 "nbformat_minor": 2
}
