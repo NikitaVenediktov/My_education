{
 "cells": [
  {
   "attachments": {},
   "cell_type": "markdown",
   "metadata": {},
   "source": [
    "# 5.1. Объектная модель Python. Классы, поля и методы\n",
    "<!-- dsfg -->"
   ]
  },
  {
   "attachments": {},
   "cell_type": "markdown",
   "metadata": {},
   "source": [
    "## в питоне все явлется обхектами, а каждый объект относится в какому-то классу поеэтому можно любой объект проверить на класс\n"
   ]
  },
  {
   "cell_type": "code",
   "execution_count": 7,
   "metadata": {},
   "outputs": [
    {
     "name": "stdout",
     "output_type": "stream",
     "text": [
      "<class 'int'>\n",
      "<class 'float'>\n",
      "<class 'function'>\n"
     ]
    }
   ],
   "source": [
    "print(type(1))\n",
    "print(type(.1))\n",
    "print(type(lambda x: (x in range(5))))"
   ]
  },
  {
   "attachments": {},
   "cell_type": "markdown",
   "metadata": {},
   "source": [
    "class <ИмяКласса>:\n",
    "    <описание класса>"
   ]
  },
  {
   "cell_type": "code",
   "execution_count": null,
   "metadata": {},
   "outputs": [],
   "source": [
    "class Car:\n",
    "    pass # заглушка"
   ]
  },
  {
   "attachments": {},
   "cell_type": "markdown",
   "metadata": {},
   "source": [
    "Свойства объектов называются атрибутами. По сути атрибуты — переменные, в значениях которых хранятся свойства объекта. Для создания или изменения значения атрибута необходимо использовать следующий синтаксис:\n",
    "```\n",
    "<имя_объекта>.<имя_атрибута> = <значение>\n",
    "```\n",
    "Действия объектов называются методами. Методы очень похожи на функции, в них можно передавать аргументы и возвращать значения с помощью оператора return, но вызываются методы после указания конкретного объекта. Для создания метода используется следующий синтаксис:\n",
    "```\n",
    "def <имя_метода>(self, <аргументы>):\n",
    "    <тело метода>\n",
    "```"
   ]
  },
  {
   "attachments": {},
   "cell_type": "markdown",
   "metadata": {},
   "source": [
    "В методах первым аргументом всегда идёт объект self. Он является объектом, для которого вызван метод. self позволяет использовать внутри описания класса атрибуты объекта в методах и вызывать сами методы.\n",
    "\n",
    "Во всех классах Python есть специальный метод __init()__, который вызывается при создании объекта. В этом методе происходит инициализация всех атрибутов класса. В методы можно передавать аргументы. Вернёмся к нашему примеру и создадим в классе метод __init()__, который будет при создании автомобиля принимать его свойства как аргументы:\n"
   ]
  },
  {
   "cell_type": "code",
   "execution_count": null,
   "metadata": {},
   "outputs": [],
   "source": [
    "class Car:\n",
    "\n",
    "    def __init__(self, color, consumption, tank_volume, mileage=0):\n",
    "        self.color = color\n",
    "        self.consumption = consumption\n",
    "        self.tank_volume = tank_volume\n",
    "        self.reserve = tank_volume\n",
    "        self.mileage = mileage\n",
    "        self.engine_on = False"
   ]
  },
  {
   "attachments": {},
   "cell_type": "markdown",
   "metadata": {},
   "source": [
    "Итак, мы создали класс автомобилей и описали метод __init__() для инициализации его объектов. Для создания объекта класса нужно использовать следующий синтаксис:\n",
    "\n",
    "```<имя_объекта> = <ИмяКласса>(<аргументы метода __init__>)```\n",
    "\n",
    "Создадим в программе автомобиль класса Car. Для этого добавим следующую строку в основной код программы после описания класса, отделив от класса согласно PEP8 двумя пустыми строками:\n",
    "\n",
    "```car_1 = Car(color=\"black\", consumption=10, tank_volume=55)```"
   ]
  },
  {
   "cell_type": "code",
   "execution_count": 8,
   "metadata": {},
   "outputs": [
    {
     "name": "stdout",
     "output_type": "stream",
     "text": [
      "Двигатель запущен.\n",
      "Проехали 100 км. Остаток топлива: 45.0 л.\n",
      "Проехали 100 км. Остаток топлива: 35.0 л.\n",
      "Проехали 100 км. Остаток топлива: 25.0 л.\n",
      "Малый запас топлива.\n",
      "Пробег 300 км.\n",
      "Запас топлива 25.0 л.\n",
      "Двигатель остановлен.\n",
      "Двигатель не запущен.\n"
     ]
    }
   ],
   "source": [
    "class Car:\n",
    "\n",
    "    def __init__(self, color, consumption, tank_volume, mileage=0):\n",
    "        self.color = color\n",
    "        self.consumption = consumption\n",
    "        self.tank_volume = tank_volume\n",
    "        self.reserve = tank_volume\n",
    "        self.mileage = mileage\n",
    "        self.engine_on = False\n",
    "\n",
    "    def start_engine(self):\n",
    "        if not self.engine_on and self.reserve > 0:\n",
    "            self.engine_on = True\n",
    "            return \"Двигатель запущен.\"\n",
    "        return \"Двигатель уже был запущен.\"\n",
    "\n",
    "    def stop_engine(self):\n",
    "        if self.engine_on:\n",
    "            self.engine_on = False\n",
    "            return \"Двигатель остановлен.\"\n",
    "        return \"Двигатель уже был остановлен.\"\n",
    "\n",
    "    def drive(self, distance):\n",
    "        if not self.engine_on:\n",
    "            return \"Двигатель не запущен.\"\n",
    "        if self.reserve / self.consumption * 100 < distance:\n",
    "            return \"Малый запас топлива.\"\n",
    "        self.mileage += distance\n",
    "        self.reserve -= distance / 100 * self.consumption\n",
    "        return f\"Проехали {distance} км. Остаток топлива: {self.reserve} л.\"\n",
    "\n",
    "    def refuel(self):\n",
    "        self.reserve = self.tank_volume\n",
    "\n",
    "    def get_mileage(self):\n",
    "        return self.mileage\n",
    "\n",
    "    def get_reserve(self):\n",
    "        return self.reserve\n",
    "\n",
    "\n",
    "car_1 = Car(color=\"black\", consumption=10, tank_volume=55)\n",
    "print(car_1.start_engine())\n",
    "print(car_1.drive(100))\n",
    "print(car_1.drive(100))\n",
    "print(car_1.drive(100))\n",
    "print(car_1.drive(300))\n",
    "print(f\"Пробег {car_1.get_mileage()} км.\")\n",
    "print(f\"Запас топлива {car_1.get_reserve()} л.\")\n",
    "print(car_1.stop_engine())\n",
    "print(car_1.drive(100))"
   ]
  },
  {
   "attachments": {},
   "cell_type": "markdown",
   "metadata": {},
   "source": [
    "Обратите внимание: взаимодействие с объектом класса вне описания класса осуществляется только с помощью методов и прямого доступа к атрибутам не происходит. Этот принцип ООП называется инкапсуляцией.\n",
    "\n",
    "`Инкапсуляция` заключается в сокрытии внутреннего устройства класса за интерфейсом, состоящим из методов класса. Это необходимо, чтобы не нарушать логику работы методов внутри класса. Если не следовать принципу инкапсуляции и попытаться взаимодействовать с атрибутами напрямую, то могут происходить изменения, которые приведут к ошибкам. Например, если в нашем примере попытаться изменить пробег напрямую, а не с помощью метода drive(), то автомобиль проедет указанный путь даже с пустым баком и без расхода топлива:"
   ]
  },
  {
   "cell_type": "code",
   "execution_count": 9,
   "metadata": {},
   "outputs": [
    {
     "name": "stdout",
     "output_type": "stream",
     "text": [
      "Пробег 1000 км.\n",
      "Запас топлива 55 л.\n"
     ]
    }
   ],
   "source": [
    "car_1 = Car(color=\"black\", consumption=10, tank_volume=55)\n",
    "car_1.mileage = 1000\n",
    "print(f\"Пробег {car_1.get_mileage()} км.\")\n",
    "print(f\"Запас топлива {car_1.get_reserve()} л.\")"
   ]
  },
  {
   "cell_type": "code",
   "execution_count": 10,
   "metadata": {},
   "outputs": [],
   "source": [
    "class ElectricCar:\n",
    "\n",
    "    def __init__(self, color, consumption, bat_capacity, mileage=0):\n",
    "        self.color = color\n",
    "        self.consumption = consumption\n",
    "        self.bat_capacity = bat_capacity\n",
    "        self.reserve = bat_capacity\n",
    "        self.mileage = mileage\n",
    "        self.engine_on = False\n",
    "\n",
    "    def start_engine(self):\n",
    "        if not self.engine_on and self.reserve > 0:\n",
    "            self.engine_on = True\n",
    "            return \"Двигатель запущен.\"\n",
    "        return \"Двигатель уже был запущен.\"\n",
    "\n",
    "    def stop_engine(self):\n",
    "        if self.engine_on:\n",
    "            self.engine_on = False\n",
    "            return \"Двигатель остановлен.\"\n",
    "        return \"Двигатель уже был остановлен.\"\n",
    "\n",
    "    def drive(self, distance):\n",
    "        if not self.engine_on:\n",
    "            return \"Двигатель не запущен.\"\n",
    "        if self.reserve / self.consumption * 100 < distance:\n",
    "            return \"Малый заряд батареи.\"\n",
    "        self.mileage += distance\n",
    "        self.reserve -= distance / 100 * self.consumption\n",
    "        return f\"Проехали {distance} км. Остаток заряда: {self.reserve} кВт*ч.\"\n",
    "\n",
    "    def recharge(self):\n",
    "        self.reserve = self.bat_capacity\n",
    "\n",
    "    def get_mileage(self):\n",
    "        return self.mileage\n",
    "\n",
    "    def get_reserve(self):\n",
    "        return self.reserve"
   ]
  },
  {
   "attachments": {},
   "cell_type": "markdown",
   "metadata": {},
   "source": [
    "Напишем функцию range_reserve(), которая будет определять для автомобилей классов Car и ElectricCar запас хода в километрах. Функции, которые могут работать с объектами разных классов, называются полиморфными. А сам принцип ООП называется `полиморфизмом`.\n",
    "\n",
    "Чтобы функция работала для объектов обоих классов, необходимо предусмотреть одинаковый интерфейс в классах. Это означает, что методы классов, используемые в функции, должны называться одинаково, принимать одинаковые аргументы и возвращать значения одного типа данных."
   ]
  },
  {
   "cell_type": "code",
   "execution_count": 11,
   "metadata": {},
   "outputs": [
    {
     "name": "stdout",
     "output_type": "stream",
     "text": [
      "Запас хода: 550.0 км.\n",
      "Запас хода: 600.0 км.\n"
     ]
    }
   ],
   "source": [
    "class Car:\n",
    "\n",
    "    def __init__(self, color, consumption, tank_volume, mileage=0):\n",
    "        self.color = color\n",
    "        self.consumption = consumption\n",
    "        self.tank_volume = tank_volume\n",
    "        self.reserve = tank_volume\n",
    "        self.mileage = mileage\n",
    "        self.engine_on = False\n",
    "\n",
    "    def start_engine(self):\n",
    "        if not self.engine_on and self.reserve > 0:\n",
    "            self.engine_on = True\n",
    "            return \"Двигатель запущен.\"\n",
    "        return \"Двигатель уже был запущен.\"\n",
    "\n",
    "    def stop_engine(self):\n",
    "        if self.engine_on:\n",
    "            self.engine_on = False\n",
    "            return \"Двигатель остановлен.\"\n",
    "        return \"Двигатель уже был остановлен.\"\n",
    "\n",
    "    def drive(self, distance):\n",
    "        if not self.engine_on:\n",
    "            return \"Двигатель не запущен.\"\n",
    "        if self.reserve / self.consumption * 100 < distance:\n",
    "            return \"Малый запас топлива.\"\n",
    "        self.mileage += distance\n",
    "        self.reserve -= distance / 100 * self.consumption\n",
    "        return f\"Проехали {distance} км. Остаток топлива: {self.reserve} л.\"\n",
    "\n",
    "    def refuel(self):\n",
    "        self.reserve = self.tank_volume\n",
    "\n",
    "    def get_mileage(self):\n",
    "        return self.mileage\n",
    "\n",
    "    def get_reserve(self):\n",
    "        return self.reserve\n",
    "\n",
    "    def get_consumption(self):\n",
    "        return self.consumption\n",
    "\n",
    "\n",
    "class ElectricCar:\n",
    "\n",
    "    def __init__(self, color, consumption, bat_capacity, mileage=0):\n",
    "        self.color = color\n",
    "        self.consumption = consumption\n",
    "        self.bat_capacity = bat_capacity\n",
    "        self.reserve = bat_capacity\n",
    "        self.mileage = mileage\n",
    "        self.engine_on = False\n",
    "\n",
    "    def start_engine(self):\n",
    "        if not self.engine_on and self.reserve > 0:\n",
    "            self.engine_on = True\n",
    "            return \"Двигатель запущен.\"\n",
    "        return \"Двигатель уже был запущен.\"\n",
    "\n",
    "    def stop_engine(self):\n",
    "        if self.engine_on:\n",
    "            self.engine_on = False\n",
    "            return \"Двигатель остановлен.\"\n",
    "        return \"Двигатель уже был остановлен.\"\n",
    "\n",
    "    def drive(self, distance):\n",
    "        if not self.engine_on:\n",
    "            return \"Двигатель не запущен.\"\n",
    "        if self.reserve / self.consumption * 100 < distance:\n",
    "            return \"Малый заряд батареи.\"\n",
    "        self.mileage += distance\n",
    "        self.reserve -= distance / 100 * self.consumption\n",
    "        return f\"Проехали {distance} км. Остаток заряда: {self.reserve} кВт*ч.\"\n",
    "\n",
    "    def recharge(self):\n",
    "        self.reserve = self.bat_capacity\n",
    "\n",
    "    def get_mileage(self):\n",
    "        return self.mileage\n",
    "\n",
    "    def get_reserve(self):\n",
    "        return self.reserve\n",
    "\n",
    "    def get_consumption(self):\n",
    "        return self.consumption\n",
    "\n",
    "\n",
    "def range_reserve(car):\n",
    "    return car.get_reserve() / car.get_consumption() * 100\n",
    "\n",
    "\n",
    "car_1 = Car(color=\"black\", consumption=10, tank_volume=55)\n",
    "car_2 = ElectricCar(color=\"white\", consumption=15, bat_capacity=90)\n",
    "print(f\"Запас хода: {range_reserve(car_1)} км.\")\n",
    "print(f\"Запас хода: {range_reserve(car_2)} км.\")"
   ]
  },
  {
   "attachments": {},
   "cell_type": "markdown",
   "metadata": {},
   "source": [
    "# 5.2. Волшебные методы, переопределение методов. Наследование"
   ]
  },
  {
   "attachments": {},
   "cell_type": "markdown",
   "metadata": {},
   "source": [
    "В ООП для создания новых классов на основе других применяется принцип `наследования`.\n",
    "\n",
    "Наследование позволяет при создании нового класса указать для него `базовый класс`. От базового класса `наследуется вся его структура – атрибуты и методы`. Созданный класс-наследник называется `производным классом`\n",
    "\n",
    "Покажем принцип наследования на примере. Напишем класс \"карандаш\"\" Pencil, который в качестве атрибута хранит цвет карандаша. Карандашом можно нарисовать рисунок. Также напишем класс \"ручка\" Pen, который также хранит цвет, но кроме создания рисунка может ещё и подписать документ, если цвет ручки синий, чёрный или фиолетовый."
   ]
  },
  {
   "cell_type": "code",
   "execution_count": 1,
   "metadata": {},
   "outputs": [
    {
     "name": "stdout",
     "output_type": "stream",
     "text": [
      "Нарисован рисунок цветом 'синий'.\n",
      "Подписан документ.\n",
      "Нарисован рисунок цветом 'красный'.\n",
      "Ручкой цвета 'красный' нельзя подписать документ.\n"
     ]
    }
   ],
   "source": [
    "class Pencil:\n",
    "\n",
    "    def __init__(self, color=\"серый\"):\n",
    "        self.color = color\n",
    "\n",
    "    def draw_picture(self):\n",
    "        return f\"Нарисован рисунок цветом '{self.color}'.\"\n",
    "\n",
    "\n",
    "class Pen(Pencil):\n",
    "\n",
    "    def sign_document(self):\n",
    "        if self.color not in (\"синий\", \"чёрный\", \"фиолетовый\"):\n",
    "            return f\"Ручкой цвета '{self.color}' нельзя подписать документ.\"\n",
    "        return f\"Подписан документ.\"\n",
    "\n",
    "\n",
    "blue_pen = Pen(color=\"синий\")\n",
    "print(blue_pen.draw_picture())\n",
    "print(blue_pen.sign_document())\n",
    "red_pen = Pen(color=\"красный\")\n",
    "print(red_pen.draw_picture())\n",
    "print(red_pen.sign_document())"
   ]
  },
  {
   "attachments": {},
   "cell_type": "markdown",
   "metadata": {},
   "source": [
    "Добавим в классе \"ручка\" возможность указать тип ручки: шариковая, гелевая, перьевая и так далее. И пусть подписать документ можно любой ручкой кроме гелевой. Для получения типа ручки нам нужно модифицировать метод __init__, добавив в него аргумент pen_type и сохранив его значение в атрибуте. Таким образом, нам нужно дополнить метод базового класса. `Такая операция при наследовании называется расширением метода.`\n",
    "\n",
    "При расширении методов необходимо вначале вызвать метод базового класса с помощью функции `super()`. Если этого не сделать, то не будут созданы атрибуты базового класса в производном классе, и это приведет к ошибке отсутствия атрибутов.\n",
    "\n",
    "Модифицируем нашу программу:"
   ]
  },
  {
   "cell_type": "code",
   "execution_count": 2,
   "metadata": {},
   "outputs": [
    {
     "name": "stdout",
     "output_type": "stream",
     "text": [
      "Нарисован рисунок цветом 'синий'.\n",
      "Подписан документ.\n",
      "Нарисован рисунок цветом 'синий'.\n",
      "Ручкой типа 'гелевая' нельзя подписать документ.\n"
     ]
    }
   ],
   "source": [
    "class Pencil:\n",
    "\n",
    "    def __init__(self, color=\"серый\"):\n",
    "        self.color = color\n",
    "\n",
    "    def draw_picture(self):\n",
    "        return f\"Нарисован рисунок цветом '{self.color}'.\"\n",
    "\n",
    "\n",
    "class Pen(Pencil):\n",
    "\n",
    "    def __init__(self, color, pen_type):\n",
    "        super().__init__(color=color)\n",
    "        self.pen_type = pen_type\n",
    "\n",
    "    def sign_document(self):\n",
    "        if self.color not in (\"синий\", \"чёрный\", \"фиолетовый\"):\n",
    "            return f\"Ручкой цвета '{self.color}' нельзя подписать документ.\"\n",
    "        elif self.pen_type == \"гелевая\":\n",
    "            return f\"Ручкой типа '{self.pen_type}' нельзя подписать документ.\"\n",
    "        return f\"Подписан документ.\"\n",
    "\n",
    "\n",
    "blue_ball_pen = Pen(color=\"синий\", pen_type=\"шариковая\")\n",
    "print(blue_ball_pen.draw_picture())\n",
    "print(blue_ball_pen.sign_document())\n",
    "blue_gel_pen = Pen(color=\"синий\", pen_type=\"гелевая\")\n",
    "print(blue_gel_pen.draw_picture())\n",
    "print(blue_gel_pen.sign_document())"
   ]
  }
 ],
 "metadata": {
  "kernelspec": {
   "display_name": "Python 3",
   "language": "python",
   "name": "python3"
  },
  "language_info": {
   "codemirror_mode": {
    "name": "ipython",
    "version": 3
   },
   "file_extension": ".py",
   "mimetype": "text/x-python",
   "name": "python",
   "nbconvert_exporter": "python",
   "pygments_lexer": "ipython3",
   "version": "3.9.16"
  },
  "orig_nbformat": 4,
  "vscode": {
   "interpreter": {
    "hash": "e80bfe3c6697afa5886fed20a41aad3c2f3e04aa92f9236622e9d73caeff43b9"
   }
  }
 },
 "nbformat": 4,
 "nbformat_minor": 2
}
