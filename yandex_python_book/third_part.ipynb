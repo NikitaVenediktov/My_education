{
 "cells": [
  {
   "attachments": {},
   "cell_type": "markdown",
   "metadata": {},
   "source": [
    "# 3.4. Встроенные возможности по работе с коллекциями"
   ]
  },
  {
   "attachments": {},
   "cell_type": "markdown",
   "metadata": {},
   "source": [
    "Функции библиотеки itertools можно разделить на следующие группы:\n",
    "\n",
    "- Функции, возвращающие бесконечные итераторы\n",
    "Эти функции позволяют создавать из конечных коллекций бесконечные итераторы, то есть их элементы можно перебирать в бесконечном цикле."
   ]
  },
  {
   "cell_type": "code",
   "execution_count": 1,
   "metadata": {},
   "outputs": [
    {
     "name": "stdout",
     "output_type": "stream",
     "text": [
      "0\n",
      "0.1\n",
      "0.2\n",
      "0.3\n",
      "0.4\n",
      "0.5\n",
      "0.6\n",
      "0.7\n",
      "0.8\n",
      "0.9\n",
      "1.0\n"
     ]
    }
   ],
   "source": [
    "from itertools import count \n",
    "#create generator \n",
    "\n",
    "for value in count(0, 0.1):\n",
    "    if value <= 1:\n",
    "        print(round(value, 1))\n",
    "    else:\n",
    "        break"
   ]
  },
  {
   "cell_type": "code",
   "execution_count": 2,
   "metadata": {},
   "outputs": [
    {
     "name": "stdout",
     "output_type": "stream",
     "text": [
      "ABCABCABCA\n"
     ]
    }
   ],
   "source": [
    "from itertools import cycle\n",
    "# \n",
    "max_len = 10\n",
    "s = \"\"\n",
    "for letter in cycle(\"ABC\"):\n",
    "    if len(s) < 10:\n",
    "        s += letter\n",
    "    else:\n",
    "        break\n",
    "print(s)"
   ]
  },
  {
   "cell_type": "code",
   "execution_count": 3,
   "metadata": {},
   "outputs": [
    {
     "name": "stdout",
     "output_type": "stream",
     "text": [
      "['ABC', 'ABC', 'ABC', 'ABC', 'ABC']\n"
     ]
    }
   ],
   "source": [
    "from itertools import repeat\n",
    "\n",
    "result = list(repeat(\"ABC\", 5))\n",
    "print(result)"
   ]
  },
  {
   "attachments": {},
   "cell_type": "markdown",
   "metadata": {},
   "source": [
    "- Функции, выполняющиеся до кратчайшей входной последовательности"
   ]
  },
  {
   "cell_type": "code",
   "execution_count": 4,
   "metadata": {},
   "outputs": [
    {
     "name": "stdout",
     "output_type": "stream",
     "text": [
      "1\n",
      "3\n",
      "6\n",
      "10\n",
      "15\n"
     ]
    }
   ],
   "source": [
    "from itertools import accumulate\n",
    "\n",
    "for value in accumulate([1, 2, 3, 4, 5]):\n",
    "    print(value)"
   ]
  },
  {
   "cell_type": "code",
   "execution_count": 5,
   "metadata": {},
   "outputs": [
    {
     "name": "stdout",
     "output_type": "stream",
     "text": [
      "['А', 'Б', 'В', 'Г', 'Д', 'Е', 'Ё', 'Ж', 'З', 'И', 'Й', 'К']\n"
     ]
    }
   ],
   "source": [
    "from itertools import chain\n",
    "\n",
    "values = list(chain(\"АБВ\", \"ГДЕЁ\", \"ЖЗИЙК\"))\n",
    "print(values)"
   ]
  },
  {
   "attachments": {},
   "cell_type": "markdown",
   "metadata": {},
   "source": [
    "- Функции для комбинаторики"
   ]
  },
  {
   "cell_type": "code",
   "execution_count": 6,
   "metadata": {},
   "outputs": [
    {
     "name": "stdout",
     "output_type": "stream",
     "text": [
      "[(1, 'А'), (1, 'Б'), (1, 'В'), (1, 'Г'), (2, 'А'), (2, 'Б'), (2, 'В'), (2, 'Г'), (3, 'А'), (3, 'Б'), (3, 'В'), (3, 'Г')]\n"
     ]
    }
   ],
   "source": [
    "from itertools import product\n",
    "\n",
    "values = list(product([1, 2, 3], \"АБВГ\"))\n",
    "print(values)"
   ]
  },
  {
   "cell_type": "code",
   "execution_count": 8,
   "metadata": {},
   "outputs": [
    {
     "name": "stdout",
     "output_type": "stream",
     "text": [
      "[(1, 'А', 1, 'А'), (1, 'А', 1, 'Б'), (1, 'А', 1, 'В'), (1, 'А', 1, 'Г'), (1, 'Б', 1, 'А'), (1, 'Б', 1, 'Б'), (1, 'Б', 1, 'В'), (1, 'Б', 1, 'Г'), (1, 'В', 1, 'А'), (1, 'В', 1, 'Б'), (1, 'В', 1, 'В'), (1, 'В', 1, 'Г'), (1, 'Г', 1, 'А'), (1, 'Г', 1, 'Б'), (1, 'Г', 1, 'В'), (1, 'Г', 1, 'Г')]\n"
     ]
    }
   ],
   "source": [
    "values = list(product([1 ], \"АБВГ\", repeat=2))\n",
    "print(values)"
   ]
  },
  {
   "cell_type": "code",
   "execution_count": 9,
   "metadata": {},
   "outputs": [
    {
     "name": "stdout",
     "output_type": "stream",
     "text": [
      "[('А', 'Б', 'В'), ('А', 'В', 'Б'), ('Б', 'А', 'В'), ('Б', 'В', 'А'), ('В', 'А', 'Б'), ('В', 'Б', 'А')]\n"
     ]
    }
   ],
   "source": [
    "from itertools import permutations\n",
    "# возвращает итератор, значениями которого являются \n",
    "# перестановки без повторений из элементов итерируемого объекта iterable. \n",
    "values = list(permutations(\"АБВ\"))\n",
    "print(values)"
   ]
  },
  {
   "cell_type": "code",
   "execution_count": 10,
   "metadata": {},
   "outputs": [
    {
     "name": "stdout",
     "output_type": "stream",
     "text": [
      "[('А', 'Б'), ('А', 'В'), ('Б', 'В')]\n"
     ]
    }
   ],
   "source": [
    "from itertools import combinations\n",
    "\n",
    "values = list(combinations(\"АБВ\", 2))\n",
    "print(values)"
   ]
  },
  {
   "cell_type": "code",
   "execution_count": 11,
   "metadata": {},
   "outputs": [
    {
     "name": "stdout",
     "output_type": "stream",
     "text": [
      "[('А', 'А'), ('А', 'Б'), ('А', 'В'), ('Б', 'Б'), ('Б', 'В'), ('В', 'В')]\n"
     ]
    }
   ],
   "source": [
    "from itertools import combinations_with_replacement\n",
    "\n",
    "values = list(combinations_with_replacement(\"АБВ\", 2))\n",
    "print(values)\n"
   ]
  },
  {
   "attachments": {},
   "cell_type": "markdown",
   "metadata": {},
   "source": [
    "С одной из них мы познакомились ранее — функцией enumerate(). Она принимает на вход коллекцию, а возвращает итератор, значениями которого будут кортежи пар вида (номер элемента, значение элемента из коллекции). Можно дополнительно передать начало отсчёта номеров элементов (по умолчанию отсчёт идёт с 0). Пример:"
   ]
  },
  {
   "cell_type": "code",
   "execution_count": 12,
   "metadata": {},
   "outputs": [
    {
     "name": "stdout",
     "output_type": "stream",
     "text": [
      "1 A\n",
      "2 B\n",
      "3 C\n"
     ]
    }
   ],
   "source": [
    "for index, value in enumerate(\"ABC\", 1):\n",
    "    print(index, value)"
   ]
  },
  {
   "cell_type": "code",
   "execution_count": 13,
   "metadata": {},
   "outputs": [
    {
     "name": "stdout",
     "output_type": "stream",
     "text": [
      "[('A', 1), ('B', 2), ('C', 3)]\n"
     ]
    }
   ],
   "source": [
    "print(list(zip(\"ABC\", [1, 2, 3])))"
   ]
  },
  {
   "attachments": {},
   "cell_type": "markdown",
   "metadata": {},
   "source": [
    "# 3.5. Потоковый ввод/вывод. Работа с текстовыми файлами. JSON"
   ]
  },
  {
   "cell_type": "code",
   "execution_count": 16,
   "metadata": {},
   "outputs": [
    {
     "name": "stdout",
     "output_type": "stream",
     "text": [
      "[]\n"
     ]
    }
   ],
   "source": [
    "from sys import stdin\n",
    "\n",
    "lines = []\n",
    "for line in stdin:\n",
    "    lines.append(line)\n",
    "print(lines) # ['Первая\\n', 'Вторая\\n', 'Третья\\n']"
   ]
  },
  {
   "cell_type": "code",
   "execution_count": null,
   "metadata": {},
   "outputs": [],
   "source": [
    "from sys import stdin\n",
    "\n",
    "lines = []\n",
    "for line in stdin:\n",
    "    lines.append(line.rstrip(\"\\n\"))\n",
    "print(lines) # ['Первая', 'Вторая', 'Третья']"
   ]
  },
  {
   "cell_type": "code",
   "execution_count": null,
   "metadata": {},
   "outputs": [],
   "source": [
    "# Сохранить строки из потока ввода в список можно ещё проще — достаточно использовать метод readlines(). \n",
    "# Главное — не забудьте о том, что символ \"\\n\" будет в конце каждой введённой строки:\n",
    "\n",
    "from sys import stdin\n",
    "\n",
    "lines = stdin.readlines()\n",
    "print(lines) # ['Первая"
   ]
  },
  {
   "cell_type": "code",
   "execution_count": null,
   "metadata": {},
   "outputs": [],
   "source": [
    "# Если необходимо сохранить все данные из потока ввода в одну строковую переменную, \n",
    "# это можно сделать с помощью метода read():\n",
    "from sys import stdin\n",
    "\n",
    "text = stdin.read()\n",
    "print([text]) # ['Первая\\nВторая\\nТретья\\n']"
   ]
  },
  {
   "attachments": {},
   "cell_type": "markdown",
   "metadata": {},
   "source": [
    "Для работы с файлами в Python есть встроенная функция open()"
   ]
  },
  {
   "cell_type": "code",
   "execution_count": null,
   "metadata": {},
   "outputs": [],
   "source": [
    "file_in = open(\"input_1.txt\", encoding=\"UTF-8\")\n",
    "for line in file_in:\n",
    "    print(line)\n",
    "file_in.close()"
   ]
  },
  {
   "cell_type": "code",
   "execution_count": null,
   "metadata": {},
   "outputs": [],
   "source": [
    "with open(\"input_1.txt\", encoding=\"UTF-8\") as file_in:\n",
    "    for line in file_in:\n",
    "        print(line.rstrip(\"\\n\"))"
   ]
  },
  {
   "cell_type": "code",
   "execution_count": null,
   "metadata": {},
   "outputs": [],
   "source": [
    "with open(\"output_1.txt\", \"w\", encoding=\"UTF-8\") as file_out:\n",
    "    n = file_out.write(\"Это первая строка\\nА вот и вторая\\nИ третья — последняя\\n\")\n",
    "print(n)"
   ]
  },
  {
   "cell_type": "code",
   "execution_count": null,
   "metadata": {},
   "outputs": [],
   "source": [
    "# Функция print() может быть использована для вывода данных в файл. \n",
    "# Для этого нужно передать ей в аргумент file файловый объект:\n",
    "\n",
    "with open(\"output_3.txt\", \"w\", encoding=\"UTF-8\") as file_out:\n",
    "    print(\"Вывод в файл с помощью функции print()\", file=file_out)"
   ]
  },
  {
   "cell_type": "code",
   "execution_count": 19,
   "metadata": {},
   "outputs": [
    {
     "name": "stdout",
     "output_type": "stream",
     "text": [
      "[{'last_name': 'Иванов', 'first_name': 'Иван', 'patronymic': 'Иванович', 'date_of_birth': '01.01.2001', 'group_number': 1, 'phone_numbers': ['+7 111 111 1111', '+7 111 111 1112']}, {'last_name': 'Петров', 'first_name': 'Пётр', 'patronymic': 'Петрович', 'date_of_birth': '10.10.2001', 'group_number': 1, 'phone_numbers': ['+7 111 111 1113', '+7 111 111 1114']}]\n"
     ]
    }
   ],
   "source": [
    "\n",
    "import json\n",
    "\n",
    "with open(\"data.json\", encoding=\"UTF-8\") as file_in:\n",
    "    records = json.load(file_in)\n",
    "print(records)"
   ]
  },
  {
   "attachments": {},
   "cell_type": "markdown",
   "metadata": {},
   "source": [
    "## Для записи изменённых данных в JSON-файл используется метод dump()"
   ]
  },
  {
   "cell_type": "code",
   "execution_count": 20,
   "metadata": {},
   "outputs": [],
   "source": [
    "# Изменим номер группы у второго студента и сохраним данные в исходный файл:\n",
    "\n",
    "import json\n",
    "\n",
    "with open(\"data.json\", encoding=\"UTF-8\") as file_in:\n",
    "    records = json.load(file_in)\n",
    "records[1][\"group_number\"] = 2\n",
    "with open(\"data.json\", \"w\", encoding=\"UTF-8\") as file_out:\n",
    "    json.dump(records, file_out, ensure_ascii=False, indent=2)"
   ]
  },
  {
   "attachments": {},
   "cell_type": "markdown",
   "metadata": {},
   "source": [
    "- ensure_ascii. Имеет значение по умолчанию True, при котором все не-ASCII-символы при выводе в файл представляют собой юникод-последовательности вида \\uXXXX (коды символов в таблице кодировки). Если аргумент имеет значение False, такие символы будут записаны в виде символов, а не их кодов. В примере используются русские символы, поэтому необходимо передать в аргумент значение False.\n",
    "\n",
    "- indent. Задаёт вид отступа для удобства чтения данных человеком. По умолчанию аргумент имеет значение None, а данные записываются в файл одной строкой. Если задать строку вместо None, то эта строка будет использоваться в качестве отступа. Если задать число больше 0, то отступ будет состоять из такого же количества пробелов.\n",
    "\n",
    "- sort_keys. Позволяет отсортировать ключи словаря с данными. По умолчанию имеет значение False. Для сортировки ключей необходимо передать в аргумент значение True."
   ]
  },
  {
   "cell_type": "code",
   "execution_count": 21,
   "metadata": {},
   "outputs": [],
   "source": [
    "records = {1: \"First\",\n",
    "           2: \"Second\",\n",
    "           3: \"Third\"}\n",
    "with open(\"output.json\", \"w\", encoding=\"UTF-8\") as file_out:\n",
    "    json.dump(records, file_out, ensure_ascii=False, indent=2)"
   ]
  }
 ],
 "metadata": {
  "kernelspec": {
   "display_name": "Python 3",
   "language": "python",
   "name": "python3"
  },
  "language_info": {
   "codemirror_mode": {
    "name": "ipython",
    "version": 3
   },
   "file_extension": ".py",
   "mimetype": "text/x-python",
   "name": "python",
   "nbconvert_exporter": "python",
   "pygments_lexer": "ipython3",
   "version": "3.9.6"
  },
  "orig_nbformat": 4,
  "vscode": {
   "interpreter": {
    "hash": "31f2aee4e71d21fbe5cf8b01ff0e069b9275f58929596ceb00d14d90e3e16cd6"
   }
  }
 },
 "nbformat": 4,
 "nbformat_minor": 2
}
