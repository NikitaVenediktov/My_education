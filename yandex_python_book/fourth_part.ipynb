{
 "cells": [
  {
   "attachments": {},
   "cell_type": "markdown",
   "metadata": {},
   "source": [
    "# 4.1. Функции. Области видимости. Передача параметров в функции"
   ]
  },
  {
   "cell_type": "code",
   "execution_count": 1,
   "metadata": {},
   "outputs": [
    {
     "name": "stdout",
     "output_type": "stream",
     "text": [
      "True\n",
      "(False, 0)\n"
     ]
    }
   ],
   "source": [
    "# Из функции можно вернуть сразу несколько значений. \n",
    "# Для этого их нужно перечислить через запятую после оператора return. \n",
    "# В программу эти значения вернутся в кортеже. Добавим в нашу функцию дополнительно возврат индекса первого \n",
    "# нечётного элемента, который встретится:\n",
    "\n",
    "def only_even(numbers):\n",
    "    for i, x in enumerate(numbers):\n",
    "        if x % 2 != 0:\n",
    "            return False, i\n",
    "    return True\n",
    "\n",
    "\n",
    "print(only_even([2, 4, 6]))\n",
    "print(only_even([1, 2, 3]))"
   ]
  },
  {
   "attachments": {},
   "cell_type": "markdown",
   "metadata": {},
   "source": [
    "Мы уже знаем, что аргумент функции — это локальная переменная. К нему также относится правило: изменение значения переменной (если это разрешено типом данных) действует на внешнюю переменную, а присваивание нового значения создаёт локальную переменную функции:\n"
   ]
  },
  {
   "cell_type": "code",
   "execution_count": 3,
   "metadata": {},
   "outputs": [
    {
     "name": "stdout",
     "output_type": "stream",
     "text": [
      "[1, 2, 3]\n",
      "[1, 2, 3, 4]\n"
     ]
    }
   ],
   "source": [
    "\n",
    "def list_modify_1(list_arg):\n",
    "    # создаём новый локальный список, не имеющий связи с внешним\n",
    "    list_arg = [1, 2, 3, 4]\n",
    "\n",
    "\n",
    "def list_modify_2(list_arg):\n",
    "    # меняем исходный внешний список, переданный как аргумент\n",
    "    list_arg += [4]\n",
    "\n",
    "\n",
    "sample_1 = [1, 2, 3]\n",
    "sample_2 = [1, 2, 3]\n",
    "list_modify_1(sample_1)\n",
    "list_modify_2(sample_2)\n",
    "print(sample_1)\n",
    "print(sample_2)"
   ]
  },
  {
   "attachments": {},
   "cell_type": "markdown",
   "metadata": {},
   "source": [
    "крч функция прям перезаписывать не может, но может дополнять или удалять"
   ]
  },
  {
   "attachments": {},
   "cell_type": "markdown",
   "metadata": {},
   "source": [
    "Чтобы функция могла принимать неограниченное количество именованных аргументов, нужно при её объявлении поставить аргумент с **. Например, **kwargs (сокращение от \"keyword arguments\"). В функции этот аргумент будет словарём, ключи которого будут строками, содержащими имена передаваемых аргументов, а значения по ключам будут соответствовать значениям передаваемых аргументов.\n",
    "Добавим в нашу функцию возможность принимать границы диапазона цен, для которых рассчитывается скидка. Вернём список только рассчитанных со скидкой цен. Границы диапазона будут передаваться в аргументах price_low и price_high. Если нижняя или правая границы не переданы, то используем минимальную и максимальную стоимости из позиционных аргументов:"
   ]
  },
  {
   "cell_type": "code",
   "execution_count": 4,
   "metadata": {},
   "outputs": [
    {
     "name": "stdout",
     "output_type": "stream",
     "text": [
      "[95.0, 190.0, 285.0, 380.0, 475.0]\n",
      "[190.0, 285.0, 380.0, 475.0]\n",
      "[95.0, 190.0]\n",
      "[190.0, 285.0]\n"
     ]
    }
   ],
   "source": [
    "\n",
    "def final_price(*prices, discount=1, **kwargs):\n",
    "    low = kwargs.get(\"price_low\", min(prices))\n",
    "    high = kwargs.get(\"price_high\", max(prices))\n",
    "    return [price - price * discount / 100 for price in prices if low <= price <= high]\n",
    "\n",
    "\n",
    "print(final_price(100, 200, 300, 400, 500, discount=5))\n",
    "print(final_price(100, 200, 300, 400, 500, discount=5, price_low=200))\n",
    "print(final_price(100, 200, 300, 400, 500, discount=5, price_high=200))\n",
    "print(final_price(100, 200, 300, 400, 500, discount=5, price_low=200, price_high=350))"
   ]
  },
  {
   "attachments": {},
   "cell_type": "markdown",
   "metadata": {},
   "source": [
    "В Python аргументом функции может быть другая функция. Обратите внимание, что мы говорим именно о самой функции, а не о возвращаемом ей значении. Для того, чтобы передать функцию как аргумент, нужно указать значением аргумента имя функции без круглых скобок. Так мы не будем вызывать функцию, а передадим ссылку на неё. Функции, которые принимают аргументы-функции, называют функциями высшего порядка.\n",
    "\n",
    "Рассмотрим пару полезных встроенных функций высшего порядка. Функция filter() позволяет отобрать элементы из итерируемого объекта по некоторому критерию. Результат работы функции — итератор. Критерий отбора — функция, возвращающая значения логического типа. Функция filter() последовательно проверяет значение функции-критерия для каждого элемента и при значении True элемент попадает в выходной итератор. Напишем программу, которая выберет из списка целых чисел только положительные:\n",
    "\n"
   ]
  },
  {
   "cell_type": "code",
   "execution_count": 5,
   "metadata": {},
   "outputs": [
    {
     "name": "stdout",
     "output_type": "stream",
     "text": [
      "5, 6\n"
     ]
    }
   ],
   "source": [
    "def only_pos(x):\n",
    "    return x > 0\n",
    "\n",
    "\n",
    "result = filter(only_pos, [-1, 5, 6, -10, 0])\n",
    "print(\", \".join(str(x) for x in result))"
   ]
  },
  {
   "cell_type": "code",
   "execution_count": 6,
   "metadata": {},
   "outputs": [
    {
     "name": "stdout",
     "output_type": "stream",
     "text": [
      "ABcd\n"
     ]
    }
   ],
   "source": [
    "result = filter(str.isalpha, \"123ABcd()\")\n",
    "print(\"\".join(result))"
   ]
  },
  {
   "attachments": {},
   "cell_type": "markdown",
   "metadata": {},
   "source": [
    "Ещё одной полезной функцией высшего порядка в Python является map(). Она возвращает итератор, каждый элемент которого получен применением функции-обработчика к итерируемому объекту. Напишем программу, которая для списка целых чисел выведет список квадратов этих чисел:"
   ]
  },
  {
   "cell_type": "code",
   "execution_count": 7,
   "metadata": {},
   "outputs": [
    {
     "name": "stdout",
     "output_type": "stream",
     "text": [
      "0, 1, 4, 9, 16\n"
     ]
    }
   ],
   "source": [
    "def square(x):\n",
    "    return x ** 2\n",
    "\n",
    "    \n",
    "result = map(square, range(5))\n",
    "print(\", \".join(str(x) for x in result))"
   ]
  },
  {
   "cell_type": "code",
   "execution_count": 8,
   "metadata": {},
   "outputs": [
    {
     "name": "stdout",
     "output_type": "stream",
     "text": [
      "abcd\n",
      "efgh\n",
      "ijkl\n"
     ]
    }
   ],
   "source": [
    "result = map(str.lower, [\"abCD\", \"EFGh\", \"IJkl\"])\n",
    "print(\"\\n\".join(result))"
   ]
  },
  {
   "attachments": {},
   "cell_type": "markdown",
   "metadata": {},
   "source": [
    "Для передачи нестандартной функции в функцию высшего порядка, нужно её объявить и описать тело этой функции. В Python для объявления небольших функций, требующихся для функций высшего порядка, можно использовать лямбда-функции. Лямбда-функции — как правило, безымянные, используемые один раз в коде, функции. Синтаксически при объявлении они записываются в одну строку. Например:\n",
    "\n",
    "lambda x: x > 0\n",
    "При объявлении лямбда-функции указывается ключевое слово lambda, затем перечисляются аргументы функции, затем двоеточие и пробел, а далее указывается возвращаемое функцией значение (return не используется).\n",
    "\n",
    "Лямбда-функции обычно объявляются прямо внутри функции высшего порядка. Перепишем примеры для функций filter() и map() с использованием лямбда-функций:"
   ]
  },
  {
   "cell_type": "code",
   "execution_count": 9,
   "metadata": {},
   "outputs": [
    {
     "name": "stdout",
     "output_type": "stream",
     "text": [
      "5, 6\n"
     ]
    }
   ],
   "source": [
    "result = filter(lambda x: x > 0, [-1, 5, 6, -10, 0])\n",
    "print(\", \".join(str(x) for x in result))"
   ]
  },
  {
   "cell_type": "code",
   "execution_count": 15,
   "metadata": {},
   "outputs": [
    {
     "name": "stdout",
     "output_type": "stream",
     "text": [
      "0, 1, 4, 9, 16\n"
     ]
    }
   ],
   "source": [
    "result = map(lambda x: x ** 2, range(5))\n",
    "print(\", \".join(str(x) for x in result))"
   ]
  },
  {
   "attachments": {},
   "cell_type": "markdown",
   "metadata": {},
   "source": [
    "В одной из прошлых глав мы изучили функцию sorted(), которая возвращает отсортированный список, состоящий из элементов переданного ей итерируемого объекта. По умолчанию критерием сортировки являются значения элементов. То есть сравниваются числа, строки по положению символов в таблице кодировки и так далее. У данной функции есть возможность задать критерий сортировки, передав в именованный аргумент key функцию, по значениям которой будет производиться сортировка.\n",
    "\n",
    "Напишем программу для сортировки списка строк по длине строки в порядке возрастания:"
   ]
  },
  {
   "cell_type": "code",
   "execution_count": 10,
   "metadata": {},
   "outputs": [
    {
     "name": "stdout",
     "output_type": "stream",
     "text": [
      "['ab', 'abc', 'abcd', 'abcdef']\n"
     ]
    }
   ],
   "source": [
    "lines = [\"abcd\", \"ab\", \"abc\", \"abcdef\"]\n",
    "print(sorted(lines, key=lambda line: len(line)))"
   ]
  },
  {
   "attachments": {},
   "cell_type": "markdown",
   "metadata": {},
   "source": [
    "Для задания функции-критерия сортировки была использована лямбда-функция.\n",
    "\n",
    "С помощью аргумента key можно задать несколько критериев сортировки одновременно. Для этого в лямбда-функции нужно вернуть кортеж значений в порядке приоритета критериев. Напишем программу, которая сортирует список строк, состоящих из строчных букв латинского алфавита, по возрастанию длины, а если длина одинакова, то по алфавиту."
   ]
  },
  {
   "cell_type": "code",
   "execution_count": 14,
   "metadata": {},
   "outputs": [
    {
     "name": "stdout",
     "output_type": "stream",
     "text": [
      "['ab', 'ba', 'abcd', 'acde']\n"
     ]
    }
   ],
   "source": [
    "lines = [\"abcd\", \"ab\", \"ba\", \"acde\"]\n",
    "print(sorted(lines, key=lambda line: (len(line), line)))"
   ]
  },
  {
   "attachments": {},
   "cell_type": "markdown",
   "metadata": {},
   "source": [
    "Если по числовому критерию (например, длина строки) нужно поменять направление сортировки, то можно просто поставить минус перед возвращаемым значением в лямбда-функции. Отсортируем список строк по убыванию длины, а если длина одинакова, то по алфавиту:"
   ]
  },
  {
   "cell_type": "code",
   "execution_count": 13,
   "metadata": {},
   "outputs": [
    {
     "name": "stdout",
     "output_type": "stream",
     "text": [
      "['abcd', 'acde', 'ab', 'ba']\n"
     ]
    }
   ],
   "source": [
    "lines = [\"abcd\", \"ab\", \"ba\", \"acde\"]\n",
    "print(sorted(lines, key=lambda line: (-len(line), line)))"
   ]
  },
  {
   "attachments": {},
   "cell_type": "markdown",
   "metadata": {},
   "source": [
    "Аргумент key есть и у метода sort() (меняет исходный список на отсортированный), а также у функций max() и min(). Найдем в списке строк самую длинную, а если таких несколько, то лексикографически меньшую:"
   ]
  },
  {
   "cell_type": "code",
   "execution_count": 12,
   "metadata": {},
   "outputs": [
    {
     "name": "stdout",
     "output_type": "stream",
     "text": [
      "abcd\n"
     ]
    }
   ],
   "source": [
    "\n",
    "lines = [\"abcd\", \"ab\", \"ba\", \"acde\"]\n",
    "print(min(lines, key=lambda line: (-len(line), line)))"
   ]
  },
  {
   "attachments": {},
   "cell_type": "markdown",
   "metadata": {},
   "source": [
    "Если вспомнить про списочные выражения, то функции map() и filter() можно заменить соответствующими списочными выражениями. Например:"
   ]
  },
  {
   "cell_type": "code",
   "execution_count": 11,
   "metadata": {},
   "outputs": [
    {
     "name": "stdout",
     "output_type": "stream",
     "text": [
      "5, 6\n"
     ]
    }
   ],
   "source": [
    "result = (x for x in [-1, 5, 6, -10, 0] if x > 0)\n",
    "print(\", \".join(str(x) for x in result))"
   ]
  }
 ],
 "metadata": {
  "kernelspec": {
   "display_name": "Python 3",
   "language": "python",
   "name": "python3"
  },
  "language_info": {
   "codemirror_mode": {
    "name": "ipython",
    "version": 3
   },
   "file_extension": ".py",
   "mimetype": "text/x-python",
   "name": "python",
   "nbconvert_exporter": "python",
   "pygments_lexer": "ipython3",
   "version": "3.9.6"
  },
  "orig_nbformat": 4,
  "vscode": {
   "interpreter": {
    "hash": "31f2aee4e71d21fbe5cf8b01ff0e069b9275f58929596ceb00d14d90e3e16cd6"
   }
  }
 },
 "nbformat": 4,
 "nbformat_minor": 2
}
