{
 "cells": [
  {
   "attachments": {},
   "cell_type": "markdown",
   "metadata": {},
   "source": [
    "# [12 Python Decorators to Take Your Code to the Next Level](https://towardsdatascience.com/12-python-decorators-to-take-your-code-to-the-next-level-a910a1ab3e99)"
   ]
  },
  {
   "attachments": {},
   "cell_type": "markdown",
   "metadata": {},
   "source": [
    "## 1 — @logger (to get started)✏️"
   ]
  },
  {
   "attachments": {},
   "cell_type": "markdown",
   "metadata": {},
   "source": [
    "Если вы впервые знакомы с декораторами, то можете считать их функциями, которые принимают функции на вход и расширяют их функциональные возможности без изменения их основного назначения.\n",
    "\n",
    "Давайте начнем с простого декоратора, который расширяет функцию, регистрируя время начала и окончания ее выполнения.\n",
    "\n",
    "Результат работы декорируемой функции будет выглядеть следующим образом:\n",
    "\n",
    "# ----- some_function: start -----\n",
    "# some_function executing\n",
    "# ----- some_function: end -----\n",
    "Чтобы написать этот дешифратор, сначала нужно выбрать подходящее имя: назовем его logger.\n",
    "\n",
    "Логгер - это функция, которая принимает функцию на вход и возвращает функцию на выход. Выходная функция обычно является расширенной версией входной. В нашем случае мы хотим, чтобы выходная функция окружала вызов входной функции утверждениями start и end.\n",
    "\n",
    "Поскольку мы не знаем, какие аргументы использует входная функция, мы можем передать их из функции-обертки с помощью выражений *args и **kwargs. Эти выражения позволяют передавать произвольное количество позиционных и ключевых аргументов.\n",
    "\n",
    "Вот простая реализация декоратора регистратора:"
   ]
  },
  {
   "cell_type": "code",
   "execution_count": 1,
   "metadata": {},
   "outputs": [
    {
     "name": "stdout",
     "output_type": "stream",
     "text": [
      "----- some_function: start -----\n",
      "first test\n",
      "----- some_function: end -----\n",
      "----- some_function: start -----\n",
      "second test\n",
      "----- some_function: end -----\n"
     ]
    }
   ],
   "source": [
    "\n",
    "def logger(function):\n",
    "    def wrapper(*args, **kwargs):\n",
    "        print(f\"----- {function.__name__}: start -----\")\n",
    "        output = function(*args, **kwargs)\n",
    "        print(f\"----- {function.__name__}: end -----\")\n",
    "        return output\n",
    "    return wrapper\n",
    "\n",
    "@logger\n",
    "def some_function(text):\n",
    "    print(text)\n",
    "\n",
    "some_function(\"first test\")\n",
    "# ----- some_function: start -----\n",
    "# first test\n",
    "# ----- some_function: end -----\n",
    "some_function(\"second test\")\n",
    "# ----- some_function: start -----\n",
    "# second test\n",
    "# ----- some_function: end -----\n"
   ]
  },
  {
   "attachments": {},
   "cell_type": "markdown",
   "metadata": {},
   "source": [
    "## 2 — @wraps 🎁\n",
    "Этот декоратор обновляет функцию-обертку, чтобы она выглядела как оригинальная функция и наследовала ее имя и свойства.\n",
    "\n",
    "Чтобы понять, что делает @wraps и почему вы должны его использовать, давайте возьмем предыдущий декоратор и применим его к простой функции, которая складывает два числа."
   ]
  },
  {
   "cell_type": "code",
   "execution_count": 2,
   "metadata": {},
   "outputs": [],
   "source": [
    "def logger(function):\n",
    "    def wrapper(*args, **kwargs):\n",
    "        \"\"\"wrapper documentation\"\"\"\n",
    "        print(f\"----- {function.__name__}: start -----\")\n",
    "        output = function(*args, **kwargs)\n",
    "        print(f\"----- {function.__name__}: end -----\")\n",
    "        return output\n",
    "    return wrapper\n",
    "\n",
    "@logger\n",
    "def add_two_numbers(a, b):\n",
    "    \"\"\"this function adds two numbers\"\"\"\n",
    "    return a + b"
   ]
  },
  {
   "cell_type": "code",
   "execution_count": 5,
   "metadata": {},
   "outputs": [
    {
     "name": "stdout",
     "output_type": "stream",
     "text": [
      "wrapper\n",
      "wrapper documentation\n"
     ]
    }
   ],
   "source": [
    "print(add_two_numbers.__name__)\n",
    "\n",
    "print(add_two_numbers.__doc__)"
   ]
  },
  {
   "attachments": {},
   "cell_type": "markdown",
   "metadata": {},
   "source": [
    "Если мы проверим имя и документацию декорированной функции add_two_numbers, вызвав атрибуты `__name__` и `__doc__`, мы получим ... неестественные (и все же ожидаемые) результаты:"
   ]
  },
  {
   "attachments": {},
   "cell_type": "markdown",
   "metadata": {},
   "source": [
    "Вместо этого мы получаем имя обертки и документацию ⚠️.\n",
    "\n",
    "Это нежелательный результат. Мы хотим сохранить имя и документацию исходной функции. Вот тут-то и пригодится декоратор @wraps.\n",
    "\n",
    "Все, что вам нужно сделать, это украсить функцию-обертку."
   ]
  },
  {
   "cell_type": "code",
   "execution_count": 6,
   "metadata": {},
   "outputs": [],
   "source": [
    "from functools import wraps\n",
    "\n",
    "def logger(function):\n",
    "    @wraps(function)\n",
    "    def wrapper(*args, **kwargs):\n",
    "        \"\"\"wrapper documentation\"\"\"\n",
    "        print(f\"----- {function.__name__}: start -----\")\n",
    "        output = function(*args, **kwargs)\n",
    "        print(f\"----- {function.__name__}: end -----\")\n",
    "        return output\n",
    "    return wrapper\n",
    "\n",
    "@logger\n",
    "def add_two_numbers(a, b):\n",
    "    \"\"\"this function adds two numbers\"\"\"\n",
    "    return a + b"
   ]
  },
  {
   "cell_type": "code",
   "execution_count": 7,
   "metadata": {},
   "outputs": [
    {
     "name": "stdout",
     "output_type": "stream",
     "text": [
      "add_two_numbers\n",
      "this function adds two numbers\n"
     ]
    }
   ],
   "source": [
    "print(add_two_numbers.__name__)\n",
    "\n",
    "print(add_two_numbers.__doc__)"
   ]
  },
  {
   "attachments": {},
   "cell_type": "markdown",
   "metadata": {},
   "source": [
    "## 3 — @lru_cache 💨"
   ]
  },
  {
   "attachments": {},
   "cell_type": "markdown",
   "metadata": {},
   "source": [
    "Это встроенный декоратор, который можно импортировать из functools.\n",
    "\n",
    "Он кэширует возвращаемые значения функции, используя алгоритм наименее часто используемых значений (LRU) для отбрасывания наименее используемых значений, когда кэш заполняется.\n",
    "\n",
    "Обычно я использую этот декоратор для длительно выполняющихся задач, которые не меняют результат при одинаковых входных данных, например, запрос к базе данных, запрос статической удаленной веб-страницы или тяжелая обработка.\n",
    "\n",
    "В следующем примере я использую lru_cache для декорирования функции, которая имитирует некоторую обработку. Затем я применяю функцию на одном и том же входе несколько раз подряд."
   ]
  },
  {
   "cell_type": "code",
   "execution_count": 9,
   "metadata": {},
   "outputs": [
    {
     "name": "stderr",
     "output_type": "stream",
     "text": [
      "UsageError: Line magic function `%%time` not found.\n"
     ]
    }
   ],
   "source": [
    "import random\n",
    "import time\n",
    "from functools import lru_cache\n",
    "\n",
    "\n",
    "@lru_cache(maxsize=None)\n",
    "def heavy_processing(n):\n",
    "    sleep_time = n + random.random()\n",
    "    time.sleep(sleep_time)\n",
    "\n",
    "# first time\n",
    "%%time\n",
    "heavy_processing(0)\n",
    "# CPU times: user 363 µs, sys: 727 µs, total: 1.09 ms\n",
    "# Wall time: 694 ms\n",
    "\n",
    "# second time\n",
    "%%time\n",
    "heavy_processing(0)\n",
    "# CPU times: user 4 µs, sys: 0 ns, total: 4 µs\n",
    "# Wall time: 8.11 µs\n",
    "\n",
    "# third time\n",
    "%%time\n",
    "heavy_processing(0)\n",
    "# CPU times: user 5 µs, sys: 1 µs, total: 6 µs\n",
    "# Wall time: 7.15 µs"
   ]
  },
  {
   "cell_type": "code",
   "execution_count": 15,
   "metadata": {},
   "outputs": [
    {
     "name": "stdout",
     "output_type": "stream",
     "text": [
      "CPU times: user 3 µs, sys: 0 ns, total: 3 µs\n",
      "Wall time: 4.77 µs\n"
     ]
    }
   ],
   "source": [
    "%%time\n",
    "heavy_processing(0)"
   ]
  }
 ],
 "metadata": {
  "kernelspec": {
   "display_name": "Python 3",
   "language": "python",
   "name": "python3"
  },
  "language_info": {
   "codemirror_mode": {
    "name": "ipython",
    "version": 3
   },
   "file_extension": ".py",
   "mimetype": "text/x-python",
   "name": "python",
   "nbconvert_exporter": "python",
   "pygments_lexer": "ipython3",
   "version": "3.9.16"
  },
  "orig_nbformat": 4,
  "vscode": {
   "interpreter": {
    "hash": "e80bfe3c6697afa5886fed20a41aad3c2f3e04aa92f9236622e9d73caeff43b9"
   }
  }
 },
 "nbformat": 4,
 "nbformat_minor": 2
}
