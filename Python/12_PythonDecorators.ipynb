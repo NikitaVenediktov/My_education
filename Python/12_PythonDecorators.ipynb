{
 "cells": [
  {
   "attachments": {},
   "cell_type": "markdown",
   "metadata": {},
   "source": [
    "# top 12 decorators"
   ]
  },
  {
   "attachments": {},
   "cell_type": "markdown",
   "metadata": {},
   "source": [
    "## 1 — @logger (to get started)✏️"
   ]
  },
  {
   "cell_type": "code",
   "execution_count": null,
   "metadata": {},
   "outputs": [],
   "source": [
    "1 — @logger (to get started)✏️\n",
    "If you’re new to decorators, you can think of them as functions that take functions as input and extend their functionalities without altering their primary purpose.\n",
    "\n",
    "Let’s start with a simple decorator that extends a function by logging when it starts and ends executing.\n",
    "\n",
    "The result of the function being decorated would look like this:\n",
    "\n",
    "some_function(args)\n",
    "\n",
    "# ----- some_function: start -----\n",
    "# some_function executing\n",
    "# ----- some_function: end -----\n",
    "To write this decroator, you first have to pick an appropriate name: let’s call it logger.\n",
    "\n",
    "logger is a function that takes a function as input and returns a function as output. The output function is usually an extended version of the input. In our case, we want the output function to surround the call of the input function with start and end statements.\n",
    "\n",
    "Since we don’t know what arguments the input function use, we can pass them from the wrapper function using *args and **kwargs. These expressions allow passing an arbitrary number of positional and keyword arguments.\n",
    "\n",
    "Here’s a simple implementation of the logger decorator:\n",
    "\n",
    "def logger(function):\n",
    "    def wrapper(*args, **kwargs):\n",
    "        print(f\"----- {function.__name__}: start -----\")\n",
    "        output = function(*args, **kwargs)\n",
    "        print(f\"----- {function.__name__}: end -----\")\n",
    "        return output\n",
    "    return wrapper\n",
    "Now you can apply logger to some_function or any other function for that matter.\n",
    "\n",
    "decorated_function = logger(some_function)\n",
    "Python provides a more pythonic syntax for this, it uses the @ symbol.\n",
    "\n",
    "@logger\n",
    "def some_function(text):\n",
    "    print(text)\n",
    "\n",
    "some_function(\"first test\")\n",
    "# ----- some_function: start -----\n",
    "# first test\n",
    "# ----- some_function: end -----\n",
    "\n",
    "some_function(\"second test\")\n",
    "# ----- some_function: start -----\n",
    "# second test\n",
    "# ----- some_function: end -----\n"
   ]
  }
 ],
 "metadata": {
  "kernelspec": {
   "display_name": "Python 3",
   "language": "python",
   "name": "python3"
  },
  "language_info": {
   "name": "python",
   "version": "3.9.16"
  },
  "orig_nbformat": 4,
  "vscode": {
   "interpreter": {
    "hash": "e80bfe3c6697afa5886fed20a41aad3c2f3e04aa92f9236622e9d73caeff43b9"
   }
  }
 },
 "nbformat": 4,
 "nbformat_minor": 2
}
