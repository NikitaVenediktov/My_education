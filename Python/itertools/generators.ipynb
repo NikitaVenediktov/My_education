{
 "cells": [
  {
   "attachments": {},
   "cell_type": "markdown",
   "metadata": {},
   "source": [
    "[Введение в генераторы](https://realpython.com/introduction-to-python-generators/)"
   ]
  },
  {
   "attachments": {},
   "cell_type": "markdown",
   "metadata": {},
   "source": [
    "Введенные в PEP 255, функции-генераторы - это особый вид функций, которые возвращают ленивый итератор. Это объекты, которые можно перебирать, как списки. Однако, в отличие от списков, ленивые итераторы не хранят свое содержимое в памяти. Для обзора итераторов в Python ознакомьтесь с циклом Python \"for\" (определенная итерация).\n",
    "\n",
    "Теперь, когда вы примерно представляете, что делает генератор, вам может быть интересно, как они выглядят в действии. Давайте посмотрим на два примера. В первом примере вы увидите, как работают генераторы с высоты птичьего полета. Затем вы увеличите масштаб и рассмотрите каждый пример более подробно."
   ]
  },
  {
   "attachments": {},
   "cell_type": "markdown",
   "metadata": {},
   "source": [
    "This is a reasonable explanation, but would this design still work if the file is very large? What if the file is larger than the memory you have available? To answer this question, let’s assume that csv_reader() just opens the file and reads it into an array:\n",
    "\n",
    "def csv_reader(file_name):\n",
    "    file = open(file_name)\n",
    "    result = file.read().split(\"\\n\")\n",
    "    return result\n",
    "This function opens a given file and uses file.read() along with .split() to add each line as a separate element to a list. If you were to use this version of csv_reader() in the row counting code block you saw further up, then you’d get the following output:\n",
    "\n",
    "Traceback (most recent call last):\n",
    "  File \"ex1_naive.py\", line 22, in <module>\n",
    "    main()\n",
    "  File \"ex1_naive.py\", line 13, in main\n",
    "    csv_gen = csv_reader(\"file.txt\")\n",
    "  File \"ex1_naive.py\", line 6, in csv_reader\n",
    "    result = file.read().split(\"\\n\")\n",
    "MemoryError\n",
    "In this case, open() returns a generator object that you can lazily iterate through line by line. However, file.read().split() loads everything into memory at once, causing the MemoryError."
   ]
  },
  {
   "attachments": {},
   "cell_type": "markdown",
   "metadata": {},
   "source": [
    "Before that happens, you’ll probably notice your computer slow to a crawl. You might even need to kill the program with a KeyboardInterrupt. So, how can you handle these huge data files? Take a look at a new definition of csv_reader():\n",
    "\n",
    "def csv_reader(file_name):\n",
    "    for row in open(file_name, \"r\"):\n",
    "        yield row\n",
    "In this version, you open the file, iterate through it, and yield a row. This code should produce the following output, with no memory errors:\n",
    "\n",
    "Row count is 64186394\n",
    "What’s happening here? Well, you’ve essentially turned csv_reader() into a generator function. This version opens a file, loops through each line, and yields each row, instead of returning it."
   ]
  },
  {
   "attachments": {},
   "cell_type": "markdown",
   "metadata": {},
   "source": [
    "You can also define a generator expression (also called a generator comprehension), which has a very similar syntax to list comprehensions. In this way, you can use the generator without calling a function:\n",
    "\n",
    "csv_gen = (row for row in open(file_name))\n",
    "This is a more succinct way to create the list csv_gen. You’ll learn more about the Python yield statement soon. For now, just remember this key difference:\n",
    "\n",
    "Using yield will result in a generator object.\n",
    "Using return will result in the first line of the file only."
   ]
  },
  {
   "attachments": {},
   "cell_type": "markdown",
   "metadata": {},
   "source": [
    "Example 2: Generating an Infinite Sequence\n",
    "Let’s switch gears and look at infinite sequence generation. In Python, to get a finite sequence, you call range() and evaluate it in a list context:\n",
    "\n",
    ">>> a = range(5)\n",
    ">>> list(a)\n",
    "[0, 1, 2, 3, 4]\n",
    "Generating an infinite sequence, however, will require the use of a generator, since your computer memory is finite:\n",
    "\n",
    "def infinite_sequence():\n",
    "    num = 0\n",
    "    while True:\n",
    "        yield num\n",
    "        num += 1\n",
    "This code block is short and sweet. First, you initialize the variable num and start an infinite loop. Then, you immediately yield num so that you can capture the initial state. This mimics the action of range().\n",
    "\n",
    "After yield, you increment num by 1. If you try this with a for loop, then you’ll see that it really does seem infinite:\n",
    "\n",
    ">>> for i in infinite_sequence():\n",
    "...     print(i, end=\" \")\n",
    "...\n",
    "0 1 2 3 4 5 6 7 8 9 10 11 12 13 14 15 16 17 18 19 20 21 22 23 24 25 26 27 28 29\n",
    "30 31 32 33 34 35 36 37 38 39 40 41 42\n",
    "[...]\n",
    "6157818 6157819 6157820 6157821 6157822 6157823 6157824 6157825 6157826 6157827\n",
    "6157828 6157829 6157830 6157831 6157832 6157833 6157834 6157835 6157836 6157837\n",
    "6157838 6157839 6157840 6157841 6157842\n",
    "KeyboardInterrupt\n",
    "Traceback (most recent call last):\n",
    "  File \"<stdin>\", line 2, in <module>\n",
    "The program will continue to execute until you stop it manually.\n",
    "\n",
    "Instead of using a for loop, you can also call next() on the generator object directly. This is especially useful for testing a generator in the console:\n",
    "\n",
    ">>> gen = infinite_sequence()\n",
    ">>> next(gen)\n",
    "0\n",
    ">>> next(gen)\n",
    "1\n",
    ">>> next(gen)\n",
    "2\n",
    ">>> next(gen)\n",
    "3\n",
    "Here, you have a generator called gen, which you manually iterate over by repeatedly calling next(). This works as a great sanity check to make sure your generators are producing the output you expect.\n",
    "\n",
    "Note: When you use next(), Python calls .__next__() on the function you pass in as a parameter. There are some special effects that this parameterization allows, but it goes beyond the scope of this article. Experiment with changing the parameter you pass to next() and see what happens!"
   ]
  },
  {
   "attachments": {},
   "cell_type": "markdown",
   "metadata": {},
   "source": [
    "Understanding Generators\n",
    "So far, you’ve learned about the two primary ways of creating generators: by using generator functions and generator expressions. You might even have an intuitive understanding of how generators work. Let’s take a moment to make that knowledge a little more explicit.\n",
    "\n",
    "def infinite_sequence():\n",
    "    num = 0\n",
    "    while True:\n",
    "        yield num\n",
    "        num += 1\n",
    "This looks like a typical function definition, except for the Python yield statement and the code that follows it. yield indicates where a value is sent back to the caller, but unlike return, you don’t exit the function afterward.\n",
    "\n",
    "Instead, the state of the function is remembered. That way, when next() is called on a generator object (either explicitly or implicitly within a for loop), the previously yielded variable num is incremented, and then yielded again. Since generator functions look like other functions and act very similarly to them, you can assume that generator expressions are very similar to other comprehensions available in Python."
   ]
  },
  {
   "attachments": {},
   "cell_type": "markdown",
   "metadata": {},
   "source": [
    "Building Generators With Generator Expressions\n",
    "Like list comprehensions, generator expressions allow you to quickly create a generator object in just a few lines of code. They’re also useful in the same cases where list comprehensions are used, with an added benefit: you can create them without building and holding the entire object in memory before iteration. In other words, you’ll have no memory penalty when you use generator expressions. Take this example of squaring some numbers:\n",
    "\n",
    ">>> nums_squared_lc = [num**2 for num in range(5)]\n",
    ">>> nums_squared_gc = (num**2 for num in range(5))\n",
    ">>> nums_squared_lc\n",
    "[0, 1, 4, 9, 16]\n",
    ">>> nums_squared_gc\n",
    "<generator object <genexpr> at 0x107fbbc78>\n",
    "\n",
    "The first object used brackets to build a list, while the second created a generator expression by using parentheses. The output confirms that you’ve created a generator object and that it is distinct from a list."
   ]
  },
  {
   "attachments": {},
   "cell_type": "markdown",
   "metadata": {},
   "source": [
    "Profiling Generator Performance\n",
    "You learned earlier that generators are a great way to optimize memory. While an infinite sequence generator is an extreme example of this optimization, let’s amp up the number squaring examples you just saw and inspect the size of the resulting objects. You can do this with a call to sys.getsizeof():\n",
    "\n",
    ">>> import sys\n",
    ">>> nums_squared_lc = [i ** 2 for i in range(10000)]\n",
    ">>> sys.getsizeof(nums_squared_lc)\n",
    "87624\n",
    ">>> nums_squared_gc = (i ** 2 for i in range(10000))\n",
    ">>> print(sys.getsizeof(nums_squared_gc))\n",
    "120"
   ]
  },
  {
   "attachments": {},
   "cell_type": "markdown",
   "metadata": {},
   "source": [
    "When you call a generator function or use a generator expression, you return a special iterator called a generator. You can assign this generator to a variable in order to use it. When you call special methods on the generator, such as next(), the code within the function is executed up to yield.\n",
    "\n",
    "When the Python yield statement is hit, the program suspends function execution and returns the yielded value to the caller. (In contrast, return stops function execution completely.) When a function is suspended, the state of that function is saved. This includes any variable bindings local to the generator, the instruction pointer, the internal stack, and any exception handling.\n",
    "\n",
    "This allows you to resume function execution whenever you call one of the generator’s methods. In this way, all function evaluation picks back up right after yield. You can see this in action by using multiple Python yield statements:\n",
    "\n",
    ">>> def multi_yield():\n",
    "...     yield_str = \"This will print the first string\"\n",
    "...     yield yield_str\n",
    "...     yield_str = \"This will print the second string\"\n",
    "...     yield yield_str\n",
    "...\n",
    ">>> multi_obj = multi_yield()\n",
    ">>> print(next(multi_obj))\n",
    "This will print the first string\n",
    ">>> print(next(multi_obj))\n",
    "This will print the second string\n",
    ">>> print(next(multi_obj))\n",
    "Traceback (most recent call last):\n",
    "  File \"<stdin>\", line 1, in <module>\n",
    "StopIteration\n",
    "Take a closer look at that last call to next(). You can see that execution has blown up with a traceback. This is because generators, like all iterators, can be exhausted. Unless your generator is infinite, you can iterate through it one time only. Once all values have been evaluated, iteration will stop and the for loop will exit. If you used next(), then instead you’ll get an explicit StopIteration exception."
   ]
  },
  {
   "attachments": {},
   "cell_type": "markdown",
   "metadata": {},
   "source": [
    "# Using Advanced Generator Methods\n",
    "You’ve seen the most common uses and constructions of generators, but there are a few more tricks to cover. In addition to yield, generator objects can make use of the following methods:\n",
    "\n",
    ".send()\n",
    ".throw()\n",
    ".close()\n",
    "\n",
    "How to Use .send()\n",
    "For this next section, you’re going to build a program that makes use of all three methods. This program will print numeric palindromes like before, but with a few tweaks. Upon encountering a palindrome, your new program will add a digit and start a search for the next one from there. You’ll also handle exceptions with .throw() and stop the generator after a given amount of digits with .close(). First, let’s recall the code for your palindrome detector:\n",
    "\n",
    "```\n",
    "def is_palindrome(num):\n",
    "    # Skip single-digit inputs\n",
    "    if num // 10 == 0:\n",
    "        return False\n",
    "    temp = num\n",
    "    reversed_num = 0\n",
    "\n",
    "    while temp != 0:\n",
    "        reversed_num = (reversed_num * 10) + (temp % 10)\n",
    "        temp = temp // 10\n",
    "\n",
    "    if num == reversed_num:\n",
    "        return True\n",
    "    else:\n",
    "        return False\n",
    "```\n",
    "\n",
    "This is the same code you saw earlier, except that now the program returns strictly True or False. You’ll also need to modify your original infinite sequence generator, like so:\n",
    "\n",
    "def infinite_palindromes():\n",
    "    num = 0\n",
    "    while True:\n",
    "        if is_palindrome(num):\n",
    "            i = (yield num)\n",
    "            if i is not None:\n",
    "                num = i\n",
    "        num += 1\n",
    "There are a lot of changes here! The first one you’ll see is in line 5, where i = (yield num). Though you learned earlier that yield is a statement, that isn’t quite the whole story.\n",
    "\n",
    "\n",
    "Now, take a look at the main function code, which sends the lowest number with another digit back to the generator. For example, if the palindrome is 121, then it will .send() 1000:\n",
    "\n",
    "pal_gen = infinite_palindromes()\n",
    "for i in pal_gen:\n",
    "    digits = len(str(i))\n",
    "    pal_gen.send(10 ** (digits))\n",
    "\n",
    "With this code, you create the generator object and iterate through it. The program only yields a value once a palindrome is found. It uses len() to determine the number of digits in that palindrome. Then, it sends 10 ** digits to the generator. This brings execution back into the generator logic and assigns 10 ** digits to i. Since i now has a value, the program updates num, increments, and checks for palindromes again.\n",
    "\n",
    "Once your code finds and yields another palindrome, you’ll iterate via the for loop. This is the same as iterating with next(). The generator also picks up at line 5 with i = (yield num). However, now i is None, because you didn’t explicitly send a value.\n",
    "\n",
    "What you’ve created here is a coroutine, or a generator function into which you can pass data. These are useful for constructing data pipelines, but as you’ll see soon, they aren’t necessary for building them. (If you’re looking to dive deeper, then this course on coroutines and concurrency is one of the most comprehensive treatments available.)\n",
    "\n",
    "Now that you’ve learned about .send(), let’s take a look at .throw().\n",
    "\n",
    "How to Use .throw()\n",
    ".throw() allows you to throw exceptions with the generator. In the below example, you raise the exception in line 6. This code will throw a ValueError once digits reaches 5:\n",
    "\n",
    "pal_gen = infinite_palindromes()\n",
    "for i in pal_gen:\n",
    "    print(i)\n",
    "    digits = len(str(i))\n",
    "    if digits == 5:\n",
    "        pal_gen.throw(ValueError(\"We don't like large palindromes\"))\n",
    "    pal_gen.send(10 ** (digits))\n",
    "This is the same as the previous code, but now you’ll check if digits is equal to 5. If so, then you’ll .throw() a ValueError. To confirm that this works as expected, take a look at the code’s output:\n",
    "\n",
    "11\n",
    "111\n",
    "1111\n",
    "10101\n",
    "Traceback (most recent call last):\n",
    "  File \"advanced_gen.py\", line 47, in <module>\n",
    "    main()\n",
    "  File \"advanced_gen.py\", line 41, in main\n",
    "    pal_gen.throw(ValueError(\"We don't like large palindromes\"))\n",
    "  File \"advanced_gen.py\", line 26, in infinite_palindromes\n",
    "    i = (yield num)\n",
    "ValueError: We don't like large palindromes\n",
    "\n",
    ".throw() is useful in any areas where you might need to catch an exception. In this example, you used .throw() to control when you stopped iterating through the generator. You can do this more elegantly with .close().\n",
    "\n",
    "How to Use .close()\n",
    "As its name implies, .close() allows you to stop a generator. This can be especially handy when controlling an infinite sequence generator. Let’s update the code above by changing .throw() to .close() to stop the iteration:\n",
    "\n",
    "pal_gen = infinite_palindromes()\n",
    "for i in pal_gen:\n",
    "    print(i)\n",
    "    digits = len(str(i))\n",
    "    if digits == 5:\n",
    "        pal_gen.close()\n",
    "    pal_gen.send(10 ** (digits))\n",
    "Instead of calling .throw(), you use .close() in line 6. The advantage of using .close() is that it raises StopIteration, an exception used to signal the end of a finite iterator:\n",
    "\n",
    "11\n",
    "111\n",
    "1111\n",
    "10101\n",
    "Traceback (most recent call last):\n",
    "  File \"advanced_gen.py\", line 46, in <module>\n",
    "    main()\n",
    "  File \"advanced_gen.py\", line 42, in main\n",
    "    pal_gen.send(10 ** (digits))\n",
    "StopIteration\n",
    "Now that you’ve learned more about the special methods that come with generators, let’s talk about using generators to build data pipelines."
   ]
  },
  {
   "cell_type": "code",
   "execution_count": 36,
   "metadata": {},
   "outputs": [],
   "source": [
    "file_name = \"data/generator.csv\"\n",
    "lines = (line for line in open(file_name))\n",
    "# Then, you’ll use another generator expression in concert with the previous one \n",
    "# to split each line into a list:\n",
    "list_line = (s.rstrip().split(\",\") for s in lines)"
   ]
  },
  {
   "cell_type": "code",
   "execution_count": 30,
   "metadata": {},
   "outputs": [
    {
     "name": "stdout",
     "output_type": "stream",
     "text": [
      "['permalink', 'company', 'numEmps', 'category', 'city', 'state', 'fundedDate', 'raisedAmt', 'raisedCurrency', 'round']\n",
      "['digg', 'Digg', '60', 'web', 'San Francisco', 'CA', '1-Dec-06', '8500000', 'USD', 'b']\n",
      "['digg', 'Digg', '60', 'web', 'San Francisco', 'CA', '1-Oct-05', '2800000', 'USD', 'a']\n"
     ]
    }
   ],
   "source": [
    "cols = next(list_line)\n",
    "print(cols)\n",
    "cols = next(list_line)\n",
    "print(cols)\n",
    "cols = next(list_line)\n",
    "print(cols)"
   ]
  },
  {
   "cell_type": "code",
   "execution_count": 37,
   "metadata": {},
   "outputs": [
    {
     "data": {
      "text/plain": [
       "<generator object <genexpr> at 0x1074ef190>"
      ]
     },
     "execution_count": 37,
     "metadata": {},
     "output_type": "execute_result"
    }
   ],
   "source": [
    "company_dicts = (dict(zip(cols, data)) for data in list_line)\n",
    "company_dicts\n"
   ]
  },
  {
   "cell_type": "code",
   "execution_count": 41,
   "metadata": {},
   "outputs": [
    {
     "name": "stdout",
     "output_type": "stream",
     "text": [
      "Total series A fundraising: $18500000\n"
     ]
    }
   ],
   "source": [
    "#This generator expression iterates through the lists produced by list_line. \n",
    "# Then, it uses zip() and dict() to create the dictionary as specified above. \n",
    "# Now, you’ll use a fourth generator to filter the funding round you want and \n",
    "# pull raisedAmt as well:\n",
    "\n",
    "funding = (\n",
    "    int(company_dict[\"raisedAmt\"])\n",
    "    for company_dict in company_dicts\n",
    "    if company_dict[\"round\"] == \"a\"\n",
    ")\n",
    "\n",
    "file_name = \"data/generator.csv\"\n",
    "lines = (line for line in open(file_name))\n",
    "list_line = (s.rstrip().split(\",\") for s in lines)\n",
    "cols = next(list_line)\n",
    "company_dicts = (dict(zip(cols, data)) for data in list_line)\n",
    "funding = (\n",
    "    int(company_dict[\"raisedAmt\"])\n",
    "    for company_dict in company_dicts\n",
    "    if company_dict[\"round\"] == \"a\"\n",
    ")\n",
    "total_series_a = sum(funding)\n",
    "print(f\"Total series A fundraising: ${total_series_a}\")"
   ]
  },
  {
   "attachments": {},
   "cell_type": "markdown",
   "metadata": {},
   "source": [
    "Этот сценарий объединяет все созданные вами генераторы, и все они работают как один большой конвейер данных. Вот разбивка по строкам:\n",
    "\n",
    "Строка 2 считывает каждую строку файла.\n",
    "Строка 3 разбивает каждую строку на значения и помещает значения в список.\n",
    "Строка 4 использует функцию next() для хранения имен столбцов в списке.\n",
    "Строка 5 создает словари и объединяет их вызовом zip():\n",
    "Ключами являются имена столбцов cols из строки 4.\n",
    "Значениями являются строки в форме списка, созданные в строке 3.\n",
    "Строка 6 получает суммы финансирования серии А каждой компании. Она также отфильтровывает любые другие привлеченные суммы.\n",
    "Строка 11 начинает процесс итерации, вызывая sum() для получения общей суммы финансирования серии А, найденной в CSV.\n",
    "При выполнении этого кода на файле techcrunch.csv вы должны обнаружить общую сумму в $4 376 015 000, привлеченную в раундах финансирования серии А.\n",
    "\n",
    "Примечание: Методы работы с файлами CSV, разработанные в этом учебнике, важны для понимания того, как использовать генераторы и оператор yield в Python. Однако при работе с файлами CSV в Python следует использовать модуль csv, входящий в стандартную библиотеку Python. Этот модуль имеет оптимизированные методы для эффективной работы с файлами CSV."
   ]
  }
 ],
 "metadata": {
  "kernelspec": {
   "display_name": "Python 3",
   "language": "python",
   "name": "python3"
  },
  "language_info": {
   "codemirror_mode": {
    "name": "ipython",
    "version": 3
   },
   "file_extension": ".py",
   "mimetype": "text/x-python",
   "name": "python",
   "nbconvert_exporter": "python",
   "pygments_lexer": "ipython3",
   "version": "3.9.6 (default, Oct 18 2022, 12:41:40) \n[Clang 14.0.0 (clang-1400.0.29.202)]"
  },
  "orig_nbformat": 4,
  "vscode": {
   "interpreter": {
    "hash": "31f2aee4e71d21fbe5cf8b01ff0e069b9275f58929596ceb00d14d90e3e16cd6"
   }
  }
 },
 "nbformat": 4,
 "nbformat_minor": 2
}
