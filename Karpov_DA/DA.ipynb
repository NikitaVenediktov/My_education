{
 "cells": [
  {
   "cell_type": "code",
   "execution_count": null,
   "metadata": {},
   "outputs": [],
   "source": [
    "Списки(листы, массивы или эрреи)\n",
    "Более сложный тип данных, позволяющий хранить много значений различных типов.\n",
    "\n",
    "Для его создания необходимо перечислить внутри квадратных скобок[] значения через запятую:\n",
    "\n",
    "employees = ['Anatoly', 'Alexander', 'Lavrentii']\n",
    "Список можно изменять(например, добавлять новые значения):\n",
    "\n",
    "employees.append('Rostislav')\n",
    "['Anatoly', 'Alexander', 'Lavrentii', 'Rostislav']\n",
    "В данном случае мы использовали метод .append(), добавляющий значение в список, у которого мы задействовали метод.\n",
    "\n",
    "Методы похожи на функции, только вызываются у конкретного объекта(в данном случае списка).\n",
    "\n",
    "Индексирование\n",
    "Значения(элементы) можно достать из списка с помощью индексирования – для этого укажите после списка в квадратных скобках номер нужного элемента, начиная с 0. Помимо этого можно индексироваться с конца списка, используя отрицательные числа:\n",
    "\n",
    "employees[0]\n",
    "'Anatoly'\n",
    "employees[2]\n",
    "'Lavrentii'\n",
    "employees[-1]  # negative to index from the end\n",
    "'Rostislav'\n",
    "Также можно брать срезы(слайсы) списка, т.е. получать кусочек исходного списка:\n",
    "\n",
    "От элемента с индексом 1 до конца\n",
    "employees[1:]\n",
    "['Alexander', 'Lavrentii', 'Rostislav']\n",
    "От начала до элемента с индексом 2\n",
    "employees[:2]\n",
    "['Anatoly', 'Alexander']\n",
    "От начала до конца с шагом 2\n",
    "employees[::2]\n",
    "['Anatoly', 'Lavrentii']\n",
    "Синтаксис среза следующий:\n",
    "\n",
    "[start: stop: step]\n",
    "\n",
    "start – от какого элемента берём значения, по умолчанию равно 0\n",
    "\n",
    "stop – до какого элемента берём значения, не включая его, по умолчанию равно длине списка\n",
    "\n",
    "step – шаг, с которым берём элементы, по умолчанию равен 1\n",
    "\n",
    "Дефолтные аргументы можно пропускать.\n",
    "\n",
    "Метод pop()\n",
    "Чтобы убрать элемент из списка по его порядковому номеру(индексу) используется метод pop()\n",
    "\n",
    "employees.pop(1)\n",
    "['Anatoly', 'Lavrentii', 'Rostislav']\n",
    "При этом убираемый из списка элемент возвращается пользователю(мы можем его использовать в дальнейшем):\n",
    "\n",
    "lecturer_name = employees.pop(0)\n",
    "employees\n",
    "['Lavrentii', 'Rostislav']\n",
    "\n",
    "lecturer_name\n",
    "'Anatoly'\n"
   ]
  },
  {
   "cell_type": "markdown",
   "metadata": {},
   "source": []
  },
  {
   "cell_type": "code",
   "execution_count": null,
   "metadata": {},
   "outputs": [],
   "source": [
    ">>> colors = ['red', 'green', 'blue', 'yellow', 'white', 'black']\n",
    ">>> colors[0]\n",
    "'red'\n",
    ">>> colors[1]\n",
    "'green'\n",
    ">>> colors[5]\n",
    "'black'"
   ]
  },
  {
   "cell_type": "code",
   "execution_count": null,
   "metadata": {},
   "outputs": [],
   "source": [
    ">>> colors = ['red', 'green', 'blue', 'yellow', 'white', 'black']\n",
    ">>> colors[-1]\n",
    "'black'\n",
    ">>> colors[-2]\n",
    "'white'\n",
    ">>> colors[-6]\n",
    "'red'"
   ]
  },
  {
   "cell_type": "code",
   "execution_count": null,
   "metadata": {},
   "outputs": [],
   "source": [
    ">>> basket = ['bread', 'butter', 'milk']\n",
    ">>> basket[0] = 'cake'\n",
    ">>> basket\n",
    "['cake', 'butter', 'milk']\n",
    ">>> basket[-1] = 'water'\n",
    ">>> basket\n",
    "['cake', 'butter', 'water']"
   ]
  },
  {
   "cell_type": "code",
   "execution_count": null,
   "metadata": {},
   "outputs": [],
   "source": [
    ">>> basket = ['bread', 'butter', 'milk']\n",
    ">>> del basket[0]\n",
    ">>> basket\n",
    "['butter', 'milk']\n",
    ">>> del basket[1]\n",
    ">>> basket\n",
    "['butter']"
   ]
  },
  {
   "cell_type": "code",
   "execution_count": null,
   "metadata": {},
   "outputs": [],
   "source": [
    ">>> nums = [10, 20, 30, 40, 50, 60, 70, 80, 90]\n",
    ">>> some_nums = nums[2:7]\n",
    ">>> some_nums\n",
    "[30, 40, 50, 60, 70]"
   ]
  },
  {
   "cell_type": "code",
   "execution_count": null,
   "metadata": {},
   "outputs": [],
   "source": [
    ">>> nums = [10, 20, 30, 40, 50, 60, 70, 80, 90]\n",
    ">>> nums[0:4]\n",
    "[10, 20, 30, 40]"
   ]
  },
  {
   "cell_type": "code",
   "execution_count": null,
   "metadata": {},
   "outputs": [],
   "source": [
    ">>> nums = [10, 20, 30, 40, 50, 60, 70, 80, 90]\n",
    ">>> nums[:5]\n",
    "[10, 20, 30, 40, 50]"
   ]
  },
  {
   "cell_type": "code",
   "execution_count": null,
   "metadata": {},
   "outputs": [],
   "source": [
    ">>> nums = [10, 20, 30, 40, 50, 60, 70, 80, 90]\n",
    ">>> nums[-3:]\n",
    "[70, 80, 90]"
   ]
  },
  {
   "cell_type": "code",
   "execution_count": null,
   "metadata": {},
   "outputs": [],
   "source": [
    ">>> nums = [10, 20, 30, 40, 50, 60, 70, 80, 90]\n",
    ">>> nums[1:-1]\n",
    "[20, 30, 40, 50, 60, 70, 80]\n",
    ">>> nums[-3:8]\n",
    "[70, 80]\n",
    ">>> nums[-5:-1]\n",
    "[50, 60, 70, 80]"
   ]
  },
  {
   "cell_type": "code",
   "execution_count": null,
   "metadata": {},
   "outputs": [],
   "source": [
    ">>> nums = [10, 20, 30, 40, 50, 60, 70, 80, 90]\n",
    ">>> nums[:-2]\n",
    "[10, 20, 30, 40, 50, 60, 70]"
   ]
  },
  {
   "cell_type": "code",
   "execution_count": null,
   "metadata": {},
   "outputs": [],
   "source": [
    ">>> nums = [10, 20, 30, 40, 50, 60, 70, 80, 90]\n",
    ">>> nums[::2]\n",
    "[10, 30, 50, 70, 90]\n",
    ">>> nums[1::2]\n",
    "[20, 40, 60, 80]\n",
    ">>> nums[1:-3:2]\n",
    "[20, 40, 60]"
   ]
  },
  {
   "cell_type": "code",
   "execution_count": null,
   "metadata": {},
   "outputs": [],
   "source": [
    "\n",
    ">>> nums = [10, 20, 30, 40, 50, 60, 70, 80, 90]\n",
    ">>> nums[::-1]\n",
    "[90, 80, 70, 60, 50, 40, 30, 20, 10]\n",
    "\n",
    ">>> nums = [10, 20, 30, 40, 50, 60, 70, 80, 90]\n",
    ">>> nums[-2::-1]\n",
    "[80, 70, 60, 50, 40, 30, 20, 10]\n",
    "\n",
    ">>> nums = [10, 20, 30, 40, 50, 60, 70, 80, 90]\n",
    ">>> nums[-2:1:-1]\n",
    "[80, 70, 60, 50, 40, 30]\n",
    "\n",
    ">>> nums = [10, 20, 30, 40, 50, 60, 70, 80, 90]\n",
    ">>> nums[-2:1:-3]\n",
    "[80, 50]"
   ]
  },
  {
   "cell_type": "code",
   "execution_count": null,
   "metadata": {},
   "outputs": [],
   "source": [
    ">>> nums = [10, 20, 30, 40, 50, 60, 70, 80, 90]\n",
    ">>> first_five = nums[0:5]\n",
    ">>> first_five[2] = 3\n",
    ">>> first_five\n",
    "[10, 20, 3, 40, 50]\n",
    ">>> nums\n",
    "[10, 20, 30, 40, 50, 60, 70, 80, 90]\n",
    "\n",
    ">>> nums = [10, 20, 30, 40, 50, 60, 70, 80, 90]\n",
    ">>> nums_copy = nums[:]\n",
    ">>> nums_copy[0] = 33\n",
    ">>> nums_copy\n",
    "[33, 20, 30, 40, 50, 60, 70, 80, 90]\n",
    ">>> nums\n",
    "[10, 20, 30, 40, 50, 60, 70, 80, 90"
   ]
  },
  {
   "cell_type": "code",
   "execution_count": null,
   "metadata": {},
   "outputs": [],
   "source": [
    "This can be done using slice function:\n",
    "\n",
    ">>> five_items_after_second = slice(2, 2 + 5)\n",
    ">>> nums = [10, 20, 30, 40, 50, 60, 70, 80, 90]\n",
    ">>> colors = ['red', 'green', 'blue', 'yellow', 'white', 'black', 'silver']\n",
    ">>> nums[five_items_after_second]\n",
    "[30, 40, 50, 60, 70]\n",
    ">>> colors[five_items_after_second]\n",
    "['blue', 'yellow', 'white', 'black', 'silver']\n",
    "\n",
    ">>> nums = [10, 20, 30, 40, 50, 60, 70, 80, 90]\n",
    ">>> all_but_two_last = slice(None, -2)\n",
    ">>> nums[all_but_two_last]\n",
    "[10, 20, 30, 40, 50, 60, 70]\n",
    ">>> reversed = slice(None, None, -1)\n",
    ">>> nums[reversed]\n",
    "[90, 80, 70, 60, 50, 40, 30, 20, 10]"
   ]
  },
  {
   "cell_type": "code",
   "execution_count": null,
   "metadata": {},
   "outputs": [],
   "source": [
    "Slice assignment allows you to update a part of a list with new values:\n",
    "\n",
    ">>> nums = [10, 20, 30, 40, 50, 60, 70, 80, 90]\n",
    ">>> nums[:4] = [1,2,3,4]\n",
    ">>> nums\n",
    "[1, 2, 3, 4, 50, 60, 70, 80, 90]\n",
    "Here we do not change the number of elements in the list. Only some list values are updated.\n",
    "\n",
    "Replace and Resize part of the list\n",
    "We can replace part of a list with a bigger chunk instead:\n",
    "\n",
    ">>> nums = [10, 20, 30, 40, 50, 60, 70, 80, 90]\n",
    ">>> nums[:4] = [1,2,3,4,5,6,7]\n",
    ">>> nums\n",
    "[1, 2, 3, 4, 5, 6, 7, 50, 60, 70, 80, 90]\n",
    "In this case we extend the original list.\n",
    "\n",
    "It’s also possible to replace a bigger chunk with a smaller number of items:\n",
    "\n",
    ">>> nums = [10, 20, 30, 40, 50, 60, 70, 80, 90]\n",
    ">>> nums[:4] = [1]\n",
    ">>> nums\n",
    "[1, 50, 60, 70, 80, 90]\n",
    "Replace Every n-th Element\n",
    "Adding step allows to replace each n-th element with a new value:\n",
    "\n",
    ">>> nums = [10, 20, 30, 40, 50, 60, 70, 80, 90]\n",
    ">>> nums[::2] = [1,1,1,1,1]\n",
    ">>> nums\n",
    "[1, 20, 1, 40, 1, 60, 1, 80, 1]\n",
    "Using slice assignment with step sets a limitation on the list we provide for assignment. The provided list should exactly match the number of elements to replace. If the length does not match, Python throws the exception:\n",
    "\n",
    ">>> nums = [10, 20, 30, 40, 50, 60, 70, 80, 90]\n",
    ">>> nums[::2] = [1,1,1]\n",
    "Traceback (most recent call last):\n",
    "  File \"\", line 1, in \n",
    "ValueError: attempt to assign sequence of size 3 to extended slice of size 5\n",
    "We can also use negative step:\n",
    "\n",
    ">>> nums = [10, 20, 30, 40, 50, 60, 70, 80, 90]\n",
    ">>> nums[::-2] = [1,2,3,4,5]\n",
    ">>> nums\n",
    "[5, 20, 4, 40, 3, 60, 2, 80, 1]\n",
    "By providing start and stop values we can narrow the replacement area:\n",
    "\n",
    ">>> nums = [10, 20, 30, 40, 50, 60, 70, 80, 90]\n",
    ">>> nums[1:5:2] = [2, 4]\n",
    ">>> nums\n",
    "[10, 2, 30, 4, 50, 60, 70, 80, 90]\n",
    "Slice Deletion\n",
    "We can also use del statement to remove a slice out of a list:\n",
    "\n",
    ">>> nums = [10, 20, 30, 40, 50, 60, 70, 80, 90]\n",
    ">>> del nums[3:7]\n",
    ">>> nums\n",
    "[10, 20, 30, 80, 90]\n",
    "Here we’ve removed a bunch of elements in the middle of nums list.\n",
    "\n",
    "We can also provide step parameter to slice and remove each n-th element:\n",
    "\n",
    ">>> nums = [10, 20, 30, 40, 50, 60, 70, 80, 90]\n",
    ">>> del nums[::2]\n",
    ">>> nums\n",
    "[20, 40, 60, 80]\n",
    "With the full syntax, we can set boundaries for the elements to be removed:\n",
    "\n",
    ">>> nums = [10, 20, 30, 40, 50, 60, 70, 80, 90]\n",
    ">>> del nums[1:7:2]\n",
    ">>> nums\n",
    "[10, 30, 50, 70, 80, 90]"
   ]
  }
 ],
 "metadata": {
  "kernelspec": {
   "display_name": "Python 3",
   "language": "python",
   "name": "python3"
  },
  "language_info": {
   "name": "python",
   "version": "3.9.6 (default, Oct 18 2022, 12:41:40) \n[Clang 14.0.0 (clang-1400.0.29.202)]"
  },
  "orig_nbformat": 4,
  "vscode": {
   "interpreter": {
    "hash": "31f2aee4e71d21fbe5cf8b01ff0e069b9275f58929596ceb00d14d90e3e16cd6"
   }
  }
 },
 "nbformat": 4,
 "nbformat_minor": 2
}
