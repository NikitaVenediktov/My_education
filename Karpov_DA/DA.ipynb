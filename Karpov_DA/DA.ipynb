{
 "cells": [
  {
   "attachments": {},
   "cell_type": "markdown",
   "metadata": {},
   "source": [
    "Списки(листы, массивы или эрреи)\n",
    "Более сложный тип данных, позволяющий хранить много значений различных типов.\n",
    "\n",
    "Для его создания необходимо перечислить внутри квадратных скобок[] значения через запятую:"
   ]
  },
  {
   "cell_type": "code",
   "execution_count": null,
   "metadata": {},
   "outputs": [],
   "source": [
    "employees = ['Anatoly', 'Alexander', 'Lavrentii']\n",
    "# Список можно изменять(например, добавлять новые значения):\n",
    "employees.append('Rostislav')\n",
    "['Anatoly', 'Alexander', 'Lavrentii', 'Rostislav']\n",
    "# В данном случае мы использовали метод .append(), добавляющий значение в список, у которого мы задействовали метод"
   ]
  },
  {
   "attachments": {},
   "cell_type": "markdown",
   "metadata": {},
   "source": [
    "Индексирование\n",
    "Значения(элементы) можно достать из списка с помощью индексирования – для этого укажите после списка в квадратных скобках номер нужного элемента, начиная с 0. Помимо этого можно индексироваться с конца списка, используя отрицательные числа:"
   ]
  },
  {
   "cell_type": "code",
   "execution_count": null,
   "metadata": {},
   "outputs": [],
   "source": [
    "employees[0]\n",
    "'Anatoly'\n",
    "employees[2]\n",
    "'Lavrentii'\n",
    "employees[-1]  # negative to index from the end\n",
    "'Rostislav'\n",
    "# Также можно брать срезы(слайсы) списка, т.е. получать кусочек исходного списка:\n",
    "# От элемента с индексом 1 до конца\n",
    "employees[1:]\n",
    "['Alexander', 'Lavrentii', 'Rostislav']\n",
    "# От начала до элемента с индексом 2\n",
    "employees[:2]\n",
    "['Anatoly', 'Alexander']\n",
    "# От начала до конца с шагом 2\n",
    "employees[::2]\n",
    "['Anatoly', 'Lavrentii']\n",
    "# Синтаксис среза следующий:\n",
    "[start: stop: step]"
   ]
  },
  {
   "attachments": {},
   "cell_type": "markdown",
   "metadata": {},
   "source": [
    "Метод pop()\n",
    "Чтобы убрать элемент из списка по его порядковому номеру(индексу) используется метод pop()"
   ]
  },
  {
   "cell_type": "code",
   "execution_count": null,
   "metadata": {},
   "outputs": [],
   "source": [
    "employees.pop(1)\n",
    "['Anatoly', 'Lavrentii', 'Rostislav']\n",
    "# При этом убираемый из списка элемент возвращается пользователю(мы можем его использовать в дальнейшем):\n",
    "\n",
    "lecturer_name = employees.pop(0)\n",
    "employees\n",
    "# ['Lavrentii', 'Rostislav']\n",
    "\n",
    "lecturer_name\n",
    "# 'Anatoly'"
   ]
  },
  {
   "cell_type": "markdown",
   "metadata": {},
   "source": []
  },
  {
   "cell_type": "code",
   "execution_count": 1,
   "metadata": {},
   "outputs": [
    {
     "data": {
      "text/plain": [
       "'green'"
      ]
     },
     "execution_count": 1,
     "metadata": {},
     "output_type": "execute_result"
    }
   ],
   "source": [
    "colors = ['red', 'green', 'blue', 'yellow', 'white', 'black']\n",
    "colors[0]\n",
    "# 'red'\n",
    "colors[5]\n",
    "# 'green'"
   ]
  },
  {
   "attachments": {},
   "cell_type": "markdown",
   "metadata": {},
   "source": [
    "Замена в списке"
   ]
  },
  {
   "cell_type": "code",
   "execution_count": null,
   "metadata": {},
   "outputs": [],
   "source": [
    "basket = ['bread', 'butter', 'milk']\n",
    "basket[0] = 'cake'\n",
    "# basket\n",
    "# ['cake', 'butter', 'milk']\n",
    "basket[-1] = 'water'\n",
    "# basket\n",
    "# ['cake', 'butter', 'water']"
   ]
  },
  {
   "attachments": {},
   "cell_type": "markdown",
   "metadata": {},
   "source": [
    "Уделение с del (Инструкция удаляет переменные, элементы, ключи, срезы и атрибуты.)"
   ]
  },
  {
   "cell_type": "code",
   "execution_count": null,
   "metadata": {},
   "outputs": [],
   "source": [
    "basket = ['bread', 'butter', 'milk']\n",
    "del basket[0]\n",
    "basket\n",
    "# ['butter', 'milk']\n",
    "del basket[1]\n",
    "basket\n",
    "# ['butter']"
   ]
  },
  {
   "cell_type": "code",
   "execution_count": 5,
   "metadata": {},
   "outputs": [
    {
     "data": {
      "text/plain": [
       "[90, 80, 70, 60, 50, 40, 30, 20, 10]"
      ]
     },
     "execution_count": 5,
     "metadata": {},
     "output_type": "execute_result"
    }
   ],
   "source": [
    "nums = [10, 20, 30, 40, 50, 60, 70, 80, 90]\n",
    "nums[:5]\n",
    "# [10, 20, 30, 40, 50]\n",
    "nums[::-1]\n",
    "# [90, 80, 70, 60, 50, 40, 30, 20, 10]"
   ]
  },
  {
   "cell_type": "code",
   "execution_count": 7,
   "metadata": {},
   "outputs": [
    {
     "name": "stdout",
     "output_type": "stream",
     "text": [
      "[20, 30, 40, 50, 60, 70, 80]\n",
      "[70, 80]\n",
      "[50, 60, 70, 80]\n"
     ]
    }
   ],
   "source": [
    "nums = [10, 20, 30, 40, 50, 60, 70, 80, 90]\n",
    "print(nums[1:-1])\n",
    "# [20, 30, 40, 50, 60, 70, 80]\n",
    "print(nums[-3:8])\n",
    "# [70, 80]\n",
    "print(nums[-5:-1])\n",
    "# [50, 60, 70, 80]"
   ]
  },
  {
   "cell_type": "code",
   "execution_count": 9,
   "metadata": {},
   "outputs": [
    {
     "name": "stdout",
     "output_type": "stream",
     "text": [
      "[90, 70, 50, 30, 10]\n",
      "[20, 40, 60, 80]\n",
      "[20, 40, 60]\n"
     ]
    }
   ],
   "source": [
    "nums = [10, 20, 30, 40, 50, 60, 70, 80, 90]\n",
    "print(nums[::2])\n",
    "# [10, 30, 50, 70, 90]\n",
    "print(nums[::-2])\n",
    "# [90, 70, 50, 30, 10]\n",
    "print(nums[1::2])\n",
    "# [20, 40, 60, 80]\n",
    "print(nums[1:-3:2])\n",
    "# [20, 40, 60]"
   ]
  },
  {
   "cell_type": "code",
   "execution_count": null,
   "metadata": {},
   "outputs": [],
   "source": [
    "\n",
    "nums = [10, 20, 30, 40, 50, 60, 70, 80, 90]\n",
    "nums[::-1]\n",
    "# [90, 80, 70, 60, 50, 40, 30, 20, 10]\n",
    "nums[-2::-1]\n",
    "# [80, 70, 60, 50, 40, 30, 20, 10]\n",
    "nums[-2:1:-1]\n",
    "# [80, 70, 60, 50, 40, 30]\n",
    "nums[-2:1:-3]\n",
    "# [80, 50]"
   ]
  },
  {
   "cell_type": "code",
   "execution_count": null,
   "metadata": {},
   "outputs": [],
   "source": [
    "nums = [10, 20, 30, 40, 50, 60, 70, 80, 90]\n",
    "nums_copy = nums[:]\n",
    "nums_copy[0] = 33\n",
    "nums_copy\n",
    "# [33, 20, 30, 40, 50, 60, 70, 80, 90]\n",
    "nums\n",
    "# [10, 20, 30, 40, 50, 60, 70, 80, 90]"
   ]
  },
  {
   "attachments": {},
   "cell_type": "markdown",
   "metadata": {},
   "source": [
    "Функция slice() в Python\n",
    "Используется для срезания заданной последовательности (строки, байтов, кортежа, списка или диапазона) или любого объекта, который поддерживает протокол последовательности (реализует метод __getitem __() и __len __())."
   ]
  },
  {
   "cell_type": "code",
   "execution_count": null,
   "metadata": {},
   "outputs": [],
   "source": [
    "five_items_after_second = slice(2, 2 + 5)\n",
    "nums = [10, 20, 30, 40, 50, 60, 70, 80, 90]\n",
    "colors = ['red', 'green', 'blue', 'yellow', 'white', 'black', 'silver']\n",
    "nums[five_items_after_second]\n",
    "# [30, 40, 50, 60, 70]\n",
    "colors[five_items_after_second]\n",
    "# ['blue', 'yellow', 'white', 'black', 'silver']\n",
    "\n",
    "all_but_two_last = slice(None, -2)\n",
    "nums[all_but_two_last]\n",
    "# [10, 20, 30, 40, 50, 60, 70]\n",
    "reversed = slice(None, None, -1)\n",
    "nums[reversed]\n",
    "# [90, 80, 70, 60, 50, 40, 30, 20, 10]"
   ]
  },
  {
   "attachments": {},
   "cell_type": "markdown",
   "metadata": {},
   "source": [
    "Ньюансы использования slice и list"
   ]
  },
  {
   "cell_type": "code",
   "execution_count": null,
   "metadata": {},
   "outputs": [],
   "source": [
    "nums = [10, 20, 30, 40, 50, 60, 70, 80, 90]\n",
    "nums[:4] = [1,2,3,4]\n",
    "nums\n",
    "# [1, 2, 3, 4, 50, 60, 70, 80, 90]\n",
    "\n",
    "# Here we do not change the number of elements in the list. Only some list values are updated.\n",
    "# Replace and Resize part of the list\n",
    "\n",
    "nums = [10, 20, 30, 40, 50, 60, 70, 80, 90]\n",
    "nums[:4] = [1,2,3,4,5,6,7]\n",
    "nums\n",
    "# [1, 2, 3, 4, 5, 6, 7, 50, 60, 70, 80, 90]\n",
    "\n",
    "# It’s also possible to replace a bigger chunk with a smaller number of items:\n",
    "\n",
    "nums = [10, 20, 30, 40, 50, 60, 70, 80, 90]\n",
    "nums[:4] = [1]\n",
    "nums\n",
    "# [1, 50, 60, 70, 80, 90]\n"
   ]
  },
  {
   "attachments": {},
   "cell_type": "markdown",
   "metadata": {},
   "source": [
    "Заполнение с прореживанием"
   ]
  },
  {
   "cell_type": "code",
   "execution_count": null,
   "metadata": {},
   "outputs": [],
   "source": [
    "nums = [10, 20, 30, 40, 50, 60, 70, 80, 90]\n",
    "nums[::2] = [1,1,1,1,1]\n",
    "nums\n",
    "# [1, 20, 1, 40, 1, 60, 1, 80, 1]\n",
    "\n",
    "# можно шагать с конца:\n",
    "\n",
    "nums = [10, 20, 30, 40, 50, 60, 70, 80, 90]\n",
    "nums[::-2] = [1,2,3,4,5]\n",
    "nums\n",
    "[5, 20, 4, 40, 3, 60, 2, 80, 1]\n",
    "\n",
    "\n",
    "nums = [10, 20, 30, 40, 50, 60, 70, 80, 90]\n",
    "nums[::2] = [1,1,1]\n",
    "# Traceback (most recent call last):\n",
    "#   File \"\", line 1, in \n",
    "# ValueError: attempt to assign sequence of size 3 to extended slice of size \n",
    "\n",
    "# Чтоб избежать ошибку можно оградить заполнение:\n",
    "\n",
    "nums = [10, 20, 30, 40, 50, 60, 70, 80, 90]\n",
    "nums[1:5:2] = [2, 4]\n",
    "nums\n",
    "# [10, 2, 30, 4, 50, 60, 70, 80, 90]\n"
   ]
  }
 ],
 "metadata": {
  "kernelspec": {
   "display_name": "Python 3",
   "language": "python",
   "name": "python3"
  },
  "language_info": {
   "codemirror_mode": {
    "name": "ipython",
    "version": 3
   },
   "file_extension": ".py",
   "mimetype": "text/x-python",
   "name": "python",
   "nbconvert_exporter": "python",
   "pygments_lexer": "ipython3",
   "version": "3.11.0"
  },
  "orig_nbformat": 4,
  "vscode": {
   "interpreter": {
    "hash": "cbe6dbca8f5fdafc901b00fd6d1fafcdaa3e87607db442d8ce9bc696bc6c060c"
   }
  }
 },
 "nbformat": 4,
 "nbformat_minor": 2
}
