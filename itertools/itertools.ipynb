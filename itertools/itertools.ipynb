{
 "cells": [
  {
   "attachments": {},
   "cell_type": "markdown",
   "metadata": {},
   "source": [
    "https://realpython.com/python-itertools/"
   ]
  },
  {
   "cell_type": "code",
   "execution_count": 1,
   "metadata": {},
   "outputs": [
    {
     "data": {
      "text/plain": [
       "[(1, 'a'), (2, 'b'), (3, 'c')]"
      ]
     },
     "execution_count": 1,
     "metadata": {},
     "output_type": "execute_result"
    }
   ],
   "source": [
    "list(zip([1, 2, 3], ['a', 'b', 'c']))"
   ]
  },
  {
   "attachments": {},
   "cell_type": "markdown",
   "metadata": {},
   "source": [
    "[1, 2, 3] and ['a', 'b', 'c'], like all lists, are iterable, which means they can return their elements one at a time. Technically, any Python object that implements the .__iter__() or .__getitem__() methods is iterable."
   ]
  },
  {
   "cell_type": "code",
   "execution_count": 2,
   "metadata": {},
   "outputs": [
    {
     "data": {
      "text/plain": [
       "<list_iterator at 0x107bfedc0>"
      ]
     },
     "execution_count": 2,
     "metadata": {},
     "output_type": "execute_result"
    }
   ],
   "source": [
    "iter([1, 2, 3, 4])"
   ]
  },
  {
   "attachments": {},
   "cell_type": "markdown",
   "metadata": {},
   "source": [
    "Under the hood, the zip() function works, in essence, by calling iter() on each of its arguments, then advancing each iterator returned by iter() with next() and aggregating the results into tuples. The iterator returned by zip() iterates over these tuples.\n",
    "\n",
    "The map() built-in function is another “iterator operator” that, in its simplest form, applies a single-parameter function to each element of an iterable one element at a time:"
   ]
  },
  {
   "cell_type": "code",
   "execution_count": 3,
   "metadata": {},
   "outputs": [
    {
     "data": {
      "text/plain": [
       "[3, 2, 4]"
      ]
     },
     "execution_count": 3,
     "metadata": {},
     "output_type": "execute_result"
    }
   ],
   "source": [
    "list(map(len, ['abc', 'de', 'fghi']))"
   ]
  },
  {
   "cell_type": "code",
   "execution_count": 4,
   "metadata": {},
   "outputs": [
    {
     "data": {
      "text/plain": [
       "[5, 7, 9]"
      ]
     },
     "execution_count": 4,
     "metadata": {},
     "output_type": "execute_result"
    }
   ],
   "source": [
    "list(map(sum, zip([1, 2, 3], [4, 5, 6])))"
   ]
  },
  {
   "cell_type": "code",
   "execution_count": 5,
   "metadata": {},
   "outputs": [
    {
     "data": {
      "text/plain": [
       "[(1, 2), (3, 4), (5, 6), (7, 8), (9, 10)]"
      ]
     },
     "execution_count": 5,
     "metadata": {},
     "output_type": "execute_result"
    }
   ],
   "source": [
    "def naive_grouper(inputs, n):\n",
    "    num_groups = len(inputs) // n\n",
    "    return [tuple(inputs[i*n:(i+1)*n]) for i in range(num_groups)]\n",
    "\n",
    "nums = [1, 2, 3, 4, 5, 6, 7, 8, 9, 10]\n",
    "naive_grouper(nums, 2)"
   ]
  },
  {
   "cell_type": "code",
   "execution_count": 6,
   "metadata": {},
   "outputs": [],
   "source": [
    "def naive_grouper(inputs, n):\n",
    "    num_groups = len(inputs) // n\n",
    "    return [tuple(inputs[i*n:(i+1)*n]) for i in range(num_groups)]\n",
    "\n",
    "\n",
    "for _ in naive_grouper(range(100000000), 10):\n",
    "    pass"
   ]
  },
  {
   "attachments": {},
   "cell_type": "markdown",
   "metadata": {},
   "source": [
    "The list and tuple implementation in naive_grouper() requires approximately 4.5GB of memory to process range(100000000). Working with iterators drastically improves this situation. Consider the following:"
   ]
  },
  {
   "cell_type": "code",
   "execution_count": 7,
   "metadata": {},
   "outputs": [],
   "source": [
    "def better_grouper(inputs, n):\n",
    "    iters = [iter(inputs)] * n\n",
    "    return zip(*iters)"
   ]
  },
  {
   "attachments": {},
   "cell_type": "markdown",
   "metadata": {},
   "source": [
    "There’s a lot going on in this little function, so let’s break it down with a concrete example. The expression [iters(inputs)] * n creates a list of n references to the same iterator:"
   ]
  },
  {
   "cell_type": "code",
   "execution_count": 8,
   "metadata": {},
   "outputs": [
    {
     "data": {
      "text/plain": [
       "[4424134560, 4424134560]"
      ]
     },
     "execution_count": 8,
     "metadata": {},
     "output_type": "execute_result"
    }
   ],
   "source": [
    "nums = [1, 2, 3, 4, 5, 6, 7, 8, 9, 10]\n",
    "iters = [iter(nums)] * 2\n",
    "list(id(itr) for itr in iters)  # IDs are the same."
   ]
  },
  {
   "attachments": {},
   "cell_type": "markdown",
   "metadata": {},
   "source": [
    "Next, zip(*iters) returns an iterator over pairs of corresponding elements of each iterator in iters. When the first element, 1, is taken from the “first” iterator, the “second” iterator now starts at 2 since it is just a reference to the “first” iterator and has therefore been advanced one step. So, the first tuple produced by zip() is (1, 2).\n",
    "\n",
    "At this point, “both” iterators in iters start at 3, so when zip() pulls 3 from the “first” iterator, it gets 4 from the “second” to produce the tuple (3, 4). This process continues until zip() finally produces (9, 10) and “both” iterators in iters are exhausted:"
   ]
  },
  {
   "cell_type": "code",
   "execution_count": 10,
   "metadata": {},
   "outputs": [
    {
     "data": {
      "text/plain": [
       "[(1, 2), (3, 4), (5, 6), (7, 8), (9, 10)]"
      ]
     },
     "execution_count": 10,
     "metadata": {},
     "output_type": "execute_result"
    }
   ],
   "source": [
    "nums = [1, 2, 3, 4, 5, 6, 7, 8, 9, 10]\n",
    "list(better_grouper(nums, 2))"
   ]
  },
  {
   "cell_type": "code",
   "execution_count": 2,
   "metadata": {},
   "outputs": [],
   "source": [
    "def better_grouper(inputs, n):\n",
    "    iters = [iter(inputs)] * n\n",
    "    return zip(*iters)\n",
    "\n",
    "\n",
    "for _ in better_grouper(range(100000000), 10):\n",
    "    pass"
   ]
  },
  {
   "cell_type": "code",
   "execution_count": 3,
   "metadata": {},
   "outputs": [
    {
     "data": {
      "text/plain": [
       "[(1, 2, 3, 4), (5, 6, 7, 8)]"
      ]
     },
     "execution_count": 3,
     "metadata": {},
     "output_type": "execute_result"
    }
   ],
   "source": [
    "nums = [1, 2, 3, 4, 5, 6, 7, 8, 9, 10]\n",
    "list(better_grouper(nums, 4))\n",
    "[(1, 2, 3, 4), (5, 6, 7, 8)]"
   ]
  },
  {
   "cell_type": "code",
   "execution_count": 4,
   "metadata": {},
   "outputs": [
    {
     "data": {
      "text/plain": [
       "[(1, 'a'), (2, 'b'), (3, 'c'), (4, None), (5, None)]"
      ]
     },
     "execution_count": 4,
     "metadata": {},
     "output_type": "execute_result"
    }
   ],
   "source": [
    "import itertools as it\n",
    "x = [1, 2, 3, 4, 5]\n",
    "y = ['a', 'b', 'c']\n",
    "list(zip(x, y))\n",
    "[(1, 'a'), (2, 'b'), (3, 'c')]\n",
    "list(it.zip_longest(x, y))\n",
    "[(1, 'a'), (2, 'b'), (3, 'c'), (4, None), (5, None)]"
   ]
  },
  {
   "attachments": {},
   "cell_type": "markdown",
   "metadata": {},
   "source": [
    "With this in mind, replace zip() in better_grouper() with zip_longest():"
   ]
  },
  {
   "cell_type": "code",
   "execution_count": 4,
   "metadata": {},
   "outputs": [
    {
     "name": "stdout",
     "output_type": "stream",
     "text": [
      "[(1, 2, 3, 4), (5, 6, 7, 8), (9, 10, None, None)]\n"
     ]
    }
   ],
   "source": [
    "import itertools as it\n",
    "\n",
    "def grouper(inputs, n, fillvalue=None):\n",
    "    iters = [iter(inputs)] * n\n",
    "    return it.zip_longest(*iters, fillvalue=fillvalue)\n",
    "#Now you get a better result:\n",
    "\n",
    "nums = [1, 2, 3, 4, 5, 6, 7, 8, 9, 10]\n",
    "print(list(grouper(nums, 4)))\n"
   ]
  },
  {
   "cell_type": "code",
   "execution_count": 10,
   "metadata": {},
   "outputs": [
    {
     "data": {
      "text/plain": [
       "[(1, 2), (1, 3), (2, 3)]"
      ]
     },
     "execution_count": 10,
     "metadata": {},
     "output_type": "execute_result"
    }
   ],
   "source": [
    "list(it.combinations([1, 2, 3], 2))\n"
   ]
  },
  {
   "cell_type": "code",
   "execution_count": 6,
   "metadata": {},
   "outputs": [
    {
     "data": {
      "text/plain": [
       "[(1, 2)]"
      ]
     },
     "execution_count": 6,
     "metadata": {},
     "output_type": "execute_result"
    }
   ],
   "source": [
    "list(it.combinations_with_replacement([1, 2], 2))\n",
    "[(1, 1), (1, 2), (2, 2)]\n",
    "#Compare that to combinations():\n",
    "\n",
    "list(it.combinations([1, 2], 2))"
   ]
  },
  {
   "cell_type": "code",
   "execution_count": 7,
   "metadata": {},
   "outputs": [
    {
     "data": {
      "text/plain": [
       "[('a', 'b', 'c'),\n",
       " ('a', 'c', 'b'),\n",
       " ('b', 'a', 'c'),\n",
       " ('b', 'c', 'a'),\n",
       " ('c', 'a', 'b'),\n",
       " ('c', 'b', 'a')]"
      ]
     },
     "execution_count": 7,
     "metadata": {},
     "output_type": "execute_result"
    }
   ],
   "source": [
    "list(it.permutations(['a', 'b', 'c']))"
   ]
  },
  {
   "cell_type": "code",
   "execution_count": null,
   "metadata": {},
   "outputs": [],
   "source": [
    ">>> counter = it.count()\n",
    ">>> list(next(counter) for _ in range(5))\n",
    "[0, 1, 2, 3, 4]\n",
    "You can start counting from any number you like by setting the start keyword argument, which defaults to 0. You can even set a step keyword argument to determine the interval between numbers returned from count()—this defaults to 1.\n",
    "\n",
    "With count(), iterators over even and odd integers become literal one-liners:\n",
    "\n",
    ">>> evens = it.count(step=2)\n",
    ">>> list(next(evens) for _ in range(5))\n",
    "[0, 2, 4, 6, 8]\n",
    "\n",
    ">>> odds = it.count(start=1, step=2)\n",
    ">>> list(next(odds) for _ in range(5))\n",
    "[1, 3, 5, 7, 9]\n",
    "Ever since Python 3.1, the count() function also accepts non-integer arguments:\n",
    "\n",
    ">>> count_with_floats = it.count(start=0.5, step=0.75)\n",
    ">>> list(next(count_with_floats) for _ in range(5))\n",
    "[0.5, 1.25, 2.0, 2.75, 3.5]\n",
    "You can even pass it negative numbers:\n",
    "\n",
    ">>> negative_count = it.count(start=-1, step=-0.5)\n",
    ">>> list(next(negative_count) for _ in range(5))\n",
    "[-1, -1.5, -2.0, -2.5, -3.0]"
   ]
  },
  {
   "cell_type": "code",
   "execution_count": 11,
   "metadata": {},
   "outputs": [
    {
     "data": {
      "text/plain": [
       "[(0, 'a'), (1, 'b'), (2, 'c')]"
      ]
     },
     "execution_count": 11,
     "metadata": {},
     "output_type": "execute_result"
    }
   ],
   "source": [
    "list(zip(it.count(), ['a', 'b', 'c']))"
   ]
  },
  {
   "cell_type": "code",
   "execution_count": 13,
   "metadata": {},
   "outputs": [
    {
     "data": {
      "text/plain": [
       "[1, 1, 1, 1, 1]"
      ]
     },
     "execution_count": 13,
     "metadata": {},
     "output_type": "execute_result"
    }
   ],
   "source": [
    "list(it.repeat(1, 5))  # 1, 1, 1, 1, 1"
   ]
  },
  {
   "cell_type": "code",
   "execution_count": null,
   "metadata": {},
   "outputs": [],
   "source": [
    "list(it.cycle([1, -1, 5]))\n",
    "list(it.cycle(['a', 'b', 'c']))\n",
    "a, b, c, a, b, c, a, ..."
   ]
  },
  {
   "cell_type": "code",
   "execution_count": 2,
   "metadata": {},
   "outputs": [
    {
     "data": {
      "text/plain": [
       "[1, 3, 6, 10, 15]"
      ]
     },
     "execution_count": 2,
     "metadata": {},
     "output_type": "execute_result"
    }
   ],
   "source": [
    "import operator\n",
    "import itertools as it\n",
    "list(it.accumulate([1, 2, 3, 4, 5], operator.add))\n"
   ]
  },
  {
   "cell_type": "code",
   "execution_count": 3,
   "metadata": {},
   "outputs": [
    {
     "data": {
      "text/plain": [
       "[1, 3, 6, 10, 15]"
      ]
     },
     "execution_count": 3,
     "metadata": {},
     "output_type": "execute_result"
    }
   ],
   "source": [
    "list(it.accumulate([1, 2, 3, 4, 5]))"
   ]
  },
  {
   "cell_type": "code",
   "execution_count": 4,
   "metadata": {},
   "outputs": [
    {
     "data": {
      "text/plain": [
       "[9, 9, 9, 5, 5, 5, 2, 2]"
      ]
     },
     "execution_count": 4,
     "metadata": {},
     "output_type": "execute_result"
    }
   ],
   "source": [
    "list(it.accumulate([9, 21, 17, 5, 11, 12, 2, 6], min))"
   ]
  },
  {
   "cell_type": "code",
   "execution_count": 5,
   "metadata": {},
   "outputs": [
    {
     "data": {
      "text/plain": [
       "[1, 1.5, 2.25, 3.125, 4.0625]"
      ]
     },
     "execution_count": 5,
     "metadata": {},
     "output_type": "execute_result"
    }
   ],
   "source": [
    "list(it.accumulate([1, 2, 3, 4, 5], lambda x, y: (x + y) / 2))"
   ]
  },
  {
   "cell_type": "code",
   "execution_count": 7,
   "metadata": {},
   "outputs": [],
   "source": [
    "ranks = ['A', 'K', 'Q', 'J', '10', '9', '8', '7', '6', '5', '4', '3', '2']\n",
    "suits = ['H', 'D', 'C', 'S']\n",
    "def cards():\n",
    "    \"\"\"Return a generator that yields playing cards.\"\"\"\n",
    "    for rank in ranks:\n",
    "        for suit in suits:\n",
    "            yield rank, suit\n",
    "\n",
    "cards = ((rank, suit) for rank in ranks for suit in suits)"
   ]
  },
  {
   "cell_type": "code",
   "execution_count": 6,
   "metadata": {},
   "outputs": [
    {
     "data": {
      "text/plain": [
       "<itertools.product at 0x10932c240>"
      ]
     },
     "execution_count": 6,
     "metadata": {},
     "output_type": "execute_result"
    }
   ],
   "source": [
    "it.product([1, 2], ['a', 'b'])  # (1, 'a'), (1, 'b'), (2, 'a'), (2, 'b')"
   ]
  },
  {
   "cell_type": "code",
   "execution_count": 8,
   "metadata": {},
   "outputs": [
    {
     "data": {
      "text/plain": [
       "[('A', 'H'),\n",
       " ('A', 'D'),\n",
       " ('A', 'C'),\n",
       " ('A', 'S'),\n",
       " ('K', 'H'),\n",
       " ('K', 'D'),\n",
       " ('K', 'C'),\n",
       " ('K', 'S'),\n",
       " ('Q', 'H'),\n",
       " ('Q', 'D'),\n",
       " ('Q', 'C'),\n",
       " ('Q', 'S'),\n",
       " ('J', 'H'),\n",
       " ('J', 'D'),\n",
       " ('J', 'C'),\n",
       " ('J', 'S'),\n",
       " ('10', 'H'),\n",
       " ('10', 'D'),\n",
       " ('10', 'C'),\n",
       " ('10', 'S'),\n",
       " ('9', 'H'),\n",
       " ('9', 'D'),\n",
       " ('9', 'C'),\n",
       " ('9', 'S'),\n",
       " ('8', 'H'),\n",
       " ('8', 'D'),\n",
       " ('8', 'C'),\n",
       " ('8', 'S'),\n",
       " ('7', 'H'),\n",
       " ('7', 'D'),\n",
       " ('7', 'C'),\n",
       " ('7', 'S'),\n",
       " ('6', 'H'),\n",
       " ('6', 'D'),\n",
       " ('6', 'C'),\n",
       " ('6', 'S'),\n",
       " ('5', 'H'),\n",
       " ('5', 'D'),\n",
       " ('5', 'C'),\n",
       " ('5', 'S'),\n",
       " ('4', 'H'),\n",
       " ('4', 'D'),\n",
       " ('4', 'C'),\n",
       " ('4', 'S'),\n",
       " ('3', 'H'),\n",
       " ('3', 'D'),\n",
       " ('3', 'C'),\n",
       " ('3', 'S'),\n",
       " ('2', 'H'),\n",
       " ('2', 'D'),\n",
       " ('2', 'C'),\n",
       " ('2', 'S')]"
      ]
     },
     "execution_count": 8,
     "metadata": {},
     "output_type": "execute_result"
    }
   ],
   "source": [
    "list(it.product(ranks, suits))"
   ]
  },
  {
   "attachments": {},
   "cell_type": "markdown",
   "metadata": {},
   "source": [
    "The cut() function is pretty simple, but it suffers from a couple of problems. When you slice a list, you make a copy of the original list and return a new list with the selected elements. With a deck of only 52 cards, this increase in space complexity is trivial, but you could reduce the memory overhead using itertools. To do this, you’ll need three functions: itertools.tee(), itertools.islice(), and itertools.chain()."
   ]
  },
  {
   "cell_type": "code",
   "execution_count": 20,
   "metadata": {},
   "outputs": [
    {
     "name": "stdout",
     "output_type": "stream",
     "text": [
      "[1, 2, 3, 4, 5]\n",
      "[1, 2, 3, 4, 5]\n"
     ]
    }
   ],
   "source": [
    "iterator1, iterator2, *sd = it.tee([1, 2, 3, 4, 5], 5)\n",
    "print(list(iterator1))\n",
    "#[1, 2, 3, 4, 5]\n",
    "#print(list(iterator1))  # iterator1 is now exhausted.\n",
    "#[]\n",
    "print(list(iterator2))  # iterator2 works independently of iterator1\n",
    "#[1, 2, 3, 4, 5].\n",
    "#print(list(iterator2))"
   ]
  },
  {
   "cell_type": "code",
   "execution_count": null,
   "metadata": {},
   "outputs": [],
   "source": [
    "# Slice from index 2 to 4\n",
    "list(it.islice('ABCDEFG', 2, 5))\n",
    "['C' 'D' 'E']\n",
    "\n",
    "# Slice from beginning to index 4, in steps of 2\n",
    "list(it.islice([1, 2, 3, 4, 5], 0, 5, 2))\n",
    "[1, 3, 5]\n",
    "\n",
    "# Slice from index 3 to the end\n",
    "list(it.islice(range(10), 3, None))\n",
    "[3, 4, 5, 6, 7, 8, 9]\n",
    "\n",
    "# Slice from beginning to index 3\n",
    "list(it.islice('ABCDE', 4))\n",
    "['A', 'B', 'C', 'D']"
   ]
  },
  {
   "cell_type": "code",
   "execution_count": 22,
   "metadata": {},
   "outputs": [
    {
     "name": "stdout",
     "output_type": "stream",
     "text": [
      "['A', 'B', 'C', 'D', 'E', 'F']\n"
     ]
    },
    {
     "data": {
      "text/plain": [
       "[1, 2, 3, 4, 5, 6, 7, 8, 9]"
      ]
     },
     "execution_count": 22,
     "metadata": {},
     "output_type": "execute_result"
    }
   ],
   "source": [
    "print(list(it.chain('ABC', 'DEF')))\n",
    "['A' 'B' 'C' 'D' 'E' 'F']\n",
    "\n",
    "list(it.chain([1, 2], [3, 4, 5, 6], [7, 8, 9]))\n",
    "[1, 2, 3, 4, 5, 6, 7, 8, 9]"
   ]
  },
  {
   "cell_type": "code",
   "execution_count": 23,
   "metadata": {},
   "outputs": [
    {
     "data": {
      "text/plain": [
       "['a', 'b', 'c', 'a', 'b', 'c', 'a', 'b']"
      ]
     },
     "execution_count": 23,
     "metadata": {},
     "output_type": "execute_result"
    }
   ],
   "source": [
    "list(it.chain.from_iterable([[1, 2, 3], [4, 5, 6]]))\n",
    "[1, 2, 3, 4, 5, 6]\n",
    "# There’s no reason the argument of chain.from_iterable() needs to be finite. \n",
    "# You could emulate the behavior of cycle(), for example:\n",
    "\n",
    "cycle = it.chain.from_iterable(it.repeat('abc'))\n",
    "list(it.islice(cycle, 8))\n",
    "['a', 'b', 'c', 'a', 'b', 'c', 'a', 'b']"
   ]
  },
  {
   "cell_type": "code",
   "execution_count": null,
   "metadata": {},
   "outputs": [],
   "source": [
    "only_positives = it.filterfalse(lambda x: x <= 0, [0, 1, -1, 2, -2])\n",
    "list(only_positives)\n",
    "[1, 2]"
   ]
  },
  {
   "cell_type": "code",
   "execution_count": 24,
   "metadata": {},
   "outputs": [
    {
     "data": {
      "text/plain": [
       "<itertools.dropwhile at 0x109e2a240>"
      ]
     },
     "execution_count": 24,
     "metadata": {},
     "output_type": "execute_result"
    }
   ],
   "source": [
    "it.takewhile(lambda x: x < 3, [0, 1, 2, 3, 4])  # 0, 1, 2\n",
    "# The dropwhile() function does exactly the opposite. \n",
    "# It returns an iterator beginning at the first element for which the predicate returns False:\n",
    "\n",
    "it.dropwhile(lambda x: x < 3, [0, 1, 2, 3, 4])  # 3, 4"
   ]
  }
 ],
 "metadata": {
  "kernelspec": {
   "display_name": "Python 3",
   "language": "python",
   "name": "python3"
  },
  "language_info": {
   "codemirror_mode": {
    "name": "ipython",
    "version": 3
   },
   "file_extension": ".py",
   "mimetype": "text/x-python",
   "name": "python",
   "nbconvert_exporter": "python",
   "pygments_lexer": "ipython3",
   "version": "3.9.6"
  },
  "orig_nbformat": 4,
  "vscode": {
   "interpreter": {
    "hash": "31f2aee4e71d21fbe5cf8b01ff0e069b9275f58929596ceb00d14d90e3e16cd6"
   }
  }
 },
 "nbformat": 4,
 "nbformat_minor": 2
}
