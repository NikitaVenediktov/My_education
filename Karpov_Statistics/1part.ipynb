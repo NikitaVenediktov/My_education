{
 "cells": [
  {
   "cell_type": "code",
   "execution_count": null,
   "metadata": {},
   "outputs": [],
   "source": [
    "from collections import Counter\n",
    "\n",
    " \n",
    "\n",
    "def moda(L):\n",
    "\n",
    "    ''' мода выборки - наиболее часто встречающееся значение\n",
    "\n",
    "        возвращает список элементов, \n",
    "\n",
    "        т.к. может быть несколько одинаково часто встречающихся значений  \n",
    "\n",
    "    '''\n",
    "\n",
    "    cnt = Counter(L)\n",
    "\n",
    "    maxval = max(cnt.values())\n",
    "\n",
    "    return [c for c in cnt if cnt[c] == maxval]\n",
    "\n",
    " \n",
    "\n",
    "def mediana(L):\n",
    "\n",
    "    ''' медиана - значение, которое делит выборку на две равные части '''\n",
    "\n",
    "    srt = sorted(L)\n",
    "\n",
    "    l = len(srt)\n",
    "\n",
    "    if l % 2 != 0:\n",
    "\n",
    "        return srt[l // 2 + 1] #  значение, делящее выборку пополам - если нечётное к-во значений\n",
    "\n",
    "    return (srt[l // 2 - 1] + srt[l // 2]) / 2 #  если чётное к-во значений\n",
    "\n",
    " \n",
    "\n",
    "def avg(L):\n",
    "\n",
    "    '''среднее значение'''\n",
    "\n",
    "    return sum(L) / len(L)\n",
    "\n",
    "L = [185, 175, 170, 169, 171, 172, 175, 157, 170, 172, 167, 173, 168, 167, 166,\n",
    "\n",
    "     167, 169, 172, 177, 178, 165, 161, 179, 159, 164, 178, 172, 170, 173, 171]\n",
    "\n",
    " \n",
    "\n",
    "print('мода выборки: {0}', moda(L))\n",
    "\n",
    "print('медиана выборки: {0}', mediana(L))\n",
    "\n",
    "print('среднее значение выборки: {0}', avg(L))"
   ]
  },
  {
   "cell_type": "code",
   "execution_count": null,
   "metadata": {},
   "outputs": [],
   "source": [
    "from scipy import stats\n",
    "import numpy as np\n",
    "a = np.array([185,175,170,169,171,172,175,157,170,172,167,173,168,167,166,\n",
    "              167,169,172,177,178,165,161,179,159,164,178,172,170,173,171])\n",
    "\n",
    "m = stats.mode(a)\n",
    "print(m)"
   ]
  },
  {
   "cell_type": "code",
   "execution_count": null,
   "metadata": {},
   "outputs": [],
   "source": [
    "import matplotlib.pyplot as plt\n",
    "import numpy as np\n",
    "import pandas as pd\n",
    "\n",
    "\n",
    "data = [185, 175, 170, 169, 171, 175, 157, 170, 172, 172, 172, 172, 167, 173, 168, 167, 166, 167, 169, 177, 178, 165, \n",
    "        161, 179, 159, 164, 178, 170, 173, 171]\n",
    "\n",
    "# Считаем моду/моды\n",
    "series = pd.Series(data)\n",
    "modes = list(series.mode())\n",
    "\n",
    "# Создаем оси\n",
    "count = series.value_counts()\n",
    "x_points = np.array(count.keys())\n",
    "y_points = np.array(count)\n",
    "\n",
    "# Создаем plot\n",
    "fig, ax = plt.subplots()\n",
    "\n",
    "# Наводим красоту\n",
    "ax.bar(x_points, y_points, width=0.5)\n",
    "ax.set_ylim(0, 6)\n",
    "ax.set_xlabel('Height')\n",
    "ax.set_ylabel('Count')\n",
    "\n",
    "# На каждой итерации цикла добавляется аннотация к моде. Указываю координаты текста, цвет и поворот.\n",
    "for mode in modes:\n",
    "    y = count[mode]\n",
    "    ax.annotate('mode', xy=(mode, y), xycoords='data', xytext=(mode - 0.5, y + 0.2), rotation=90,\n",
    "                color='red')\n",
    "plt.show()"
   ]
  },
  {
   "cell_type": "code",
   "execution_count": null,
   "metadata": {},
   "outputs": [],
   "source": [
    "import numpy as np\n",
    "\n",
    "a = np.array([185,175,170,169,171,172,175,157,170,172,167,173,168,167,166,\n",
    "\n",
    "              167,169,172,177,178,165,161,179,159,164,178,172,170,173,171])\n",
    "m = np.median(a)\n",
    "print(m)"
   ]
  },
  {
   "cell_type": "code",
   "execution_count": null,
   "metadata": {},
   "outputs": [],
   "source": [
    "mport matplotlib.pyplot as plt\n",
    "\n",
    "import statistics\n",
    "\n",
    " \n",
    "\n",
    "# Define an array of values\n",
    "\n",
    "values = np.array([185,175,170,169,171,172,175,157,170,172,167,173,168,167,166,167,169,172,177,178,165,161,179,159,164,178,172,170,173,171])\n",
    "\n",
    " \n",
    "\n",
    "# Calculate the median\n",
    "\n",
    "median = statistics.median(values)\n",
    "\n",
    " \n",
    "\n",
    "# Plot the histogram\n",
    "\n",
    "plt.hist(values, bins=4)\n",
    "\n",
    " \n",
    "\n",
    "# Add a vertical line at the median value\n",
    "\n",
    "plt.axvline(median, color='r', linestyle='dashed', linewidth=2)\n",
    "\n",
    " \n",
    "\n",
    "# Show the plot\n",
    "\n",
    "plt.show()"
   ]
  },
  {
   "cell_type": "code",
   "execution_count": null,
   "metadata": {},
   "outputs": [],
   "source": [
    "from scipy import stats\n",
    "import numpy as np\n",
    "\n",
    "a = np.array([185, 175, 170, 169, 171, 175, 157, 172, 170, 172, 167, 173, 168, 167, 166,\n",
    "              167, 169, 172, 177, 178, 165, 161, 179, 159, 164, 178, 172, 170, 173, 171])\n",
    "# как искать медиану\n",
    "m = stats.mode(a)\n",
    "print(m)\n",
    "# как искать моду\n",
    "m = np.median(a)\n",
    "print(m)\n",
    "# как искать среднее значение\n",
    "m = np.mean(a)\n",
    "print(m)"
   ]
  },
  {
   "cell_type": "code",
   "execution_count": null,
   "metadata": {},
   "outputs": [],
   "source": [
    "\n",
    "import pandas as ps\n",
    "\n",
    "# Выборка\n",
    "sample = [185, 175, 170, 169, 171, 175, 157, 172, 170, 172, 167, 173, 168, 167, 166,\n",
    "          167, 169, 172, 177, 178, 165, 161, 179, 159, 164, 178, 172, 170, 173, 171]\n",
    "\n",
    "# Создаем колонку\n",
    "sr = ps.Series(sample)\n",
    "\n",
    "# Вычисляем среднее значение\n",
    "print(sr.mean()) # 170.5"
   ]
  },
  {
   "attachments": {},
   "cell_type": "markdown",
   "metadata": {},
   "source": [
    "рвзмах"
   ]
  },
  {
   "cell_type": "code",
   "execution_count": null,
   "metadata": {},
   "outputs": [],
   "source": [
    "from scipy import stats\n",
    "import numpy as np\n",
    "\n",
    "a = np.array([185, 175, 170, 169, 171, 175, 157, 172, 170, 172, 167, 173, 168, 167, 166,\n",
    "              167, 169, 172, 177, 178, 165, 161, 179, 159, 164, 178, 172, 170, 173, 171])\n",
    "\n",
    "\n",
    "print(\"размах: \", np.ptp(a))\n",
    "print(\"min: \", np.nanmin(a))\n",
    "print(\"max: \", np.nanmax(a))\n",
    "\n",
    ">>>размах:  28\n",
    "   min:  157\n",
    "   max:  185"
   ]
  },
  {
   "cell_type": "code",
   "execution_count": null,
   "metadata": {},
   "outputs": [],
   "source": [
    "from scipy import stats\n",
    "import numpy as np\n",
    "\n",
    "a = np.array([185, 175, 170, 169, 171, 175, 157, 172, 170, 172, 167, 173, 168, 167, 166,\n",
    "              167, 169, 172, 177, 178, 165, 161, 179, 159, 164, 178, 172, 170, 173, 171])\n",
    "\n",
    "#дисперсия\n",
    "print(np.var(a))\n",
    "#дисперсия (N - 1)\n",
    "print(np.var(a, ddof=1))\n",
    "#Среднее квадратичное\n",
    "print(np.std(a))\n",
    "#Среднее квадратичное (N - 1)\n",
    "print(np.std(a, ddof=1))"
   ]
  },
  {
   "cell_type": "code",
   "execution_count": null,
   "metadata": {},
   "outputs": [],
   "source": [
    "import numpy as np\n",
    "import matplotlib.pyplot as plt\n",
    "\n",
    "data_to_plot = np.array([157,159,161,164,165,166,167,167,167,168,169,170,170,170,171,171,172,172,172,172,173,173,175,175,177,178,178,179,185])\n",
    "\n",
    "plt.figure(1,figsize=(5,6))\n",
    "plt.subplot(111)\n",
    "plt.axis([0,1,155,190])\n",
    "plt.boxplot(data_to_plot, showfliers=True)\n",
    "\n",
    "plt.show()"
   ]
  },
  {
   "cell_type": "code",
   "execution_count": null,
   "metadata": {},
   "outputs": [],
   "source": [
    "import statistics\n",
    "import math\n",
    "\n",
    "# Рост\n",
    "h = [165, 205, 175, 184, 194, 172, 167, 193]\n",
    "print(h)\n",
    "\n",
    "# Среднее значение\n",
    "x = statistics.mean(h)\n",
    "print(x)\n",
    "\n",
    "# Дисперсия выборки\n",
    "d = statistics.variance(h)\n",
    "print(d)\n",
    "\n",
    "# Стандартное отклонение выборки\n",
    "s = statistics.stdev(h)\n",
    "print(s)\n",
    "\n",
    "# Z-преобразование\n",
    "# Для того чтобы его получить, нужно из каждого наблюдения вычесть среднее и результат разделить на стандартное отклонение.\n",
    "def find_z_scores(data):\n",
    "    \"\"\" Возвращает список z преобразование \"\"\"\n",
    "    z_scores = []\n",
    "    for i in data:\n",
    "        z_scores.append((i - x) / s)\n",
    "    return z_scores\n",
    "\n",
    "print(find_z_scores(h))"
   ]
  },
  {
   "attachments": {},
   "cell_type": "markdown",
   "metadata": {},
   "source": [
    "https://gallery.shinyapps.io/dist_calc/"
   ]
  },
  {
   "attachments": {},
   "cell_type": "markdown",
   "metadata": {},
   "source": [
    "Стандартное отклонение - это квадратный корень из дисперсии.\n",
    "\n",
    "Стандартная ошибка среднего - это отношение стандартного отклонения к квадратному корню из числа наблюдений в выборке."
   ]
  },
  {
   "cell_type": "code",
   "execution_count": 2,
   "metadata": {},
   "outputs": [
    {
     "name": "stdout",
     "output_type": "stream",
     "text": [
      "Среднее выборки:                 100\n",
      "Среднее отклонение выборки:4.007928650000155\n",
      "Кол-во элементов выборки:         64\n",
      "Стандартная ошибка выборки:0.5009910812500193\n",
      "95% дов интервал: [99.02; 100.98]\n",
      "99% дов интервал: [98.71; 101.29]\n"
     ]
    }
   ],
   "source": [
    "import math\n",
    "import statistics\n",
    "from scipy import stats\n",
    "s = '102 91 99 100 103 98 99 101 106 93 103 97 103 101 101 91 104 105 105 100 101 91 99 98 102 102 100 97 100 102 100 98 102 99 94 104 104 97 99 102 98 107 101 93 98 101 100 91 100 102 96 93 100 105 103 107 99 102 106 102 94 104 103 102'\n",
    "data = list(map(int, s.split()))\n",
    "\n",
    "mu = statistics.mean(data)\n",
    "sd = statistics.stdev(data)\n",
    "n = len(data)\n",
    "se = sd / math.sqrt(n)\n",
    "\n",
    "print('Среднее выборки:{: >20}'.format(mu))\n",
    "print('Среднее отклонение выборки:{: >9}'.format(sd))\n",
    "print('Кол-во элементов выборки:{: >11}'.format(n))\n",
    "print('Стандартная ошибка выборки:{: >9}'.format(se))\n",
    "print('95% дов интервал: [{:.2f}; {:.2f}]'.format(mu+se*stats.norm.ppf(0.025),mu+se*stats.norm.ppf(0.975)))\n",
    "print('99% дов интервал: [{:.2f}; {:.2f}]'.format(mu+se*stats.norm.ppf(0.005),mu+se*stats.norm.ppf(0.995)))"
   ]
  },
  {
   "attachments": {},
   "cell_type": "markdown",
   "metadata": {},
   "source": [
    "Рассчитайте 99% доверительный интервал для следующего примера:\n",
    "x=10\n",
    "\n",
    "sd=5\n",
    "\n",
    "n=100"
   ]
  },
  {
   "cell_type": "code",
   "execution_count": 3,
   "metadata": {},
   "outputs": [
    {
     "name": "stdout",
     "output_type": "stream",
     "text": [
      "(8.71, 11.29)\n"
     ]
    }
   ],
   "source": [
    "import math\n",
    "from scipy import stats\n",
    "\n",
    "def confidence_interval(sd, X, N, target_interval):\n",
    "    alpha = 1 - target_interval\n",
    "    z = abs(stats.norm.ppf(alpha/2))\n",
    "    se = sd / math.sqrt(N)\n",
    "    return (round(X - z * se,  2),  round(X + z * se,  2))\n",
    "\n",
    "print(confidence_interval(5, 10, 100, 0.99))"
   ]
  }
 ],
 "metadata": {
  "kernelspec": {
   "display_name": "base",
   "language": "python",
   "name": "python3"
  },
  "language_info": {
   "codemirror_mode": {
    "name": "ipython",
    "version": 3
   },
   "file_extension": ".py",
   "mimetype": "text/x-python",
   "name": "python",
   "nbconvert_exporter": "python",
   "pygments_lexer": "ipython3",
   "version": "3.10.8"
  },
  "orig_nbformat": 4,
  "vscode": {
   "interpreter": {
    "hash": "e76af0c17abd189a72db66576839a2931fad4860241ff6ba93bdd5855e7a1742"
   }
  }
 },
 "nbformat": 4,
 "nbformat_minor": 2
}
