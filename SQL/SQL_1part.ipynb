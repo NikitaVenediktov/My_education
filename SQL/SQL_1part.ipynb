{
 "cells": [
  {
   "attachments": {},
   "cell_type": "markdown",
   "metadata": {},
   "source": [
    "Сформулируйте SQL запрос для создания таблицы book, занесите  его в окно кода (расположено ниже)  и отправьте на проверку (кнопка Отправить). Структура таблицы book:"
   ]
  },
  {
   "cell_type": "code",
   "execution_count": null,
   "metadata": {
    "vscode": {
     "languageId": "sql"
    }
   },
   "outputs": [],
   "source": [
    "CREATE TABLE book(\n",
    "    book_id INT PRIMARY KEY AUTO_INCREMENT, \n",
    "    title VARCHAR(50),\n",
    "    author VARCHAR(30),\n",
    "    price DECIMAL(8,2),\n",
    "    amount INT\n",
    ");"
   ]
  },
  {
   "attachments": {},
   "cell_type": "markdown",
   "metadata": {},
   "source": [
    "Занесите новую строку в таблицу book (текстовые значения (тип VARCHAR) заключать либо в двойные, либо в одинарные кавычки):"
   ]
  },
  {
   "cell_type": "code",
   "execution_count": null,
   "metadata": {
    "vscode": {
     "languageId": "sql"
    }
   },
   "outputs": [],
   "source": [
    "INSERT INTO book (title, author, price, amount) \n",
    "VALUES ('Мастер и Маргарита', 'Булгаков М.А.', 670.99, 3);\n",
    "\n",
    "SELECT * FROM book"
   ]
  },
  {
   "attachments": {},
   "cell_type": "markdown",
   "metadata": {},
   "source": [
    "Занесите три последние записи в таблицуbook,  первая запись уже добавлена на предыдущем шаге:"
   ]
  },
  {
   "cell_type": "code",
   "execution_count": null,
   "metadata": {
    "vscode": {
     "languageId": "sql"
    }
   },
   "outputs": [],
   "source": [
    "INSERT INTO book (title, author, price, amount) \n",
    "VALUES ('Белая гвардия', 'Булгаков М.А.', 540.50, 5);\n",
    "\n",
    "INSERT INTO book (title, author, price, amount) \n",
    "VALUES ('Идиот', 'Достоевский Ф.М.', 460.00, 10);\n",
    " \n",
    "INSERT INTO book (title, author, price, amount) \n",
    "VALUES ('Братья Карамазовы', 'Достоевский Ф.М.', 799.01, 2);\n",
    "\n",
    "SELECT * FROM book"
   ]
  },
  {
   "attachments": {},
   "cell_type": "markdown",
   "metadata": {},
   "source": [
    "Выбрать названия книг и авторов из таблицы book, для поля title задать имя(псевдоним) Название, для поля author –  Автор."
   ]
  },
  {
   "cell_type": "code",
   "execution_count": null,
   "metadata": {
    "vscode": {
     "languageId": "sql"
    }
   },
   "outputs": [],
   "source": [
    "SELECT title AS Название, author AS Автор \n",
    "FROM book;"
   ]
  },
  {
   "attachments": {},
   "cell_type": "markdown",
   "metadata": {},
   "source": [
    "Для упаковки каждой книги требуется один лист бумаги, цена которого 1 рубль 65 копеек. Посчитать стоимость упаковки для каждой книги (сколько денег потребуется, чтобы упаковать все экземпляры книги). В запросе вывести название книги, ее количество и стоимость упаковки, последний столбец назвать pack"
   ]
  },
  {
   "cell_type": "code",
   "execution_count": null,
   "metadata": {
    "vscode": {
     "languageId": "sql"
    }
   },
   "outputs": [],
   "source": [
    "SELECT title, amount, \n",
    "     1.65 * amount AS pack \n",
    "FROM book;"
   ]
  },
  {
   "attachments": {},
   "cell_type": "markdown",
   "metadata": {},
   "source": [
    "В конце года цену всех книг на складе пересчитывают – снижают ее на 30%. Написать SQL запрос, который из таблицы book выбирает названия, авторов, количества и вычисляет новые цены книг. Столбец с новой ценой назвать new_price, цену округлить до 2-х знаков после запятой."
   ]
  },
  {
   "cell_type": "code",
   "execution_count": null,
   "metadata": {
    "vscode": {
     "languageId": "sql"
    }
   },
   "outputs": [],
   "source": [
    "SELECT title, author, amount,\n",
    "    ROUND((price*70/100), 2) AS new_price\n",
    "\n",
    "FROM book;"
   ]
  },
  {
   "attachments": {},
   "cell_type": "markdown",
   "metadata": {},
   "source": [
    "При анализе продаж книг выяснилось, что наибольшей популярностью пользуются книги Михаила Булгакова, на втором месте книги Сергея Есенина. Исходя из этого решили поднять цену книг Булгакова на 10%, а цену книг Есенина - на 5%. Написать запрос, куда включить автора, название книги и новую цену, последний столбец назвать new_price. Значение округлить до двух знаков после запятой."
   ]
  },
  {
   "cell_type": "code",
   "execution_count": null,
   "metadata": {
    "vscode": {
     "languageId": "sql"
    }
   },
   "outputs": [],
   "source": [
    "SELECT author, title,\n",
    "    ROUND(IF(author = 'Булгаков М.А.', price * 1.1, IF(author = 'Есенин С.А.', price * 1.05, price)), 2) AS new_price\n",
    "\n",
    "FROM book;"
   ]
  },
  {
   "attachments": {},
   "cell_type": "markdown",
   "metadata": {},
   "source": [
    "Вывести автора, название  и цены тех книг, количество которых меньше 10."
   ]
  },
  {
   "cell_type": "code",
   "execution_count": null,
   "metadata": {
    "vscode": {
     "languageId": "sql"
    }
   },
   "outputs": [],
   "source": [
    "SELECT author, title, price\n",
    "FROM book\n",
    "WHERE amount < 10;"
   ]
  },
  {
   "attachments": {},
   "cell_type": "markdown",
   "metadata": {},
   "source": [
    "Вывести название, автора,  цену  и количество всех книг, цена которых меньше 500 или больше 600, а стоимость всех экземпляров этих книг больше или равна 5000."
   ]
  },
  {
   "cell_type": "code",
   "execution_count": null,
   "metadata": {
    "vscode": {
     "languageId": "sql"
    }
   },
   "outputs": [],
   "source": [
    "SELECT title, author, price, amount\n",
    "FROM book\n",
    "WHERE (price > 600 OR price < 500) AND amount * price >= 5000"
   ]
  },
  {
   "attachments": {},
   "cell_type": "markdown",
   "metadata": {},
   "source": [
    "Вывести название и авторов тех книг, цены которых принадлежат интервалу от 540.50 до 800 (включая границы),  а количество или 2, или 3, или 5, или 7 "
   ]
  },
  {
   "cell_type": "code",
   "execution_count": null,
   "metadata": {
    "vscode": {
     "languageId": "sql"
    }
   },
   "outputs": [],
   "source": [
    "SELECT title, author\n",
    "FROM book\n",
    "WHERE price BETWEEN 540 AND 800 AND amount IN (2, 3, 5, 7);"
   ]
  },
  {
   "attachments": {},
   "cell_type": "markdown",
   "metadata": {},
   "source": [
    "Вывести  автора и название  книг, количество которых принадлежит интервалу от 2 до 14 (включая границы). Информацию  отсортировать сначала по авторам (в обратном алфавитном порядке), а затем по названиям книг (по алфавиту)."
   ]
  },
  {
   "cell_type": "code",
   "execution_count": null,
   "metadata": {
    "vscode": {
     "languageId": "sql"
    }
   },
   "outputs": [],
   "source": [
    "SELECT author, title\n",
    "FROM book\n",
    "WHERE amount BETWEEN 2 AND 14\n",
    "ORDER BY author DESC, title ASC;"
   ]
  },
  {
   "attachments": {},
   "cell_type": "markdown",
   "metadata": {},
   "source": [
    "Вывести название и автора тех книг, название которых состоит из двух и более слов, а инициалы автора содержат букву «С». Считать, что в названии слова отделяются друг от друга пробелами и не содержат знаков препинания, между фамилией автора и инициалами обязателен пробел, инициалы записываются без пробела в формате: буква, точка, буква, точка. Информацию отсортировать по названию книги в алфавитном порядке."
   ]
  },
  {
   "cell_type": "code",
   "execution_count": null,
   "metadata": {
    "vscode": {
     "languageId": "sql"
    }
   },
   "outputs": [],
   "source": [
    "SELECT title, author\n",
    "FROM book\n",
    "WHERE title LIKE \"% %\" AND author LIKE '%С.%' AND title NOT LIKE \" \"\n",
    "ORDER BY title ASC;"
   ]
  },
  {
   "attachments": {},
   "cell_type": "markdown",
   "metadata": {},
   "source": [
    "Отобрать различные (уникальные) элементы столбца amount таблицы book."
   ]
  },
  {
   "cell_type": "code",
   "execution_count": null,
   "metadata": {
    "vscode": {
     "languageId": "sql"
    }
   },
   "outputs": [],
   "source": [
    "SELECT amount\n",
    "FROM book\n",
    "GROUP BY amount;"
   ]
  },
  {
   "attachments": {},
   "cell_type": "markdown",
   "metadata": {},
   "source": [
    "Посчитать, количество различных книг и количество экземпляров книг каждого автора , хранящихся на складе.  Столбцы назвать Автор, Различных_книг и Количество_экземпляров соответственно"
   ]
  },
  {
   "cell_type": "code",
   "execution_count": null,
   "metadata": {
    "vscode": {
     "languageId": "sql"
    }
   },
   "outputs": [],
   "source": [
    "SELECT author as Автор, COUNT(title) as Различных_книг, sum(amount) as Количество_экземпляров\n",
    "FROM book\n",
    "GROUP BY author;"
   ]
  },
  {
   "attachments": {},
   "cell_type": "markdown",
   "metadata": {},
   "source": [
    "Вывести фамилию и инициалы автора, минимальную, максимальную и среднюю цену книг каждого автора . Вычисляемые столбцы назвать Минимальная_цена, Максимальная_цена и Средняя_цена соответственно."
   ]
  },
  {
   "cell_type": "code",
   "execution_count": null,
   "metadata": {
    "vscode": {
     "languageId": "sql"
    }
   },
   "outputs": [],
   "source": [
    "SELECT author, MIN(price) AS Минимальная_цена, MAX(price) AS Максимальная_цена, AVG(price) AS Средняя_цена\n",
    "FROM book\n",
    "GROUP BY author;"
   ]
  },
  {
   "attachments": {},
   "cell_type": "markdown",
   "metadata": {},
   "source": [
    "Для каждого автора вычислить суммарную стоимость книг S (имя столбца Стоимость), а также вычислить налог на добавленную стоимость  для полученных сумм (имя столбца НДС ) , который включен в стоимость и составляет k = 18%,  а также стоимость книг  (Стоимость_без_НДС) без него. Значения округлить до двух знаков после запятой."
   ]
  },
  {
   "cell_type": "code",
   "execution_count": null,
   "metadata": {
    "vscode": {
     "languageId": "sql"
    }
   },
   "outputs": [],
   "source": [
    "SELECT author, ROUND(SUM(price * amount),2) AS Стоимость, ROUND((SUM(price * amount) * 0.18/1.18),2) AS НДС,ROUND((SUM(price * amount) / 1.18),2) AS Стоимость_без_НДС\n",
    "FROM book\n",
    "GROUP BY author;"
   ]
  },
  {
   "attachments": {},
   "cell_type": "markdown",
   "metadata": {},
   "source": [
    "Вывести  цену самой дешевой книги, цену самой дорогой и среднюю цену уникальных книг на складе. Названия столбцов Минимальная_цена, Максимальная_цена, Средняя_цена соответственно. Среднюю цену округлить до двух знаков после запятой."
   ]
  },
  {
   "cell_type": "code",
   "execution_count": null,
   "metadata": {
    "vscode": {
     "languageId": "sql"
    }
   },
   "outputs": [],
   "source": [
    "SELECT round(MIN(price),2) AS Минимальная_цена, \n",
    "    round(MaX(price),2) AS Максимальная_цена,\n",
    "    round(AVG(price),2) AS Средняя_цена\n",
    "FROM book;"
   ]
  },
  {
   "attachments": {},
   "cell_type": "markdown",
   "metadata": {},
   "source": [
    "Вычислить среднюю цену и суммарную стоимость тех книг, количество экземпляров которых принадлежит интервалу от 5 до 14, включительно. Столбцы назвать Средняя_цена и Стоимость, значения округлить до 2-х знаков после запятой."
   ]
  },
  {
   "cell_type": "code",
   "execution_count": null,
   "metadata": {
    "vscode": {
     "languageId": "sql"
    }
   },
   "outputs": [],
   "source": [
    "SELECT \n",
    "    ROUND(AVG(price),2) AS Средняя_цена, \n",
    "    ROUND(sum(price * amount),2) AS Стоимость\n",
    "FROM book\n",
    "where amount between 5 AND 14;"
   ]
  },
  {
   "attachments": {},
   "cell_type": "markdown",
   "metadata": {},
   "source": [
    "Посчитать стоимость всех экземпляров каждого автора без учета книг «Идиот» и «Белая гвардия». В результат включить только тех авторов, у которых суммарная стоимость книг (без учета книг «Идиот» и «Белая гвардия») более 5000 руб. Вычисляемый столбец назвать Стоимость. Результат отсортировать по убыванию стоимости.\n",
    "FROM\n",
    "WHERE\n",
    "GROUP BY\n",
    "HAVING\n",
    "SELECT\n",
    "ORDER BY"
   ]
  },
  {
   "cell_type": "code",
   "execution_count": null,
   "metadata": {
    "vscode": {
     "languageId": "sql"
    }
   },
   "outputs": [],
   "source": [
    "SELECT author,\n",
    "    SUM(amount*price) as Стоимость\n",
    "FROM book\n",
    "WHERE title NOT IN ('Идиот', 'Белая гвардия')\n",
    "GROUP BY author\n",
    "HAVING SUM(amount*price) > 5000\n",
    "ORDER BY SUM(amount*price) DESC;"
   ]
  },
  {
   "attachments": {},
   "cell_type": "markdown",
   "metadata": {},
   "source": [
    "Вложенный запрос используется для выборки данных, которые будут использоваться в условии отбора записей основного запроса. Его применяют для:\n",
    "\n",
    "- сравнения выражения с результатом вложенного запроса;\n",
    "- определения того, включено ли выражение в результаты вложенного запроса;\n",
    "- проверки того, выбирает ли запрос определенные строки.\n",
    "- \n",
    "Вложенный запрос имеет следующие компоненты:\n",
    "\n",
    "- ключевое слово SELECT  после которого указываются имена столбцов или выражения (чаще всего список содержит один элемент) ;\n",
    "- ключевое слово FROM и имя таблицы, из которой выбираются данные;\n",
    "- необязательное предложение WHERE;\n",
    "- необязательное предложение GROUP BY:\n",
    "- необязательное предложение HAVING.\n",
    " \n",
    "Вложенные запросы  могут включаться в WHERE или HAVING так (в квадратных скобках указаны необязательные элементы, через | – один из элементов):\n",
    "\n",
    "- WHERE | HAVING выражение оператор_сравнения (вложенный запрос);\n",
    "- WHERE | HAVING выражение, включающее вложенный запрос;\n",
    "- WHERE | HAVING выражение [NOT] IN (вложенный запрос);\n",
    "- WHERE | HAVING выражение  оператор_сравнения  ANY | ALL (вложенный запрос).\n",
    "\n",
    "Также вложенные запросы могут вставляться в основной запрос после ключевого слова SELECT."
   ]
  },
  {
   "attachments": {},
   "cell_type": "markdown",
   "metadata": {},
   "source": [
    "Вывести информацию (автора, название и цену) о  книгах, цены которых меньше или равны средней цене книг на складе. Информацию вывести в отсортированном по убыванию цены виде. Среднее вычислить как среднее по цене книги."
   ]
  },
  {
   "cell_type": "code",
   "execution_count": null,
   "metadata": {
    "vscode": {
     "languageId": "sql"
    }
   },
   "outputs": [],
   "source": [
    "SELECT author, title, price\n",
    "FROM book\n",
    "WHERE price <= (\n",
    "    SELECT AVG(price)\n",
    "    FROM book\n",
    "    )\n",
    "ORDER BY price DESC;"
   ]
  },
  {
   "attachments": {},
   "cell_type": "markdown",
   "metadata": {},
   "source": [
    "Вывести информацию о книгах, количество экземпляров которых отличается от среднего количества экземпляров книг на складе более чем на 3. То есть нужно вывести и те книги, количество экземпляров которых меньше среднего на 3, или больше среднего на 3."
   ]
  },
  {
   "cell_type": "code",
   "execution_count": null,
   "metadata": {
    "vscode": {
     "languageId": "sql"
    }
   },
   "outputs": [],
   "source": [
    "SELECT title, author, amount \n",
    "FROM book\n",
    "WHERE ABS(amount - (SELECT AVG(amount) FROM book)) >3;"
   ]
  },
  {
   "attachments": {},
   "cell_type": "markdown",
   "metadata": {},
   "source": [
    "Вывести информацию (автора, название и цену) о тех книгах, цены которых превышают минимальную цену книги на складе не более чем на 150 рублей в отсортированном по возрастанию цены виде."
   ]
  },
  {
   "cell_type": "code",
   "execution_count": null,
   "metadata": {
    "vscode": {
     "languageId": "sql"
    }
   },
   "outputs": [],
   "source": [
    "SELECT  author, title, price \n",
    "FROM book\n",
    "WHERE price - (SELECT MIN(price) FROM book) <= 150\n",
    "ORDER BY price;"
   ]
  },
  {
   "attachments": {},
   "cell_type": "markdown",
   "metadata": {},
   "source": [
    "`WHERE имя_столбца IN (вложенный запрос, возвращающий один столбец)`\n",
    "\n",
    "Оператор IN определяет, совпадает ли значение столбца с одним из значений, содержащихся во вложенном запросе. При этом логическое выражение после WHERE получает значение истина. Оператор NOT IN выполняет обратное действие – выражение истинно, если значение столбца не содержится во вложенном запросе."
   ]
  },
  {
   "attachments": {},
   "cell_type": "markdown",
   "metadata": {},
   "source": [
    "Вывести информацию о книгах тех авторов, общее количество экземпляров книг которых не менее 12."
   ]
  },
  {
   "cell_type": "code",
   "execution_count": null,
   "metadata": {
    "vscode": {
     "languageId": "sql"
    }
   },
   "outputs": [],
   "source": [
    "SELECT title, author, amount, price\n",
    "FROM book\n",
    "WHERE author IN (\n",
    "        SELECT author \n",
    "        FROM book \n",
    "        GROUP BY author \n",
    "        HAVING SUM(amount) >= 12\n",
    "      );"
   ]
  },
  {
   "attachments": {},
   "cell_type": "markdown",
   "metadata": {},
   "source": [
    "Вывести информацию (автора, книгу и количество) о тех книгах, количество экземпляров которых в таблице book не дублируется."
   ]
  },
  {
   "cell_type": "code",
   "execution_count": null,
   "metadata": {
    "vscode": {
     "languageId": "sql"
    }
   },
   "outputs": [],
   "source": [
    "SELECT author, title, amount\n",
    "FROM book\n",
    "WHERE amount IN (\n",
    "        SELECT amount \n",
    "        FROM book \n",
    "        GROUP BY amount \n",
    "        HAVING count(amount) = 1\n",
    "      );"
   ]
  },
  {
   "attachments": {},
   "cell_type": "markdown",
   "metadata": {},
   "source": [
    " Вложенный запрос, возвращающий несколько значений одного столбца, можно использовать для отбора записей с помощью операторов ANY и ALL совместно с операциями отношения (=, <>, <=, >=, <, >).\n",
    "\n",
    "Операторы ANY и ALL используются  в SQL для сравнения некоторого значения с результирующим набором вложенного запроса, состоящим из одного столбца. При этом тип данных столбца, возвращаемого вложенным запросом, должен совпадать с типом данных столбца (или выражения), с которым происходит сравнение.\n",
    "\n",
    "При использовании оператора ANY в результирующую таблицу будут включены все записи, для которых  выражение со знаком отношения верно хотя бы для одного элемента результирующего запроса. Как работает оператор ANY:\n",
    "\n",
    "- amount > ANY (10, 12) эквивалентно amount > 10\n",
    "- amount < ANY (10, 12) эквивалентно amount < 12\n",
    "- amount = ANY (10, 12) эквивалентно (amount = 10) OR (amount = 12), а также amount IN  (10,12)\n",
    "- amount <> ANY (10, 12) вернет все записи с любым значением amount, включая 10 и 12\n",
    "\n",
    "При использовании оператора ALL в результирующую таблицу будут включены все записи, для которых  выражение со знаком отношения верно для всех элементов результирующего запроса. Как работает оператор ALL:\n",
    "\n",
    "- amount > ALL (10, 12) эквивалентно amount > 12\n",
    "- amount < ALL (10, 12) эквивалентно amount < 10\n",
    "- amount = ALL (10, 12) не вернет ни одной записи, так как эквивалентно (amount = 10) AND (amount = 12)\n",
    "- amount <> ALL (10, 12) вернет все записи кроме тех,  в которыхamount равно 10 или 12\n",
    "\n",
    "Важно! Операторы ALL и ANY можно использовать только с вложенными запросами. В примерах выше (10, 12) приводится как результат вложенного запроса просто для того, чтобы показать как эти операторы работают. В запросах так записывать нельзя."
   ]
  },
  {
   "attachments": {},
   "cell_type": "markdown",
   "metadata": {},
   "source": [
    "Вывести информацию о тех книгах, количество которых меньше самого маленького среднего количества книг каждого автора."
   ]
  },
  {
   "cell_type": "code",
   "execution_count": null,
   "metadata": {
    "vscode": {
     "languageId": "sql"
    }
   },
   "outputs": [],
   "source": [
    "SELECT title, author, amount, price\n",
    "FROM book\n",
    "WHERE amount < ALL (\n",
    "        SELECT AVG(amount) \n",
    "        FROM book \n",
    "        GROUP BY author \n",
    "      );"
   ]
  },
  {
   "attachments": {},
   "cell_type": "markdown",
   "metadata": {},
   "source": [
    "Вывести информацию о книгах(автор, название, цена), цена которых меньше самой большой из минимальных цен, вычисленных для каждого автора."
   ]
  },
  {
   "cell_type": "code",
   "execution_count": null,
   "metadata": {
    "vscode": {
     "languageId": "sql"
    }
   },
   "outputs": [],
   "source": [
    "SELECT author, title, price\n",
    "FROM book\n",
    "WHERE price < ANY (\n",
    "        SELECT MIN(price) \n",
    "        FROM book \n",
    "        GROUP BY author \n",
    "      );"
   ]
  },
  {
   "attachments": {},
   "cell_type": "markdown",
   "metadata": {},
   "source": [
    "Вложенный запрос после SELECT\n",
    "Вложенный запрос может располагаться после ключевого слова SELECT. В этом случае результат выполнения запроса выводится в отдельном столбце результирующей таблицы. При этом результатом запроса может быть только одно значение, тогда оно будет повторяться во всех строках. Также вложенный запрос может использоваться в выражениях.\n",
    "\n",
    "Пример\n",
    "\n",
    "Вывести информацию о книгах, количество экземпляров которых отличается от среднего количества экземпляров книг на складе более чем на 3,  а также указать среднее значение количества экземпляров книг.\n"
   ]
  },
  {
   "cell_type": "code",
   "execution_count": null,
   "metadata": {
    "vscode": {
     "languageId": "sql"
    }
   },
   "outputs": [],
   "source": [
    "SELECT title, author, amount, \n",
    "    (\n",
    "     SELECT AVG(amount) \n",
    "     FROM book\n",
    "    ) AS Среднее_количество \n",
    "FROM book\n",
    "WHERE ABS(amount - (SELECT AVG(amount) FROM book)) >3;"
   ]
  },
  {
   "attachments": {},
   "cell_type": "markdown",
   "metadata": {},
   "source": [
    "Посчитать сколько и каких экземпляров книг нужно заказать поставщикам, чтобы на складе стало одинаковое количество экземпляров каждой книги, равное значению самого большего количества экземпляров одной книги на складе. Вывести название книги, ее автора, текущее количество экземпляров на складе и количество заказываемых экземпляров книг. Последнему столбцу присвоить имя Заказ. В результат не включать книги, которые заказывать не нужно."
   ]
  },
  {
   "cell_type": "code",
   "execution_count": null,
   "metadata": {
    "vscode": {
     "languageId": "sql"
    }
   },
   "outputs": [],
   "source": [
    "SELECT title, author, amount, \n",
    "    (\n",
    "     SELECT MAX(amount)\n",
    "     FROM book\n",
    "    ) - amount AS Заказ \n",
    "FROM book\n",
    "WHERE amount < (SELECT MAX(amount) FROM book);"
   ]
  },
  {
   "attachments": {},
   "cell_type": "markdown",
   "metadata": {},
   "source": [
    "Создать таблицу поставка (supply), которая имеет ту же структуру, что и таблиц book."
   ]
  },
  {
   "cell_type": "code",
   "execution_count": null,
   "metadata": {
    "vscode": {
     "languageId": "sql"
    }
   },
   "outputs": [],
   "source": [
    "CREATE TABLE supply(\n",
    "    supply_id INT PRIMARY KEY AUTO_INCREMENT, \n",
    "    title VARCHAR(50),\n",
    "    author VARCHAR(30),\n",
    "    price DECIMAL(8,2),\n",
    "    amount INT\n",
    ");"
   ]
  },
  {
   "attachments": {},
   "cell_type": "markdown",
   "metadata": {},
   "source": [
    "Допускается вставка нескольких записей одновременно, для этого используется SQL запрос следующего вида:\n",
    "\n",
    "INSERT INTO имя_таблицы(столбец_1, столбец_2, ..., столбец_N)\n",
    "VALUES\n",
    "    (значение_1_1, значение_1_2, ..., значение_1_N),\n",
    "    (значение_2_1, значение_2_2, ..., значение_2_N),\n",
    "    ...\n",
    "    (значение_M_1, значение_M_2, ..., значение_M_N);"
   ]
  },
  {
   "cell_type": "code",
   "execution_count": null,
   "metadata": {
    "vscode": {
     "languageId": "sql"
    }
   },
   "outputs": [],
   "source": [
    "INSERT INTO supply (title, author, price, amount) \n",
    "VALUES \n",
    "    ('Лирика','Пастернак Б.Л.', 518.99,\t2),\n",
    "    ('Черный человек', 'Есенин С.А.', 570.20, 6),\n",
    "    ('Белая гвардия','Булгаков М.А.', 540.50, 7),\n",
    "    ('Идиот', 'Достоевский Ф.М.', 360.80, 3);"
   ]
  },
  {
   "attachments": {},
   "cell_type": "markdown",
   "metadata": {},
   "source": [
    "Занести все книги из таблицы supply в таблицу book.\n",
    "\n",
    "Запрос:\n",
    "\n",
    "INSERT INTO book (title, author, price, amount) \n",
    "SELECT title, author, price, amount \n",
    "FROM supply;\n",
    "\n",
    "SELECT * FROM book;\n",
    "\n",
    "Добавить из таблицы supply в таблицу book, все книги, кроме книг, написанных Булгаковым М.А. и Достоевским Ф.М."
   ]
  },
  {
   "cell_type": "code",
   "execution_count": null,
   "metadata": {
    "vscode": {
     "languageId": "sql"
    }
   },
   "outputs": [],
   "source": [
    "INSERT INTO book (title, author, price, amount) \n",
    "SELECT title, author, price, amount \n",
    "FROM supply\n",
    "WHERE author NOT IN ('Булгаков М.А.', 'Достоевский Ф.М.');"
   ]
  },
  {
   "attachments": {},
   "cell_type": "markdown",
   "metadata": {},
   "source": [
    "Занести из таблицы supply в таблицу book только те книги, названия которых отсутствуют в таблице book.\n",
    "\n",
    "Запрос:\n",
    "\n",
    "INSERT INTO book (title, author, price, amount) \n",
    "SELECT title, author, price, amount \n",
    "FROM supply\n",
    "WHERE title NOT IN (\n",
    "        SELECT title \n",
    "        FROM book\n",
    "      );\n",
    "\n",
    "\n",
    "\n",
    "Занести из таблицы supply в таблицу book только те книги, авторов которых нет в  book."
   ]
  },
  {
   "cell_type": "code",
   "execution_count": null,
   "metadata": {
    "vscode": {
     "languageId": "sql"
    }
   },
   "outputs": [],
   "source": [
    "INSERT INTO book (title, author, price, amount) \n",
    "SELECT title, author, price, amount \n",
    "FROM supply\n",
    "WHERE author NOT IN (\n",
    "        SELECT author\n",
    "        FROM book\n",
    "      );"
   ]
  },
  {
   "cell_type": "code",
   "execution_count": null,
   "metadata": {
    "vscode": {
     "languageId": "sql"
    }
   },
   "outputs": [],
   "source": [
    "Уменьшить на 30% цену книг в таблице book.\n",
    "\n",
    "Запрос:\n",
    "\n",
    "UPDATE book \n",
    "SET price = 0.7 * price;\n",
    "\n",
    "Уменьшить на 30% цену тех книг в таблице book, количество которых меньше 5.\n",
    "\n",
    "Запрос:\n",
    "\n",
    "UPDATE book \n",
    "SET price = 0.7 * price \n",
    "WHERE amount < 5;\n",
    "\n",
    "SELECT * FROM book;\n",
    "\n",
    "\n",
    "Уменьшить на 10% цену тех книг в таблице book, количество которых принадлежит интервалу от 5 до 10, включая границы."
   ]
  },
  {
   "cell_type": "code",
   "execution_count": null,
   "metadata": {
    "vscode": {
     "languageId": "sql"
    }
   },
   "outputs": [],
   "source": [
    "UPDATE book \n",
    "SET price = 0.9 * price \n",
    "WHERE amount BETWEEN  5 AND 10;\n",
    "\n",
    "SELECT * FROM book;"
   ]
  },
  {
   "attachments": {},
   "cell_type": "markdown",
   "metadata": {},
   "source": [
    "В столбце buy покупатель указывает количество книг, которые он хочет приобрести. Для каждой книги, выбранной покупателем, необходимо уменьшить ее количество на складе на указанное в столбцеbuy количество, а в столбец buy занести 0.\n",
    "\n",
    "Запрос:\n",
    "\n",
    "UPDATE book \n",
    "SET amount = amount - buy,\n",
    "    buy = 0;\n",
    "\n",
    "SELECT * FROM book;\n",
    "\n",
    "Например, для увеличения на 10% только цен книг Булгакова используется запрос:\n",
    "\n",
    "UPDATE book \n",
    "SET price = IF(author = \"Булгаков М.А.\", price * 1.1, price);\n",
    "\n",
    "В таблице book необходимо скорректировать значение для покупателя в столбце buy таким образом, чтобы оно не превышало количество экземпляров книг, указанных в столбце amount. А цену тех книг, которые покупатель не заказывал, снизить на 10%."
   ]
  },
  {
   "cell_type": "code",
   "execution_count": null,
   "metadata": {
    "vscode": {
     "languageId": "sql"
    }
   },
   "outputs": [],
   "source": [
    "UPDATE book \n",
    "SET buy = IF(buy <= amount, buy, amount),\n",
    "    price = IF(buy = 0, 0.9 * price, price);\n",
    "    \n",
    "SELECT * FROM book;"
   ]
  },
  {
   "attachments": {},
   "cell_type": "markdown",
   "metadata": {},
   "source": [
    "Если в таблице supply  есть те же книги, что и в таблице book, добавлять эти книги в таблицу book не имеет смысла. Необходимо увеличить их количество на значение столбца amountтаблицы supply.\n",
    "\n",
    "Запрос:\n",
    "\n",
    "UPDATE book, supply \n",
    "SET book.amount = book.amount + supply.amount\n",
    "WHERE book.title = supply.title AND book.author = supply.author;\n",
    "\n",
    "SELECT * FROM book;\n",
    "\n",
    "Для тех книг в таблице book , которые есть в таблице supply, не только увеличить их количество в таблице book ( увеличить их количество на значение столбца amountтаблицы supply), но и пересчитать их цену (для каждой книги найти сумму цен из таблиц book и supply и разделить на 2)."
   ]
  },
  {
   "cell_type": "code",
   "execution_count": null,
   "metadata": {
    "vscode": {
     "languageId": "sql"
    }
   },
   "outputs": [],
   "source": [
    "UPDATE book, supply \n",
    "SET book.amount = book.amount + supply.amount,\n",
    "    book.price = ((book.price + supply.price) / 2)\n",
    "WHERE book.title = supply.title AND book.author = supply.author;\n",
    "\n",
    "SELECT * FROM book;"
   ]
  },
  {
   "attachments": {},
   "cell_type": "markdown",
   "metadata": {},
   "source": [
    "Удалить из таблицы supply все книги, названия которых есть в таблице book.\n",
    "\n",
    "Запрос:\n",
    "\n",
    "DELETE FROM supply \n",
    "WHERE title IN (\n",
    "        SELECT title \n",
    "        FROM book\n",
    "      );\n",
    "SELECT * FROM supply;\n",
    "\n",
    "Удалить из таблицы supply книги тех авторов, общее количество экземпляров книг которых в таблице book превышает 10."
   ]
  },
  {
   "cell_type": "code",
   "execution_count": null,
   "metadata": {
    "vscode": {
     "languageId": "sql"
    }
   },
   "outputs": [],
   "source": [
    "DELETE FROM supply\n",
    "WHERE author IN(\n",
    "    SELECT author  \n",
    "    FROM book\n",
    "    GROUP BY author\n",
    "    HAVING SUM(amount)>10);\n",
    "SELECT * FROM supply;"
   ]
  },
  {
   "attachments": {},
   "cell_type": "markdown",
   "metadata": {},
   "source": [
    "Создать таблицу заказ (ordering), куда включить авторов и названия тех книг, количество экземпляров которых в таблице book меньше 4. Для всех книг указать одинаковое значение - среднее количество экземпляров книг в таблице book.\n",
    "\n",
    "Запрос:\n",
    "\n",
    "CREATE TABLE ordering AS\n",
    "SELECT author, title, \n",
    "   (\n",
    "    SELECT ROUND(AVG(amount)) \n",
    "    FROM book\n",
    "   ) AS amount\n",
    "FROM book\n",
    "WHERE amount < 4;\n",
    "\n",
    "SELECT * FROM ordering;\n",
    "\n",
    "Создать таблицу заказ (ordering), куда включить авторов и названия тех книг, количество экземпляров которых в таблице book меньше среднего количества экземпляров книг в таблице book. В таблицу включить столбец   amount, в котором для всех книг указать одинаковое значение - среднее количество экземпляров книг в таблице book."
   ]
  },
  {
   "cell_type": "code",
   "execution_count": null,
   "metadata": {
    "vscode": {
     "languageId": "sql"
    }
   },
   "outputs": [],
   "source": [
    "CREATE TABLE ordering AS\n",
    "SELECT author, title, \n",
    "   (SELECT ROUND(AVG(amount)) \n",
    "    FROM book) AS amount\n",
    "FROM book\n",
    "WHERE amount < (SELECT AVG(amount) \n",
    "    FROM book);"
   ]
  },
  {
   "attachments": {},
   "cell_type": "markdown",
   "metadata": {},
   "source": [
    "Вывести из таблицы trip информацию о командировках тех сотрудников, фамилия которых заканчивается на букву «а», в отсортированном по убыванию даты последнего дня командировки виде. В результат включить столбцы name, city, per_diem, date_first, date_last."
   ]
  },
  {
   "cell_type": "code",
   "execution_count": null,
   "metadata": {
    "vscode": {
     "languageId": "sql"
    }
   },
   "outputs": [],
   "source": [
    "SELECT name, city, per_diem, date_first, date_last\n",
    "FROM trip\n",
    "WHERE name LIKE \"%а %\"\n",
    "ORDER BY date_last DESC"
   ]
  },
  {
   "attachments": {},
   "cell_type": "markdown",
   "metadata": {},
   "source": [
    "Вывести в алфавитном порядке фамилии и инициалы тех сотрудников, которые были в командировке в Москве."
   ]
  },
  {
   "cell_type": "code",
   "execution_count": null,
   "metadata": {
    "vscode": {
     "languageId": "sql"
    }
   },
   "outputs": [],
   "source": [
    "SELECT name \n",
    "FROM trip\n",
    "WHERE city IN('Москва')\n",
    "GROUP BY name\n",
    "ORDER BY name"
   ]
  },
  {
   "attachments": {},
   "cell_type": "markdown",
   "metadata": {},
   "source": [
    "Для каждого города посчитать, сколько раз сотрудники в нем были.  Информацию вывести в отсортированном в алфавитном порядке по названию городов. Вычисляемый столбец назвать Количество. "
   ]
  },
  {
   "cell_type": "code",
   "execution_count": null,
   "metadata": {
    "vscode": {
     "languageId": "sql"
    }
   },
   "outputs": [],
   "source": [
    "SELECT city, count(city) AS 'Количество'\n",
    "FROM trip\n",
    "GROUP BY city\n",
    "ORDER BY city"
   ]
  },
  {
   "attachments": {},
   "cell_type": "markdown",
   "metadata": {},
   "source": [
    "Вывести информацию о первой  командировке из таблицы trip. \"Первой\" считать командировку с самой ранней датой начала.\n",
    "\n",
    "Запрос:\n",
    "\n",
    "SELECT *\n",
    "FROM trip\n",
    "ORDER BY  date_first\n",
    "LIMIT 1;\n",
    "\n",
    "Вывести два города, в которых чаще всего были в командировках сотрудники. Вычисляемый столбец назвать Количество."
   ]
  },
  {
   "cell_type": "code",
   "execution_count": null,
   "metadata": {
    "vscode": {
     "languageId": "sql"
    }
   },
   "outputs": [],
   "source": [
    "SELECT city, (COUNT(city)) AS Количество\n",
    "FROM trip\n",
    "GROUP BY city\n",
    "ORDER BY Количество DESC\n",
    "LIMIT 2;"
   ]
  },
  {
   "cell_type": "markdown",
   "metadata": {},
   "source": [
    "Вывести информацию о командировках во все города кроме Москвы и Санкт-Петербурга\n",
    " (фамилии и инициалы сотрудников, город ,  длительность командировки в днях, \n",
    " при этом первый и последний день относится к периоду командировки). \n",
    " Последний столбец назвать Длительность. \n",
    " Информацию вывести в упорядоченном по убыванию длительности поездки, \n",
    "а потом по убыванию названий городов (в обратном алфавитном порядке).\n",
    "per_diem | date_first | date_last "
   ]
  },
  {
   "cell_type": "code",
   "execution_count": null,
   "metadata": {
    "vscode": {
     "languageId": "sql"
    }
   },
   "outputs": [],
   "source": [
    "SELECT name, city, DATEDIFF(date_last, date_first) + 1 AS Длительность\n",
    "FROM trip\n",
    "WHERE city NOT IN ('Москва' ,'Санкт-Петербург')\n",
    "ORDER BY Длительность DESC, city DESC;"
   ]
  },
  {
   "attachments": {},
   "cell_type": "markdown",
   "metadata": {},
   "source": [
    "Задание\n",
    "Вывести информацию о командировках сотрудника(ов), которые были самыми короткими по времени. В результат включить столбцы name, city, date_first, date_last."
   ]
  },
  {
   "cell_type": "code",
   "execution_count": null,
   "metadata": {
    "vscode": {
     "languageId": "sql"
    }
   },
   "outputs": [],
   "source": [
    "SELECT name,\n",
    "       city,\n",
    "       date_first,\n",
    "       date_last\n",
    "FROM trip\n",
    "WHERE DATEDIFF(date_last, date_first) IN (\n",
    "    SELECT MIN(DATEDIFF(date_last, date_first))\n",
    "    FROM trip);"
   ]
  },
  {
   "attachments": {},
   "cell_type": "markdown",
   "metadata": {},
   "source": [
    "Вывести информацию о командировках, начало и конец которых относятся к одному месяцу (год может быть любой). В результат включить столбцы name, city, date_first, date_last. Строки отсортировать сначала  в алфавитном порядке по названию города, а затем по фамилии сотрудника .\n",
    "\n",
    "Немного теории\n",
    "Для того, чтобы выделить номер месяца из даты используется функция MONTH(дата).\n",
    "Например, MONTH('2020-04-12') = 4.\n",
    "Если определяется месяц для  значений столбца date_first, то используется запись MONTH(date_first)"
   ]
  },
  {
   "cell_type": "code",
   "execution_count": null,
   "metadata": {
    "vscode": {
     "languageId": "sql"
    }
   },
   "outputs": [],
   "source": [
    "SELECT name, city, date_first, date_last\n",
    "FROM trip\n",
    "WHERE MONTH(date_first) IN (MONTH(date_last))\n",
    "ORDER BY city, name"
   ]
  },
  {
   "attachments": {},
   "cell_type": "markdown",
   "metadata": {},
   "source": [
    "Немного теории\n",
    "\n",
    "Для того, чтобы выделить название месяца из даты используется функция MONTHNAME(дата), которая возвращает название месяца на английском языке для указанной даты. Например, MONTHNAME('2020-04-12')='April'.\n",
    "Если группировка осуществляется по вычисляемому столбцу (в данном случае «вычисляется» название месяца), то после GROUP BYможно указать как вычисляемое выражение, так и имя столбца, заданное с помощью AS. Важно отметить, что последний вариант (указать имя столбца)  нарушает стандарт по порядку выполнения запросов, но иногда может встречаться на реальных платформах.\n",
    "\n",
    "Задание\n",
    "Вывести название месяца и количество командировок для каждого месяца. Считаем, что командировка относится к некоторому месяцу, если она началась в этом месяце. Информацию вывести сначала в отсортированном по убыванию количества, а потом в алфавитном порядке по названию месяца виде. Название столбцов – Месяц и Количество."
   ]
  },
  {
   "cell_type": "code",
   "execution_count": null,
   "metadata": {
    "vscode": {
     "languageId": "sql"
    }
   },
   "outputs": [],
   "source": [
    "SELECT name, city, date_first, date_last\n",
    "FROM trip\n",
    "WHERE MONTH(date_first) IN (MONTH(date_last))\n",
    "ORDER BY city, name"
   ]
  },
  {
   "attachments": {},
   "cell_type": "markdown",
   "metadata": {},
   "source": [
    "Вывести название месяца и количество командировок для каждого месяца. Считаем, что командировка относится к некоторому месяцу, если она началась в этом месяце. Информацию вывести сначала в отсортированном по убыванию количества, а потом в алфавитном порядке по названию месяца виде. Название столбцов – Месяц и Количество."
   ]
  },
  {
   "cell_type": "code",
   "execution_count": null,
   "metadata": {
    "vscode": {
     "languageId": "sql"
    }
   },
   "outputs": [],
   "source": [
    "SELECT MONTHNAME(date_first) AS Месяц,\n",
    "       COUNT(MONTHNAME(date_first)) AS Количество\n",
    "FROM trip\n",
    "GROUP BY Месяц \n",
    "ORDER BY Количество DESC, Месяц"
   ]
  },
  {
   "attachments": {},
   "cell_type": "markdown",
   "metadata": {},
   "source": [
    "Вывести сумму суточных (произведение количества дней командировки и размера суточных) для командировок, первый день которых пришелся на февраль или март 2020 года. Значение суточных для каждой командировки занесено в столбец per_diem. Вывести фамилию и инициалы сотрудника, город, первый день командировки и сумму суточных. Последний столбец назвать Сумма. Информацию отсортировать сначала  в алфавитном порядке по фамилиям сотрудников, а затем по убыванию суммы суточных.\n",
    "1. В SQL есть функции, которые позволяют выделить часть даты: день(DAY()), месяц (MONTH()), год(YEAR()) . Например:\n",
    "\n",
    "DAY('2020-02-01') = 1\n",
    "MONTH('2020-02-01') = 2\n",
    "YEAR('2020-02-01') = 2020\n",
    "2. Количество дней командировки вычисляется как разница между датами последнего и первого дня командировки плюс 1."
   ]
  },
  {
   "cell_type": "code",
   "execution_count": null,
   "metadata": {
    "vscode": {
     "languageId": "sql"
    }
   },
   "outputs": [],
   "source": [
    "SELECT name, city, date_first, ((DATEDIFF(date_last, date_first)+1) * per_diem) AS Сумма\n",
    "FROM trip\n",
    "WHERE MONTH(date_first) IN (2, 3)\n",
    "ORDER BY name ASC, Сумма DESC\n",
    "\n"
   ]
  },
  {
   "attachments": {},
   "cell_type": "markdown",
   "metadata": {},
   "source": [
    "/*Вывести фамилию с инициалами и общую сумму суточных, полученных за все командировки для тех сотрудников, которые были в командировках больше чем 3 раза, в отсортированном по убыванию сумм суточных виде. Последний столбец назвать Сумма.*/\n",
    "\n",
    "SELECT фио, SUM((формула для вычисления количества дней командировки) * суточные) AS Сумма /*указываем наименования столбцов, которые нужно вывести в отборе */\n",
    "FROM имя таблицы\n",
    "WHERE фио IN /*условие отбора*/\n",
    "\n",
    "/*вложенный запрос, отбирает тех сотрудников, фио которых встречается в таблице более 3 раз*/\n",
    "\n",
    "(SELECT фио /*выводим фио, т.к. нужно сделать отбор по фио*/\n",
    "                 FROM имя таблицы\n",
    "                 GROUP BY фио /*группировка по фио - группируем всех сотрудников*/\n",
    "                 HAVING COUNT(фио) > 3)/*считаем количество строчек в каждой группе, и отбираем только те. где больше 3*/\n",
    "\n",
    "\n",
    "GROUP BY фио/*группируем по сотрудникам, т.к. нам нужно посчитать сумму их командировочных за все их командировки*/ \n",
    "ORDER BY 2 DESC; /*сортируем по убыванию суммы*/ \n",
    "\n",
    "/*Во вложенном запросе отберутся фио сотрудников, которые были в командировках более 3 раз.\n",
    "\n",
    "Затем в основном запросе  строки по этим сотрудникам сгруппируются, и по этим группам рассчитается сумма их всех их командировочных по каждому сотруднику.\n",
    "\n",
    "На экран выведется фио сотрудника и сумма командировочных за все его командировки, таблица будет отсортирована по убыванию суммы коммандировочных*/\n",
    "\n",
    "`Вывести фамилию с инициалами и общую сумму суточных, полученных за все командировки для тех сотрудников, которые были в командировках больше чем 3 раза, в отсортированном по убыванию сумм суточных виде. Последний столбец назвать Сумма.\n",
    "Только для этого задания изменена строка таблицы trip:`"
   ]
  },
  {
   "cell_type": "code",
   "execution_count": null,
   "metadata": {
    "vscode": {
     "languageId": "sql"
    }
   },
   "outputs": [],
   "source": [
    "SELECT name, SUM((DATEDIFF(date_last, date_first) + 1) * per_diem) AS Сумма\n",
    "FROM trip\n",
    "WHERE name IN (SELECT name FROM trip GROUP BY name HAVING COUNT(name) > 3)\n",
    "GROUP BY name\n",
    "ORDER BY 2 DESC\n",
    "\n",
    "SELECT name, SUM((DATEDIFF(date_last, date_first) + 1) * per_diem) AS Сумма\n",
    "FROM trip\n",
    "GROUP BY name\n",
    "HAVING COUNT(name) > 3\n",
    "ORDER BY 2 DESC"
   ]
  },
  {
   "attachments": {},
   "cell_type": "markdown",
   "metadata": {},
   "source": [
    "Создать таблицу fine следующей структуры:\n",
    "\n",
    "Поле\tОписание\n",
    "fine_id\tключевой столбец целого типа с автоматическим увеличением значения ключа на 1\n",
    "name\tстрока длиной 30\n",
    "number_plate\tстрока длиной 6\n",
    "violation\tстрока длиной 50\n",
    "sum_fine\tвещественное число, максимальная длина 8, количество знаков после запятой 2\n",
    "date_violation\tдата\n",
    "date_payment\tдата"
   ]
  },
  {
   "cell_type": "code",
   "execution_count": null,
   "metadata": {
    "vscode": {
     "languageId": "sql"
    }
   },
   "outputs": [],
   "source": [
    "CREATE TABLE fine(\n",
    "    fine_id INT PRIMARY KEY AUTO_INCREMENT, \n",
    "    name VARCHAR(30),\n",
    "    number_plate VARCHAR(6),\n",
    "    violation VARCHAR(50),\n",
    "    sum_fine DECIMAL(8,2),\n",
    "    date_violation DATE,\n",
    "    date_payment DATE\n",
    ");"
   ]
  },
  {
   "attachments": {},
   "cell_type": "markdown",
   "metadata": {},
   "source": [
    "В таблицу fine первые 5 строк уже занесены. Добавить в таблицу записи с ключевыми значениями 6, 7, 8.\n",
    "\n",
    "fine_id\tname\tnumber_plate\tviolation\tsum_fine\tdate_violation\tdate_payment\n",
    "6\tБаранов П.Е.\tР523ВТ\tПревышение скорости\n",
    "(от 40 до 60)\t \t2020-02-14\t \n",
    "7\tАбрамова К.А.\tО111АВ\tПроезд на\n",
    "запрещающий сигнал\t \t2020-02-23\t \n",
    "8\tЯковлев Г.Р.\tТ330ТТ\tПроезд на\n",
    "запрещающий сигнал\t \t2020-03-03\t "
   ]
  },
  {
   "cell_type": "code",
   "execution_count": null,
   "metadata": {
    "vscode": {
     "languageId": "sql"
    }
   },
   "outputs": [],
   "source": [
    "INSERT INTO fine (name, number_plate, violation, date_violation) \n",
    "VALUES ('Баранов П.Е.', 'Р523ВТ', 'Превышение скорости (от 40 до 60)', '2020-02-14');\n",
    "INSERT INTO fine (name, number_plate, violation, date_violation)\n",
    "VALUES ('Абрамова К.А.', 'О111АВ', 'Проезд на запрещающий сигнал', '2020-02-23');\n",
    "INSERT INTO fine (name, number_plate, violation, date_violation)\n",
    "VALUES ('Яковлев Г.Р.', 'Т330ТТ', 'Проезд на запрещающий сигнал', '2020-03-03');\n",
    "\n",
    "INSERT INTO fine (name, number_plate, violation, date_violation) \n",
    "VALUES ('Баранов П.Е.', 'Р523ВТ', 'Превышение скорости(от 40 до 60)', '2020-02-14'),\n",
    " ('Абрамова К.А.', 'О111АВ', 'Проезд на запрещающий сигнал', '2020-02-23'), \n",
    " ('Яковлев Г.Р.', 'Т330ТТ', 'Проезд на запрещающий сигнал', '2020-03-03');\n"
   ]
  },
  {
   "attachments": {},
   "cell_type": "markdown",
   "metadata": {},
   "source": [
    "Псевдонимы помогают сделать запрос чище и читабельнее.\n",
    "\n",
    "Для присваивания псевдонима существует 2 варианта: \n",
    "\n",
    "с использованием ключевого слова AS \n",
    "FROM fine AS f, traffic_violation AS tv\n",
    "а так же и без него\n",
    "FROM fine f, traffic_violation tv\n",
    "После присвоения таблице алиаса, он используется во всех разделах запроса, в котором алиас задан. Например:\n",
    "\n",
    "WHERE f.violation = tv.violation\n",
    "Пример\n",
    "\n",
    "Для тех, кто уже оплатил штраф, вывести информацию о том, изменялась ли стандартная сумма штрафа.\n",
    "\n",
    "Запрос:\n",
    "\n",
    "SELECT  f.name, f.number_plate, f.violation, \n",
    "   if(\n",
    "    f.sum_fine = tv.sum_fine, \"Стандартная сумма штрафа\", \n",
    "    if(\n",
    "      f.sum_fine < tv.sum_fine, \"Уменьшенная сумма штрафа\", \"Увеличенная сумма штрафа\"\n",
    "    )\n",
    "  ) AS description               \n",
    "FROM  fine f, traffic_violation tv\n",
    "WHERE tv.violation = f.violation and f.sum_fine IS NOT Null;"
   ]
  },
  {
   "attachments": {},
   "cell_type": "markdown",
   "metadata": {},
   "source": [
    "Занести в таблицу fine суммы штрафов, которые должен оплатить водитель, в соответствии с данными из таблицы traffic_violation. При этом суммы заносить только в пустые поля столбца  sum_fine.\n",
    "\n",
    "Таблица traffic_violationсоздана и заполнена.\n",
    "\n",
    "Важно! Сравнение значения столбца с пустым значением осуществляется с помощью оператора IS NULL.\n"
   ]
  },
  {
   "cell_type": "code",
   "execution_count": null,
   "metadata": {
    "vscode": {
     "languageId": "sql"
    }
   },
   "outputs": [],
   "source": [
    "UPDATE fine f, traffic_violation tv\n",
    "SET f.sum_fine = tv.sum_fine \n",
    "WHERE f.sum_fine IS NULL and f.violation = tv.violation \n",
    "--------\n",
    "UPDATE fine AS f, traffic_violation AS tv\n",
    "SET f.sum_fine = IF (f.sum_fine IS Null, tv.sum_fine, f.sum_fine)\n",
    "WHERE f.violation = tv.violation;"
   ]
  },
  {
   "attachments": {},
   "cell_type": "markdown",
   "metadata": {},
   "source": [
    "Вывести фамилию, номер машины и нарушение только для тех водителей, которые на одной машине нарушили одно и то же правило   два и более раз. При этом учитывать все нарушения, независимо от того оплачены они или нет. Информацию отсортировать в алфавитном порядке, сначала по фамилии водителя, потом по номеру машины и, наконец, по нарушению."
   ]
  },
  {
   "cell_type": "code",
   "execution_count": null,
   "metadata": {
    "vscode": {
     "languageId": "sql"
    }
   },
   "outputs": [],
   "source": [
    "SELECT name, number_plate, violation\n",
    "FROM fine \n",
    "GROUP BY name, number_plate, violation\n",
    "HAVING COUNT(*) > 1\n",
    "ORDER BY name, number_plate, violation"
   ]
  }
 ],
 "metadata": {
  "kernelspec": {
   "display_name": "Python 3",
   "language": "python",
   "name": "python3"
  },
  "language_info": {
   "codemirror_mode": {
    "name": "ipython",
    "version": 3
   },
   "file_extension": ".py",
   "mimetype": "text/x-python",
   "name": "python",
   "nbconvert_exporter": "python",
   "pygments_lexer": "ipython3",
   "version": "3.9.6 (default, Oct 18 2022, 12:41:40) \n[Clang 14.0.0 (clang-1400.0.29.202)]"
  },
  "orig_nbformat": 4,
  "vscode": {
   "interpreter": {
    "hash": "31f2aee4e71d21fbe5cf8b01ff0e069b9275f58929596ceb00d14d90e3e16cd6"
   }
  }
 },
 "nbformat": 4,
 "nbformat_minor": 2
}
