{
 "cells": [
  {
   "attachments": {},
   "cell_type": "markdown",
   "metadata": {},
   "source": [
    "Сформулируйте SQL запрос для создания таблицы book, занесите  его в окно кода (расположено ниже)  и отправьте на проверку (кнопка Отправить). Структура таблицы book:"
   ]
  },
  {
   "cell_type": "code",
   "execution_count": null,
   "metadata": {
    "vscode": {
     "languageId": "sql"
    }
   },
   "outputs": [],
   "source": [
    "CREATE TABLE book(\n",
    "    book_id INT PRIMARY KEY AUTO_INCREMENT, \n",
    "    title VARCHAR(50),\n",
    "    author VARCHAR(30),\n",
    "    price DECIMAL(8,2),\n",
    "    amount INT\n",
    ");"
   ]
  },
  {
   "attachments": {},
   "cell_type": "markdown",
   "metadata": {},
   "source": [
    "Занесите новую строку в таблицу book (текстовые значения (тип VARCHAR) заключать либо в двойные, либо в одинарные кавычки):"
   ]
  },
  {
   "cell_type": "code",
   "execution_count": null,
   "metadata": {
    "vscode": {
     "languageId": "sql"
    }
   },
   "outputs": [],
   "source": [
    "INSERT INTO book (title, author, price, amount) \n",
    "VALUES ('Мастер и Маргарита', 'Булгаков М.А.', 670.99, 3);\n",
    "\n",
    "SELECT * FROM book"
   ]
  },
  {
   "attachments": {},
   "cell_type": "markdown",
   "metadata": {},
   "source": [
    "Занесите три последние записи в таблицуbook,  первая запись уже добавлена на предыдущем шаге:"
   ]
  },
  {
   "cell_type": "code",
   "execution_count": null,
   "metadata": {
    "vscode": {
     "languageId": "sql"
    }
   },
   "outputs": [],
   "source": [
    "INSERT INTO book (title, author, price, amount) \n",
    "VALUES ('Белая гвардия', 'Булгаков М.А.', 540.50, 5);\n",
    "\n",
    "INSERT INTO book (title, author, price, amount) \n",
    "VALUES ('Идиот', 'Достоевский Ф.М.', 460.00, 10);\n",
    " \n",
    "INSERT INTO book (title, author, price, amount) \n",
    "VALUES ('Братья Карамазовы', 'Достоевский Ф.М.', 799.01, 2);\n",
    "\n",
    "SELECT * FROM book"
   ]
  },
  {
   "attachments": {},
   "cell_type": "markdown",
   "metadata": {},
   "source": [
    "Выбрать названия книг и авторов из таблицы book, для поля title задать имя(псевдоним) Название, для поля author –  Автор."
   ]
  },
  {
   "cell_type": "code",
   "execution_count": 1,
   "metadata": {
    "vscode": {
     "languageId": "sql"
    }
   },
   "outputs": [
    {
     "ename": "SyntaxError",
     "evalue": "invalid syntax (2723735881.py, line 1)",
     "output_type": "error",
     "traceback": [
      "\u001b[1;36m  Cell \u001b[1;32mIn [1], line 1\u001b[1;36m\u001b[0m\n\u001b[1;33m    SELECT title AS Название, author AS Автор\u001b[0m\n\u001b[1;37m           ^\u001b[0m\n\u001b[1;31mSyntaxError\u001b[0m\u001b[1;31m:\u001b[0m invalid syntax\n"
     ]
    }
   ],
   "source": [
    "SELECT title AS Название, author AS Автор \n",
    "FROM book;"
   ]
  },
  {
   "attachments": {},
   "cell_type": "markdown",
   "metadata": {},
   "source": [
    "Для упаковки каждой книги требуется один лист бумаги, цена которого 1 рубль 65 копеек. Посчитать стоимость упаковки для каждой книги (сколько денег потребуется, чтобы упаковать все экземпляры книги). В запросе вывести название книги, ее количество и стоимость упаковки, последний столбец назвать pack"
   ]
  },
  {
   "cell_type": "code",
   "execution_count": null,
   "metadata": {
    "vscode": {
     "languageId": "sql"
    }
   },
   "outputs": [],
   "source": [
    "SELECT title, amount, \n",
    "     1.65 * amount AS pack \n",
    "FROM book;"
   ]
  },
  {
   "attachments": {},
   "cell_type": "markdown",
   "metadata": {},
   "source": [
    "В конце года цену всех книг на складе пересчитывают – снижают ее на 30%. Написать SQL запрос, который из таблицы book выбирает названия, авторов, количества и вычисляет новые цены книг. Столбец с новой ценой назвать new_price, цену округлить до 2-х знаков после запятой."
   ]
  },
  {
   "cell_type": "code",
   "execution_count": null,
   "metadata": {
    "vscode": {
     "languageId": "sql"
    }
   },
   "outputs": [],
   "source": [
    "SELECT title, author, amount,\n",
    "    ROUND((price*70/100), 2) AS new_price\n",
    "\n",
    "FROM book;"
   ]
  },
  {
   "attachments": {},
   "cell_type": "markdown",
   "metadata": {},
   "source": [
    "При анализе продаж книг выяснилось, что наибольшей популярностью пользуются книги Михаила Булгакова, на втором месте книги Сергея Есенина. Исходя из этого решили поднять цену книг Булгакова на 10%, а цену книг Есенина - на 5%. Написать запрос, куда включить автора, название книги и новую цену, последний столбец назвать new_price. Значение округлить до двух знаков после запятой."
   ]
  },
  {
   "cell_type": "code",
   "execution_count": null,
   "metadata": {
    "vscode": {
     "languageId": "sql"
    }
   },
   "outputs": [],
   "source": [
    "SELECT author, title,\n",
    "    ROUND(IF(author = 'Булгаков М.А.', price * 1.1, IF(author = 'Есенин С.А.', price * 1.05, price)), 2) AS new_price\n",
    "\n",
    "FROM book;"
   ]
  },
  {
   "attachments": {},
   "cell_type": "markdown",
   "metadata": {},
   "source": [
    "Вывести автора, название  и цены тех книг, количество которых меньше 10."
   ]
  },
  {
   "cell_type": "code",
   "execution_count": null,
   "metadata": {
    "vscode": {
     "languageId": "sql"
    }
   },
   "outputs": [],
   "source": [
    "SELECT author, title, price\n",
    "FROM book\n",
    "WHERE amount < 10;"
   ]
  },
  {
   "attachments": {},
   "cell_type": "markdown",
   "metadata": {},
   "source": [
    "Вывести название, автора,  цену  и количество всех книг, цена которых меньше 500 или больше 600, а стоимость всех экземпляров этих книг больше или равна 5000."
   ]
  },
  {
   "cell_type": "code",
   "execution_count": null,
   "metadata": {
    "vscode": {
     "languageId": "sql"
    }
   },
   "outputs": [],
   "source": [
    "SELECT title, author, price, amount\n",
    "FROM book\n",
    "WHERE (price > 600 OR price < 500) AND amount * price >= 5000"
   ]
  },
  {
   "attachments": {},
   "cell_type": "markdown",
   "metadata": {},
   "source": [
    "Вывести название и авторов тех книг, цены которых принадлежат интервалу от 540.50 до 800 (включая границы),  а количество или 2, или 3, или 5, или 7 "
   ]
  },
  {
   "cell_type": "code",
   "execution_count": null,
   "metadata": {
    "vscode": {
     "languageId": "sql"
    }
   },
   "outputs": [],
   "source": [
    "SELECT title, author\n",
    "FROM book\n",
    "WHERE price BETWEEN 540 AND 800 AND amount IN (2, 3, 5, 7);"
   ]
  },
  {
   "attachments": {},
   "cell_type": "markdown",
   "metadata": {},
   "source": [
    "Вывести  автора и название  книг, количество которых принадлежит интервалу от 2 до 14 (включая границы). Информацию  отсортировать сначала по авторам (в обратном алфавитном порядке), а затем по названиям книг (по алфавиту)."
   ]
  },
  {
   "cell_type": "code",
   "execution_count": null,
   "metadata": {
    "vscode": {
     "languageId": "sql"
    }
   },
   "outputs": [],
   "source": [
    "SELECT author, title\n",
    "FROM book\n",
    "WHERE amount BETWEEN 2 AND 14\n",
    "ORDER BY author DESC, title ASC;"
   ]
  },
  {
   "attachments": {},
   "cell_type": "markdown",
   "metadata": {},
   "source": [
    "Вывести название и автора тех книг, название которых состоит из двух и более слов, а инициалы автора содержат букву «С». Считать, что в названии слова отделяются друг от друга пробелами и не содержат знаков препинания, между фамилией автора и инициалами обязателен пробел, инициалы записываются без пробела в формате: буква, точка, буква, точка. Информацию отсортировать по названию книги в алфавитном порядке."
   ]
  },
  {
   "cell_type": "code",
   "execution_count": null,
   "metadata": {
    "vscode": {
     "languageId": "sql"
    }
   },
   "outputs": [],
   "source": [
    "SELECT title, author\n",
    "FROM book\n",
    "WHERE title LIKE \"% %\" AND author LIKE '%С.%' AND title NOT LIKE \" \"\n",
    "ORDER BY title ASC;"
   ]
  },
  {
   "attachments": {},
   "cell_type": "markdown",
   "metadata": {},
   "source": [
    "Отобрать различные (уникальные) элементы столбца amount таблицы book."
   ]
  },
  {
   "cell_type": "code",
   "execution_count": null,
   "metadata": {
    "vscode": {
     "languageId": "sql"
    }
   },
   "outputs": [],
   "source": [
    "SELECT amount\n",
    "FROM book\n",
    "GROUP BY amount;"
   ]
  },
  {
   "attachments": {},
   "cell_type": "markdown",
   "metadata": {},
   "source": [
    "Посчитать, количество различных книг и количество экземпляров книг каждого автора , хранящихся на складе.  Столбцы назвать Автор, Различных_книг и Количество_экземпляров соответственно"
   ]
  },
  {
   "cell_type": "code",
   "execution_count": null,
   "metadata": {
    "vscode": {
     "languageId": "sql"
    }
   },
   "outputs": [],
   "source": [
    "SELECT author as Автор, COUNT(title) as Различных_книг, sum(amount) as Количество_экземпляров\n",
    "FROM book\n",
    "GROUP BY author;"
   ]
  },
  {
   "attachments": {},
   "cell_type": "markdown",
   "metadata": {},
   "source": [
    "Вывести фамилию и инициалы автора, минимальную, максимальную и среднюю цену книг каждого автора . Вычисляемые столбцы назвать Минимальная_цена, Максимальная_цена и Средняя_цена соответственно."
   ]
  },
  {
   "cell_type": "code",
   "execution_count": null,
   "metadata": {
    "vscode": {
     "languageId": "sql"
    }
   },
   "outputs": [],
   "source": [
    "SELECT author, MIN(price) AS Минимальная_цена, MAX(price) AS Максимальная_цена, AVG(price) AS Средняя_цена\n",
    "FROM book\n",
    "GROUP BY author;"
   ]
  },
  {
   "attachments": {},
   "cell_type": "markdown",
   "metadata": {},
   "source": [
    "Для каждого автора вычислить суммарную стоимость книг S (имя столбца Стоимость), а также вычислить налог на добавленную стоимость  для полученных сумм (имя столбца НДС ) , который включен в стоимость и составляет k = 18%,  а также стоимость книг  (Стоимость_без_НДС) без него. Значения округлить до двух знаков после запятой."
   ]
  },
  {
   "cell_type": "code",
   "execution_count": null,
   "metadata": {
    "vscode": {
     "languageId": "sql"
    }
   },
   "outputs": [],
   "source": [
    "SELECT author, ROUND(SUM(price * amount),2) AS Стоимость, ROUND((SUM(price * amount) * 0.18/1.18),2) AS НДС,ROUND((SUM(price * amount) / 1.18),2) AS Стоимость_без_НДС\n",
    "FROM book\n",
    "GROUP BY author;"
   ]
  },
  {
   "attachments": {},
   "cell_type": "markdown",
   "metadata": {},
   "source": [
    "Вывести  цену самой дешевой книги, цену самой дорогой и среднюю цену уникальных книг на складе. Названия столбцов Минимальная_цена, Максимальная_цена, Средняя_цена соответственно. Среднюю цену округлить до двух знаков после запятой."
   ]
  },
  {
   "cell_type": "code",
   "execution_count": null,
   "metadata": {
    "vscode": {
     "languageId": "sql"
    }
   },
   "outputs": [],
   "source": [
    "SELECT round(MIN(price),2) AS Минимальная_цена, \n",
    "    round(MaX(price),2) AS Максимальная_цена,\n",
    "    round(AVG(price),2) AS Средняя_цена\n",
    "FROM book;"
   ]
  },
  {
   "attachments": {},
   "cell_type": "markdown",
   "metadata": {},
   "source": [
    "Вычислить среднюю цену и суммарную стоимость тех книг, количество экземпляров которых принадлежит интервалу от 5 до 14, включительно. Столбцы назвать Средняя_цена и Стоимость, значения округлить до 2-х знаков после запятой."
   ]
  },
  {
   "cell_type": "code",
   "execution_count": null,
   "metadata": {
    "vscode": {
     "languageId": "sql"
    }
   },
   "outputs": [],
   "source": [
    "SELECT \n",
    "    ROUND(AVG(price),2) AS Средняя_цена, \n",
    "    ROUND(sum(price * amount),2) AS Стоимость\n",
    "FROM book\n",
    "where amount between 5 AND 14;"
   ]
  },
  {
   "attachments": {},
   "cell_type": "markdown",
   "metadata": {},
   "source": [
    "Посчитать стоимость всех экземпляров каждого автора без учета книг «Идиот» и «Белая гвардия». В результат включить только тех авторов, у которых суммарная стоимость книг (без учета книг «Идиот» и «Белая гвардия») более 5000 руб. Вычисляемый столбец назвать Стоимость. Результат отсортировать по убыванию стоимости.\n",
    "FROM\n",
    "WHERE\n",
    "GROUP BY\n",
    "HAVING\n",
    "SELECT\n",
    "ORDER BY"
   ]
  },
  {
   "cell_type": "code",
   "execution_count": null,
   "metadata": {
    "vscode": {
     "languageId": "sql"
    }
   },
   "outputs": [],
   "source": [
    "SELECT author,\n",
    "    SUM(amount*price) as Стоимость\n",
    "FROM book\n",
    "WHERE title NOT IN ('Идиот', 'Белая гвардия')\n",
    "GROUP BY author\n",
    "HAVING SUM(amount*price) > 5000\n",
    "ORDER BY SUM(amount*price) DESC;"
   ]
  },
  {
   "attachments": {},
   "cell_type": "markdown",
   "metadata": {},
   "source": [
    "Вложенный запрос используется для выборки данных, которые будут использоваться в условии отбора записей основного запроса. Его применяют для:\n",
    "\n",
    "- сравнения выражения с результатом вложенного запроса;\n",
    "- определения того, включено ли выражение в результаты вложенного запроса;\n",
    "- проверки того, выбирает ли запрос определенные строки.\n",
    "- \n",
    "Вложенный запрос имеет следующие компоненты:\n",
    "\n",
    "- ключевое слово SELECT  после которого указываются имена столбцов или выражения (чаще всего список содержит один элемент) ;\n",
    "- ключевое слово FROM и имя таблицы, из которой выбираются данные;\n",
    "- необязательное предложение WHERE;\n",
    "- необязательное предложение GROUP BY:\n",
    "- необязательное предложение HAVING.\n",
    " \n",
    "Вложенные запросы  могут включаться в WHERE или HAVING так (в квадратных скобках указаны необязательные элементы, через | – один из элементов):\n",
    "\n",
    "- WHERE | HAVING выражение оператор_сравнения (вложенный запрос);\n",
    "- WHERE | HAVING выражение, включающее вложенный запрос;\n",
    "- WHERE | HAVING выражение [NOT] IN (вложенный запрос);\n",
    "- WHERE | HAVING выражение  оператор_сравнения  ANY | ALL (вложенный запрос).\n",
    "\n",
    "Также вложенные запросы могут вставляться в основной запрос после ключевого слова SELECT."
   ]
  },
  {
   "attachments": {},
   "cell_type": "markdown",
   "metadata": {},
   "source": [
    "Вывести информацию (автора, название и цену) о  книгах, цены которых меньше или равны средней цене книг на складе. Информацию вывести в отсортированном по убыванию цены виде. Среднее вычислить как среднее по цене книги."
   ]
  },
  {
   "cell_type": "code",
   "execution_count": null,
   "metadata": {
    "vscode": {
     "languageId": "sql"
    }
   },
   "outputs": [],
   "source": [
    "SELECT author, title, price\n",
    "FROM book\n",
    "WHERE price <= (\n",
    "    SELECT AVG(price)\n",
    "    FROM book\n",
    "    )\n",
    "ORDER BY price DESC;"
   ]
  },
  {
   "attachments": {},
   "cell_type": "markdown",
   "metadata": {},
   "source": [
    "Вывести информацию о книгах, количество экземпляров которых отличается от среднего количества экземпляров книг на складе более чем на 3. То есть нужно вывести и те книги, количество экземпляров которых меньше среднего на 3, или больше среднего на 3."
   ]
  },
  {
   "cell_type": "code",
   "execution_count": null,
   "metadata": {
    "vscode": {
     "languageId": "sql"
    }
   },
   "outputs": [],
   "source": [
    "SELECT title, author, amount \n",
    "FROM book\n",
    "WHERE ABS(amount - (SELECT AVG(amount) FROM book)) >3;"
   ]
  },
  {
   "attachments": {},
   "cell_type": "markdown",
   "metadata": {},
   "source": [
    "Вывести информацию (автора, название и цену) о тех книгах, цены которых превышают минимальную цену книги на складе не более чем на 150 рублей в отсортированном по возрастанию цены виде."
   ]
  },
  {
   "cell_type": "code",
   "execution_count": null,
   "metadata": {
    "vscode": {
     "languageId": "sql"
    }
   },
   "outputs": [],
   "source": [
    "SELECT  author, title, price \n",
    "FROM book\n",
    "WHERE price - (SELECT MIN(price) FROM book) <= 150\n",
    "ORDER BY price;"
   ]
  },
  {
   "attachments": {},
   "cell_type": "markdown",
   "metadata": {},
   "source": [
    "`WHERE имя_столбца IN (вложенный запрос, возвращающий один столбец)`\n",
    "\n",
    "Оператор IN определяет, совпадает ли значение столбца с одним из значений, содержащихся во вложенном запросе. При этом логическое выражение после WHERE получает значение истина. Оператор NOT IN выполняет обратное действие – выражение истинно, если значение столбца не содержится во вложенном запросе."
   ]
  },
  {
   "attachments": {},
   "cell_type": "markdown",
   "metadata": {},
   "source": [
    "Вывести информацию о книгах тех авторов, общее количество экземпляров книг которых не менее 12."
   ]
  },
  {
   "cell_type": "code",
   "execution_count": null,
   "metadata": {
    "vscode": {
     "languageId": "sql"
    }
   },
   "outputs": [],
   "source": [
    "SELECT title, author, amount, price\n",
    "FROM book\n",
    "WHERE author IN (\n",
    "        SELECT author \n",
    "        FROM book \n",
    "        GROUP BY author \n",
    "        HAVING SUM(amount) >= 12\n",
    "      );"
   ]
  },
  {
   "attachments": {},
   "cell_type": "markdown",
   "metadata": {},
   "source": [
    "Вывести информацию (автора, книгу и количество) о тех книгах, количество экземпляров которых в таблице book не дублируется."
   ]
  },
  {
   "cell_type": "code",
   "execution_count": null,
   "metadata": {
    "vscode": {
     "languageId": "sql"
    }
   },
   "outputs": [],
   "source": [
    "SELECT author, title, amount\n",
    "FROM book\n",
    "WHERE amount IN (\n",
    "        SELECT amount \n",
    "        FROM book \n",
    "        GROUP BY amount \n",
    "        HAVING count(amount) = 1\n",
    "      );"
   ]
  },
  {
   "attachments": {},
   "cell_type": "markdown",
   "metadata": {},
   "source": [
    " Вложенный запрос, возвращающий несколько значений одного столбца, можно использовать для отбора записей с помощью операторов ANY и ALL совместно с операциями отношения (=, <>, <=, >=, <, >).\n",
    "\n",
    "Операторы ANY и ALL используются  в SQL для сравнения некоторого значения с результирующим набором вложенного запроса, состоящим из одного столбца. При этом тип данных столбца, возвращаемого вложенным запросом, должен совпадать с типом данных столбца (или выражения), с которым происходит сравнение.\n",
    "\n",
    "При использовании оператора ANY в результирующую таблицу будут включены все записи, для которых  выражение со знаком отношения верно хотя бы для одного элемента результирующего запроса. Как работает оператор ANY:\n",
    "\n",
    "- amount > ANY (10, 12) эквивалентно amount > 10\n",
    "- amount < ANY (10, 12) эквивалентно amount < 12\n",
    "- amount = ANY (10, 12) эквивалентно (amount = 10) OR (amount = 12), а также amount IN  (10,12)\n",
    "- amount <> ANY (10, 12) вернет все записи с любым значением amount, включая 10 и 12\n",
    "\n",
    "При использовании оператора ALL в результирующую таблицу будут включены все записи, для которых  выражение со знаком отношения верно для всех элементов результирующего запроса. Как работает оператор ALL:\n",
    "\n",
    "- amount > ALL (10, 12) эквивалентно amount > 12\n",
    "- amount < ALL (10, 12) эквивалентно amount < 10\n",
    "- amount = ALL (10, 12) не вернет ни одной записи, так как эквивалентно (amount = 10) AND (amount = 12)\n",
    "- amount <> ALL (10, 12) вернет все записи кроме тех,  в которыхamount равно 10 или 12\n",
    "\n",
    "Важно! Операторы ALL и ANY можно использовать только с вложенными запросами. В примерах выше (10, 12) приводится как результат вложенного запроса просто для того, чтобы показать как эти операторы работают. В запросах так записывать нельзя."
   ]
  },
  {
   "attachments": {},
   "cell_type": "markdown",
   "metadata": {},
   "source": [
    "Вывести информацию о тех книгах, количество которых меньше самого маленького среднего количества книг каждого автора."
   ]
  },
  {
   "cell_type": "code",
   "execution_count": null,
   "metadata": {
    "vscode": {
     "languageId": "sql"
    }
   },
   "outputs": [],
   "source": [
    "SELECT title, author, amount, price\n",
    "FROM book\n",
    "WHERE amount < ALL (\n",
    "        SELECT AVG(amount) \n",
    "        FROM book \n",
    "        GROUP BY author \n",
    "      );"
   ]
  },
  {
   "attachments": {},
   "cell_type": "markdown",
   "metadata": {},
   "source": [
    "Вывести информацию о книгах(автор, название, цена), цена которых меньше самой большой из минимальных цен, вычисленных для каждого автора."
   ]
  },
  {
   "cell_type": "code",
   "execution_count": null,
   "metadata": {
    "vscode": {
     "languageId": "sql"
    }
   },
   "outputs": [],
   "source": [
    "SELECT  author, title, price\n",
    "FROM book\n",
    "WHERE price < ANY (\n",
    "        SELECT MIN(price) \n",
    "        FROM book \n",
    "        GROUP BY author \n",
    "      );"
   ]
  },
  {
   "attachments": {},
   "cell_type": "markdown",
   "metadata": {},
   "source": [
    "Вложенный запрос после SELECT\n",
    "Вложенный запрос может располагаться после ключевого слова SELECT. В этом случае результат выполнения запроса выводится в отдельном столбце результирующей таблицы. При этом результатом запроса может быть только одно значение, тогда оно будет повторяться во всех строках. Также вложенный запрос может использоваться в выражениях.\n",
    "\n",
    "Пример\n",
    "\n",
    "Вывести информацию о книгах, количество экземпляров которых отличается от среднего количества экземпляров книг на складе более чем на 3,  а также указать среднее значение количества экземпляров книг.\n"
   ]
  },
  {
   "cell_type": "code",
   "execution_count": null,
   "metadata": {
    "vscode": {
     "languageId": "sql"
    }
   },
   "outputs": [],
   "source": [
    "SELECT title, author, amount, \n",
    "    (\n",
    "     SELECT AVG(amount) \n",
    "     FROM book\n",
    "    ) AS Среднее_количество \n",
    "FROM book\n",
    "WHERE ABS(amount - (SELECT AVG(amount) FROM book)) >3;"
   ]
  },
  {
   "attachments": {},
   "cell_type": "markdown",
   "metadata": {},
   "source": [
    "Посчитать сколько и каких экземпляров книг нужно заказать поставщикам, чтобы на складе стало одинаковое количество экземпляров каждой книги, равное значению самого большего количества экземпляров одной книги на складе. Вывести название книги, ее автора, текущее количество экземпляров на складе и количество заказываемых экземпляров книг. Последнему столбцу присвоить имя Заказ. В результат не включать книги, которые заказывать не нужно."
   ]
  },
  {
   "cell_type": "code",
   "execution_count": null,
   "metadata": {
    "vscode": {
     "languageId": "sql"
    }
   },
   "outputs": [],
   "source": [
    "SELECT title, author, amount, \n",
    "    (\n",
    "     SELECT MAX(amount)\n",
    "     FROM book\n",
    "    ) - amount AS Заказ \n",
    "FROM book\n",
    "WHERE amount < (SELECT MAX(amount) FROM book);"
   ]
  },
  {
   "attachments": {},
   "cell_type": "markdown",
   "metadata": {},
   "source": [
    "Создать таблицу поставка (supply), которая имеет ту же структуру, что и таблиц book."
   ]
  },
  {
   "cell_type": "code",
   "execution_count": null,
   "metadata": {
    "vscode": {
     "languageId": "sql"
    }
   },
   "outputs": [],
   "source": [
    "CREATE TABLE supply(\n",
    "    supply_id INT PRIMARY KEY AUTO_INCREMENT, \n",
    "    title VARCHAR(50),\n",
    "    author VARCHAR(30),\n",
    "    price DECIMAL(8,2),\n",
    "    amount INT\n",
    ");"
   ]
  },
  {
   "attachments": {},
   "cell_type": "markdown",
   "metadata": {},
   "source": [
    "Допускается вставка нескольких записей одновременно, для этого используется SQL запрос следующего вида:\n",
    "\n",
    "INSERT INTO имя_таблицы(столбец_1, столбец_2, ..., столбец_N)\n",
    "VALUES\n",
    "    (значение_1_1, значение_1_2, ..., значение_1_N),\n",
    "    (значение_2_1, значение_2_2, ..., значение_2_N),\n",
    "    ...\n",
    "    (значение_M_1, значение_M_2, ..., значение_M_N);"
   ]
  },
  {
   "cell_type": "code",
   "execution_count": null,
   "metadata": {
    "vscode": {
     "languageId": "sql"
    }
   },
   "outputs": [],
   "source": [
    "INSERT INTO supply (title, author, price, amount) \n",
    "VALUES \n",
    "    ('Лирика','Пастернак Б.Л.', 518.99,\t2),\n",
    "    ('Черный человек', 'Есенин С.А.', 570.20, 6),\n",
    "    ('Белая гвардия','Булгаков М.А.', 540.50, 7),\n",
    "    ('Идиот', 'Достоевский Ф.М.', 360.80, 3);"
   ]
  },
  {
   "attachments": {},
   "cell_type": "markdown",
   "metadata": {},
   "source": [
    "Занести все книги из таблицы supply в таблицу book.\n",
    "\n",
    "Запрос:\n",
    "\n",
    "INSERT INTO book (title, author, price, amount) \n",
    "SELECT title, author, price, amount \n",
    "FROM supply;\n",
    "\n",
    "SELECT * FROM book;\n",
    "\n",
    "Добавить из таблицы supply в таблицу book, все книги, кроме книг, написанных Булгаковым М.А. и Достоевским Ф.М."
   ]
  },
  {
   "cell_type": "code",
   "execution_count": null,
   "metadata": {
    "vscode": {
     "languageId": "sql"
    }
   },
   "outputs": [],
   "source": [
    "INSERT INTO book (title, author, price, amount) \n",
    "SELECT title, author, price, amount \n",
    "FROM supply\n",
    "WHERE author NOT IN ('Булгаков М.А.', 'Достоевский Ф.М.');"
   ]
  },
  {
   "attachments": {},
   "cell_type": "markdown",
   "metadata": {},
   "source": [
    "Занести из таблицы supply в таблицу book только те книги, названия которых отсутствуют в таблице book.\n",
    "\n",
    "Запрос:\n",
    "\n",
    "INSERT INTO book (title, author, price, amount) \n",
    "SELECT title, author, price, amount \n",
    "FROM supply\n",
    "WHERE title NOT IN (\n",
    "        SELECT title \n",
    "        FROM book\n",
    "      );\n",
    "\n",
    "\n",
    "\n",
    "Занести из таблицы supply в таблицу book только те книги, авторов которых нет в  book."
   ]
  },
  {
   "cell_type": "code",
   "execution_count": null,
   "metadata": {
    "vscode": {
     "languageId": "sql"
    }
   },
   "outputs": [],
   "source": [
    "INSERT INTO book (title, author, price, amount) \n",
    "SELECT title, author, price, amount \n",
    "FROM supply\n",
    "WHERE author NOT IN (\n",
    "        SELECT author\n",
    "        FROM book\n",
    "      );"
   ]
  },
  {
   "cell_type": "code",
   "execution_count": null,
   "metadata": {
    "vscode": {
     "languageId": "sql"
    }
   },
   "outputs": [],
   "source": [
    "Уменьшить на 30% цену книг в таблице book.\n",
    "\n",
    "Запрос:\n",
    "\n",
    "UPDATE book \n",
    "SET price = 0.7 * price;\n",
    "\n",
    "Уменьшить на 30% цену тех книг в таблице book, количество которых меньше 5.\n",
    "\n",
    "Запрос:\n",
    "\n",
    "UPDATE book \n",
    "SET price = 0.7 * price \n",
    "WHERE amount < 5;\n",
    "\n",
    "SELECT * FROM book;\n",
    "\n",
    "\n",
    "Уменьшить на 10% цену тех книг в таблице book, количество которых принадлежит интервалу от 5 до 10, включая границы."
   ]
  },
  {
   "cell_type": "code",
   "execution_count": null,
   "metadata": {
    "vscode": {
     "languageId": "sql"
    }
   },
   "outputs": [],
   "source": [
    "UPDATE book \n",
    "SET price = 0.9 * price \n",
    "WHERE amount BETWEEN  5 AND 10;\n",
    "\n",
    "SELECT * FROM book;"
   ]
  },
  {
   "attachments": {},
   "cell_type": "markdown",
   "metadata": {},
   "source": [
    "В столбце buy покупатель указывает количество книг, которые он хочет приобрести. Для каждой книги, выбранной покупателем, необходимо уменьшить ее количество на складе на указанное в столбцеbuy количество, а в столбец buy занести 0.\n",
    "\n",
    "Запрос:\n",
    "\n",
    "UPDATE book \n",
    "SET amount = amount - buy,\n",
    "    buy = 0;\n",
    "\n",
    "SELECT * FROM book;\n",
    "\n",
    "Например, для увеличения на 10% только цен книг Булгакова используется запрос:\n",
    "\n",
    "UPDATE book \n",
    "SET price = IF(author = \"Булгаков М.А.\", price * 1.1, price);\n",
    "\n",
    "В таблице book необходимо скорректировать значение для покупателя в столбце buy таким образом, чтобы оно не превышало количество экземпляров книг, указанных в столбце amount. А цену тех книг, которые покупатель не заказывал, снизить на 10%."
   ]
  },
  {
   "cell_type": "code",
   "execution_count": null,
   "metadata": {
    "vscode": {
     "languageId": "sql"
    }
   },
   "outputs": [],
   "source": [
    "UPDATE book \n",
    "SET buy = IF(buy <= amount, buy, amount),\n",
    "    price = IF(buy = 0, 0.9 * price, price);\n",
    "    \n",
    "SELECT * FROM book;"
   ]
  },
  {
   "attachments": {},
   "cell_type": "markdown",
   "metadata": {},
   "source": [
    "Если в таблице supply  есть те же книги, что и в таблице book, добавлять эти книги в таблицу book не имеет смысла. Необходимо увеличить их количество на значение столбца amountтаблицы supply.\n",
    "\n",
    "Запрос:\n",
    "\n",
    "UPDATE book, supply \n",
    "SET book.amount = book.amount + supply.amount\n",
    "WHERE book.title = supply.title AND book.author = supply.author;\n",
    "\n",
    "SELECT * FROM book;\n",
    "\n",
    "Для тех книг в таблице book , которые есть в таблице supply, не только увеличить их количество в таблице book ( увеличить их количество на значение столбца amountтаблицы supply), но и пересчитать их цену (для каждой книги найти сумму цен из таблиц book и supply и разделить на 2)."
   ]
  },
  {
   "cell_type": "code",
   "execution_count": null,
   "metadata": {
    "vscode": {
     "languageId": "sql"
    }
   },
   "outputs": [],
   "source": []
  }
 ],
 "metadata": {
  "kernelspec": {
   "display_name": "Python 3",
   "language": "python",
   "name": "python3"
  },
  "language_info": {
   "codemirror_mode": {
    "name": "ipython",
    "version": 3
   },
   "file_extension": ".py",
   "mimetype": "text/x-python",
   "name": "python",
   "nbconvert_exporter": "python",
   "pygments_lexer": "ipython3",
   "version": "3.9.6"
  },
  "orig_nbformat": 4,
  "vscode": {
   "interpreter": {
    "hash": "31f2aee4e71d21fbe5cf8b01ff0e069b9275f58929596ceb00d14d90e3e16cd6"
   }
  }
 },
 "nbformat": 4,
 "nbformat_minor": 2
}
