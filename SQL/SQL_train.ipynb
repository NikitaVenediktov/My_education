{
 "cells": [
  {
   "attachments": {},
   "cell_type": "markdown",
   "metadata": {},
   "source": [
    "Сформулируйте SQL запрос для создания таблицы book, занесите  его в окно кода (расположено ниже)  и отправьте на проверку (кнопка Отправить). Структура таблицы book:"
   ]
  },
  {
   "cell_type": "code",
   "execution_count": null,
   "metadata": {},
   "outputs": [],
   "source": [
    "CREATE TABLE book(\n",
    "    book_id INT PRIMARY KEY AUTO_INCREMENT, \n",
    "    title VARCHAR(50),\n",
    "    author VARCHAR(30),\n",
    "    price DECIMAL(8,2),\n",
    "    amount INT\n",
    ");"
   ]
  },
  {
   "attachments": {},
   "cell_type": "markdown",
   "metadata": {},
   "source": [
    "Занесите новую строку в таблицу book (текстовые значения (тип VARCHAR) заключать либо в двойные, либо в одинарные кавычки):"
   ]
  },
  {
   "cell_type": "code",
   "execution_count": null,
   "metadata": {},
   "outputs": [],
   "source": [
    "INSERT INTO book (title, author, price, amount) \n",
    "VALUES ('Мастер и Маргарита', 'Булгаков М.А.', 670.99, 3);\n",
    "\n",
    "SELECT * FROM book"
   ]
  }
 ],
 "metadata": {
  "kernelspec": {
   "display_name": "Python 3",
   "language": "python",
   "name": "python3"
  },
  "language_info": {
   "name": "python",
   "version": "3.11.0 (main, Oct 24 2022, 18:26:48) [MSC v.1933 64 bit (AMD64)]"
  },
  "orig_nbformat": 4,
  "vscode": {
   "interpreter": {
    "hash": "cbe6dbca8f5fdafc901b00fd6d1fafcdaa3e87607db442d8ce9bc696bc6c060c"
   }
  }
 },
 "nbformat": 4,
 "nbformat_minor": 2
}
