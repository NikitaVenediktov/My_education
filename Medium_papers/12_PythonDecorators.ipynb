{
 "cells": [
  {
   "attachments": {},
   "cell_type": "markdown",
   "metadata": {},
   "source": [
    "# [12 Python Decorators to Take Your Code to the Next Level](https://towardsdatascience.com/12-python-decorators-to-take-your-code-to-the-next-level-a910a1ab3e99)"
   ]
  },
  {
   "attachments": {},
   "cell_type": "markdown",
   "metadata": {},
   "source": [
    "## 1 — @logger (to get started)✏️"
   ]
  },
  {
   "attachments": {},
   "cell_type": "markdown",
   "metadata": {},
   "source": [
    "Если вы впервые знакомы с декораторами, то можете считать их функциями, которые принимают функции на вход и расширяют их функциональные возможности без изменения их основного назначения.\n",
    "\n",
    "Давайте начнем с простого декоратора, который расширяет функцию, регистрируя время начала и окончания ее выполнения.\n",
    "\n",
    "Результат работы декорируемой функции будет выглядеть следующим образом:\n",
    "\n",
    "# ----- some_function: start -----\n",
    "# some_function executing\n",
    "# ----- some_function: end -----\n",
    "Чтобы написать этот дешифратор, сначала нужно выбрать подходящее имя: назовем его logger.\n",
    "\n",
    "Логгер - это функция, которая принимает функцию на вход и возвращает функцию на выход. Выходная функция обычно является расширенной версией входной. В нашем случае мы хотим, чтобы выходная функция окружала вызов входной функции утверждениями start и end.\n",
    "\n",
    "Поскольку мы не знаем, какие аргументы использует входная функция, мы можем передать их из функции-обертки с помощью выражений *args и **kwargs. Эти выражения позволяют передавать произвольное количество позиционных и ключевых аргументов.\n",
    "\n",
    "Вот простая реализация декоратора регистратора:"
   ]
  },
  {
   "cell_type": "code",
   "execution_count": 8,
   "metadata": {},
   "outputs": [
    {
     "name": "stdout",
     "output_type": "stream",
     "text": [
      "----- some_function: start -----\n",
      "first test\n",
      "----- some_function: end -----\n",
      "----- some_function: start -----\n",
      "second test\n",
      "----- some_function: end -----\n"
     ]
    }
   ],
   "source": [
    "\n",
    "def logger(function):\n",
    "    def wrapper(*args, **kwargs):\n",
    "        print(f\"----- {function.__name__}: start -----\")\n",
    "        output = function(*args, **kwargs)\n",
    "        print(f\"----- {function.__name__}: end -----\")\n",
    "        return output\n",
    "    return wrapper\n",
    "\n",
    "@logger\n",
    "def some_function(text):\n",
    "    print(text)\n",
    "\n",
    "some_function(\"first test\")\n",
    "# ----- some_function: start -----\n",
    "# first test\n",
    "# ----- some_function: end -----\n",
    "some_function(\"second test\")\n",
    "# ----- some_function: start -----\n",
    "# second test\n",
    "# ----- some_function: end -----\n"
   ]
  },
  {
   "attachments": {},
   "cell_type": "markdown",
   "metadata": {},
   "source": [
    "## 2 — @wraps 🎁\n",
    "Этот декоратор обновляет функцию-обертку, чтобы она выглядела как оригинальная функция и наследовала ее имя и свойства.\n",
    "\n",
    "Чтобы понять, что делает @wraps и почему вы должны его использовать, давайте возьмем предыдущий декоратор и применим его к простой функции, которая складывает два числа."
   ]
  },
  {
   "cell_type": "code",
   "execution_count": 9,
   "metadata": {},
   "outputs": [],
   "source": [
    "def logger(function):\n",
    "    def wrapper(*args, **kwargs):\n",
    "        \"\"\"wrapper documentation\"\"\"\n",
    "        print(f\"----- {function.__name__}: start -----\")\n",
    "        output = function(*args, **kwargs)\n",
    "        print(f\"----- {function.__name__}: end -----\")\n",
    "        return output\n",
    "    return wrapper\n",
    "\n",
    "@logger\n",
    "def add_two_numbers(a, b):\n",
    "    \"\"\"this function adds two numbers\"\"\"\n",
    "    return a + b"
   ]
  },
  {
   "cell_type": "code",
   "execution_count": 10,
   "metadata": {},
   "outputs": [
    {
     "name": "stdout",
     "output_type": "stream",
     "text": [
      "wrapper\n",
      "wrapper documentation\n"
     ]
    }
   ],
   "source": [
    "print(add_two_numbers.__name__)\n",
    "\n",
    "print(add_two_numbers.__doc__)"
   ]
  },
  {
   "attachments": {},
   "cell_type": "markdown",
   "metadata": {},
   "source": [
    "Если мы проверим имя и документацию декорированной функции add_two_numbers, вызвав атрибуты `__name__` и `__doc__`, мы получим ... неестественные (и все же ожидаемые) результаты:"
   ]
  },
  {
   "attachments": {},
   "cell_type": "markdown",
   "metadata": {},
   "source": [
    "Вместо этого мы получаем имя обертки и документацию ⚠️.\n",
    "\n",
    "Это нежелательный результат. Мы хотим сохранить имя и документацию исходной функции. Вот тут-то и пригодится декоратор @wraps.\n",
    "\n",
    "Все, что вам нужно сделать, это украсить функцию-обертку."
   ]
  },
  {
   "cell_type": "code",
   "execution_count": 11,
   "metadata": {},
   "outputs": [],
   "source": [
    "from functools import wraps\n",
    "\n",
    "def logger(function):\n",
    "    @wraps(function)\n",
    "    def wrapper(*args, **kwargs):\n",
    "        \"\"\"wrapper documentation\"\"\"\n",
    "        print(f\"----- {function.__name__}: start -----\")\n",
    "        output = function(*args, **kwargs)\n",
    "        print(f\"----- {function.__name__}: end -----\")\n",
    "        return output\n",
    "    return wrapper\n",
    "\n",
    "@logger\n",
    "def add_two_numbers(a, b):\n",
    "    \"\"\"this function adds two numbers\"\"\"\n",
    "    return a + b"
   ]
  },
  {
   "cell_type": "code",
   "execution_count": 12,
   "metadata": {},
   "outputs": [
    {
     "name": "stdout",
     "output_type": "stream",
     "text": [
      "add_two_numbers\n",
      "this function adds two numbers\n"
     ]
    }
   ],
   "source": [
    "print(add_two_numbers.__name__)\n",
    "\n",
    "print(add_two_numbers.__doc__)"
   ]
  },
  {
   "attachments": {},
   "cell_type": "markdown",
   "metadata": {},
   "source": [
    "## 3 — @lru_cache 💨"
   ]
  },
  {
   "attachments": {},
   "cell_type": "markdown",
   "metadata": {},
   "source": [
    "Это встроенный декоратор, который можно импортировать из functools.\n",
    "\n",
    "Он кэширует возвращаемые значения функции, используя алгоритм наименее часто используемых значений (LRU) для отбрасывания наименее используемых значений, когда кэш заполняется.\n",
    "\n",
    "Обычно я использую этот декоратор для длительно выполняющихся задач, которые не меняют результат при одинаковых входных данных, например, запрос к базе данных, запрос статической удаленной веб-страницы или тяжелая обработка.\n",
    "\n",
    "В следующем примере я использую lru_cache для декорирования функции, которая имитирует некоторую обработку. Затем я применяю функцию на одном и том же входе несколько раз подряд."
   ]
  },
  {
   "cell_type": "code",
   "execution_count": 13,
   "metadata": {},
   "outputs": [
    {
     "name": "stderr",
     "output_type": "stream",
     "text": [
      "UsageError: Line magic function `%%time` not found.\n"
     ]
    }
   ],
   "source": [
    "import random\n",
    "import time\n",
    "from functools import lru_cache\n",
    "\n",
    "\n",
    "@lru_cache(maxsize=None)\n",
    "def heavy_processing(n):\n",
    "    sleep_time = n + random.random()\n",
    "    time.sleep(sleep_time)\n",
    "\n",
    "# first time\n",
    "%%time\n",
    "heavy_processing(0)\n",
    "# CPU times: user 363 µs, sys: 727 µs, total: 1.09 ms\n",
    "# Wall time: 694 ms\n",
    "\n",
    "# second time\n",
    "%%time\n",
    "heavy_processing(0)\n",
    "# CPU times: user 4 µs, sys: 0 ns, total: 4 µs\n",
    "# Wall time: 8.11 µs\n",
    "\n",
    "# third time\n",
    "%%time\n",
    "heavy_processing(0)\n",
    "# CPU times: user 5 µs, sys: 1 µs, total: 6 µs\n",
    "# Wall time: 7.15 µs"
   ]
  },
  {
   "cell_type": "code",
   "execution_count": 14,
   "metadata": {},
   "outputs": [
    {
     "name": "stdout",
     "output_type": "stream",
     "text": [
      "CPU times: user 1.19 ms, sys: 1.65 ms, total: 2.83 ms\n",
      "Wall time: 1.95 s\n"
     ]
    }
   ],
   "source": [
    "%%time\n",
    "heavy_processing(1)"
   ]
  },
  {
   "cell_type": "code",
   "execution_count": 15,
   "metadata": {},
   "outputs": [
    {
     "name": "stdout",
     "output_type": "stream",
     "text": [
      "CPU times: user 3 µs, sys: 0 ns, total: 3 µs\n",
      "Wall time: 3.81 µs\n"
     ]
    }
   ],
   "source": [
    "%%time\n",
    "heavy_processing(1)"
   ]
  },
  {
   "attachments": {},
   "cell_type": "markdown",
   "metadata": {},
   "source": [
    "## 4 — @repeat 🔁\n",
    "Этот декоратор заставляет функцию вызываться несколько раз подряд.\n",
    "\n",
    "Это может быть полезно для отладки, стресс-тестов или автоматизации повторения нескольких задач.\n",
    "\n",
    "В отличие от предыдущих декораторов, этот ожидает входной параметр."
   ]
  },
  {
   "cell_type": "code",
   "execution_count": 16,
   "metadata": {},
   "outputs": [],
   "source": [
    "def repeat(number_of_times):\n",
    "    def decorate(func):\n",
    "        @wraps(func)\n",
    "        def wrapper(*args, **kwargs):\n",
    "            for _ in range(number_of_times):\n",
    "                func(*args, **kwargs)\n",
    "        return wrapper\n",
    "    return decorate"
   ]
  },
  {
   "attachments": {},
   "cell_type": "markdown",
   "metadata": {},
   "source": [
    "В следующем примере определяется декоратор repeat, который принимает в качестве аргумента число раз. Затем декоратор определяет функцию wrapper, которая оборачивается вокруг декорируемой функции. Функция-обертка вызывает декорируемую функцию количество раз, равное указанному числу."
   ]
  },
  {
   "cell_type": "code",
   "execution_count": 17,
   "metadata": {},
   "outputs": [
    {
     "name": "stdout",
     "output_type": "stream",
     "text": [
      "hello\n",
      "hello\n",
      "hello\n",
      "hello\n",
      "hello\n"
     ]
    }
   ],
   "source": [
    "@repeat(5)\n",
    "def dummy():\n",
    "    print(\"hello\")\n",
    "\n",
    "dummy()"
   ]
  },
  {
   "attachments": {},
   "cell_type": "markdown",
   "metadata": {},
   "source": [
    "## 5 — @timeit ⏲️\n",
    "Этот декоратор измеряет время выполнения функции и выводит результат: это служит для отладки или мониторинга.\n",
    "\n",
    "В следующем фрагменте декоратор timeit измеряет время выполнения функции process_data и выводит прошедшее время в секундах."
   ]
  },
  {
   "cell_type": "code",
   "execution_count": 18,
   "metadata": {},
   "outputs": [
    {
     "name": "stdout",
     "output_type": "stream",
     "text": [
      "process_data took 1.005098 seconds to complete\n"
     ]
    }
   ],
   "source": [
    "import time\n",
    "from functools import wraps\n",
    "\n",
    "def timeit(func):\n",
    "    @wraps(func)\n",
    "    def wrapper(*args, **kwargs):\n",
    "        start = time.perf_counter()\n",
    "        result = func(*args, **kwargs)\n",
    "        end = time.perf_counter()\n",
    "        print(f'{func.__name__} took {end - start:.6f} seconds to complete')\n",
    "        return result\n",
    "    return wrapper\n",
    "\n",
    "@timeit\n",
    "def process_data():\n",
    "    time.sleep(1)\n",
    "\n",
    "process_data()\n",
    "# process_data took 1.000012 seconds to complete"
   ]
  },
  {
   "attachments": {},
   "cell_type": "markdown",
   "metadata": {},
   "source": [
    "## 6 — @retry 🔁\n",
    "Этот декоратор заставляет функцию повторять попытку несколько раз, когда она сталкивается с исключением.\n",
    "\n",
    "Он принимает три аргумента: `количество повторных попыток, исключение, которое нужно поймать и повторить, и время сна между повторными попытками`.\n",
    "\n",
    "Это работает следующим образом:\n",
    "\n",
    "Функция-обертка запускает цикл for с количеством итераций num_retries.\n",
    "На каждой итерации она вызывает входную функцию в блоке try/except. При успешном вызове она прерывает цикл и возвращает результат. В противном случае он спит в течение sleep_time секунд и переходит к следующей итерации.\n",
    "Если после завершения цикла for вызов функции не удается, функция-обертка вызывает исключение."
   ]
  },
  {
   "cell_type": "code",
   "execution_count": 19,
   "metadata": {},
   "outputs": [
    {
     "data": {
      "text/plain": [
       "2"
      ]
     },
     "execution_count": 19,
     "metadata": {},
     "output_type": "execute_result"
    }
   ],
   "source": [
    "import random\n",
    "import time\n",
    "from functools import wraps\n",
    "\n",
    "def retry(num_retries, exception_to_check, sleep_time=0):\n",
    "    \"\"\"\n",
    "    Decorator that retries the execution of a function if it raises a specific exception.\n",
    "    \"\"\"\n",
    "    def decorate(func):\n",
    "        @wraps(func)\n",
    "        def wrapper(*args, **kwargs):\n",
    "            for i in range(1, num_retries+1):\n",
    "                try:\n",
    "                    return func(*args, **kwargs)\n",
    "                except exception_to_check as e:\n",
    "                    print(f\"{func.__name__} raised {e.__class__.__name__}. Retrying...\")\n",
    "                    if i < num_retries:\n",
    "                        time.sleep(sleep_time)\n",
    "            # Raise the exception if the function was not successful after the specified number of retries\n",
    "            raise e\n",
    "        return wrapper\n",
    "    return decorate\n",
    "\n",
    "@retry(num_retries=2, exception_to_check=ValueError, sleep_time=5)\n",
    "def random_value():\n",
    "    value = random.randint(1, 5)\n",
    "    if value == 3:\n",
    "        raise ValueError(\"Value cannot be 3\")\n",
    "    return value\n",
    "\n",
    "random_value()\n",
    "# random_value raised ValueError. Retrying...\n",
    "# 1\n",
    "\n",
    "random_value()\n",
    "# 5"
   ]
  },
  {
   "attachments": {},
   "cell_type": "markdown",
   "metadata": {},
   "source": [
    "## 7 — @countcall 🔢\n",
    "Этот декоратор подсчитывает, сколько раз была вызвана функция.\n",
    "\n",
    "Это число хранится в атрибуте обертки count ."
   ]
  },
  {
   "cell_type": "code",
   "execution_count": 20,
   "metadata": {},
   "outputs": [
    {
     "name": "stdout",
     "output_type": "stream",
     "text": [
      "process_data has been called 1 times\n",
      "process_data has been called 2 times\n",
      "process_data has been called 3 times\n"
     ]
    }
   ],
   "source": [
    "from functools import wraps\n",
    "\n",
    "def countcall(func):\n",
    "    @wraps(func)\n",
    "    def wrapper(*args, **kwargs):\n",
    "        wrapper.count += 1\n",
    "        result = func(*args, **kwargs)\n",
    "        print(f'{func.__name__} has been called {wrapper.count} times')\n",
    "        return result\n",
    "    wrapper.count = 0\n",
    "    return wrapper\n",
    "\n",
    "@countcall\n",
    "def process_data():\n",
    "    pass\n",
    "\n",
    "process_data()\n",
    "# process_data has been called 1 times\n",
    "process_data()\n",
    "# process_data has been called 2 times\n",
    "process_data()\n",
    "# process_data has been called 3 times"
   ]
  },
  {
   "attachments": {},
   "cell_type": "markdown",
   "metadata": {},
   "source": [
    "# 8 — @rate_limited 🚧\n",
    "\n",
    "Это декоратор, который ограничивает частоту вызова функции, откладывая ее на некоторое время, если функция вызывается слишком часто."
   ]
  },
  {
   "cell_type": "code",
   "execution_count": 21,
   "metadata": {},
   "outputs": [],
   "source": [
    "import time\n",
    "from functools import wraps\n",
    "\n",
    "def rate_limited(max_per_second):\n",
    "    min_interval = 1.0 / float(max_per_second)\n",
    "    def decorate(func):\n",
    "        last_time_called = [0.0]\n",
    "        @wraps(func)\n",
    "        def rate_limited_function(*args, **kargs):\n",
    "            elapsed = time.perf_counter() - last_time_called[0]\n",
    "            left_to_wait = min_interval - elapsed\n",
    "            if left_to_wait > 0:\n",
    "                time.sleep(left_to_wait)\n",
    "            ret = func(*args, **kargs)\n",
    "            last_time_called[0] = time.perf_counter()\n",
    "            return ret\n",
    "        return rate_limited_function\n",
    "    return decorate"
   ]
  },
  {
   "attachments": {},
   "cell_type": "markdown",
   "metadata": {},
   "source": [
    "The decorator works by measuring the time elapsed since the last call to the function and waiting for an appropriate amount of time if necessary to ensure that the rate limit is not exceeded. The waiting time is calculated as min_interval - elapsed, where min_interval is the minimum time interval (in seconds) between two function calls and elapsed is the time elapsed since the last call.\n",
    "\n",
    "If the time elapsed is less than the minimum interval, the function waits for left_to_wait seconds before being executed again.\n",
    "\n",
    "__This function hence introduces a slight time overhead between the calls but ensures that the rate limit is not exceeded.__\n",
    "\n"
   ]
  },
  {
   "cell_type": "code",
   "execution_count": 22,
   "metadata": {},
   "outputs": [
    {
     "name": "stdout",
     "output_type": "stream",
     "text": [
      "Requirement already satisfied: ratelimit in /Users/nikitav/Desktop/ITMO/my_courses/My_education/.conda/lib/python3.9/site-packages (2.2.1)\n",
      "Note: you may need to restart the kernel to use updated packages.\n",
      "Requirement already satisfied: requests in /Users/nikitav/Desktop/ITMO/my_courses/My_education/.conda/lib/python3.9/site-packages (2.28.2)\n",
      "Requirement already satisfied: charset-normalizer<4,>=2 in /Users/nikitav/Desktop/ITMO/my_courses/My_education/.conda/lib/python3.9/site-packages (from requests) (3.0.1)\n",
      "Requirement already satisfied: certifi>=2017.4.17 in /Users/nikitav/Desktop/ITMO/my_courses/My_education/.conda/lib/python3.9/site-packages (from requests) (2022.12.7)\n",
      "Requirement already satisfied: urllib3<1.27,>=1.21.1 in /Users/nikitav/Desktop/ITMO/my_courses/My_education/.conda/lib/python3.9/site-packages (from requests) (1.26.14)\n",
      "Requirement already satisfied: idna<4,>=2.5 in /Users/nikitav/Desktop/ITMO/my_courses/My_education/.conda/lib/python3.9/site-packages (from requests) (3.4)\n",
      "Note: you may need to restart the kernel to use updated packages.\n"
     ]
    }
   ],
   "source": [
    "# There’s also a third-party package that implements API rate limit: it’s called ratelimit.\n",
    "\n",
    "%pip install ratelimit\n",
    "%pip install requests\n",
    "\n",
    "from ratelimit import limits\n",
    "\n",
    "import requests\n",
    "\n",
    "FIFTEEN_MINUTES = 900\n",
    "\n",
    "@limits(calls=15, period=FIFTEEN_MINUTES)\n",
    "def call_api(url):\n",
    "    response = requests.get(url)\n",
    "\n",
    "    if response.status_code != 200:\n",
    "        raise Exception('API response: {}'.format(response.status_code))\n",
    "    return response"
   ]
  },
  {
   "attachments": {},
   "cell_type": "markdown",
   "metadata": {},
   "source": [
    "If the decorated function is called more times than allowed a `ratelimit.RateLimitException` is raised.\n",
    "\n",
    "To be able to handle this exception, you can use the `sleep_and_retry` decorator in combination with the `ratelimit` decorator."
   ]
  },
  {
   "cell_type": "code",
   "execution_count": 23,
   "metadata": {},
   "outputs": [
    {
     "ename": "NameError",
     "evalue": "name 'sleep_and_retry' is not defined",
     "output_type": "error",
     "traceback": [
      "\u001b[0;31m---------------------------------------------------------------------------\u001b[0m",
      "\u001b[0;31mNameError\u001b[0m                                 Traceback (most recent call last)",
      "Cell \u001b[0;32mIn[23], line 1\u001b[0m\n\u001b[0;32m----> 1\u001b[0m \u001b[39m@sleep_and_retry\u001b[39m\n\u001b[1;32m      2\u001b[0m \u001b[39m@limits\u001b[39m(calls\u001b[39m=\u001b[39m\u001b[39m15\u001b[39m, period\u001b[39m=\u001b[39mFIFTEEN_MINUTES)\n\u001b[1;32m      3\u001b[0m \u001b[39mdef\u001b[39;00m \u001b[39mcall_api\u001b[39m(url):\n\u001b[1;32m      4\u001b[0m     response \u001b[39m=\u001b[39m requests\u001b[39m.\u001b[39mget(url)\n\u001b[1;32m      6\u001b[0m     \u001b[39mif\u001b[39;00m response\u001b[39m.\u001b[39mstatus_code \u001b[39m!=\u001b[39m \u001b[39m200\u001b[39m:\n",
      "\u001b[0;31mNameError\u001b[0m: name 'sleep_and_retry' is not defined"
     ]
    }
   ],
   "source": [
    "@sleep_and_retry\n",
    "@limits(calls=15, period=FIFTEEN_MINUTES)\n",
    "def call_api(url):\n",
    "    response = requests.get(url)\n",
    "\n",
    "    if response.status_code != 200:\n",
    "        raise Exception('API response: {}'.format(response.status_code))\n",
    "    return response"
   ]
  },
  {
   "attachments": {},
   "cell_type": "markdown",
   "metadata": {},
   "source": [
    "# 9 — @dataclass 🗂️\n",
    "The `@dataclass` decorator in Python is used to decorate classes.\n",
    "\n",
    "It automatically generates special methods such as `__init__, __repr__, __eq__, __lt__, and __str__` for classes that primarily store data. This can reduce the boilerplate code and make the classes more readable and maintainable.\n",
    "\n",
    "It also provides nifty methods off-the-shelf to represent objects nicely, convert them into JSON format, make them immutable, etc.\n",
    "\n",
    "The `@dataclass` decorator was introduced in Python 3.7 and is available in the standard library.\n",
    "\n"
   ]
  },
  {
   "cell_type": "code",
   "execution_count": 31,
   "metadata": {},
   "outputs": [
    {
     "name": "stdout",
     "output_type": "stream",
     "text": [
      "False\n",
      "True\n"
     ]
    },
    {
     "data": {
      "text/plain": [
       "{'first_name': 'Anne',\n",
       " 'last_name': 'Smith',\n",
       " 'age': 40,\n",
       " 'job': 'software engineer'}"
      ]
     },
     "execution_count": 31,
     "metadata": {},
     "output_type": "execute_result"
    }
   ],
   "source": [
    "from dataclasses import dataclass, asdict\n",
    "\n",
    "@dataclass\n",
    "class Person:\n",
    "    first_name: str\n",
    "    last_name: str\n",
    "    age: int\n",
    "    job: str\n",
    "\n",
    "    def __eq__(self, other):\n",
    "        if isinstance(other, Person):\n",
    "            return self.age == other.age\n",
    "        return NotImplemented\n",
    "\n",
    "    def __lt__(self, other):\n",
    "        if isinstance(other, Person):\n",
    "            return self.age < other.age\n",
    "        return NotImplemented\n",
    "\n",
    "\n",
    "john = Person(first_name=\"John\", \n",
    "              last_name=\"Doe\", \n",
    "              age=30, \n",
    "              job=\"doctor\",)\n",
    "\n",
    "anne = Person(first_name=\"Anne\", \n",
    "              last_name=\"Smith\", \n",
    "              age=40, \n",
    "              job=\"software engineer\",)\n",
    "\n",
    "print(john == anne)\n",
    "# False\n",
    "\n",
    "print(anne > john)\n",
    "# True\n",
    "\n",
    "asdict(anne)\n",
    "#{'first_name': 'Anne',\n",
    "# 'last_name': 'Smith',\n",
    "# 'age': 40,\n",
    "# 'job': 'software engineer'}"
   ]
  },
  {
   "attachments": {},
   "cell_type": "markdown",
   "metadata": {},
   "source": [
    "# 10 — @register 🛑\n",
    "Если ваш сценарий Python случайно завершается, а вы все еще хотите выполнить некоторые задачи для сохранения работы, очистки или печати сообщения, я нахожу, что декоратор register весьма удобен в этом контексте."
   ]
  },
  {
   "cell_type": "code",
   "execution_count": null,
   "metadata": {},
   "outputs": [],
   "source": [
    "from atexit import register\n",
    "\n",
    "@register\n",
    "def terminate():\n",
    "    perform_some_cleanup()\n",
    "    print(\"Goodbye!\")\n",
    "\n",
    "while True:\n",
    "    print(\"Hello\")\n",
    "\n",
    "# When running this script and hitting CTRL+C, we see the output of the terminate function."
   ]
  },
  {
   "attachments": {},
   "cell_type": "markdown",
   "metadata": {},
   "source": [
    "# 11 — @property 🏠\n",
    "Декоратор свойств используется для определения свойств класса, которые по сути являются методами getter, setter и deleter для атрибута экземпляра класса.\n",
    "\n",
    "Используя декоратор свойств, вы можете определить метод как свойство класса и получить к нему доступ, как к атрибуту класса, без явного вызова метода.\n",
    "\n",
    "Это полезно, если вы хотите добавить некоторые ограничения и логику проверки вокруг получения и установки значения.\n",
    "\n",
    "В следующем примере мы определяем сеттер для свойства rating, чтобы наложить ограничение на вводимое значение (от 0 до 5)."
   ]
  },
  {
   "cell_type": "code",
   "execution_count": 6,
   "metadata": {},
   "outputs": [
    {
     "name": "stdout",
     "output_type": "stream",
     "text": [
      "2.5\n",
      "4\n",
      "batman.rating = 10\n"
     ]
    }
   ],
   "source": [
    "class Movie:\n",
    "    def __init__(self, r):\n",
    "        self._rating = r\n",
    "\n",
    "    @property\n",
    "    def rating(self):\n",
    "        return self._rating\n",
    "\n",
    "    @rating.setter\n",
    "    def rating(self, r):\n",
    "        if 0 <= r <= 5:\n",
    "            self._rating = r\n",
    "        else:\n",
    "            raise ValueError(\"The movie rating must be between 0 and 5!\")\n",
    "\n",
    "batman = Movie(2.5)\n",
    "print(batman.rating)\n",
    "# 2.5\n",
    "batman.rating = 4\n",
    "print(batman.rating)\n",
    "# 4\n",
    "print(f'batman.rating = 10') # ValueError(\"The movie rating must be between 0 and 5!\")"
   ]
  },
  {
   "attachments": {},
   "cell_type": "markdown",
   "metadata": {},
   "source": [
    "# 12 — @singledispatch\n",
    "Этот декоратор позволяет функции иметь различные реализации для разных типов аргументов."
   ]
  },
  {
   "cell_type": "code",
   "execution_count": 7,
   "metadata": {},
   "outputs": [
    {
     "name": "stdout",
     "output_type": "stream",
     "text": [
      "Called with an integer\n",
      "Called with a list\n"
     ]
    }
   ],
   "source": [
    "from functools import singledispatch\n",
    "\n",
    "@singledispatch\n",
    "def fun(arg):\n",
    "    print(\"Called with a single argument\")\n",
    "\n",
    "@fun.register(int)\n",
    "def _(arg):\n",
    "    print(\"Called with an integer\")\n",
    "\n",
    "@fun.register(list)\n",
    "def _(arg):\n",
    "    print(\"Called with a list\")\n",
    "\n",
    "fun(1)  # Prints \"Called with an integer\"\n",
    "fun([1, 2, 3])  # Prints \"Called with a list\""
   ]
  },
  {
   "attachments": {},
   "cell_type": "markdown",
   "metadata": {},
   "source": [
    "## Заключение\n",
    "Декораторы - это полезные абстракции для расширения вашего кода дополнительными функциями, такими как кэширование, автоматическое повторение, ограничение скорости, ведение журнала или превращение ваших классов в суперзаряженные контейнеры данных.\n",
    "\n",
    "Но на этом все не заканчивается, поскольку вы можете быть более креативными и реализовать свои собственные декораторы для решения очень специфических проблем.\n",
    "\n",
    "Вот список замечательных декораторов для вдохновения.\n",
    "\n",
    "Спасибо за чтение!"
   ]
  }
 ],
 "metadata": {
  "kernelspec": {
   "display_name": "Python 3",
   "language": "python",
   "name": "python3"
  },
  "language_info": {
   "codemirror_mode": {
    "name": "ipython",
    "version": 3
   },
   "file_extension": ".py",
   "mimetype": "text/x-python",
   "name": "python",
   "nbconvert_exporter": "python",
   "pygments_lexer": "ipython3",
   "version": "3.9.16"
  },
  "orig_nbformat": 4,
  "vscode": {
   "interpreter": {
    "hash": "e80bfe3c6697afa5886fed20a41aad3c2f3e04aa92f9236622e9d73caeff43b9"
   }
  }
 },
 "nbformat": 4,
 "nbformat_minor": 2
}
