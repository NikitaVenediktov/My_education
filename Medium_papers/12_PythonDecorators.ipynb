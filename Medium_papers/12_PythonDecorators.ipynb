{
 "cells": [
  {
   "attachments": {},
   "cell_type": "markdown",
   "metadata": {},
   "source": [
    "# [12 Python Decorators to Take Your Code to the Next Level](https://towardsdatascience.com/12-python-decorators-to-take-your-code-to-the-next-level-a910a1ab3e99)"
   ]
  },
  {
   "attachments": {},
   "cell_type": "markdown",
   "metadata": {},
   "source": [
    "## 1 — @logger (to get started)✏️"
   ]
  },
  {
   "attachments": {},
   "cell_type": "markdown",
   "metadata": {},
   "source": [
    "Если вы впервые знакомы с декораторами, то можете считать их функциями, которые принимают функции на вход и расширяют их функциональные возможности без изменения их основного назначения.\n",
    "\n",
    "Давайте начнем с простого декоратора, который расширяет функцию, регистрируя время начала и окончания ее выполнения.\n",
    "\n",
    "Результат работы декорируемой функции будет выглядеть следующим образом:\n",
    "\n",
    "# ----- some_function: start -----\n",
    "# some_function executing\n",
    "# ----- some_function: end -----\n",
    "Чтобы написать этот дешифратор, сначала нужно выбрать подходящее имя: назовем его logger.\n",
    "\n",
    "Логгер - это функция, которая принимает функцию на вход и возвращает функцию на выход. Выходная функция обычно является расширенной версией входной. В нашем случае мы хотим, чтобы выходная функция окружала вызов входной функции утверждениями start и end.\n",
    "\n",
    "Поскольку мы не знаем, какие аргументы использует входная функция, мы можем передать их из функции-обертки с помощью выражений *args и **kwargs. Эти выражения позволяют передавать произвольное количество позиционных и ключевых аргументов.\n",
    "\n",
    "Вот простая реализация декоратора регистратора:"
   ]
  },
  {
   "cell_type": "code",
   "execution_count": 9,
   "metadata": {},
   "outputs": [
    {
     "name": "stdout",
     "output_type": "stream",
     "text": [
      "----- some_function: start -----\n",
      "first test\n",
      "----- some_function: end -----\n",
      "----- some_function: start -----\n",
      "second test\n",
      "----- some_function: end -----\n"
     ]
    }
   ],
   "source": [
    "\n",
    "def logger(function):\n",
    "    def wrapper(*args, **kwargs):\n",
    "        print(f\"----- {function.__name__}: start -----\")\n",
    "        output = function(*args, **kwargs)\n",
    "        print(f\"----- {function.__name__}: end -----\")\n",
    "        return output\n",
    "    return wrapper\n",
    "\n",
    "@logger\n",
    "def some_function(text):\n",
    "    print(text)\n",
    "\n",
    "some_function(\"first test\")\n",
    "# ----- some_function: start -----\n",
    "# first test\n",
    "# ----- some_function: end -----\n",
    "some_function(\"second test\")\n",
    "# ----- some_function: start -----\n",
    "# second test\n",
    "# ----- some_function: end -----\n"
   ]
  },
  {
   "attachments": {},
   "cell_type": "markdown",
   "metadata": {},
   "source": [
    "## 2 — @wraps 🎁\n",
    "Этот декоратор обновляет функцию-обертку, чтобы она выглядела как оригинальная функция и наследовала ее имя и свойства.\n",
    "\n",
    "Чтобы понять, что делает @wraps и почему вы должны его использовать, давайте возьмем предыдущий декоратор и применим его к простой функции, которая складывает два числа."
   ]
  },
  {
   "cell_type": "code",
   "execution_count": 10,
   "metadata": {},
   "outputs": [],
   "source": [
    "def logger(function):\n",
    "    def wrapper(*args, **kwargs):\n",
    "        \"\"\"wrapper documentation\"\"\"\n",
    "        print(f\"----- {function.__name__}: start -----\")\n",
    "        output = function(*args, **kwargs)\n",
    "        print(f\"----- {function.__name__}: end -----\")\n",
    "        return output\n",
    "    return wrapper\n",
    "\n",
    "@logger\n",
    "def add_two_numbers(a, b):\n",
    "    \"\"\"this function adds two numbers\"\"\"\n",
    "    return a + b"
   ]
  },
  {
   "cell_type": "code",
   "execution_count": 5,
   "metadata": {},
   "outputs": [
    {
     "name": "stdout",
     "output_type": "stream",
     "text": [
      "wrapper\n",
      "wrapper documentation\n"
     ]
    }
   ],
   "source": [
    "print(add_two_numbers.__name__)\n",
    "\n",
    "print(add_two_numbers.__doc__)"
   ]
  },
  {
   "attachments": {},
   "cell_type": "markdown",
   "metadata": {},
   "source": [
    "Если мы проверим имя и документацию декорированной функции add_two_numbers, вызвав атрибуты `__name__` и `__doc__`, мы получим ... неестественные (и все же ожидаемые) результаты:"
   ]
  },
  {
   "attachments": {},
   "cell_type": "markdown",
   "metadata": {},
   "source": [
    "Вместо этого мы получаем имя обертки и документацию ⚠️.\n",
    "\n",
    "Это нежелательный результат. Мы хотим сохранить имя и документацию исходной функции. Вот тут-то и пригодится декоратор @wraps.\n",
    "\n",
    "Все, что вам нужно сделать, это украсить функцию-обертку."
   ]
  },
  {
   "cell_type": "code",
   "execution_count": 11,
   "metadata": {},
   "outputs": [],
   "source": [
    "from functools import wraps\n",
    "\n",
    "def logger(function):\n",
    "    @wraps(function)\n",
    "    def wrapper(*args, **kwargs):\n",
    "        \"\"\"wrapper documentation\"\"\"\n",
    "        print(f\"----- {function.__name__}: start -----\")\n",
    "        output = function(*args, **kwargs)\n",
    "        print(f\"----- {function.__name__}: end -----\")\n",
    "        return output\n",
    "    return wrapper\n",
    "\n",
    "@logger\n",
    "def add_two_numbers(a, b):\n",
    "    \"\"\"this function adds two numbers\"\"\"\n",
    "    return a + b"
   ]
  },
  {
   "cell_type": "code",
   "execution_count": 7,
   "metadata": {},
   "outputs": [
    {
     "name": "stdout",
     "output_type": "stream",
     "text": [
      "add_two_numbers\n",
      "this function adds two numbers\n"
     ]
    }
   ],
   "source": [
    "print(add_two_numbers.__name__)\n",
    "\n",
    "print(add_two_numbers.__doc__)"
   ]
  },
  {
   "attachments": {},
   "cell_type": "markdown",
   "metadata": {},
   "source": [
    "## 3 — @lru_cache 💨"
   ]
  },
  {
   "attachments": {},
   "cell_type": "markdown",
   "metadata": {},
   "source": [
    "Это встроенный декоратор, который можно импортировать из functools.\n",
    "\n",
    "Он кэширует возвращаемые значения функции, используя алгоритм наименее часто используемых значений (LRU) для отбрасывания наименее используемых значений, когда кэш заполняется.\n",
    "\n",
    "Обычно я использую этот декоратор для длительно выполняющихся задач, которые не меняют результат при одинаковых входных данных, например, запрос к базе данных, запрос статической удаленной веб-страницы или тяжелая обработка.\n",
    "\n",
    "В следующем примере я использую lru_cache для декорирования функции, которая имитирует некоторую обработку. Затем я применяю функцию на одном и том же входе несколько раз подряд."
   ]
  },
  {
   "cell_type": "code",
   "execution_count": 12,
   "metadata": {},
   "outputs": [
    {
     "name": "stderr",
     "output_type": "stream",
     "text": [
      "UsageError: Line magic function `%%time` not found.\n"
     ]
    }
   ],
   "source": [
    "import random\n",
    "import time\n",
    "from functools import lru_cache\n",
    "\n",
    "\n",
    "@lru_cache(maxsize=None)\n",
    "def heavy_processing(n):\n",
    "    sleep_time = n + random.random()\n",
    "    time.sleep(sleep_time)\n",
    "\n",
    "# first time\n",
    "%%time\n",
    "heavy_processing(0)\n",
    "# CPU times: user 363 µs, sys: 727 µs, total: 1.09 ms\n",
    "# Wall time: 694 ms\n",
    "\n",
    "# second time\n",
    "%%time\n",
    "heavy_processing(0)\n",
    "# CPU times: user 4 µs, sys: 0 ns, total: 4 µs\n",
    "# Wall time: 8.11 µs\n",
    "\n",
    "# third time\n",
    "%%time\n",
    "heavy_processing(0)\n",
    "# CPU times: user 5 µs, sys: 1 µs, total: 6 µs\n",
    "# Wall time: 7.15 µs"
   ]
  },
  {
   "cell_type": "code",
   "execution_count": 5,
   "metadata": {},
   "outputs": [
    {
     "name": "stdout",
     "output_type": "stream",
     "text": [
      "CPU times: total: 0 ns\n",
      "Wall time: 1.43 s\n"
     ]
    }
   ],
   "source": [
    "%%time\n",
    "heavy_processing(1)"
   ]
  },
  {
   "cell_type": "code",
   "execution_count": 6,
   "metadata": {},
   "outputs": [
    {
     "name": "stdout",
     "output_type": "stream",
     "text": [
      "CPU times: total: 0 ns\n",
      "Wall time: 0 ns\n"
     ]
    }
   ],
   "source": [
    "%%time\n",
    "heavy_processing(1)"
   ]
  },
  {
   "attachments": {},
   "cell_type": "markdown",
   "metadata": {},
   "source": [
    "## 4 — @repeat 🔁\n",
    "Этот декоратор заставляет функцию вызываться несколько раз подряд.\n",
    "\n",
    "Это может быть полезно для отладки, стресс-тестов или автоматизации повторения нескольких задач.\n",
    "\n",
    "В отличие от предыдущих декораторов, этот ожидает входной параметр."
   ]
  },
  {
   "cell_type": "code",
   "execution_count": 7,
   "metadata": {},
   "outputs": [],
   "source": [
    "def repeat(number_of_times):\n",
    "    def decorate(func):\n",
    "        @wraps(func)\n",
    "        def wrapper(*args, **kwargs):\n",
    "            for _ in range(number_of_times):\n",
    "                func(*args, **kwargs)\n",
    "        return wrapper\n",
    "    return decorate"
   ]
  },
  {
   "attachments": {},
   "cell_type": "markdown",
   "metadata": {},
   "source": [
    "В следующем примере определяется декоратор repeat, который принимает в качестве аргумента число раз. Затем декоратор определяет функцию wrapper, которая оборачивается вокруг декорируемой функции. Функция-обертка вызывает декорируемую функцию количество раз, равное указанному числу."
   ]
  },
  {
   "cell_type": "code",
   "execution_count": 14,
   "metadata": {},
   "outputs": [
    {
     "name": "stdout",
     "output_type": "stream",
     "text": [
      "hello\n",
      "hello\n",
      "hello\n",
      "hello\n",
      "hello\n"
     ]
    }
   ],
   "source": [
    "@repeat(5)\n",
    "def dummy():\n",
    "    print(\"hello\")\n",
    "\n",
    "dummy()"
   ]
  },
  {
   "attachments": {},
   "cell_type": "markdown",
   "metadata": {},
   "source": [
    "## 5 — @timeit ⏲️\n",
    "Этот декоратор измеряет время выполнения функции и выводит результат: это служит для отладки или мониторинга.\n",
    "\n",
    "В следующем фрагменте декоратор timeit измеряет время выполнения функции process_data и выводит прошедшее время в секундах."
   ]
  },
  {
   "cell_type": "code",
   "execution_count": 15,
   "metadata": {},
   "outputs": [
    {
     "name": "stdout",
     "output_type": "stream",
     "text": [
      "process_data took 1.000671 seconds to complete\n"
     ]
    }
   ],
   "source": [
    "import time\n",
    "from functools import wraps\n",
    "\n",
    "def timeit(func):\n",
    "    @wraps(func)\n",
    "    def wrapper(*args, **kwargs):\n",
    "        start = time.perf_counter()\n",
    "        result = func(*args, **kwargs)\n",
    "        end = time.perf_counter()\n",
    "        print(f'{func.__name__} took {end - start:.6f} seconds to complete')\n",
    "        return result\n",
    "    return wrapper\n",
    "\n",
    "@timeit\n",
    "def process_data():\n",
    "    time.sleep(1)\n",
    "\n",
    "process_data()\n",
    "# process_data took 1.000012 seconds to complete"
   ]
  },
  {
   "attachments": {},
   "cell_type": "markdown",
   "metadata": {},
   "source": [
    "## 6 — @retry 🔁\n",
    "Этот декоратор заставляет функцию повторять попытку несколько раз, когда она сталкивается с исключением.\n",
    "\n",
    "Он принимает три аргумента: `количество повторных попыток, исключение, которое нужно поймать и повторить, и время сна между повторными попытками`.\n",
    "\n",
    "Это работает следующим образом:\n",
    "\n",
    "Функция-обертка запускает цикл for с количеством итераций num_retries.\n",
    "На каждой итерации она вызывает входную функцию в блоке try/except. При успешном вызове она прерывает цикл и возвращает результат. В противном случае он спит в течение sleep_time секунд и переходит к следующей итерации.\n",
    "Если после завершения цикла for вызов функции не удается, функция-обертка вызывает исключение."
   ]
  },
  {
   "cell_type": "code",
   "execution_count": 31,
   "metadata": {},
   "outputs": [
    {
     "data": {
      "text/plain": [
       "5"
      ]
     },
     "execution_count": 31,
     "metadata": {},
     "output_type": "execute_result"
    }
   ],
   "source": [
    "import random\n",
    "import time\n",
    "from functools import wraps\n",
    "\n",
    "def retry(num_retries, exception_to_check, sleep_time=0):\n",
    "    \"\"\"\n",
    "    Decorator that retries the execution of a function if it raises a specific exception.\n",
    "    \"\"\"\n",
    "    def decorate(func):\n",
    "        @wraps(func)\n",
    "        def wrapper(*args, **kwargs):\n",
    "            for i in range(1, num_retries+1):\n",
    "                try:\n",
    "                    return func(*args, **kwargs)\n",
    "                except exception_to_check as e:\n",
    "                    print(f\"{func.__name__} raised {e.__class__.__name__}. Retrying...\")\n",
    "                    if i < num_retries:\n",
    "                        time.sleep(sleep_time)\n",
    "            # Raise the exception if the function was not successful after the specified number of retries\n",
    "            raise e\n",
    "        return wrapper\n",
    "    return decorate\n",
    "\n",
    "@retry(num_retries=2, exception_to_check=ValueError, sleep_time=5)\n",
    "def random_value():\n",
    "    value = random.randint(1, 5)\n",
    "    if value == 3:\n",
    "        raise ValueError(\"Value cannot be 3\")\n",
    "    return value\n",
    "\n",
    "random_value()\n",
    "# random_value raised ValueError. Retrying...\n",
    "# 1\n",
    "\n",
    "random_value()\n",
    "# 5"
   ]
  },
  {
   "attachments": {},
   "cell_type": "markdown",
   "metadata": {},
   "source": [
    "## 7 — @countcall 🔢\n",
    "Этот декоратор подсчитывает, сколько раз была вызвана функция.\n",
    "\n",
    "Это число хранится в атрибуте обертки count ."
   ]
  },
  {
   "cell_type": "code",
   "execution_count": 34,
   "metadata": {},
   "outputs": [
    {
     "name": "stdout",
     "output_type": "stream",
     "text": [
      "process_data has been called 1 times\n",
      "process_data has been called 2 times\n",
      "process_data has been called 3 times\n"
     ]
    }
   ],
   "source": [
    "from functools import wraps\n",
    "\n",
    "def countcall(func):\n",
    "    @wraps(func)\n",
    "    def wrapper(*args, **kwargs):\n",
    "        wrapper.count += 1\n",
    "        result = func(*args, **kwargs)\n",
    "        print(f'{func.__name__} has been called {wrapper.count} times')\n",
    "        return result\n",
    "    wrapper.count = 0\n",
    "    return wrapper\n",
    "\n",
    "@countcall\n",
    "def process_data():\n",
    "    pass\n",
    "\n",
    "process_data()\n",
    "# process_data has been called 1 times\n",
    "process_data()\n",
    "# process_data has been called 2 times\n",
    "process_data()\n",
    "# process_data has been called 3 times"
   ]
  }
 ],
 "metadata": {
  "kernelspec": {
   "display_name": "Python 3",
   "language": "python",
   "name": "python3"
  },
  "language_info": {
   "codemirror_mode": {
    "name": "ipython",
    "version": 3
   },
   "file_extension": ".py",
   "mimetype": "text/x-python",
   "name": "python",
   "nbconvert_exporter": "python",
   "pygments_lexer": "ipython3",
   "version": "3.11.0"
  },
  "orig_nbformat": 4,
  "vscode": {
   "interpreter": {
    "hash": "cbe6dbca8f5fdafc901b00fd6d1fafcdaa3e87607db442d8ce9bc696bc6c060c"
   }
  }
 },
 "nbformat": 4,
 "nbformat_minor": 2
}
