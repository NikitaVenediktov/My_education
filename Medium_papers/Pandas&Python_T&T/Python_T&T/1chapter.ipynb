{
 "cells": [
  {
   "attachments": {},
   "cell_type": "markdown",
   "metadata": {},
   "source": [
    "# Python tips and tricks\n",
    "## 1. Create a progress bar with tqdm and rich\n",
    "Using the progress bar is beneficial when you want to have a visual status of a given task."
   ]
  },
  {
   "cell_type": "code",
   "execution_count": 1,
   "metadata": {},
   "outputs": [],
   "source": [
    "!pip -q install rich\n",
    "from rich.progress import track\n",
    "from tqdm import tqdm\n",
    "import time"
   ]
  },
  {
   "cell_type": "code",
   "execution_count": 4,
   "metadata": {},
   "outputs": [
    {
     "data": {
      "text/html": [
       "<pre style=\"white-space:pre;overflow-x:auto;line-height:normal;font-family:Menlo,'DejaVu Sans Mono',consolas,'Courier New',monospace\"></pre>\n"
      ],
      "text/plain": []
     },
     "metadata": {},
     "output_type": "display_data"
    },
    {
     "data": {
      "text/html": [
       "<pre style=\"white-space:pre;overflow-x:auto;line-height:normal;font-family:Menlo,'DejaVu Sans Mono',consolas,'Courier New',monospace\">\n",
       "</pre>\n"
      ],
      "text/plain": [
       "\n"
      ]
     },
     "metadata": {},
     "output_type": "display_data"
    }
   ],
   "source": [
    "final_dict_doubles = {}\n",
    "\n",
    "def compute_double(x):\n",
    "      return 2*x\n",
    "\n",
    "for i in track(range(20), description=\"Computing 2.n...\"):\n",
    "  final_dict_doubles[f\"Value = {i}\"] = f\"double = {compute_double(i)}\"\n",
    "\n",
    "  # Sleep the process to highligh the progress \n",
    "  time.sleep(0.8)"
   ]
  },
  {
   "cell_type": "code",
   "execution_count": 5,
   "metadata": {},
   "outputs": [
    {
     "name": "stderr",
     "output_type": "stream",
     "text": [
      "Computing 2.n...: 100%|██████████| 20/20 [00:20<00:00,  1.00s/it]\n"
     ]
    }
   ],
   "source": [
    "for i in tqdm(range(20), desc=\"Computing 2.n...\"):\n",
    "  final_dict_doubles[f\"Value = {i}\"] = f\"double = {compute_double(i)}\"\n",
    "\n",
    "  # Sleep the process to highligh the progress \n",
    "  time.sleep(1)"
   ]
  },
  {
   "attachments": {},
   "cell_type": "markdown",
   "metadata": {},
   "source": [
    "## 2. Get day, month, year, day of the week, the month of the year"
   ]
  },
  {
   "cell_type": "code",
   "execution_count": 7,
   "metadata": {},
   "outputs": [],
   "source": [
    "\n",
    "import numpy as np\n",
    "import pandas as pd\n",
    "candidates= {\n",
    "    'Name':[\"Aida\",\"Mamadou\",\"Ismael\",\"Aicha\",\"Fatou\", \"Khalil\"],\n",
    "    'Degree':['Master','Master','Bachelor', \"PhD\", \"Master\", \"PhD\"],\n",
    "    'From':[\"Abidjan\",\"Dakar\",\"Bamako\", \"Abidjan\",\"Konakry\", \"Lomé\"],\n",
    "    'Application_date': ['11/17/2022', '09/23/2022', '12/2/2021', \n",
    "                         '08/25/2022', '01/07/2022', '12/26/2022']\n",
    "          }\n",
    "candidates_df = pd.DataFrame(candidates)\n",
    "candidates_df['Application_date'] = pd.to_datetime(candidates_df[\"Application_date\"])\n",
    "\n",
    "# GET the Values\n",
    "application_date = candidates_df[\"Application_date\"]\n",
    "\n",
    "candidates_df[\"Day\"] = application_date.dt.day \n",
    "candidates_df[\"Month\"] = application_date.dt.month \n",
    "candidates_df[\"Year\"] = application_date.dt.year \n",
    "candidates_df[\"Day_of_week\"] = application_date.dt.day_name()\n",
    "candidates_df[\"Month_of_year\"] = application_date.dt.month_name()"
   ]
  },
  {
   "attachments": {},
   "cell_type": "markdown",
   "metadata": {},
   "source": [
    "## 3. Наименьшие и наибольшие значения столбца\n",
    "Если вы хотите получить строки с наибольшими или наименьшими значениями для данного столбца, вы можете использовать следующие функции:\n",
    "\n",
    "✨ 𝚍𝚏.𝚗𝚕𝚊𝚛𝚐𝚎𝚜𝚝(𝙽, \"𝙲𝚘𝚕_𝙽𝚊𝚖𝚎\") → top 𝙽 rows based on 𝙲𝚘𝚕_𝙽𝚊𝚖𝚎\n",
    "\n",
    "✨ 𝚍𝚏.𝚗𝚜𝚖𝚊𝚕𝚕𝚎𝚜𝚝(𝙽, \"𝙲𝚘𝚕_𝙽𝚊𝚖𝚎\") → 𝙽 наименьшие строки на основе 𝙲𝚘𝚕_𝙽𝚊𝚖𝚎\n",
    "\n",
    "✨ 𝙲𝚘𝚕_𝙽𝚊𝚖𝚎 - это имя интересующего вас столбца."
   ]
  },
  {
   "attachments": {},
   "cell_type": "markdown",
   "metadata": {},
   "source": [
    "## 4. Игнорировать вывод журнала команды pip install\n",
    "Иногда при установке библиотеки из блокнота jupyter вам может не понадобиться вся подробная информация о процессе установки, создаваемая стандартной командой 𝚙𝚒𝚙 𝚒𝚗𝚜𝚝𝚊𝚕𝚕.\n",
    "\n",
    "✅ Вы можете указать опцию -q или - quiet, чтобы избавиться от этой информации.\n",
    "\n",
    "Ниже приведена иллюстрация 💡."
   ]
  },
  {
   "attachments": {},
   "cell_type": "markdown",
   "metadata": {},
   "source": [
    "## 5. Запуск нескольких команд в одной ячейке блокнота\n",
    "Восклицательный знак '!' необходим для успешного запуска команды shell из блокнота Jupyter.\n",
    "\n",
    "Однако такой подход может быть довольно повторяющимся 🔂 при работе с несколькими командами или очень длинными и сложными командами.\n",
    "\n",
    "✅ Лучшим способом решения этой проблемы является использование выражения %%𝐛𝐚𝐬𝐡 в начале ячейки блокнота.\n",
    "\n",
    "💡 Ниже приведена иллюстрация"
   ]
  },
  {
   "cell_type": "code",
   "execution_count": null,
   "metadata": {},
   "outputs": [],
   "source": []
  }
 ],
 "metadata": {
  "kernelspec": {
   "display_name": "Python 3",
   "language": "python",
   "name": "python3"
  },
  "language_info": {
   "codemirror_mode": {
    "name": "ipython",
    "version": 3
   },
   "file_extension": ".py",
   "mimetype": "text/x-python",
   "name": "python",
   "nbconvert_exporter": "python",
   "pygments_lexer": "ipython3",
   "version": "3.9.16"
  },
  "orig_nbformat": 4
 },
 "nbformat": 4,
 "nbformat_minor": 2
}
