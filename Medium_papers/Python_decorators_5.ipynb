{
 "cells": [
  {
   "attachments": {},
   "cell_type": "markdown",
   "metadata": {},
   "source": [
    "# [5 Python Decorators I Use in Almost All My Data Science Projects](https://towardsdatascience.com/python-decorators-for-data-science-6913f717669a)"
   ]
  },
  {
   "attachments": {},
   "cell_type": "markdown",
   "metadata": {},
   "source": [
    "## 1. The retry decorator"
   ]
  },
  {
   "cell_type": "code",
   "execution_count": null,
   "metadata": {},
   "outputs": [],
   "source": [
    "import time\n",
    "from functools import wraps\n",
    "def retry(max_tries=3, delay_seconds=1):\n",
    "    def decorator_retry(func):\n",
    "        @wraps(func)\n",
    "        def wrapper_retry(*args, **kwargs):\n",
    "            tries = 0\n",
    "            while tries < max_tries:\n",
    "                try:\n",
    "                    return func(*args, **kwargs)\n",
    "                except Exception as e:\n",
    "                    tries += 1\n",
    "                    if tries == max_tries:\n",
    "                        raise e\n",
    "                    time.sleep(delay_seconds)\n",
    "        return wrapper_retry\n",
    "    return decorator_retry\n",
    "@retry(max_tries=5, delay_seconds=2)\n",
    "def call_dummy_api():\n",
    "    response = requests.get(\"https://jsonplaceholder.typicode.com/todos/1\")\n",
    "    return response"
   ]
  },
  {
   "attachments": {},
   "cell_type": "markdown",
   "metadata": {},
   "source": [
    "## 2. Caching function results"
   ]
  },
  {
   "cell_type": "code",
   "execution_count": null,
   "metadata": {},
   "outputs": [],
   "source": [
    "def memoize(func):\n",
    "    cache = {}\n",
    "    def wrapper(*args):\n",
    "        if args in cache:\n",
    "            return cache[args]\n",
    "        else:\n",
    "            result = func(*args)\n",
    "            cache[args] = result\n",
    "            return result\n",
    "    return wrapper"
   ]
  }
 ],
 "metadata": {
  "language_info": {
   "name": "python"
  },
  "orig_nbformat": 4
 },
 "nbformat": 4,
 "nbformat_minor": 2
}
