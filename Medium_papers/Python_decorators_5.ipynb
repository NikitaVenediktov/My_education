{
 "cells": [
  {
   "attachments": {},
   "cell_type": "markdown",
   "metadata": {},
   "source": [
    "# [5 Python Decorators I Use in Almost All My Data Science Projects](https://towardsdatascience.com/python-decorators-for-data-science-6913f717669a)"
   ]
  },
  {
   "attachments": {},
   "cell_type": "markdown",
   "metadata": {},
   "source": [
    "## 1. The retry decorator"
   ]
  },
  {
   "cell_type": "code",
   "execution_count": null,
   "metadata": {},
   "outputs": [],
   "source": [
    "import time\n",
    "from functools import wraps\n",
    "def retry(max_tries=3, delay_seconds=1):\n",
    "    def decorator_retry(func):\n",
    "        @wraps(func)\n",
    "        def wrapper_retry(*args, **kwargs):\n",
    "            tries = 0\n",
    "            while tries < max_tries:\n",
    "                try:\n",
    "                    return func(*args, **kwargs)\n",
    "                except Exception as e:\n",
    "                    tries += 1\n",
    "                    if tries == max_tries:\n",
    "                        raise e\n",
    "                    time.sleep(delay_seconds)\n",
    "        return wrapper_retry\n",
    "    return decorator_retry\n",
    "@retry(max_tries=5, delay_seconds=2)\n",
    "def call_dummy_api():\n",
    "    response = requests.get(\"https://jsonplaceholder.typicode.com/todos/1\")\n",
    "    return response"
   ]
  },
  {
   "attachments": {},
   "cell_type": "markdown",
   "metadata": {},
   "source": [
    "## 2. Caching function results"
   ]
  },
  {
   "cell_type": "code",
   "execution_count": null,
   "metadata": {},
   "outputs": [],
   "source": [
    "def memoize(func):\n",
    "    cache = {}\n",
    "    def wrapper(*args):\n",
    "        if args in cache:\n",
    "            return cache[args]\n",
    "        else:\n",
    "            result = func(*args)\n",
    "            cache[args] = result\n",
    "            return result\n",
    "    return wrapper\n",
    "@memoize\n",
    "def fibonacci(n):\n",
    "    if n <= 1:\n",
    "        return n\n",
    "    else:\n",
    "        return fibonacci(n-1) + fibonacci(n-2)"
   ]
  },
  {
   "attachments": {},
   "cell_type": "markdown",
   "metadata": {},
   "source": [
    "## 3. Timing functions"
   ]
  },
  {
   "cell_type": "code",
   "execution_count": null,
   "metadata": {},
   "outputs": [],
   "source": [
    "import time\n",
    "\n",
    "def timing_decorator(func):\n",
    "    def wrapper(*args, **kwargs):\n",
    "        start_time = time.time()\n",
    "        result = func(*args, **kwargs)\n",
    "        end_time = time.time()\n",
    "        print(f\"Function {func.__name__} took {end_time - start_time} seconds to run.\")\n",
    "        return result\n",
    "    return wrapper\n",
    "\n",
    "@timing_decorator\n",
    "def my_function():\n",
    "    # some code here\n",
    "    time.sleep(1)  # simulate some time-consuming operation\n",
    "    return"
   ]
  },
  {
   "attachments": {},
   "cell_type": "markdown",
   "metadata": {},
   "source": [
    "## 4. Logging function calls"
   ]
  },
  {
   "cell_type": "code",
   "execution_count": null,
   "metadata": {},
   "outputs": [],
   "source": [
    "import logging\n",
    "import functools\n",
    "\n",
    "logging.basicConfig(level=logging.INFO)\n",
    "\n",
    "def log_execution(func):\n",
    "    @functools.wraps(func)\n",
    "    def wrapper(*args, **kwargs):\n",
    "        logging.info(f\"Executing {func.__name__}\")\n",
    "        result = func(*args, **kwargs)\n",
    "        logging.info(f\"Finished executing {func.__name__}\")\n",
    "        return result\n",
    "    return wrapper\n",
    "\n",
    "@log_execution\n",
    "def extract_data(source):\n",
    "    # extract data from source\n",
    "    data = ...\n",
    "\n",
    "    return data\n",
    "\n",
    "@log_execution\n",
    "def transform_data(data):\n",
    "    # transform data\n",
    "    transformed_data = ...\n",
    "\n",
    "    return transformed_data\n",
    "\n",
    "@log_execution\n",
    "def load_data(data, target):\n",
    "    # load data into target\n",
    "    ...\n",
    "\n",
    "def main():\n",
    "    # extract data\n",
    "    data = extract_data(source)\n",
    "\n",
    "    # transform data\n",
    "    transformed_data = transform_data(data)\n",
    "\n",
    "    # load data\n",
    "    load_data(transformed_data, target)"
   ]
  },
  {
   "cell_type": "code",
   "execution_count": null,
   "metadata": {},
   "outputs": [],
   "source": [
    "@log_execution\n",
    "@timing_decorator\n",
    "def my_function(x, y):\n",
    "    time.sleep(1)\n",
    "    return x + y"
   ]
  },
  {
   "attachments": {},
   "cell_type": "markdown",
   "metadata": {},
   "source": [
    "## 5. Notification decorator"
   ]
  },
  {
   "cell_type": "code",
   "execution_count": null,
   "metadata": {},
   "outputs": [],
   "source": [
    "import smtplib\n",
    "import traceback\n",
    "from email.mime.text import MIMEText\n",
    "\n",
    "def email_on_failure(sender_email, password, recipient_email):\n",
    "    def decorator(func):\n",
    "        def wrapper(*args, **kwargs):\n",
    "            try:\n",
    "                return func(*args, **kwargs)\n",
    "            except Exception as e:\n",
    "                # format the error message and traceback\n",
    "                err_msg = f\"Error: {str(e)}\\n\\nTraceback:\\n{traceback.format_exc()}\"\n",
    "                \n",
    "                # create the email message\n",
    "                message = MIMEText(err_msg)\n",
    "                message['Subject'] = f\"{func.__name__} failed\"\n",
    "                message['From'] = sender_email\n",
    "                message['To'] = recipient_email\n",
    "                \n",
    "                # send the email\n",
    "                with smtplib.SMTP_SSL('smtp.gmail.com', 465) as smtp:\n",
    "                    smtp.login(sender_email, password)\n",
    "                    smtp.sendmail(sender_email, recipient_email, message.as_string())\n",
    "                    \n",
    "                # re-raise the exception\n",
    "                raise\n",
    "                \n",
    "        return wrapper\n",
    "    \n",
    "    return decorator\n",
    "\n",
    "@email_on_failure(sender_email='your_email@gmail.com', password='your_password', recipient_email='recipient_email@gmail.com')\n",
    "def my_function():\n",
    "    # code that might fail"
   ]
  }
 ],
 "metadata": {
  "language_info": {
   "name": "python"
  },
  "orig_nbformat": 4
 },
 "nbformat": 4,
 "nbformat_minor": 2
}
