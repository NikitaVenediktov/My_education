{
 "cells": [
  {
   "attachments": {},
   "cell_type": "markdown",
   "metadata": {},
   "source": [
    "# 1. Введение в автоматический анализ текстов"
   ]
  },
  {
   "cell_type": "code",
   "execution_count": 1,
   "metadata": {},
   "outputs": [
    {
     "ename": "SyntaxError",
     "evalue": "invalid syntax (771846122.py, line 9)",
     "output_type": "error",
     "traceback": [
      "\u001b[0;36m  Cell \u001b[0;32mIn[1], line 9\u001b[0;36m\u001b[0m\n\u001b[0;31m    match color:\u001b[0m\n\u001b[0m          ^\u001b[0m\n\u001b[0;31mSyntaxError\u001b[0m\u001b[0;31m:\u001b[0m invalid syntax\n"
     ]
    }
   ],
   "source": [
    "\n",
    "from enum import Enum\n",
    "class Color(Enum):\n",
    "    RED = 'red'\n",
    "    GREEN = 'green'\n",
    "    BLUE = 'blue'\n",
    "\n",
    "color = Color(input(\"Enter your choice of 'red', 'blue' or 'green': \"))\n",
    "\n",
    "match color:\n",
    "    case Color.RED:\n",
    "        print(\"I see red!\")\n",
    "    case Color.GREEN:\n",
    "        print(\"Grass is green\")\n",
    "    case Color.BLUE:\n",
    "        print(\"I'm feeling the blues :(\")\n",
    "\n",
    "\n",
    "class Point:\n",
    "    x: int\n",
    "    y: int\n",
    "\n",
    "def where_is(point):\n",
    "    match point:\n",
    "        case Point(x=0, y=0):\n",
    "            print(\"Origin\")\n",
    "        case Point(x=0, y=y):\n",
    "            print(f\"Y={y}\")\n",
    "        case Point(x=x, y=0):\n",
    "            print(f\"X={x}\")\n",
    "        case Point():\n",
    "            print(\"Somewhere else\")\n",
    "        case _:\n",
    "            print(\"Not a point\")"
   ]
  }
 ],
 "metadata": {
  "kernelspec": {
   "display_name": "Python 3",
   "language": "python",
   "name": "python3"
  },
  "language_info": {
   "codemirror_mode": {
    "name": "ipython",
    "version": 3
   },
   "file_extension": ".py",
   "mimetype": "text/x-python",
   "name": "python",
   "nbconvert_exporter": "python",
   "pygments_lexer": "ipython3",
   "version": "3.9.16"
  },
  "orig_nbformat": 4,
  "vscode": {
   "interpreter": {
    "hash": "e80bfe3c6697afa5886fed20a41aad3c2f3e04aa92f9236622e9d73caeff43b9"
   }
  }
 },
 "nbformat": 4,
 "nbformat_minor": 2
}
