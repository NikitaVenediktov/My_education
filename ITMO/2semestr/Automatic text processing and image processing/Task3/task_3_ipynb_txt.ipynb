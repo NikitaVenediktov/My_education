{
  "cells": [
    {
      "attachments": {},
      "cell_type": "markdown",
      "metadata": {
        "id": "TAyzWDzFdnLa"
      },
      "source": [
        "## Классификация текстов: Spam or Ham"
      ]
    },
    {
      "attachments": {},
      "cell_type": "markdown",
      "metadata": {
        "id": "sh91cKPmdnLb"
      },
      "source": [
        "Меняем значения по заданию"
      ]
    },
    {
      "cell_type": "code",
      "execution_count": 1,
      "metadata": {
        "id": "VryYXzjfac0N"
      },
      "outputs": [],
      "source": [
        "test_size = 0.25\n",
        "random_state = 29\n",
        "C = 1.4\n",
        "\n",
        "msg = [\"Good day! We would like to offer cheapest Viagra in the world! You can get it at: www.getforfree.com\",\n",
        "       \"If you are interested, please write back and I will provide further instructions.\",\n",
        "       \"Excellent collection of articles and speeches.\",\n",
        "       \"Acceptance of materials for publication: until September 13, 2020. Date of publication and distribution of the collection: until September 20, 2020. ISSN - 2658-7556\"]"
      ]
    },
    {
      "attachments": {},
      "cell_type": "markdown",
      "metadata": {
        "id": "lWvXDXKrdnLb"
      },
      "source": [
        "Запускаем код"
      ]
    },
    {
      "cell_type": "code",
      "execution_count": 2,
      "metadata": {
        "colab": {
          "base_uri": "https://localhost:8080/"
        },
        "id": "UnJwvQzbdnLb",
        "outputId": "02db8e94-c660-4960-b2fa-9ffb5f798629"
      },
      "outputs": [
        {
          "name": "stdout",
          "output_type": "stream",
          "text": [
            "Precision (macro avg): 0.984\n",
            "Recall (macro avg): 0.936\n",
            "F-score (macro avg): 0.959\n",
            "\n",
            "Предикт\tСообщение\n",
            "0\tGood day! We would like to offer cheapest Viagra in the world! You can get it at: www.getforfree.com\n",
            "0\tIf you are interested, please write back and I will provide further instructions.\n",
            "0\tExcellent collection of articles and speeches.\n",
            "0\tAcceptance of materials for publication: until September 13, 2020. Date of publication and distribution of the collection: until September 20, 2020. ISSN - 2658-7556\n"
          ]
        }
      ],
      "source": [
        "import pandas as pd\n",
        "import nltk\n",
        "from nltk import stem\n",
        "from nltk.corpus import stopwords\n",
        "from nltk.stem import SnowballStemmer\n",
        "from nltk.tokenize import word_tokenize\n",
        "from sklearn.model_selection import train_test_split\n",
        "from sklearn.feature_extraction.text import TfidfVectorizer, CountVectorizer\n",
        "from sklearn.svm import LinearSVC\n",
        "from sklearn.metrics import precision_recall_fscore_support\n",
        "import re\n",
        "\n",
        "df = pd.read_csv('https://courses.openedu.ru/assets/courseware/v1/008dcf9ca6aab621d3b3831db6815867/asset-v1:ITMOUniversity+AUTTEXTAN+fall_2021_ITMO+type@asset+block/3_data.csv', encoding='latin-1')\n",
        "df = df[['v1', 'v2']]\n",
        "df = df.rename(columns = {'v1': 'label', 'v2': 'text'})\n",
        "df = df.drop_duplicates('text')\n",
        "df['label'] = df['label'].map({'ham': 0, 'spam': 1})\n",
        "\n",
        "nltk.download(\"stopwords\", quiet=True)\n",
        "nltk.download('punkt', quiet=True)\n",
        "stemmer = SnowballStemmer(\"english\")\n",
        "stopwords = set(stopwords.words('english'))\n",
        "\n",
        "def preprocess(text):\n",
        "    text = re.sub(r'[^\\w\\s]', '', text.lower())\n",
        "    text_tokens = text.split(\" \")\n",
        "    tokens_without_sw = [stemmer.stem(word) for word in text_tokens if not word in stopwords]\n",
        "    return (\" \").join(tokens_without_sw)\n",
        "\n",
        "df['text'] = df['text'].apply(preprocess)\n",
        "y = df['label'].values\n",
        "X_train, X_test, y_train, y_test = train_test_split(df['text'], y, test_size=test_size, random_state=random_state)\n",
        "\n",
        "vectorizer = TfidfVectorizer(decode_error='ignore')\n",
        "X_train = vectorizer.fit_transform(X_train)\n",
        "X_test = vectorizer.transform(X_test)\n",
        "\n",
        "#обучаем подель SVM\n",
        "\n",
        "model = LinearSVC(random_state = random_state, C = C)\n",
        "model.fit(X_train, y_train)\n",
        "predictions = model.predict(X_test)\n",
        "\n",
        "precision, recall, f1score, support = precision_recall_fscore_support(y_test, predictions)\n",
        "print(\"Precision (macro avg): %.3f\" %(sum(precision)/len(precision)))\n",
        "print(\"Recall (macro avg): %.3f\" %(sum(recall)/len(recall)))\n",
        "print(\"F-score (macro avg): %.3f\" %(sum(f1score)/len(f1score)))\n",
        "print()\n",
        "\n",
        "# Задание 2\n",
        "print(\"%s\\t%s\" %(\"Предикт\", \"Сообщение\"))\n",
        "for i in msg:\n",
        "  print(\"%d\\t%s\" %(model.predict(vectorizer.transform([preprocess(i)])[0]), i))"
      ]
    }
  ],
  "metadata": {
    "colab": {
      "provenance": []
    },
    "kernelspec": {
      "display_name": "Python 3",
      "language": "python",
      "name": "python3"
    },
    "language_info": {
      "codemirror_mode": {
        "name": "ipython",
        "version": 3
      },
      "file_extension": ".py",
      "mimetype": "text/x-python",
      "name": "python",
      "nbconvert_exporter": "python",
      "pygments_lexer": "ipython3",
      "version": "3.11.0"
    }
  },
  "nbformat": 4,
  "nbformat_minor": 0
}
