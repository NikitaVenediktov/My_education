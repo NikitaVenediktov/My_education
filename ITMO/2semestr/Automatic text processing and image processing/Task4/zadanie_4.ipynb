{
 "cells": [
  {
   "attachments": {},
   "cell_type": "markdown",
   "metadata": {},
   "source": [
    "\n",
    "## часть без программирования\n",
    "\n",
    "1. тигр - кошачие хищник - ягуар = 1/2\n",
    "\n",
    "2. сми - электронные сми - телерадио - радио = 1/3\n",
    "\n",
    "3. опера - МУЗЫКАЛЬНО-ДРАМАТИЧЕСКОЕ ПРОИЗВЕДЕНИЕ - музыкальная постановка - спектакль = 1/3\n",
    "\n",
    "4. доктор - научный персонал - слудащий - персонал= 1/3"
   ]
  },
  {
   "cell_type": "code",
   "execution_count": null,
   "metadata": {},
   "outputs": [],
   "source": []
  }
 ],
 "metadata": {
  "language_info": {
   "name": "python"
  },
  "orig_nbformat": 4
 },
 "nbformat": 4,
 "nbformat_minor": 2
}
